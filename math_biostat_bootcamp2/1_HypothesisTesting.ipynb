{
 "cells": [
  {
   "cell_type": "markdown",
   "id": "972a0e10",
   "metadata": {},
   "source": [
    "# Hypothesis Testing (t-test or Z-test)\n",
    "Hypthesis testing allows for rejecting (or failing to reject) the null hypothesis, which represents our default knowledge about the observed data, based on our observations. When testing the sample mean, the null hypothesis states that the population mean of this sample is equal to the population mean under the null hypothesis. Using a t-test, we can either reject this null hypothesis or fail to reject it.\n",
    "\n",
    "**Error types**:\n",
    "* **Type 1 error**: This is the case where we reject the null hypothesis when it is actually true. This error is limited by the test using the defined error rate $\\alpha$, which is the maximum allowable probability of our sample being drawn from the null hypothesis population. A value of $\\alpha=0.05$ means that that we reject the null hypothesis if the probability of our sample being drawn from the null hypothesis population does not exceed 0.05.\n",
    "* **Type 2 error**: This is the case where we fail to reject the null hypothesis when it is actually false. The power of the test describes this error. Power is the probability of us rejecting the null hypothesis when it is indeed false. Therefore, 1-power is the probability of a type 2 error.\n",
    "\n",
    "In this notebook, three types of hypothesis testing are experimented:\n",
    "* **One sample test** where we compare the sample mean to the null hypothesis mean\n",
    "* **Two sample tests** where we compare two samples and see if the means are unequal or one of the means is greater than the other. There are two types of a two sample test:\n",
    "    * **Paired test**: Where the two samples are correlated.\n",
    "    * **Independent test**: Where the two samples are independent."
   ]
  },
  {
   "cell_type": "code",
   "execution_count": 1,
   "id": "3664c783",
   "metadata": {},
   "outputs": [],
   "source": [
    "import numpy as np\n",
    "import matplotlib.pyplot as plt\n",
    "import pandas as pd\n",
    "\n",
    "from scipy.stats import t, norm, chi2, ttest_ind, ttest_rel, ttest_1samp"
   ]
  },
  {
   "cell_type": "markdown",
   "id": "b17354a0",
   "metadata": {},
   "source": [
    "## Power\n",
    "[Link to lecture](https://github.com/bcaffo/MathematicsBiostatisticsBootCamp2/blob/master/lecture2.pdf)\n",
    "\n",
    "* Power is the probability of rejecting the null hypothesis when, in fact, it is false. It is the conditional probability that, given the null hypothesis is false, we reject it. It is 1- the probability of accepting the null hypothesis when it is false (Type 2 error). Unlike the significance level alpha, this probability gives us information about how good our test is designed to be able to truly reject the null hypothesis. It is useful in determining the number of samples to use. On the other hand, we define the significance level to minimize the probability that we reject the null hypothesis falsely (due to chance).\n",
    "\n",
    "* Note that because power computation is conditioned on the fact that the null hypothesis is false, the population mean is the alternative (unknown) population mean rather than the null hypothesis mean.\n",
    "\n",
    "* We define alpha to protect ourselves from wrongly rejecting the null hypothesis. Power, given a fixed sample, is out of our hands. It will tell us the probability that we can reject the null hypothesis given that it is indeed false.\n",
    "\n",
    "* Watch [this video](https://www.youtube.com/watch?v=NbeHZp23ubs) for further explanation of power.\n"
   ]
  },
  {
   "cell_type": "markdown",
   "id": "a7dd5d03",
   "metadata": {},
   "source": [
    "<img src=\"https://github.com/YZouzou/statistics-with-bcaffo/raw/main/math_biostat_bootcamp2/img/hyp_test_viz.png\" width=700 height=600 />"
   ]
  },
  {
   "cell_type": "markdown",
   "id": "4f60b7a4",
   "metadata": {},
   "source": [
    "Lecture example:\n",
    "$$ \\text{Power} = P \\left( Z + \\frac{\\sqrt{n}(\\mu_a - 30)}{\\sigma} > \\frac{t_{1-\\alpha,n-1}}{\\sqrt{n-1}} \\sqrt{\\chi^2_{n-1}} \\right) $$"
   ]
  },
  {
   "cell_type": "code",
   "execution_count": 2,
   "id": "e0888927",
   "metadata": {},
   "outputs": [
    {
     "name": "stdout",
     "output_type": "stream",
     "text": [
      "Power = 60.30%\n"
     ]
    }
   ],
   "source": [
    "# Lecture example\n",
    "mu = 30 # Population mean under the null hypothesis\n",
    "mu_a = 32 # The assumed mean of the real population, assuming the null hypothesis is rejected\n",
    "n = 16 # Number of data in sample\n",
    "std = 4 # Sample standard deviation\n",
    "\n",
    "# Using Monte-Carlo simulation\n",
    "n_trials = 10000\n",
    "\n",
    "Z = norm.rvs(size=n_trials)\n",
    "chi = chi2.rvs(df=n-1, size=n_trials)\n",
    "\n",
    "side_1 = Z + np.sqrt(n) * (mu_a - mu) / std\n",
    "side_2 = t.ppf(df=n-1, q=0.95) * np.sqrt(chi) / np.sqrt(n-1)\n",
    "\n",
    "power = np.mean(side_1 > side_2)\n",
    "\n",
    "print('Power = {:.2%}'.format(power))"
   ]
  },
  {
   "cell_type": "markdown",
   "id": "aa214b21",
   "metadata": {},
   "source": [
    "## One sample test\n",
    "Applying a one sample test on temperature data from Turkey. In this test, the average temperature of one region is compared to the average temperature of the whole country, assuming that the country's average temperature is the population mean of temperatures in Turkey."
   ]
  },
  {
   "cell_type": "code",
   "execution_count": 6,
   "id": "64de34e6",
   "metadata": {},
   "outputs": [
    {
     "data": {
      "text/plain": [
       "array(['karadeniz', 'marmara', 'iç_anadolu', 'doğu_anadolu', 'ege',\n",
       "       'güney_anadolu', 'akdeniz'], dtype=object)"
      ]
     },
     "execution_count": 6,
     "metadata": {},
     "output_type": "execute_result"
    }
   ],
   "source": [
    "data = pd.read_csv('data/temperature_data.csv')\n",
    "data['region'].unique()"
   ]
  },
  {
   "cell_type": "markdown",
   "id": "74f55753",
   "metadata": {},
   "source": [
    "1. Testing the significance of avg temperature difference between the mean temperature of Karadeniz (Black Sea region) and the mean temperature of Turkey"
   ]
  },
  {
   "cell_type": "code",
   "execution_count": 8,
   "id": "975d99c7",
   "metadata": {},
   "outputs": [
    {
     "name": "stdout",
     "output_type": "stream",
     "text": [
      "Population mean: 14.058\n",
      "karadeniz mean: 13.766\n"
     ]
    }
   ],
   "source": [
    "pop_mean = data['avg_temp'].mean()\n",
    "print('Population mean: {:.3f}'.format(pop_mean))\n",
    "\n",
    "region_name = 'karadeniz'\n",
    "cond = data['region'] == region_name\n",
    "region = data.loc[cond, 'avg_temp'].to_numpy()\n",
    "\n",
    "region_mean = region.mean()\n",
    "print('{} mean: {:.3f}'.format(region_name, region_mean))"
   ]
  },
  {
   "cell_type": "code",
   "execution_count": 9,
   "id": "8a0fa9ab",
   "metadata": {},
   "outputs": [
    {
     "name": "stdout",
     "output_type": "stream",
     "text": [
      "Statistic: -1.214\n",
      "One sided t-test p-value: 0.113\n",
      "Two sided t-test p-value: 0.225\n"
     ]
    }
   ],
   "source": [
    "sample_std = region.std(ddof=1)\n",
    "n = len(region)\n",
    "\n",
    "stat = (region_mean - pop_mean) / (sample_std/np.sqrt(n))\n",
    "\n",
    "pval_1 = t.cdf(x=stat, df=n-1)\n",
    "pval_2 = 2*min(t.cdf(x=-stat, df=n-1), t.cdf(x=stat, df=n-1))\n",
    "\n",
    "print('Statistic: {:.3f}'.format(stat))\n",
    "print('One sided t-test p-value: {:.3f}'.format(pval_1))\n",
    "print('Two sided t-test p-value: {:.3f}'.format(pval_2))"
   ]
  },
  {
   "cell_type": "code",
   "execution_count": 11,
   "id": "ec7e49bc",
   "metadata": {},
   "outputs": [
    {
     "name": "stdout",
     "output_type": "stream",
     "text": [
      "One sided t-test: Ttest_1sampResult(statistic=-1.2136478447088352, pvalue=0.2251448979814565)\n",
      "Two sided t-test: Ttest_1sampResult(statistic=-1.2136478447088352, pvalue=0.11257244899072825)\n"
     ]
    }
   ],
   "source": [
    "# Using Scipy\n",
    "print('One sided t-test: {}'.format(ttest_1samp(region, pop_mean, alternative='two-sided')))\n",
    "print('Two sided t-test: {}'.format(ttest_1samp(region, pop_mean, alternative='less')))"
   ]
  },
  {
   "cell_type": "markdown",
   "id": "268fa105",
   "metadata": {},
   "source": [
    "2. Testing the significance of avg temperature difference between the mean temperature of Akdeniz (Mediterranean Sea region) and the mean temperature of Turkey"
   ]
  },
  {
   "cell_type": "code",
   "execution_count": 12,
   "id": "1c85bc91",
   "metadata": {},
   "outputs": [
    {
     "name": "stdout",
     "output_type": "stream",
     "text": [
      "Population mean: 14.058\n",
      "akdeniz mean: 19.776\n"
     ]
    }
   ],
   "source": [
    "pop_mean = data['avg_temp'].mean()\n",
    "print('Population mean: {:.3f}'.format(pop_mean))\n",
    "\n",
    "region_name = 'akdeniz'\n",
    "cond = data['region'] == region_name\n",
    "region = data.loc[cond, 'avg_temp'].to_numpy()\n",
    "\n",
    "region_mean = region.mean()\n",
    "print('{} mean: {:.3f}'.format(region_name, region_mean))"
   ]
  },
  {
   "cell_type": "code",
   "execution_count": 13,
   "id": "ca4644c3",
   "metadata": {},
   "outputs": [
    {
     "name": "stdout",
     "output_type": "stream",
     "text": [
      "Statistic: 21.301\n",
      "One sided t-test p-value: 0.000\n",
      "Two sided t-test p-value: 0.000\n"
     ]
    }
   ],
   "source": [
    "sample_std = region.std(ddof=1)\n",
    "n = len(region)\n",
    "\n",
    "stat = (region_mean - pop_mean) / (sample_std/np.sqrt(n))\n",
    "\n",
    "pval_1 = t.cdf(x=-stat, df=n-1)\n",
    "pval_2 = 2*min(t.cdf(x=-stat, df=n-1), t.cdf(x=stat, df=n-1))\n",
    "\n",
    "print('Statistic: {:.3f}'.format(stat))\n",
    "print('One sided t-test p-value: {:.3f}'.format(pval_1))\n",
    "print('Two sided t-test p-value: {:.3f}'.format(pval_2))"
   ]
  },
  {
   "cell_type": "code",
   "execution_count": 15,
   "id": "631f60c0",
   "metadata": {},
   "outputs": [
    {
     "name": "stdout",
     "output_type": "stream",
     "text": [
      "One sided t-test: Ttest_1sampResult(statistic=21.301072397410106, pvalue=1.8749241329558045e-79)\n",
      "Two sided t-test: Ttest_1sampResult(statistic=21.301072397410106, pvalue=9.374620664779023e-80)\n"
     ]
    }
   ],
   "source": [
    "# Using Scipy\n",
    "print('One sided t-test: {}'.format(ttest_1samp(region, pop_mean, alternative='two-sided')))\n",
    "print('Two sided t-test: {}'.format(ttest_1samp(region, pop_mean, alternative='greater')))"
   ]
  },
  {
   "cell_type": "markdown",
   "id": "ade25748",
   "metadata": {},
   "source": [
    "## Two-sample Test\n",
    "[Link to lecture](https://github.com/bcaffo/MathematicsBiostatisticsBootCamp2/blob/master/lecture3.pdf)"
   ]
  },
  {
   "cell_type": "markdown",
   "id": "ceaf875f",
   "metadata": {},
   "source": [
    "### Case 1: Paired observations\n",
    "Paired observations are observations where for every specimen, a test was conducted twice and the two test results are to be compared.\n",
    "\n",
    "Ex:\n",
    "* Testing two different drugs on the same patients\n",
    "* Testing two different drugs on patients paired to have similar health conditions"
   ]
  },
  {
   "cell_type": "markdown",
   "id": "38e03f23",
   "metadata": {},
   "source": [
    "#### Applying on temperature data:\n",
    "The difference in temperature between 2005 and 2006, and 2018 and 2020 for the same station is to be tested by pairing the temperatures of the same months."
   ]
  },
  {
   "cell_type": "code",
   "execution_count": 16,
   "id": "8f327522",
   "metadata": {},
   "outputs": [],
   "source": [
    "data['date'] = pd.to_datetime(data['date'])\n",
    "data['year'] = data['date'].dt.year"
   ]
  },
  {
   "cell_type": "code",
   "execution_count": 19,
   "id": "e8a99f1d",
   "metadata": {},
   "outputs": [],
   "source": [
    "# Grouping by station and finding the minimum and maximum years + num of years in between\n",
    "# To \n",
    "def group_fun(x):\n",
    "    col1 = x['year'].min()\n",
    "    col2 = x['year'].max()\n",
    "    col3 = x['year'].unique().shape[0]\n",
    "    \n",
    "    return pd.Series({\n",
    "        'first_year': col1,\n",
    "        'last_year': col2,\n",
    "        'num_years': col3\n",
    "    })\n",
    "\n",
    "\n",
    "test = data.groupby('st_num').apply(group_fun).reset_index()"
   ]
  },
  {
   "cell_type": "code",
   "execution_count": 20,
   "id": "bb18f8e9",
   "metadata": {},
   "outputs": [
    {
     "data": {
      "text/html": [
       "<div>\n",
       "<style scoped>\n",
       "    .dataframe tbody tr th:only-of-type {\n",
       "        vertical-align: middle;\n",
       "    }\n",
       "\n",
       "    .dataframe tbody tr th {\n",
       "        vertical-align: top;\n",
       "    }\n",
       "\n",
       "    .dataframe thead th {\n",
       "        text-align: right;\n",
       "    }\n",
       "</style>\n",
       "<table border=\"1\" class=\"dataframe\">\n",
       "  <thead>\n",
       "    <tr style=\"text-align: right;\">\n",
       "      <th></th>\n",
       "      <th>st_num</th>\n",
       "      <th>first_year</th>\n",
       "      <th>last_year</th>\n",
       "      <th>num_years</th>\n",
       "    </tr>\n",
       "  </thead>\n",
       "  <tbody>\n",
       "    <tr>\n",
       "      <th>2</th>\n",
       "      <td>17045</td>\n",
       "      <td>2005</td>\n",
       "      <td>2020</td>\n",
       "      <td>10</td>\n",
       "    </tr>\n",
       "    <tr>\n",
       "      <th>10</th>\n",
       "      <td>17074</td>\n",
       "      <td>2005</td>\n",
       "      <td>2016</td>\n",
       "      <td>11</td>\n",
       "    </tr>\n",
       "    <tr>\n",
       "      <th>15</th>\n",
       "      <td>17088</td>\n",
       "      <td>2005</td>\n",
       "      <td>2020</td>\n",
       "      <td>12</td>\n",
       "    </tr>\n",
       "    <tr>\n",
       "      <th>18</th>\n",
       "      <td>17097</td>\n",
       "      <td>2005</td>\n",
       "      <td>2020</td>\n",
       "      <td>9</td>\n",
       "    </tr>\n",
       "    <tr>\n",
       "      <th>19</th>\n",
       "      <td>17099</td>\n",
       "      <td>2005</td>\n",
       "      <td>2020</td>\n",
       "      <td>13</td>\n",
       "    </tr>\n",
       "    <tr>\n",
       "      <th>21</th>\n",
       "      <td>17112</td>\n",
       "      <td>2005</td>\n",
       "      <td>2020</td>\n",
       "      <td>13</td>\n",
       "    </tr>\n",
       "    <tr>\n",
       "      <th>22</th>\n",
       "      <td>17116</td>\n",
       "      <td>2005</td>\n",
       "      <td>2020</td>\n",
       "      <td>14</td>\n",
       "    </tr>\n",
       "    <tr>\n",
       "      <th>28</th>\n",
       "      <td>17130</td>\n",
       "      <td>2005</td>\n",
       "      <td>2020</td>\n",
       "      <td>14</td>\n",
       "    </tr>\n",
       "    <tr>\n",
       "      <th>38</th>\n",
       "      <td>17190</td>\n",
       "      <td>2005</td>\n",
       "      <td>2020</td>\n",
       "      <td>14</td>\n",
       "    </tr>\n",
       "    <tr>\n",
       "      <th>40</th>\n",
       "      <td>17192</td>\n",
       "      <td>2005</td>\n",
       "      <td>2020</td>\n",
       "      <td>13</td>\n",
       "    </tr>\n",
       "    <tr>\n",
       "      <th>42</th>\n",
       "      <td>17199</td>\n",
       "      <td>2005</td>\n",
       "      <td>2020</td>\n",
       "      <td>13</td>\n",
       "    </tr>\n",
       "    <tr>\n",
       "      <th>43</th>\n",
       "      <td>17201</td>\n",
       "      <td>2005</td>\n",
       "      <td>2020</td>\n",
       "      <td>9</td>\n",
       "    </tr>\n",
       "    <tr>\n",
       "      <th>54</th>\n",
       "      <td>17239</td>\n",
       "      <td>2005</td>\n",
       "      <td>2020</td>\n",
       "      <td>13</td>\n",
       "    </tr>\n",
       "    <tr>\n",
       "      <th>58</th>\n",
       "      <td>17246</td>\n",
       "      <td>2005</td>\n",
       "      <td>2020</td>\n",
       "      <td>13</td>\n",
       "    </tr>\n",
       "    <tr>\n",
       "      <th>60</th>\n",
       "      <td>17250</td>\n",
       "      <td>2005</td>\n",
       "      <td>2020</td>\n",
       "      <td>11</td>\n",
       "    </tr>\n",
       "    <tr>\n",
       "      <th>63</th>\n",
       "      <td>17262</td>\n",
       "      <td>2005</td>\n",
       "      <td>2020</td>\n",
       "      <td>11</td>\n",
       "    </tr>\n",
       "    <tr>\n",
       "      <th>68</th>\n",
       "      <td>17285</td>\n",
       "      <td>2005</td>\n",
       "      <td>2020</td>\n",
       "      <td>12</td>\n",
       "    </tr>\n",
       "    <tr>\n",
       "      <th>77</th>\n",
       "      <td>17351</td>\n",
       "      <td>2005</td>\n",
       "      <td>2020</td>\n",
       "      <td>13</td>\n",
       "    </tr>\n",
       "    <tr>\n",
       "      <th>106</th>\n",
       "      <td>17780</td>\n",
       "      <td>2005</td>\n",
       "      <td>2020</td>\n",
       "      <td>8</td>\n",
       "    </tr>\n",
       "    <tr>\n",
       "      <th>110</th>\n",
       "      <td>17802</td>\n",
       "      <td>2005</td>\n",
       "      <td>2020</td>\n",
       "      <td>12</td>\n",
       "    </tr>\n",
       "    <tr>\n",
       "      <th>112</th>\n",
       "      <td>17806</td>\n",
       "      <td>2005</td>\n",
       "      <td>2020</td>\n",
       "      <td>8</td>\n",
       "    </tr>\n",
       "    <tr>\n",
       "      <th>119</th>\n",
       "      <td>17836</td>\n",
       "      <td>2005</td>\n",
       "      <td>2020</td>\n",
       "      <td>13</td>\n",
       "    </tr>\n",
       "    <tr>\n",
       "      <th>122</th>\n",
       "      <td>17847</td>\n",
       "      <td>2005</td>\n",
       "      <td>2020</td>\n",
       "      <td>5</td>\n",
       "    </tr>\n",
       "  </tbody>\n",
       "</table>\n",
       "</div>"
      ],
      "text/plain": [
       "     st_num  first_year  last_year  num_years\n",
       "2     17045        2005       2020         10\n",
       "10    17074        2005       2016         11\n",
       "15    17088        2005       2020         12\n",
       "18    17097        2005       2020          9\n",
       "19    17099        2005       2020         13\n",
       "21    17112        2005       2020         13\n",
       "22    17116        2005       2020         14\n",
       "28    17130        2005       2020         14\n",
       "38    17190        2005       2020         14\n",
       "40    17192        2005       2020         13\n",
       "42    17199        2005       2020         13\n",
       "43    17201        2005       2020          9\n",
       "54    17239        2005       2020         13\n",
       "58    17246        2005       2020         13\n",
       "60    17250        2005       2020         11\n",
       "63    17262        2005       2020         11\n",
       "68    17285        2005       2020         12\n",
       "77    17351        2005       2020         13\n",
       "106   17780        2005       2020          8\n",
       "110   17802        2005       2020         12\n",
       "112   17806        2005       2020          8\n",
       "119   17836        2005       2020         13\n",
       "122   17847        2005       2020          5"
      ]
     },
     "execution_count": 20,
     "metadata": {},
     "output_type": "execute_result"
    }
   ],
   "source": [
    "cond =(test['first_year'] < 2006) & (test['last_year'] > 2015)\n",
    "test[cond]"
   ]
  },
  {
   "cell_type": "code",
   "execution_count": 21,
   "id": "8d02166f",
   "metadata": {},
   "outputs": [],
   "source": [
    "st_num = 17045\n",
    "cond1 = data['st_num'] == st_num\n",
    "cond2 = data['year'].isin([2005, 2006, 2018, 2020])\n",
    "test = data[cond1 & cond2]"
   ]
  },
  {
   "cell_type": "code",
   "execution_count": 22,
   "id": "32d2c476",
   "metadata": {},
   "outputs": [],
   "source": [
    "cond = test['year'].isin([2005, 2006])\n",
    "old_temp = test.loc[cond, 'avg_temp'].to_numpy()\n",
    "\n",
    "cond = test['year'].isin([2018, 2020])\n",
    "new_temp = test.loc[cond, 'avg_temp'].to_numpy()"
   ]
  },
  {
   "cell_type": "code",
   "execution_count": 23,
   "id": "2f91c7a1",
   "metadata": {},
   "outputs": [],
   "source": [
    "# Temperature difference\n",
    "diff = new_temp - old_temp"
   ]
  },
  {
   "cell_type": "code",
   "execution_count": 24,
   "id": "4dd42f62",
   "metadata": {},
   "outputs": [
    {
     "data": {
      "image/png": "[encoded data removed]",
      "text/plain": [
       "<Figure size 432x432 with 1 Axes>"
      ]
     },
     "metadata": {
      "needs_background": "light"
     },
     "output_type": "display_data"
    }
   ],
   "source": [
    "plt.figure(figsize=(6, 6))\n",
    "plt.scatter(x=old_temp, y=new_temp)\n",
    "plt.xlim(-5, 30)\n",
    "plt.ylim(-5, 30)\n",
    "\n",
    "x = [-5, 30]\n",
    "plt.plot(x, x, color='black')\n",
    "\n",
    "plt.xlabel('Old temperatures')\n",
    "plt.ylabel('New temperatures')\n",
    "plt.show()"
   ]
  },
  {
   "cell_type": "markdown",
   "id": "1d65bf9c",
   "metadata": {},
   "source": [
    "There is evidence that the new temperatures are higher than the old temperatures.\n",
    "\n",
    "Plotting the average of the paired temperatures against their differences"
   ]
  },
  {
   "cell_type": "code",
   "execution_count": 25,
   "id": "885d5c2a",
   "metadata": {},
   "outputs": [
    {
     "data": {
      "image/png": "[encoded data removed]",
      "text/plain": [
       "<Figure size 432x432 with 1 Axes>"
      ]
     },
     "metadata": {
      "needs_background": "light"
     },
     "output_type": "display_data"
    }
   ],
   "source": [
    "x = (old_temp + new_temp) / 2.\n",
    "plt.figure(figsize=(6, 6))\n",
    "plt.scatter(x=x, y=diff)\n",
    "plt.xlabel('Temperature mean')\n",
    "plt.ylabel('Temperature difference')\n",
    "\n",
    "x = [x.min(), x.max()]\n",
    "plt.plot(x, [0, 0], color='black')\n",
    "plt.title('Mean/Difference plot')\n",
    "plt.show()"
   ]
  },
  {
   "cell_type": "markdown",
   "id": "a85f93f3",
   "metadata": {},
   "source": [
    "After pairing two years of temperature measuremnents by month numbers, we have the difference in temperature vector ready. Our null hypothesis is that the population mean of this difference is zero, i.e., there is no significant difference in temperature in 13 years. "
   ]
  },
  {
   "cell_type": "code",
   "execution_count": 26,
   "id": "df63506d",
   "metadata": {},
   "outputs": [],
   "source": [
    "std = diff.std()\n",
    "n = diff.shape[0]\n",
    "\n",
    "stat = (diff.mean() - 0.0) / (std / np.sqrt(n))"
   ]
  },
  {
   "cell_type": "code",
   "execution_count": 27,
   "id": "3931211b",
   "metadata": {
    "scrolled": true
   },
   "outputs": [
    {
     "name": "stdout",
     "output_type": "stream",
     "text": [
      "Statistic = 4.697\n",
      "P-value = 9.909977009542864e-05\n"
     ]
    }
   ],
   "source": [
    "# Two sided t-test\n",
    "p = 2*min(t.cdf(x=stat, df=n-1), t.cdf(x=-stat, df=n-1))\n",
    "print('Statistic = {:.3f}'.format(stat))\n",
    "print('P-value = {}'.format(p))"
   ]
  },
  {
   "cell_type": "code",
   "execution_count": 28,
   "id": "e730f538",
   "metadata": {},
   "outputs": [
    {
     "data": {
      "text/plain": [
       "Ttest_relResult(statistic=4.597927733464128, pvalue=0.00012679616029034516)"
      ]
     },
     "execution_count": 28,
     "metadata": {},
     "output_type": "execute_result"
    }
   ],
   "source": [
    "# Using Scipy\n",
    "ttest_rel(new_temp, old_temp)"
   ]
  },
  {
   "cell_type": "code",
   "execution_count": 29,
   "id": "0d3e3f65",
   "metadata": {},
   "outputs": [
    {
     "name": "stdout",
     "output_type": "stream",
     "text": [
      "Statistic = 4.697\n",
      "P-value = 4.9549885047794895e-05\n"
     ]
    }
   ],
   "source": [
    "# One sided t-test\n",
    "# Assumption: New temperatures are higher than old temperatures\n",
    "p = 1 - t.cdf(x=stat, df=n-1)\n",
    "print('Statistic = {:.3f}'.format(stat))\n",
    "print('P-value = {}'.format(p))"
   ]
  },
  {
   "cell_type": "code",
   "execution_count": 30,
   "id": "ff34b2bc",
   "metadata": {},
   "outputs": [
    {
     "data": {
      "text/plain": [
       "Ttest_relResult(statistic=4.597927733464128, pvalue=6.339808014517258e-05)"
      ]
     },
     "execution_count": 30,
     "metadata": {},
     "output_type": "execute_result"
    }
   ],
   "source": [
    "# Using Scipy\n",
    "ttest_rel(new_temp, old_temp, alternative='greater')"
   ]
  },
  {
   "cell_type": "markdown",
   "id": "fa9b6157",
   "metadata": {},
   "source": [
    "**Lecture example:**\n",
    "\n",
    "Testing whether one exam was harder than the other based on student results"
   ]
  },
  {
   "cell_type": "code",
   "execution_count": 31,
   "id": "6487fbf7",
   "metadata": {
    "scrolled": true
   },
   "outputs": [
    {
     "name": "stdout",
     "output_type": "stream",
     "text": [
      "Two sided test p-value = 0.011\n",
      "\n",
      "\n",
      "One sided test p-value = 0.005\n"
     ]
    }
   ],
   "source": [
    "avg_diff = 2.88\n",
    "n = 49\n",
    "std = 7.61\n",
    "\n",
    "stat = avg_diff / (std/np.sqrt(n))\n",
    "\n",
    "# Two sided t-test\n",
    "p = 2*min(t.cdf(x=stat, df=n-1), t.cdf(x=-stat, df=n-1))\n",
    "print('Two sided test p-value = {:.3f}'.format(p))\n",
    "print('\\n')\n",
    "\n",
    "# One sided t-test\n",
    "# Assumption: The first exam --> student marks are higher\n",
    "p = 1 - t.cdf(x=stat, df=n-1)\n",
    "print('One sided test p-value = {:.3f}'.format(p))"
   ]
  },
  {
   "cell_type": "markdown",
   "id": "7c5dd948",
   "metadata": {},
   "source": [
    "### Case 2: Two independent groups"
   ]
  },
  {
   "cell_type": "markdown",
   "id": "e507d257",
   "metadata": {},
   "source": [
    "Comparing temperatures from two different regions in Turkey, Karadeniz (Black Sea) and Akdeniz (Mediterranean Sea)"
   ]
  },
  {
   "cell_type": "code",
   "execution_count": 33,
   "id": "32d40972",
   "metadata": {},
   "outputs": [
    {
     "name": "stdout",
     "output_type": "stream",
     "text": [
      "Population mean = 14.06\n",
      "Group 1 mean = 13.77\n",
      "Group 2 mean = 19.78\n"
     ]
    }
   ],
   "source": [
    "cond = data['region'] == 'karadeniz'\n",
    "region1 = data.loc[cond, 'avg_temp'].to_numpy()\n",
    "\n",
    "cond = data['region'] == 'akdeniz'\n",
    "region2 = data.loc[cond, 'avg_temp'].to_numpy()\n",
    "\n",
    "pop_mean = data['avg_temp'].mean()\n",
    "print('Population mean = {:.2f}'.format(pop_mean))\n",
    "\n",
    "group1_mean = region1.mean()\n",
    "print('Group 1 mean = {:.2f}'.format(group1_mean))\n",
    "\n",
    "group2_mean = region2.mean()\n",
    "print('Group 2 mean = {:.2f}'.format(group2_mean))"
   ]
  },
  {
   "cell_type": "markdown",
   "id": "283896b3",
   "metadata": {},
   "source": [
    "Creating confidence intervals for each group mean"
   ]
  },
  {
   "cell_type": "code",
   "execution_count": 34,
   "id": "a7ac4878",
   "metadata": {},
   "outputs": [
    {
     "name": "stdout",
     "output_type": "stream",
     "text": [
      "Group 1 CI:\n",
      "Sample mean: 13.766\n",
      "T-distribution: [13.29466332 14.23830371]\n",
      "Norm distribution: [13.29518675 14.23778028]\n",
      "\n",
      "\n",
      "Group 2 CI:\n",
      "Sample mean: 19.776\n",
      "T-distribution: [19.249464   20.30261933]\n",
      "Norm distribution: [19.25029494 20.30178839]\n"
     ]
    }
   ],
   "source": [
    "n1 = len(region1)\n",
    "st_error1 = region1.std() / np.sqrt(n1)\n",
    "n2 = len(region2)\n",
    "st_error2 = region2.std() / np.sqrt(n2)\n",
    "\n",
    "t_p = t.ppf(0.975, df=n1-1)\n",
    "norm_p = norm.ppf(0.975)\n",
    "\n",
    "CI_1_t = group1_mean + t_p*np.array([-1, 1]) * st_error1\n",
    "CI_1_norm = group1_mean + norm_p*np.array([-1, 1]) * st_error1\n",
    "\n",
    "print('Group 1 CI:')\n",
    "print('Sample mean: {:.3f}'.format(group1_mean))\n",
    "print('T-distribution: {}'.format(CI_1_t))\n",
    "print('Norm distribution: {}'.format(CI_1_norm))\n",
    "print('\\n')\n",
    "\n",
    "t_p = t.ppf(0.975, df=n2-1)\n",
    "norm_p = norm.ppf(0.975)\n",
    "\n",
    "CI_2_t = group2_mean + t_p*np.array([-1, 1]) * st_error2\n",
    "CI_2_norm = group2_mean + norm_p*np.array([-1, 1]) * st_error2\n",
    "\n",
    "print('Group 2 CI:')\n",
    "print('Sample mean: {:.3f}'.format(group2_mean))\n",
    "print('T-distribution: {}'.format(CI_2_t))\n",
    "print('Norm distribution: {}'.format(CI_2_norm))"
   ]
  },
  {
   "cell_type": "markdown",
   "id": "e7119087",
   "metadata": {},
   "source": [
    "Notice that the confidence intervals using a t-distribution and a normal distribution are almost identical. This is due to the large dataset size which translates to a large degree of freedom fot the t-distribution (t-distributions approach normal distributions as their DF increases)"
   ]
  },
  {
   "cell_type": "code",
   "execution_count": 36,
   "id": "3c966828",
   "metadata": {},
   "outputs": [
    {
     "data": {
      "text/plain": [
       "(13.29466332271924, 14.238303710247793)"
      ]
     },
     "execution_count": 36,
     "metadata": {},
     "output_type": "execute_result"
    }
   ],
   "source": [
    "# Using Scipy\n",
    "t.interval(alpha=0.95, df=n1-1, loc=group1_mean, scale=st_error1)"
   ]
  },
  {
   "cell_type": "code",
   "execution_count": 37,
   "id": "4d65f33b",
   "metadata": {},
   "outputs": [
    {
     "data": {
      "text/plain": [
       "(19.24946399911519, 20.302619334218146)"
      ]
     },
     "execution_count": 37,
     "metadata": {},
     "output_type": "execute_result"
    }
   ],
   "source": [
    "t.interval(alpha=0.95, df=n2-1, loc=group2_mean, scale=st_error2)"
   ]
  },
  {
   "cell_type": "markdown",
   "id": "7826f8f2",
   "metadata": {},
   "source": [
    "Checking if the population variance of the two groups is equal using bootstrapping. (According to Brian Caffo's comment in the lecture)"
   ]
  },
  {
   "cell_type": "code",
   "execution_count": 40,
   "id": "91d46457",
   "metadata": {},
   "outputs": [
    {
     "name": "stdout",
     "output_type": "stream",
     "text": [
      "Group 1 sample variance: 63.199\n",
      "Group 2 sample variance: 55.333\n",
      "Variance ratio (Group1/Group2): 1.142\n"
     ]
    }
   ],
   "source": [
    "# The numpy variance function divides by n instead of n-1 by default\n",
    "var1 = region1.var(ddof=1)\n",
    "var2 = region2.var(ddof=1)\n",
    "\n",
    "print('Group 1 sample variance: {:.3f}'.format(var1))\n",
    "print('Group 2 sample variance: {:.3f}'.format(var2))\n",
    "print('Variance ratio (Group1/Group2): {:.3f}'.format(var1/var2))"
   ]
  },
  {
   "cell_type": "code",
   "execution_count": 41,
   "id": "03748e26",
   "metadata": {},
   "outputs": [],
   "source": [
    "n = 10000\n",
    "\n",
    "var_ratio_list = np.zeros(n)\n",
    "\n",
    "for i in range(n):\n",
    "    bs_sample1 = np.random.choice(region1, size=region1.shape)\n",
    "    bs_sample2 = np.random.choice(region2, size=region2.shape)\n",
    "    \n",
    "    var_ratio = bs_sample1.var(ddof=1) / bs_sample2.var(ddof=1)\n",
    "    var_ratio_list[i] = var_ratio"
   ]
  },
  {
   "cell_type": "code",
   "execution_count": 42,
   "id": "69ab5546",
   "metadata": {},
   "outputs": [
    {
     "name": "stdout",
     "output_type": "stream",
     "text": [
      "Variance ratio bootstrap mean = 1.144\n",
      "95% Confidence Interval: [1.03576912 1.26120171]\n"
     ]
    }
   ],
   "source": [
    "mu = var_ratio_list.mean()\n",
    "var = var_ratio_list.var(ddof=1)\n",
    "sd = np.sqrt(var)\n",
    "\n",
    "CI = np.array([np.quantile(var_ratio_list, 0.025), np.quantile(var_ratio_list, 0.975)])\n",
    "print('Variance ratio bootstrap mean = {:.3f}'.format(mu))\n",
    "print('95% Confidence Interval: {}'.format(CI))"
   ]
  },
  {
   "cell_type": "code",
   "execution_count": 43,
   "id": "20d0d75f",
   "metadata": {},
   "outputs": [
    {
     "data": {
      "image/png": "[encoded data removed]",
      "text/plain": [
       "<Figure size 432x288 with 1 Axes>"
      ]
     },
     "metadata": {
      "needs_background": "light"
     },
     "output_type": "display_data"
    }
   ],
   "source": [
    "plt.hist(var_ratio_list)\n",
    "plt.show()"
   ]
  },
  {
   "cell_type": "markdown",
   "id": "53f7f5f2",
   "metadata": {},
   "source": [
    "Variances seem to be different"
   ]
  },
  {
   "cell_type": "markdown",
   "id": "11c81ee2",
   "metadata": {},
   "source": [
    "#### 1. T-test assuming the variances are equal"
   ]
  },
  {
   "cell_type": "code",
   "execution_count": 44,
   "id": "dac14419",
   "metadata": {},
   "outputs": [],
   "source": [
    "# T-test assuming the variances are equal\n",
    "# Computing the pooled variance which is an estimate of the population variance\n",
    "var1 = region1.var(ddof=1)\n",
    "var2 = region2.var(ddof=1)\n",
    "\n",
    "n1 = len(region1)\n",
    "n2 = len(region2)\n",
    "\n",
    "# Pooled variance\n",
    "var = ((n1-1)*var1 + (n2-1)*var2) / (n1 + n2 - 2)\n",
    "sd = np.sqrt(var)\n",
    "\n",
    "# Mean difference\n",
    "mu = region1.mean() - region2.mean()\n",
    "\n",
    "# Statistic\n",
    "stat = (mu - 0)/(sd*np.sqrt(1/n1 + 1/n2))"
   ]
  },
  {
   "cell_type": "code",
   "execution_count": 45,
   "id": "d6a61961",
   "metadata": {},
   "outputs": [
    {
     "name": "stdout",
     "output_type": "stream",
     "text": [
      "Statistic: -16.481\n",
      "P-value assuming equal variance: 0.000\n",
      "Mean difference CI: [-6.72470925 -5.29440705]\n"
     ]
    }
   ],
   "source": [
    "p_val = min(t.cdf(x=-stat, df=n1+n2-2), t.cdf(x=stat, df=n1+n2-2))*2\n",
    "\n",
    "# Computing the confidence interval of the mean difference\n",
    "q = t.ppf(q=0.975, df=n1+n2-2)\n",
    "CI = mu + np.array([-1, 1])*q*(sd*np.sqrt(1/n1 + 1/n2))\n",
    "\n",
    "print('Statistic: {:.3f}'.format(stat))\n",
    "print('P-value assuming equal variance: {:.3f}'.format(p_val))\n",
    "print('Mean difference CI: {}'.format(CI))"
   ]
  },
  {
   "cell_type": "code",
   "execution_count": 47,
   "id": "43d35398",
   "metadata": {},
   "outputs": [
    {
     "data": {
      "text/plain": [
       "Ttest_indResult(statistic=-16.480706561505382, pvalue=4.623214251788798e-57)"
      ]
     },
     "execution_count": 47,
     "metadata": {},
     "output_type": "execute_result"
    }
   ],
   "source": [
    "# Using Scipy\n",
    "ttest_ind(region1, region2)"
   ]
  },
  {
   "cell_type": "markdown",
   "id": "ad9dcc41",
   "metadata": {},
   "source": [
    "#### 2. T-test assuming the variances are unequal"
   ]
  },
  {
   "cell_type": "code",
   "execution_count": 48,
   "id": "201e38b6",
   "metadata": {},
   "outputs": [],
   "source": [
    "# Degree of freedom of the student t distribution in the case of unequal variances\n",
    "def deg_freedom(var1, var2, n1, n2):\n",
    "    # Variance divided by the number of samples\n",
    "    sn1 = var1/n1\n",
    "    sn2 = var2/n2\n",
    "\n",
    "    df = (sn1 + sn2)**2 / ((sn1**2)/(n1-1) + (sn2**2)/(n2-1))\n",
    "    \n",
    "    return df"
   ]
  },
  {
   "cell_type": "code",
   "execution_count": 49,
   "id": "ad9f47e9",
   "metadata": {},
   "outputs": [],
   "source": [
    "# T-test assuming the variances are different\n",
    "var1 = region1.var(ddof=1)\n",
    "var2 = region2.var(ddof=1)\n",
    "sd1 = np.sqrt(var1)\n",
    "sd2 = np.sqrt(var2)\n",
    "\n",
    "n1 = len(region1)\n",
    "n2 = len(region2)\n",
    "\n",
    "# Mean difference\n",
    "mu = region1.mean() - region2.mean()\n",
    "\n",
    "# Statistic\n",
    "stat = (mu - 0)/np.sqrt(var1/n1 + var2/n2)\n",
    "\n",
    "# T-distribution degrees of freedom\n",
    "df = deg_freedom(var1, var2, n1, n2)"
   ]
  },
  {
   "cell_type": "code",
   "execution_count": 50,
   "id": "ec587c22",
   "metadata": {},
   "outputs": [
    {
     "name": "stdout",
     "output_type": "stream",
     "text": [
      "Statistic: -16.672\n",
      "P-value assuming equal variance: 0.000\n",
      "Mean difference CI: [-6.71652287 -5.30259343]\n"
     ]
    }
   ],
   "source": [
    "p_val = min(t.cdf(x=-stat, df=df), t.cdf(x=stat, df=df))*2\n",
    "\n",
    "# Computing the confidence interval of the mean difference\n",
    "q = t.ppf(q=0.975, df=df)\n",
    "CI = mu + np.array([-1, 1])*q*np.sqrt(var1/n1 + var2/n2)\n",
    "\n",
    "print('Statistic: {:.3f}'.format(stat))\n",
    "print('P-value assuming equal variance: {:.3f}'.format(p_val))\n",
    "print('Mean difference CI: {}'.format(CI))"
   ]
  },
  {
   "cell_type": "code",
   "execution_count": 51,
   "id": "e1e52e0a",
   "metadata": {},
   "outputs": [
    {
     "data": {
      "text/plain": [
       "Ttest_indResult(statistic=-16.672447535923112, pvalue=5.868871514659742e-58)"
      ]
     },
     "execution_count": 51,
     "metadata": {},
     "output_type": "execute_result"
    }
   ],
   "source": [
    "# Using Scipy\n",
    "ttest_ind(region1, region2, equal_var=False)"
   ]
  },
  {
   "cell_type": "markdown",
   "id": "1d19ee8b",
   "metadata": {},
   "source": [
    "### Regression to the mean\n",
    "Ex: If students were to take a test about a subject they are unfamiliar with, the mean of their scores would be around 50. However, some students will still receive high and low score. If given the test another time, the mean score of students who scored high will decrease and the mean score of students who scored low will increase. The reason is that randomness plays a significant role in determining the score of a student in this case, assuming the students have no background about the test. In a perfect test, however, where each student will always get the same score based on his/her knowledge, randomness will have no role in determining the score of a student and therefore regression to the mean does not occur.\n",
    "\n",
    "See [this video by Veritasium](https://www.youtube.com/watch?v=1tSqSMOyNFE) on the subject of regression to the mean."
   ]
  },
  {
   "cell_type": "code",
   "execution_count": 52,
   "id": "6d64becb",
   "metadata": {},
   "outputs": [],
   "source": [
    "# Observing regression to the mean in the previous example of temperatures\n",
    "norm_old_temp = (old_temp - old_temp.mean()) / old_temp.std()\n",
    "norm_new_temp = (new_temp - new_temp.mean()) / new_temp.std()"
   ]
  },
  {
   "cell_type": "code",
   "execution_count": 53,
   "id": "65b37467",
   "metadata": {},
   "outputs": [
    {
     "data": {
      "image/png": "[encoded data removed]",
      "text/plain": [
       "<Figure size 432x432 with 1 Axes>"
      ]
     },
     "metadata": {
      "needs_background": "light"
     },
     "output_type": "display_data"
    }
   ],
   "source": [
    "plt.figure(figsize=(6, 6))\n",
    "plt.scatter(x=norm_old_temp, y=norm_new_temp)\n",
    "plt.xlim(-2.5, +2.5)\n",
    "plt.ylim(-2.5, +2.5)\n",
    "\n",
    "x = [-5, +5]\n",
    "plt.plot(x, x, color='black', label='Identity')\n",
    "\n",
    "# Plotting regression line\n",
    "# Correlation coefficient does not change by normalizing data\n",
    "corr_coef = np.corrcoef(norm_old_temp, norm_new_temp)[0, 1]\n",
    "x = np.linspace(-2, 2, 10)\n",
    "y = corr_coef * x\n",
    "plt.plot(x, y, color='red', label='Reg. Line')\n",
    "\n",
    "plt.xlabel('Old temperatures')\n",
    "plt.ylabel('New temperatures')\n",
    "plt.legend()\n",
    "plt.show()"
   ]
  },
  {
   "cell_type": "markdown",
   "id": "f15a7ef7",
   "metadata": {},
   "source": [
    "As we can see the regression line and the identity line are almost the same, therefore regression to the mean is not pronounced here. The reason here is that an extremely low temperature occurs in winter month and will be acompanied with a low temperature too in another year."
   ]
  },
  {
   "cell_type": "code",
   "execution_count": null,
   "id": "3453950f",
   "metadata": {},
   "outputs": [],
   "source": []
  }
 ],
 "metadata": {
  "kernelspec": {
   "display_name": "Python 3",
   "language": "python",
   "name": "python3"
  },
  "language_info": {
   "codemirror_mode": {
    "name": "ipython",
    "version": 3
   },
   "file_extension": ".py",
   "mimetype": "text/x-python",
   "name": "python",
   "nbconvert_exporter": "python",
   "pygments_lexer": "ipython3",
   "version": "3.8.8"
  }
 },
 "nbformat": 4,
 "nbformat_minor": 5
}
