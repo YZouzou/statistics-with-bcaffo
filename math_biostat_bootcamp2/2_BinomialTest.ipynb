{
 "cells": [
  {
   "cell_type": "markdown",
   "id": "9938d660",
   "metadata": {},
   "source": [
    "## Binomial Tests\n",
    "[Link to lecture notes](https://github.com/bcaffo/MathematicsBiostatisticsBootCamp2/blob/master/Lecture4.pdf)"
   ]
  },
  {
   "cell_type": "code",
   "execution_count": 1,
   "id": "518e41e5",
   "metadata": {},
   "outputs": [],
   "source": [
    "import numpy as np\n",
    "import pandas as pd\n",
    "import matplotlib.pyplot as plt\n",
    "from scipy.stats import norm, t, binom_test, beta\n",
    "from math import comb"
   ]
  },
  {
   "cell_type": "markdown",
   "id": "90382610",
   "metadata": {},
   "source": [
    "#### Lecture example\n",
    "We want to test the side effects of two drugs; A and B. We choose a group of 40 people and randomly assign 20 of them to drug A and the other 20 to drug B. In this case, the observed result of the experiment is a binary variable (side effects or not). The results are given in the following table:"
   ]
  },
  {
   "cell_type": "markdown",
   "id": "4900c352",
   "metadata": {},
   "source": [
    "|   drug   |Side effects|None|Total|\n",
    "|-----|------|------| ------|\n",
    "|Drug A|  11   |   9   |  20  |\n",
    "|Drug B|  5    |   15  |  20  |\n",
    "|Total |  16   |   24  |  40  |"
   ]
  },
  {
   "cell_type": "markdown",
   "id": "c1f67467",
   "metadata": {},
   "source": [
    "**1. Testing the alternative hypothesis that the ratio of side effects from drug A is greater than 0.1, given the null hypothesis that the ratio is 0.1**"
   ]
  },
  {
   "cell_type": "markdown",
   "id": "16cd5204",
   "metadata": {},
   "source": [
    "In the wald test, we use the sample mean (p_hat) to compute the variance p(1-p). Whereas in the score test, we use the population mean (p0) under the null hypothesis to compute the variance. The latter performs better than the former. Both statistics are normally distributed for large n values."
   ]
  },
  {
   "cell_type": "code",
   "execution_count": 2,
   "id": "bb732f76",
   "metadata": {},
   "outputs": [
    {
     "name": "stdout",
     "output_type": "stream",
     "text": [
      "Statistic: 6.708\n",
      "Z_0.95 = 1.645 << 6.708\n"
     ]
    }
   ],
   "source": [
    "# One sided test using the score test\n",
    "n = 20\n",
    "p_test = 11./20\n",
    "p_hyp = 0.1\n",
    "var = p_hyp*(1-p_hyp)\n",
    "stat = (p_test - p_hyp) / np.sqrt(var/n)\n",
    "\n",
    "print('Statistic: {:.3f}'.format(stat))\n",
    "print('Z_0.95 = 1.645 << {:.3f}'.format(stat))"
   ]
  },
  {
   "cell_type": "markdown",
   "id": "b12c205b",
   "metadata": {},
   "source": [
    "An exact binomial test can be conducted by computing the probability of getting more extreme results under the null hypothesis."
   ]
  },
  {
   "cell_type": "code",
   "execution_count": 3,
   "id": "3c099c4d",
   "metadata": {},
   "outputs": [
    {
     "name": "stdout",
     "output_type": "stream",
     "text": [
      "P-value = 7.088606331722206e-07\n"
     ]
    }
   ],
   "source": [
    "# Computing the exact p_value\n",
    "# Which is the probability of getting values equally or more extreme than\n",
    "# the test sample values assuming the distribution is the null hypothesis distribution\n",
    "prob_fun = lambda n, k: comb(n, k) * 0.1**k * 0.9**(n-k)\n",
    "p_val = 0\n",
    "\n",
    "for x in range(11, 21):\n",
    "    p_val += prob_fun(20, x)\n",
    "    \n",
    "print('P-value = {}'.format(p_val))"
   ]
  },
  {
   "cell_type": "markdown",
   "id": "63fbf5e4",
   "metadata": {},
   "source": [
    "Using Scipy `binom_test`"
   ]
  },
  {
   "cell_type": "code",
   "execution_count": 4,
   "id": "b9f80be4",
   "metadata": {},
   "outputs": [
    {
     "data": {
      "text/plain": [
       "7.088606331722207e-07"
      ]
     },
     "execution_count": 4,
     "metadata": {},
     "output_type": "execute_result"
    }
   ],
   "source": [
    "# x is the number of successes (where success is the ocurrence of the event we are interested in)\n",
    "# n is the number of trials\n",
    "# p is the probability of the hypothesis we are testing\n",
    "binom_test(x=11, n=20, p=0.1, alternative='greater')"
   ]
  },
  {
   "cell_type": "markdown",
   "id": "0dc7134d",
   "metadata": {},
   "source": [
    "**2. Testing the alternative hypothesis that drugs A and B have different side effect occurrence probabilities (two sided test) against the null hypothesis that they do have the same probabilities of side effects.**"
   ]
  },
  {
   "cell_type": "code",
   "execution_count": 5,
   "id": "5ba6b135",
   "metadata": {},
   "outputs": [
    {
     "name": "stdout",
     "output_type": "stream",
     "text": [
      "Statistic: 1.936\n",
      "P-value = 0.05280751141611358\n"
     ]
    }
   ],
   "source": [
    "n1 = 20\n",
    "p1 = 11./20\n",
    "\n",
    "n2 = 20\n",
    "p2 = 5./20\n",
    "\n",
    "p = (5. + 11.) / (20 + 20)\n",
    "st_error = np.sqrt(p*(1-p)*(1./n1 + 1./n2))\n",
    "\n",
    "stat = (p1 - p2) / st_error\n",
    "\n",
    "p_val = norm.cdf(x=-stat) * 2\n",
    "print('Statistic: {:.3f}'.format(stat))\n",
    "print('P-value = {}'.format(p_val))\n"
   ]
  },
  {
   "cell_type": "markdown",
   "id": "81c4c8fa",
   "metadata": {},
   "source": [
    "### Bayesian inference\n",
    "\n",
    "\n",
    "The following plots are a Monte Carlo simulation of the difference (and ratio and odd ratio) between the posteriors of PB and PA, which represent the probability of having side effects from the drugs B and A, respectively. We use beta priors for each of the two drugs' success rates (side effect rate). The posterior is computed by multiplying the prior and the likelihood of the observed data.\n",
    "\n",
    "The test is inverted here (PB - PA instead of PA - PB) to get consistent results with the summary in the slides."
   ]
  },
  {
   "cell_type": "code",
   "execution_count": 6,
   "id": "9989c178",
   "metadata": {},
   "outputs": [
    {
     "data": {
      "image/png": "[encoded data removed]",
      "text/plain": [
       "<Figure size 432x288 with 1 Axes>"
      ]
     },
     "metadata": {
      "needs_background": "light"
     },
     "output_type": "display_data"
    },
    {
     "name": "stdout",
     "output_type": "stream",
     "text": [
      "Mean: -0.270\n",
      "Median: -0.275\n",
      "CI: [-0.532, 0.014]\n",
      "\n",
      "\n"
     ]
    },
    {
     "data": {
      "image/png": "[encoded data removed]",
      "text/plain": [
       "<Figure size 432x288 with 1 Axes>"
      ]
     },
     "metadata": {
      "needs_background": "light"
     },
     "output_type": "display_data"
    },
    {
     "name": "stdout",
     "output_type": "stream",
     "text": [
      "Mean: 0.524\n",
      "Median: 0.491\n",
      "CI: [0.200, 1.038]\n",
      "\n",
      "\n"
     ]
    },
    {
     "data": {
      "image/png": "[encoded data removed]",
      "text/plain": [
       "<Figure size 432x288 with 1 Axes>"
      ]
     },
     "metadata": {
      "needs_background": "light"
     },
     "output_type": "display_data"
    },
    {
     "name": "stdout",
     "output_type": "stream",
     "text": [
      "Mean: 0.369\n",
      "Median: 0.298\n",
      "CI: [0.079, 1.063]\n",
      "\n",
      "\n"
     ]
    }
   ],
   "source": [
    "size = 10000\n",
    "\n",
    "posterior_fun = lambda x, n, size, a=1, b=1: beta.rvs(a=x+a, b=n-x+b, size=size)\n",
    "\n",
    "n1 = 20\n",
    "x1 = 11\n",
    "p1 = x1/n1\n",
    "\n",
    "n2 = 20\n",
    "x2 = 5\n",
    "p2 = x2/n2\n",
    "\n",
    "drug_A_post = posterior_fun(x1, n1, size)\n",
    "drug_B_post = posterior_fun(x2, n2, size)\n",
    "\n",
    "diff = drug_B_post - drug_A_post\n",
    "ratio = drug_B_post / drug_A_post\n",
    "odd_ratio = (drug_B_post / (1 - drug_B_post)) / (drug_A_post / (1 - drug_A_post))\n",
    "\n",
    "def plot_hist_with_summary(arr, title, vertical_x):\n",
    "    plt.hist(arr, bins=20, density=True)\n",
    "    plt.title(title)\n",
    "    qmin, qmax = np.quantile(arr, [0.025, 0.975])\n",
    "\n",
    "    plt.axvline(qmin, color='black', linestyle='--')\n",
    "    plt.axvline(qmax, color='black', linestyle='--')\n",
    "    plt.axvline(vertical_x, color='red')\n",
    "    plt.show()\n",
    "\n",
    "    print(f'Mean: {arr.mean():.3f}')\n",
    "    print(f'Median: {np.median(arr):.3f}')\n",
    "    print(f'CI: [{qmin:.3f}, {qmax:.3f}]')\n",
    "    print('\\n')\n",
    "    \n",
    "\n",
    "plot_hist_with_summary(diff, 'Difference', 0)\n",
    "plot_hist_with_summary(ratio, 'Ratio', 1)\n",
    "plot_hist_with_summary(odd_ratio, 'Odd Ratio', 1)"
   ]
  },
  {
   "cell_type": "markdown",
   "id": "9b24f0a7",
   "metadata": {},
   "source": [
    "We notice that zero (and 1 for the ratios) is inside the confidence interval of the estimated difference between the two drugs' posteriors, therefore the difference between the two drugs is not statistically significant."
   ]
  },
  {
   "cell_type": "markdown",
   "id": "513dc9e2",
   "metadata": {},
   "source": [
    "The following are the same plots but inverted"
   ]
  },
  {
   "cell_type": "code",
   "execution_count": 7,
   "id": "20a31590",
   "metadata": {},
   "outputs": [
    {
     "data": {
      "image/png": "[encoded data removed]",
      "text/plain": [
       "<Figure size 432x288 with 1 Axes>"
      ]
     },
     "metadata": {
      "needs_background": "light"
     },
     "output_type": "display_data"
    },
    {
     "name": "stdout",
     "output_type": "stream",
     "text": [
      "Mean: 0.274\n",
      "Median: 0.277\n",
      "CI: [-0.006, 0.536]\n",
      "\n",
      "\n"
     ]
    },
    {
     "data": {
      "image/png": "[encoded data removed]",
      "text/plain": [
       "<Figure size 432x288 with 1 Axes>"
      ]
     },
     "metadata": {
      "needs_background": "light"
     },
     "output_type": "display_data"
    },
    {
     "name": "stdout",
     "output_type": "stream",
     "text": [
      "Mean: 2.311\n",
      "Median: 2.051\n",
      "CI: [0.982, 5.178]\n",
      "\n",
      "\n"
     ]
    },
    {
     "data": {
      "image/png": "[encoded data removed]",
      "text/plain": [
       "<Figure size 432x288 with 1 Axes>"
      ]
     },
     "metadata": {
      "needs_background": "light"
     },
     "output_type": "display_data"
    },
    {
     "name": "stdout",
     "output_type": "stream",
     "text": [
      "Mean: 4.314\n",
      "Median: 3.384\n",
      "CI: [0.972, 13.234]\n",
      "\n",
      "\n"
     ]
    }
   ],
   "source": [
    "size = 10000\n",
    "\n",
    "posterior_fun = lambda x, n, size, a=1, b=1: beta.rvs(a=x+a, b=n-x+b, size=size)\n",
    "\n",
    "n1 = 20\n",
    "x1 = 11\n",
    "p1 = x1/n1\n",
    "\n",
    "n2 = 20\n",
    "x2 = 5\n",
    "p2 = x2/n2\n",
    "\n",
    "drug_A_post = posterior_fun(x1, n1, size)\n",
    "drug_B_post = posterior_fun(x2, n2, size)\n",
    "\n",
    "diff = drug_A_post - drug_B_post\n",
    "ratio = drug_A_post / drug_B_post\n",
    "odd_ratio = (drug_A_post / (1 - drug_A_post)) / (drug_B_post / (1 - drug_B_post))\n",
    "    \n",
    "\n",
    "plot_hist_with_summary(diff, 'Difference', 0)\n",
    "plot_hist_with_summary(ratio, 'Ratio', 1)\n",
    "plot_hist_with_summary(odd_ratio, 'Odd Ratio', 1)"
   ]
  },
  {
   "cell_type": "code",
   "execution_count": null,
   "id": "ecef63d3",
   "metadata": {},
   "outputs": [],
   "source": []
  }
 ],
 "metadata": {
  "kernelspec": {
   "display_name": "Python 3",
   "language": "python",
   "name": "python3"
  },
  "language_info": {
   "codemirror_mode": {
    "name": "ipython",
    "version": 3
   },
   "file_extension": ".py",
   "mimetype": "text/x-python",
   "name": "python",
   "nbconvert_exporter": "python",
   "pygments_lexer": "ipython3",
   "version": "3.8.8"
  }
 },
 "nbformat": 4,
 "nbformat_minor": 5
}
