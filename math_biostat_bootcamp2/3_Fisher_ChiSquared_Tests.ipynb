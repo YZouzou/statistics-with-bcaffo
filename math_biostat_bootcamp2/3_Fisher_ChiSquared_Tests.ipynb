{
 "cells": [
  {
   "cell_type": "markdown",
   "id": "22cf79ed",
   "metadata": {},
   "source": [
    "## Fisher's Exact Test\n",
    "[Lecture Notes](https://github.com/bcaffo/MathematicsBiostatisticsBootCamp2/blob/master/lecture7.pdf)\n",
    "\n",
    "In Fisher's exact test, the number of treated and control cases, along with the total number of successes and failures must stay fixed. Under the null hypothesis, the probability of success is always the same regardless of whether the case is treated or not. By fixing the sums and studying all the permutations, the p-value is the probability of observing an equally or more extreme table than the observed table in favor of the alternative hypothesis.\n",
    "\n",
    "This test is used to test the hypothesis that success probability in treatments is not equal (or larger or smaller) than that of the control. It is equivalent to a binomial test, however the binomial test requires large samples to ensure that the test statistic converges to a standard normal."
   ]
  },
  {
   "cell_type": "code",
   "execution_count": 1,
   "id": "3dfc3214",
   "metadata": {},
   "outputs": [],
   "source": [
    "import numpy as np\n",
    "import pandas as pd\n",
    "import matplotlib.pyplot as plt\n",
    "from scipy.stats import norm, t, binom_test, beta\n",
    "from math import comb\n",
    "\n",
    "import itertools"
   ]
  },
  {
   "cell_type": "code",
   "execution_count": 2,
   "id": "b5074a16",
   "metadata": {},
   "outputs": [
    {
     "data": {
      "text/html": [
       "<div>\n",
       "<style scoped>\n",
       "    .dataframe tbody tr th:only-of-type {\n",
       "        vertical-align: middle;\n",
       "    }\n",
       "\n",
       "    .dataframe tbody tr th {\n",
       "        vertical-align: top;\n",
       "    }\n",
       "\n",
       "    .dataframe thead th {\n",
       "        text-align: right;\n",
       "    }\n",
       "</style>\n",
       "<table border=\"1\" class=\"dataframe\">\n",
       "  <thead>\n",
       "    <tr style=\"text-align: right;\">\n",
       "      <th></th>\n",
       "      <th>Tumor</th>\n",
       "      <th>None</th>\n",
       "    </tr>\n",
       "  </thead>\n",
       "  <tbody>\n",
       "    <tr>\n",
       "      <th>Treated</th>\n",
       "      <td>4</td>\n",
       "      <td>1</td>\n",
       "    </tr>\n",
       "    <tr>\n",
       "      <th>Control</th>\n",
       "      <td>2</td>\n",
       "      <td>3</td>\n",
       "    </tr>\n",
       "  </tbody>\n",
       "</table>\n",
       "</div>"
      ],
      "text/plain": [
       "         Tumor  None\n",
       "Treated      4     1\n",
       "Control      2     3"
      ]
     },
     "execution_count": 2,
     "metadata": {},
     "output_type": "execute_result"
    }
   ],
   "source": [
    "# Lecture example\n",
    "data = pd.DataFrame({\n",
    "    'Tumor': [4, 2],\n",
    "    'None': [1, 3]\n",
    "}, index=['Treated', 'Control'])\n",
    "data"
   ]
  },
  {
   "cell_type": "markdown",
   "id": "704a749f",
   "metadata": {},
   "source": [
    "Testing the null hypothesis that the probability of a mouse having a tumor is equal for treated and control mice against the alternative hypothesis that treated mice are more likely to have a tumor."
   ]
  },
  {
   "cell_type": "code",
   "execution_count": 3,
   "id": "07c9bfe7",
   "metadata": {},
   "outputs": [],
   "source": [
    "def hypergeometric_prob(n1, n2, x, z):\n",
    "    return comb(n1, x) * comb(n2, z-x) / comb(n1+n2, z)"
   ]
  },
  {
   "cell_type": "markdown",
   "id": "4a2b4287",
   "metadata": {},
   "source": [
    "We compute the probability of the observed table and the more extreme tables in favor of the alternative probability using the hypergeometric distribution. Our margins should stay unchanged when manipulating the table, i.e., the sum of each of tumor, non-tumor, control, and treated cases should not change"
   ]
  },
  {
   "cell_type": "code",
   "execution_count": 4,
   "id": "db589142",
   "metadata": {},
   "outputs": [],
   "source": [
    "# Number of treated mice\n",
    "n1 = 5\n",
    "# Number of control mice\n",
    "n2 = 5\n",
    "# Total number of tumors\n",
    "z = 6"
   ]
  },
  {
   "cell_type": "code",
   "execution_count": 5,
   "id": "0dbf9c18",
   "metadata": {},
   "outputs": [
    {
     "data": {
      "text/plain": [
       "0.23809523809523808"
      ]
     },
     "execution_count": 5,
     "metadata": {},
     "output_type": "execute_result"
    }
   ],
   "source": [
    "# Observed table\n",
    "\n",
    "# Number of tumors in treated mice\n",
    "x = 4\n",
    "\n",
    "p1 = hypergeometric_prob(n1, n2, x, z)\n",
    "p1"
   ]
  },
  {
   "cell_type": "code",
   "execution_count": 6,
   "id": "0a2d4808",
   "metadata": {},
   "outputs": [
    {
     "data": {
      "text/plain": [
       "0.023809523809523808"
      ]
     },
     "execution_count": 6,
     "metadata": {},
     "output_type": "execute_result"
    }
   ],
   "source": [
    "# More extreme table\n",
    "\n",
    "# Number of tumors in treated mice\n",
    "x = 5\n",
    "\n",
    "p2 = hypergeometric_prob(n1, n2, x, z)\n",
    "p2"
   ]
  },
  {
   "cell_type": "code",
   "execution_count": 7,
   "id": "c7769aad",
   "metadata": {},
   "outputs": [
    {
     "data": {
      "text/plain": [
       "0.26190476190476186"
      ]
     },
     "execution_count": 7,
     "metadata": {},
     "output_type": "execute_result"
    }
   ],
   "source": [
    "p_val = p1 + p2\n",
    "p_val"
   ]
  },
  {
   "cell_type": "markdown",
   "id": "14fe2a75",
   "metadata": {},
   "source": [
    "Using Scipy `fisher_exact`"
   ]
  },
  {
   "cell_type": "code",
   "execution_count": 8,
   "id": "b51fdcc1",
   "metadata": {},
   "outputs": [],
   "source": [
    "from scipy.stats import fisher_exact"
   ]
  },
  {
   "cell_type": "code",
   "execution_count": 9,
   "id": "1b2705c4",
   "metadata": {},
   "outputs": [
    {
     "data": {
      "text/plain": [
       "(6.0, 0.26190476190476203)"
      ]
     },
     "execution_count": 9,
     "metadata": {},
     "output_type": "execute_result"
    }
   ],
   "source": [
    "arr = data.to_numpy()\n",
    "\n",
    "fisher_exact(arr, 'greater')"
   ]
  },
  {
   "cell_type": "code",
   "execution_count": 10,
   "id": "0669ee99",
   "metadata": {},
   "outputs": [
    {
     "data": {
      "text/plain": [
       "(6.0, 0.523809523809524)"
      ]
     },
     "execution_count": 10,
     "metadata": {},
     "output_type": "execute_result"
    }
   ],
   "source": [
    "arr = data.to_numpy()\n",
    "\n",
    "fisher_exact(arr, 'two-sided')"
   ]
  },
  {
   "cell_type": "markdown",
   "id": "114cfb03",
   "metadata": {},
   "source": [
    "Estimating Fisher's exact test p_value using a **Monte Carlo simulation**"
   ]
  },
  {
   "cell_type": "code",
   "execution_count": 11,
   "id": "56ca3fc5",
   "metadata": {},
   "outputs": [
    {
     "data": {
      "text/plain": [
       "0.2618"
      ]
     },
     "execution_count": 11,
     "metadata": {},
     "output_type": "execute_result"
    }
   ],
   "source": [
    "# We have a total of 6 tumors and 10 study cases\n",
    "# 1s represent tumors\n",
    "# The first five are treated and the others are control\n",
    "arr = np.array([1, 1, 1, 1, 1, 1, 0, 0, 0, 0])\n",
    "\n",
    "n = 10000\n",
    "count = 0\n",
    "\n",
    "for i in range(n):\n",
    "    np.random.shuffle(arr)\n",
    "    # When there are 4 or more tumors in the first five cases (treated cases)\n",
    "    # we have an equally or more extreme case than the observed case\n",
    "    if sum(arr[:5]) >= 4:\n",
    "        count += 1\n",
    "        \n",
    "p_val = 1.*count / n\n",
    "p_val"
   ]
  },
  {
   "cell_type": "markdown",
   "id": "5ff456f7",
   "metadata": {},
   "source": [
    "## Chi-squared test\n",
    "[Lecture Notes](https://github.com/bcaffo/MathematicsBiostatisticsBootCamp2/blob/master/lecture8.pdf)\n",
    "\n",
    "* The Chi-Squared test is used also to test the significance of the difference between treatment and control (Tests independence of two “things”). \n",
    "\n",
    "* The Chi-squared test requires large cell counts\n",
    "\n",
    "* The Chi-squared test statistic is computed as the sum of the squared differences between the observed count and the expected count divided by the expected count, where the expected count is calculated using the proportion of successes and failures under the null hypothesis.\n",
    "\n",
    "* •\tThe alternative is always two sided"
   ]
  },
  {
   "cell_type": "markdown",
   "id": "f0a23548",
   "metadata": {},
   "source": [
    "Simulating the couple's rating example using Scipy's `chi2_contingency` function and Monte Carlo simulation."
   ]
  },
  {
   "cell_type": "code",
   "execution_count": 12,
   "id": "5805c6d2",
   "metadata": {},
   "outputs": [],
   "source": [
    "# Husband vs wife rating\n",
    "obs_arr = np.array([\n",
    "    [7, 7, 2, 3],\n",
    "    [2, 8, 3, 7],\n",
    "    [1, 5, 4, 9],\n",
    "    [2, 8, 9, 14]\n",
    "])"
   ]
  },
  {
   "cell_type": "markdown",
   "id": "5aa254ed",
   "metadata": {},
   "source": [
    "**1. Using Scipy's `chi2_contingency`:** [Docs](https://docs.scipy.org/doc/scipy/reference/generated/scipy.stats.chi2_contingency.html)"
   ]
  },
  {
   "cell_type": "code",
   "execution_count": 13,
   "id": "1f3cf0d4",
   "metadata": {},
   "outputs": [],
   "source": [
    "from scipy.stats import chi2_contingency, chi2, chisquare"
   ]
  },
  {
   "cell_type": "code",
   "execution_count": 14,
   "id": "dbed7c33",
   "metadata": {},
   "outputs": [
    {
     "name": "stdout",
     "output_type": "stream",
     "text": [
      "Statistic: 16.955\n",
      "P-value: 0.049\n"
     ]
    }
   ],
   "source": [
    "obs_stat, p_val, dof, exp_vals = chi2_contingency(obs_arr)\n",
    "print('Statistic: {:.3f}'.format(obs_stat))\n",
    "print('P-value: {:.3f}'.format(p_val))"
   ]
  },
  {
   "cell_type": "markdown",
   "id": "a1646518",
   "metadata": {},
   "source": [
    "**2. Monte Carlo simulation:**\n",
    "\n",
    "Computing an exact p-value for the Chi-squared test."
   ]
  },
  {
   "cell_type": "code",
   "execution_count": 15,
   "id": "f3d37ff7",
   "metadata": {},
   "outputs": [],
   "source": [
    "# Total husband ratings\n",
    "husband = obs_arr.sum(axis=1)\n",
    "\n",
    "# Total wife ratings\n",
    "wife = obs_arr.sum(axis=0)"
   ]
  },
  {
   "cell_type": "code",
   "execution_count": 16,
   "id": "63e032f1",
   "metadata": {},
   "outputs": [
    {
     "name": "stdout",
     "output_type": "stream",
     "text": [
      "MC exact p-value: 0.051\n"
     ]
    }
   ],
   "source": [
    "n = 10000\n",
    "\n",
    "husband_perm = np.array(list(''.join([num*sym for num, sym in zip(husband, 'NFVA')])))\n",
    "\n",
    "wife_perm = np.array(list(''.join([num*sym for num, sym in zip(wife, 'NFVA')])))\n",
    "\n",
    "# The following 4*4 array has the string-form permutation in each cell\n",
    "all_combinations = list(map(lambda x: x[0] + x[1], itertools.product('NFVA', 'NFVA')))\n",
    "combo_arr = np.array(all_combinations).reshape(4, 4)\n",
    "\n",
    "mc_count = 0\n",
    "\n",
    "for _ in range(n):\n",
    "    table = np.zeros((4, 4))\n",
    "    \n",
    "    # Shuffling the husband array\n",
    "    np.random.shuffle(husband_perm)\n",
    "    \n",
    "    # The combinations of this iteration\n",
    "    combos = np.char.add(husband_perm, wife_perm)\n",
    "    \n",
    "    for combo in all_combinations:\n",
    "        # Counting the number of each combination\n",
    "        count = (combos == combo).sum()\n",
    "        \n",
    "        # Getting the index of the combination\n",
    "        i, j = np.where(combo_arr == combo)\n",
    "        \n",
    "        # Assigniong the count to that index\n",
    "        table[i, j] = count\n",
    "    \n",
    "    # Computing the chi-squared statistic\n",
    "    iter_stat, p_val, dof, exp_vals = chi2_contingency(table)\n",
    "    \n",
    "    if iter_stat > obs_stat:\n",
    "        mc_count += 1\n",
    "        \n",
    "\n",
    "exact_pval = 1. * mc_count / n\n",
    "\n",
    "print('MC exact p-value: {:.3f}'.format(exact_pval))"
   ]
  },
  {
   "cell_type": "markdown",
   "id": "686d7694",
   "metadata": {},
   "source": [
    "### Goodness of fit testing\n",
    "In this case, we want to test our observations against a theoretical set of probabilities that we have."
   ]
  },
  {
   "cell_type": "markdown",
   "id": "79b704eb",
   "metadata": {},
   "source": [
    "**Testing the numpy random number generator**:\n",
    "\n",
    "We define a set of probabilities that a random number generator should apply to"
   ]
  },
  {
   "cell_type": "code",
   "execution_count": 17,
   "id": "3a114d36",
   "metadata": {},
   "outputs": [],
   "source": [
    "def test_random_gen(n, prob_range):\n",
    "    \n",
    "    num_arr = np.random.uniform(size=n)\n",
    "    \n",
    "    count_arr = np.zeros(prob_range.shape[0]-1)\n",
    "    i = 0\n",
    "    \n",
    "    for i, (low_bound, upp_bound) in enumerate(zip(prob_range[:-1], prob_range[1:])):\n",
    "        \n",
    "        cond = (num_arr >= low_bound) & (num_arr < upp_bound)\n",
    "        count = cond.sum()\n",
    "        count_arr[i] = count\n",
    "\n",
    "    \n",
    "    exp_arr = np.diff(prob_range) * n\n",
    "    \n",
    "    return count_arr, exp_arr"
   ]
  },
  {
   "cell_type": "code",
   "execution_count": 18,
   "id": "1ea7d64d",
   "metadata": {},
   "outputs": [
    {
     "name": "stdout",
     "output_type": "stream",
     "text": [
      "My test:\n",
      "Statistic: 10.580\n",
      "P-value: 0.306\n",
      "\n",
      "\n",
      "Scipy test:\n",
      "Statistic: 10.580\n",
      "P-value: 0.306\n"
     ]
    }
   ],
   "source": [
    "n = 10000\n",
    "prob_range = np.linspace(0, 1, 11)\n",
    "\n",
    "count_arr, exp_arr = test_random_gen(n, prob_range)\n",
    "\n",
    "# Applying chi2 test\n",
    "stat = np.sum((count_arr - exp_arr)**2 / exp_arr)\n",
    "df = count_arr.shape[0] - 1\n",
    "\n",
    "p_val = 1 - chi2.cdf(x=stat, df=df)\n",
    "\n",
    "print('My test:')\n",
    "print('Statistic: {:.3f}'.format(stat))\n",
    "print('P-value: {:.3f}'.format(p_val))\n",
    "\n",
    "print('\\n')\n",
    "\n",
    "# Scipy chi-squared test\n",
    "stat, p_val = chisquare(count_arr, exp_arr)\n",
    "\n",
    "print('Scipy test:')\n",
    "print('Statistic: {:.3f}'.format(stat))\n",
    "print('P-value: {:.3f}'.format(p_val))"
   ]
  },
  {
   "cell_type": "code",
   "execution_count": null,
   "id": "cc54cda3",
   "metadata": {},
   "outputs": [],
   "source": []
  }
 ],
 "metadata": {
  "kernelspec": {
   "display_name": "Python 3",
   "language": "python",
   "name": "python3"
  },
  "language_info": {
   "codemirror_mode": {
    "name": "ipython",
    "version": 3
   },
   "file_extension": ".py",
   "mimetype": "text/x-python",
   "name": "python",
   "nbconvert_exporter": "python",
   "pygments_lexer": "ipython3",
   "version": "3.8.8"
  }
 },
 "nbformat": 4,
 "nbformat_minor": 5
}
