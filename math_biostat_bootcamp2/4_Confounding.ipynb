{
 "cells": [
  {
   "cell_type": "markdown",
   "id": "312f6850",
   "metadata": {},
   "source": [
    "## Simpson's Paradox\n",
    "[Link to lecture notes](https://github.com/bcaffo/MathematicsBiostatisticsBootCamp2/blob/master/lecture9.pdf)\n",
    "\n",
    "* Simpson’s paradox describes the case when an observed proportion changes after conditioning on a third variable. A variable that correlates with both the explanatory variable and the response variable is called a confounding variable and may cause this phenomenon.\n",
    "* We use stratification to adjust for confounding variables. In stratification, we divide our observations to different tables, where each tables refers to a value of the variable that we believe is confounding.\n",
    "* Using the Mantel/Haenzsel estimator we can estimate the adjusted odds ratio.\n",
    "\n",
    "**Example from the lecture:** Success and failure are measured for a treatment and a placebo. The observations were made in different centers and the center is believed to be a confounding variable."
   ]
  },
  {
   "cell_type": "code",
   "execution_count": 1,
   "id": "1fceff74",
   "metadata": {},
   "outputs": [],
   "source": [
    "import numpy as np\n",
    "from scipy.stats import chi2"
   ]
  },
  {
   "cell_type": "markdown",
   "id": "e9cb9b00",
   "metadata": {},
   "source": [
    "**Mantel/Haenzsel odd ratio estimator**"
   ]
  },
  {
   "cell_type": "code",
   "execution_count": 2,
   "id": "fcf6b742",
   "metadata": {},
   "outputs": [],
   "source": [
    "def odds_ratio(arr):\n",
    "    return arr[0, 0] * arr[1, 1] / (arr[0, 1] * arr[1, 0])"
   ]
  },
  {
   "cell_type": "code",
   "execution_count": 3,
   "id": "3a19b451",
   "metadata": {},
   "outputs": [
    {
     "name": "stdout",
     "output_type": "stream",
     "text": [
      "Observations per center:\n",
      "[[[11 25]\n",
      "  [10 27]]\n",
      "\n",
      " [[16  4]\n",
      "  [22 10]]\n",
      "\n",
      " [[14  5]\n",
      "  [ 7 12]]\n",
      "\n",
      " [[ 2 14]\n",
      "  [ 1 16]]\n",
      "\n",
      " [[ 6 11]\n",
      "  [ 0 12]]\n",
      "\n",
      " [[ 1 10]\n",
      "  [ 0 10]]\n",
      "\n",
      " [[ 1  4]\n",
      "  [ 1  8]]\n",
      "\n",
      " [[ 4  2]\n",
      "  [ 6  1]]]\n",
      "\n",
      "\n",
      "Odds ratio (OR) per center:\n",
      "Center 1: 1.188\n",
      "Center 2: 1.818\n",
      "Center 3: 4.800\n",
      "Center 4: 2.286\n",
      "Center 5: inf\n",
      "Center 6: inf\n",
      "Center 7: 2.000\n",
      "Center 8: 0.333\n"
     ]
    },
    {
     "name": "stderr",
     "output_type": "stream",
     "text": [
      "<ipython-input-2-c7da04b34fd6>:2: RuntimeWarning: divide by zero encountered in long_scalars\n",
      "  return arr[0, 0] * arr[1, 1] / (arr[0, 1] * arr[1, 0])\n"
     ]
    }
   ],
   "source": [
    "# Each 2*2 matrix is the 2x2 table of one center\n",
    "arr = np.array([\n",
    "    [[11, 25],\n",
    "     [10, 27]],\n",
    "    \n",
    "    [[16, 4],\n",
    "     [22, 10]], \n",
    "    \n",
    "    [[14, 5],\n",
    "     [7, 12]],\n",
    "    \n",
    "    [[2, 14],\n",
    "     [1, 16]],\n",
    "    \n",
    "    [[6, 11],\n",
    "     [0, 12]],\n",
    "    \n",
    "    [[1, 10],\n",
    "     [0, 10]],\n",
    "    \n",
    "    [[1, 4],\n",
    "     [1, 8]],\n",
    "    \n",
    "    [[4, 2],\n",
    "     [6, 1]]\n",
    "])\n",
    "\n",
    "print('Observations per center:')\n",
    "print(arr)\n",
    "print('\\n')\n",
    "\n",
    "print('Odds ratio (OR) per center:')\n",
    "for i in range(arr.shape[0]):\n",
    "    print('Center {}: {:.3f}'.format(i+1, odds_ratio(arr[i])))"
   ]
  },
  {
   "cell_type": "code",
   "execution_count": 4,
   "id": "b3b55b7c",
   "metadata": {},
   "outputs": [
    {
     "name": "stdout",
     "output_type": "stream",
     "text": [
      "Total observations:\n",
      "[[55 75]\n",
      " [47 96]]\n",
      "\n",
      "\n",
      "Total odds ratio (OR): 1.498\n"
     ]
    }
   ],
   "source": [
    "# Total observations\n",
    "arr1 = arr.sum(axis=0)\n",
    "print('Total observations:')\n",
    "print(arr1)\n",
    "print('\\n')\n",
    "\n",
    "print('Total odds ratio (OR): {:.3f}'.format(odds_ratio(arr1)))"
   ]
  },
  {
   "cell_type": "markdown",
   "id": "0e1e6ed3",
   "metadata": {},
   "source": [
    "Mantel-Haenzsel adjusted OR estimate"
   ]
  },
  {
   "cell_type": "code",
   "execution_count": 5,
   "id": "8a03eb6f",
   "metadata": {},
   "outputs": [],
   "source": [
    "def MH_OR(arr):\n",
    "    nom = 0\n",
    "    den = 0\n",
    "    for i in range(arr.shape[0]):\n",
    "        nom += arr[i, 0, 0] * arr[i, 1, 1] / arr[i].sum()\n",
    "        den += arr[i, 1, 0] * arr[i, 0, 1] / arr[i].sum()\n",
    "        \n",
    "    return nom / den"
   ]
  },
  {
   "cell_type": "code",
   "execution_count": 6,
   "id": "e3b2de4f",
   "metadata": {},
   "outputs": [
    {
     "name": "stdout",
     "output_type": "stream",
     "text": [
      "MH adjusted OR: 2.135\n"
     ]
    }
   ],
   "source": [
    "print('MH adjusted OR: {:.3f}'.format(MH_OR(arr)))"
   ]
  },
  {
   "cell_type": "markdown",
   "id": "c439b37c",
   "metadata": {},
   "source": [
    "### CMH Test\n",
    "The CMH test tests the null hypothesis that the response is independent of the treatment given the confounding variable against the alternative hypothesis that the response is not independent of the treatment given the confounding variable."
   ]
  },
  {
   "cell_type": "code",
   "execution_count": 7,
   "id": "9ef37d42",
   "metadata": {},
   "outputs": [],
   "source": [
    "def CMH_test(arr):\n",
    "    nom = 0\n",
    "    den = 0\n",
    "    \n",
    "    for i in range(arr.shape[0]):\n",
    "        E = arr[i, 0, :].sum() * arr[i, :, 0].sum() / arr[i].sum()\n",
    "        Var = np.product([arr[i, :, x].sum()*arr[i, x, :].sum() for x in [0, 1]])\n",
    "        Var = Var / (arr[i].sum()**2 * (arr[i].sum() - 1))\n",
    "        nom += arr[i, 0, 0] - E\n",
    "        den += Var\n",
    "    \n",
    "    stat = nom**2 / den\n",
    "    \n",
    "    p_val = 1 - chi2.cdf(x=stat, df=1)\n",
    "    \n",
    "    return stat, p_val\n",
    "    "
   ]
  },
  {
   "cell_type": "code",
   "execution_count": 8,
   "id": "2801a84d",
   "metadata": {},
   "outputs": [
    {
     "name": "stdout",
     "output_type": "stream",
     "text": [
      "CMH statistic: 6.384\n",
      "P-value: 0.012\n"
     ]
    }
   ],
   "source": [
    "stat, p_val = CMH_test(arr)\n",
    "\n",
    "print('CMH statistic: {:.3f}'.format(stat))\n",
    "print('P-value: {:.3f}'.format(p_val))"
   ]
  },
  {
   "cell_type": "markdown",
   "id": "d213fc33",
   "metadata": {},
   "source": [
    "The test suggests that the odds ratio of treatment success is not independent of the treatment given the center."
   ]
  },
  {
   "cell_type": "code",
   "execution_count": null,
   "id": "83437387",
   "metadata": {},
   "outputs": [],
   "source": []
  }
 ],
 "metadata": {
  "kernelspec": {
   "display_name": "Python 3",
   "language": "python",
   "name": "python3"
  },
  "language_info": {
   "codemirror_mode": {
    "name": "ipython",
    "version": 3
   },
   "file_extension": ".py",
   "mimetype": "text/x-python",
   "name": "python",
   "nbconvert_exporter": "python",
   "pygments_lexer": "ipython3",
   "version": "3.8.8"
  }
 },
 "nbformat": 4,
 "nbformat_minor": 5
}
