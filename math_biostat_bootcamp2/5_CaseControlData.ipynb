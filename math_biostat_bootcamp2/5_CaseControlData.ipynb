{
 "cells": [
  {
   "cell_type": "markdown",
   "id": "1b127116",
   "metadata": {},
   "source": [
    "## Case-Control Data\n",
    "[Lecture notes](https://github.com/bcaffo/MathematicsBiostatisticsBootCamp2/blob/master/lecture10.pdf)\n",
    "\n",
    "This notebook is made using the cancer/smoking data in the lecture."
   ]
  },
  {
   "cell_type": "code",
   "execution_count": 1,
   "id": "7bfd8924",
   "metadata": {},
   "outputs": [],
   "source": [
    "from scipy.stats import chi2_contingency, norm\n",
    "import numpy as np\n",
    "import matplotlib.pyplot as plt\n",
    "import pandas as pd"
   ]
  },
  {
   "cell_type": "code",
   "execution_count": 9,
   "id": "69545ce6",
   "metadata": {},
   "outputs": [],
   "source": [
    "def plot_hist(ax, arr, obs_val, bins=16):\n",
    "    vals, edges = np.histogram(arr, bins=bins)\n",
    "    ax.hist(arr, bins=edges, edgecolor='w')\n",
    "\n",
    "    ax.set_xticks(edges)\n",
    "    ax.set_xticklabels(labels=list(map(lambda x: '{:.2f}'.format(x), edges)), rotation=45)\n",
    "    ax.axvline(x=obs_val, linestyle='--', color='black', label='Observed value')\n",
    "    \n",
    "def odds_ratio(table):\n",
    "    return (table[0, 0] * table[1, 1]) / (table[0, 1] * table[1, 0])"
   ]
  },
  {
   "cell_type": "code",
   "execution_count": 3,
   "id": "4a6a6ece",
   "metadata": {},
   "outputs": [],
   "source": [
    "# Data table\n",
    "table = np.array([\n",
    "    [688, 650],\n",
    "    [21, 59]\n",
    "])"
   ]
  },
  {
   "cell_type": "code",
   "execution_count": 4,
   "id": "e7eee0ed",
   "metadata": {},
   "outputs": [
    {
     "data": {
      "text/plain": [
       "2.9737728937728938"
      ]
     },
     "execution_count": 4,
     "metadata": {},
     "output_type": "execute_result"
    }
   ],
   "source": [
    "# Observed odds ratio\n",
    "obs_or = odds_ratio(table)\n",
    "obs_or"
   ]
  },
  {
   "cell_type": "code",
   "execution_count": 5,
   "id": "80b401b6",
   "metadata": {},
   "outputs": [
    {
     "data": {
      "text/plain": [
       "19.129222720478325"
      ]
     },
     "execution_count": 5,
     "metadata": {},
     "output_type": "execute_result"
    }
   ],
   "source": [
    "# Observed Chi2 statistic\n",
    "obs_stat, obs_p_val, df, exp_vals =  chi2_contingency(table, correction=False)\n",
    "obs_stat"
   ]
  },
  {
   "cell_type": "code",
   "execution_count": 6,
   "id": "cd60ee7b",
   "metadata": {},
   "outputs": [
    {
     "data": {
      "text/plain": [
       "19.129222720478325"
      ]
     },
     "execution_count": 6,
     "metadata": {},
     "output_type": "execute_result"
    }
   ],
   "source": [
    "# Computing the Chi2 Stat manually\n",
    "((table - exp_vals)**2 / exp_vals).sum()"
   ]
  },
  {
   "cell_type": "markdown",
   "id": "cfb560ac",
   "metadata": {},
   "source": [
    "### Computing the P-value using a permutation test\n",
    "We have 1418 patients in total, 709 cases and 709 controls. From the 1418 patients, 1338 are smokers. Under the null hypothesis, being a case is independent of being a smoker. Therefore we here permutate the smokers between cases and controls to compute a p_value for the odds ratio."
   ]
  },
  {
   "cell_type": "code",
   "execution_count": 7,
   "id": "b47e35be",
   "metadata": {},
   "outputs": [],
   "source": [
    "n = 10000\n",
    "\n",
    "# Empty array of 1418 patients, first 709 are cases and the others are controls\n",
    "arr = np.zeros(1418)\n",
    "\n",
    "# Adding smoker labels (1)\n",
    "arr[:1338] = 1\n",
    "\n",
    "iter_table = np.zeros((2, 2))\n",
    "or_arr = np.zeros(n)\n",
    "stat_arr = np.zeros(n)\n",
    "\n",
    "for i in range(n):\n",
    "    iter_arr = np.random.permutation(arr)\n",
    "    \n",
    "    iter_table[0, 0] = iter_arr[:709].sum()\n",
    "    iter_table[1, 0] = 709 - iter_arr[:709].sum()\n",
    "    iter_table[0, 1] = iter_arr[709:].sum()\n",
    "    iter_table[1, 1] = 709 - iter_arr[709:].sum()\n",
    "    \n",
    "    or_arr[i] = odds_ratio(iter_table)\n",
    "    iter_stat, pval, df, exp_vals =  chi2_contingency(iter_table)\n",
    "    stat_arr[i] = iter_stat"
   ]
  },
  {
   "cell_type": "code",
   "execution_count": 10,
   "id": "aaeb0c90",
   "metadata": {},
   "outputs": [
    {
     "data": {
      "image/png": "[encoded data removed]",
      "text/plain": [
       "<Figure size 1152x288 with 2 Axes>"
      ]
     },
     "metadata": {
      "needs_background": "light"
     },
     "output_type": "display_data"
    }
   ],
   "source": [
    "fig, axs = plt.subplots(1, 2, figsize=(16, 4))\n",
    "\n",
    "ax0 = axs[0]\n",
    "plot_hist(ax0, or_arr, obs_or, bins=16)\n",
    "ax0.set_title('Odds Ratio')\n",
    "ax0.legend()\n",
    "\n",
    "ax1 = axs[1]\n",
    "plot_hist(ax1, stat_arr, obs_stat, bins=16)\n",
    "ax1.set_title('Chi2 Statistic')\n",
    "ax1.legend()\n",
    "\n",
    "plt.show()"
   ]
  },
  {
   "cell_type": "code",
   "execution_count": 11,
   "id": "63b46dd6",
   "metadata": {},
   "outputs": [
    {
     "data": {
      "text/plain": [
       "0.0"
      ]
     },
     "execution_count": 11,
     "metadata": {},
     "output_type": "execute_result"
    }
   ],
   "source": [
    "p_val = (or_arr > obs_or).mean() * 2\n",
    "p_val"
   ]
  },
  {
   "cell_type": "code",
   "execution_count": 12,
   "id": "f2b8df3c",
   "metadata": {},
   "outputs": [
    {
     "data": {
      "text/plain": [
       "(18.135668908819135,\n",
       " 2.0571173725573627e-05,\n",
       " 1,\n",
       " array([[669., 669.],\n",
       "        [ 40.,  40.]]))"
      ]
     },
     "execution_count": 12,
     "metadata": {},
     "output_type": "execute_result"
    }
   ],
   "source": [
    "# Using the Chi Squared test\n",
    "chi2_contingency(table)"
   ]
  },
  {
   "cell_type": "markdown",
   "id": "62ae2b5a",
   "metadata": {},
   "source": [
    "### Creating a confidence interval for the odds ratio\n"
   ]
  },
  {
   "cell_type": "code",
   "execution_count": 13,
   "id": "ccd8ee83",
   "metadata": {},
   "outputs": [
    {
     "data": {
      "text/plain": [
       "array([1.7867203 , 4.94947374])"
      ]
     },
     "execution_count": 13,
     "metadata": {},
     "output_type": "execute_result"
    }
   ],
   "source": [
    "log_or = np.log(obs_or)\n",
    "se = np.sqrt((1. / table).sum())\n",
    "\n",
    "CI = np.exp(log_or + np.array([-1, 1])*1.96*se)\n",
    "\n",
    "CI"
   ]
  },
  {
   "cell_type": "code",
   "execution_count": 14,
   "id": "91a98673",
   "metadata": {},
   "outputs": [
    {
     "data": {
      "text/plain": [
       "2.754162460649745e-05"
      ]
     },
     "execution_count": 14,
     "metadata": {},
     "output_type": "execute_result"
    }
   ],
   "source": [
    "# Computing p-value\n",
    "(1 - norm.cdf(log_or, scale=se))*2"
   ]
  },
  {
   "cell_type": "code",
   "execution_count": null,
   "id": "b47f0eb5",
   "metadata": {},
   "outputs": [],
   "source": []
  }
 ],
 "metadata": {
  "kernelspec": {
   "display_name": "Python 3",
   "language": "python",
   "name": "python3"
  },
  "language_info": {
   "codemirror_mode": {
    "name": "ipython",
    "version": 3
   },
   "file_extension": ".py",
   "mimetype": "text/x-python",
   "name": "python",
   "nbconvert_exporter": "python",
   "pygments_lexer": "ipython3",
   "version": "3.8.8"
  }
 },
 "nbformat": 4,
 "nbformat_minor": 5
}
