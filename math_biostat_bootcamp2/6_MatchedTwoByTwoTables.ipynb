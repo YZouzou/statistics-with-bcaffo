{
 "cells": [
  {
   "cell_type": "markdown",
   "id": "1b127116",
   "metadata": {},
   "source": [
    "# Matched 2 by 2 Tables\n",
    "[Link to lecture](https://github.com/bcaffo/MathematicsBiostatisticsBootCamp2/blob/master/lecture11.pdf)"
   ]
  },
  {
   "cell_type": "code",
   "execution_count": 1,
   "id": "7bfd8924",
   "metadata": {},
   "outputs": [],
   "source": [
    "from scipy.stats import binom, chi2\n",
    "import numpy as np\n",
    "import matplotlib.pyplot as plt\n",
    "import pandas as pd"
   ]
  },
  {
   "cell_type": "markdown",
   "id": "6ec3c6fb",
   "metadata": {},
   "source": [
    "The following 2x2 table represents the approval and disapproval in a survey conducted on the same individuals in two different times"
   ]
  },
  {
   "cell_type": "code",
   "execution_count": 2,
   "id": "070dd0a3",
   "metadata": {},
   "outputs": [
    {
     "data": {
      "text/html": [
       "<div>\n",
       "<style scoped>\n",
       "    .dataframe tbody tr th:only-of-type {\n",
       "        vertical-align: middle;\n",
       "    }\n",
       "\n",
       "    .dataframe tbody tr th {\n",
       "        vertical-align: top;\n",
       "    }\n",
       "\n",
       "    .dataframe thead th {\n",
       "        text-align: right;\n",
       "    }\n",
       "</style>\n",
       "<table border=\"1\" class=\"dataframe\">\n",
       "  <thead>\n",
       "    <tr style=\"text-align: right;\">\n",
       "      <th></th>\n",
       "      <th>Approved</th>\n",
       "      <th>Disapproved</th>\n",
       "      <th>Total</th>\n",
       "    </tr>\n",
       "  </thead>\n",
       "  <tbody>\n",
       "    <tr>\n",
       "      <th>Approved</th>\n",
       "      <td>794</td>\n",
       "      <td>150</td>\n",
       "      <td>944</td>\n",
       "    </tr>\n",
       "    <tr>\n",
       "      <th>Disapproved</th>\n",
       "      <td>86</td>\n",
       "      <td>570</td>\n",
       "      <td>656</td>\n",
       "    </tr>\n",
       "    <tr>\n",
       "      <th>Total</th>\n",
       "      <td>880</td>\n",
       "      <td>720</td>\n",
       "      <td>1600</td>\n",
       "    </tr>\n",
       "  </tbody>\n",
       "</table>\n",
       "</div>"
      ],
      "text/plain": [
       "             Approved  Disapproved  Total\n",
       "Approved          794          150    944\n",
       "Disapproved        86          570    656\n",
       "Total             880          720   1600"
      ]
     },
     "execution_count": 2,
     "metadata": {},
     "output_type": "execute_result"
    }
   ],
   "source": [
    "table = np.array([[794, 150],\n",
    "         [86, 570]])\n",
    "\n",
    "data = pd.DataFrame({'Approved': table[:, 0], 'Disapproved': table[:, 1]}, index=['Approved', 'Disapproved'])\n",
    "data.loc['Total'] = data.sum(axis=0)\n",
    "data['Total'] = data.sum(axis=1)\n",
    "\n",
    "data"
   ]
  },
  {
   "cell_type": "code",
   "execution_count": 3,
   "id": "5fdae5bd",
   "metadata": {},
   "outputs": [
    {
     "data": {
      "text/html": [
       "<div>\n",
       "<style scoped>\n",
       "    .dataframe tbody tr th:only-of-type {\n",
       "        vertical-align: middle;\n",
       "    }\n",
       "\n",
       "    .dataframe tbody tr th {\n",
       "        vertical-align: top;\n",
       "    }\n",
       "\n",
       "    .dataframe thead th {\n",
       "        text-align: right;\n",
       "    }\n",
       "</style>\n",
       "<table border=\"1\" class=\"dataframe\">\n",
       "  <thead>\n",
       "    <tr style=\"text-align: right;\">\n",
       "      <th></th>\n",
       "      <th>Approved</th>\n",
       "      <th>Disapproved</th>\n",
       "      <th>Total</th>\n",
       "    </tr>\n",
       "  </thead>\n",
       "  <tbody>\n",
       "    <tr>\n",
       "      <th>Approved</th>\n",
       "      <td>0.49625</td>\n",
       "      <td>0.09375</td>\n",
       "      <td>0.59</td>\n",
       "    </tr>\n",
       "    <tr>\n",
       "      <th>Disapproved</th>\n",
       "      <td>0.05375</td>\n",
       "      <td>0.35625</td>\n",
       "      <td>0.41</td>\n",
       "    </tr>\n",
       "    <tr>\n",
       "      <th>Total</th>\n",
       "      <td>0.55000</td>\n",
       "      <td>0.45000</td>\n",
       "      <td>1.00</td>\n",
       "    </tr>\n",
       "  </tbody>\n",
       "</table>\n",
       "</div>"
      ],
      "text/plain": [
       "             Approved  Disapproved  Total\n",
       "Approved      0.49625      0.09375   0.59\n",
       "Disapproved   0.05375      0.35625   0.41\n",
       "Total         0.55000      0.45000   1.00"
      ]
     },
     "execution_count": 3,
     "metadata": {},
     "output_type": "execute_result"
    }
   ],
   "source": [
    "# Proportions\n",
    "data/1600"
   ]
  },
  {
   "cell_type": "markdown",
   "id": "1b76f747",
   "metadata": {},
   "source": [
    "## Computing a P-value using McNemar's test\n",
    "* **McNemar TS**:\n",
    "$$ \\frac{(n_{12} - n_{21})^2}{n_{12} + n_{21}} $$\n",
    "\n",
    "This statistic follows an asymptotic Chi-squared distribution with one degree of freedom."
   ]
  },
  {
   "cell_type": "code",
   "execution_count": 4,
   "id": "fff6cdec",
   "metadata": {},
   "outputs": [
    {
     "data": {
      "text/plain": [
       "17.35593220338983"
      ]
     },
     "execution_count": 4,
     "metadata": {},
     "output_type": "execute_result"
    }
   ],
   "source": [
    "n12 = table[0, 1]\n",
    "n21 = table[1, 0]\n",
    "\n",
    "stat = (n12-n21)**2 / (n12+n21)\n",
    "\n",
    "stat"
   ]
  },
  {
   "cell_type": "markdown",
   "id": "7a42f147",
   "metadata": {},
   "source": [
    "P-value"
   ]
  },
  {
   "cell_type": "code",
   "execution_count": 5,
   "id": "6332b5d2",
   "metadata": {},
   "outputs": [
    {
     "data": {
      "text/plain": [
       "3.099293441044537e-05"
      ]
     },
     "execution_count": 5,
     "metadata": {},
     "output_type": "execute_result"
    }
   ],
   "source": [
    "1 - chi2.cdf(stat, df=1)"
   ]
  },
  {
   "cell_type": "markdown",
   "id": "66e27581",
   "metadata": {},
   "source": [
    "## Computing an exact P-value\n",
    "**Alternative Hypothesis (Ha)**:\n",
    "* Assumption is that the people who approved after disapproving in the first time\n",
    "are less than the people who disapproved after approving the first time\n",
    "So there is a tendency for people to disapprove in the second survey\n",
    "\n",
    "**Null Hypothesis (H0):**\n",
    "* Under the null hypothesis, the proportion of people that change their mind is equal, i.e., the same proportion of people changed from approve to disapprove and from disapporove to approve. Therefore, the ratio between one proportion and the sum of the proportions is 0.5 under the null hypothesis. Same goes for the number of individuals (n12/(n12+n21) = 0.5)\n",
    "\n",
    "Thus, the number of individuals that change from approve to disapprove, under the null hypothesis,\n",
    "is a binomial of n=236 (The number of individuals that changed their opinion) and p=0.5.\n",
    "\n",
    "So the probability that we get a draw with less than 86 people approving after disapproval can be computed\n",
    "exactly under the null hypothesis and is an exact p-value for the alternative hypothesis."
   ]
  },
  {
   "cell_type": "code",
   "execution_count": 6,
   "id": "bb6c3ac9",
   "metadata": {},
   "outputs": [
    {
     "data": {
      "text/plain": [
       "1.8579680697862788e-05"
      ]
     },
     "execution_count": 6,
     "metadata": {},
     "output_type": "execute_result"
    }
   ],
   "source": [
    "# Number of individuals that changed their decision\n",
    "n = 236\n",
    "\n",
    "# Probability that a person that changed his/her decision has changed from approve to disapprove under the null hypothesis\n",
    "# (The observed proportion is 86/236=0.36)\n",
    "p = 0.5\n",
    "\n",
    "# Probability that we observe a proportion as extreme or more extreme than what we have observed\n",
    "# under the null hypothesis. (Exact P-value)\n",
    "binom.cdf(n=236, p=0.5, k=86)"
   ]
  },
  {
   "cell_type": "markdown",
   "id": "54f1d4dd",
   "metadata": {},
   "source": [
    "## Computing a P-value by permutation\n",
    "In this part, we assume that the number of people who change their minds is constant, and we observe the difference between the number of people who change from approve to disapprove and the number of people who change from disapprove to approve by drawing a large number of samples from a binomial distribution.\n",
    "\n",
    "Under the null hypothesis, the probability of a person changing his decision from approve to disapprove, or vice versa, is 0.5. Therefore, we would be drawing from a binomial where n=236 and p=0.5. Then we plot the difference between the two types of changing decisions and compared to what we observed."
   ]
  },
  {
   "cell_type": "code",
   "execution_count": 20,
   "id": "33d5d9ad",
   "metadata": {},
   "outputs": [
    {
     "data": {
      "image/png": "[encoded data removed]",
      "text/plain": [
       "<Figure size 432x288 with 1 Axes>"
      ]
     },
     "metadata": {
      "needs_background": "light"
     },
     "output_type": "display_data"
    }
   ],
   "source": [
    "k = np.arange(0, 237)\n",
    "pmf = binom.pmf(k, p=0.5, n=236)\n",
    "\n",
    "plt.plot(k, pmf, label='Binomial PMF')\n",
    "plt.axvline(x=86, label='Observed value', linestyle='--', color='black')\n",
    "plt.legend()\n",
    "plt.show()"
   ]
  },
  {
   "cell_type": "code",
   "execution_count": 8,
   "id": "36c811bd",
   "metadata": {},
   "outputs": [],
   "source": [
    "num_of_opinion_change = 236\n",
    "n = 1500\n",
    "\n",
    "obs_stat = 150-86\n",
    "\n",
    "stat_arr = np.zeros(n)\n",
    "\n",
    "for i in range(n):\n",
    "    n12 = binom.rvs(p=0.5, n=236)\n",
    "    n21 = num_of_opinion_change - n12\n",
    "    \n",
    "    stat = n12-n21\n",
    "    stat_arr[i] = stat"
   ]
  },
  {
   "cell_type": "code",
   "execution_count": 11,
   "id": "1837ea15",
   "metadata": {},
   "outputs": [],
   "source": [
    "def plot_hist(ax, arr, obs_val, bins=16):\n",
    "    vals, edges = np.histogram(arr, bins=bins)\n",
    "    ax.hist(arr, bins=edges, edgecolor='w')\n",
    "\n",
    "    ax.set_xticks(edges)\n",
    "    ax.set_xticklabels(labels=list(map(lambda x: '{:.2f}'.format(x), edges)), rotation=45)\n",
    "    ax.axvline(x=obs_val, linestyle='--', color='black', label='Observed value')"
   ]
  },
  {
   "cell_type": "code",
   "execution_count": 12,
   "id": "7cca09d5",
   "metadata": {},
   "outputs": [
    {
     "data": {
      "image/png": "[encoded data removed]",
      "text/plain": [
       "<Figure size 432x288 with 1 Axes>"
      ]
     },
     "metadata": {
      "needs_background": "light"
     },
     "output_type": "display_data"
    }
   ],
   "source": [
    "fig, ax = plt.subplots(figsize=(6, 4))\n",
    "plot_hist(ax, stat_arr, obs_stat, bins=16)\n",
    "ax.legend()\n",
    "plt.show()"
   ]
  },
  {
   "cell_type": "code",
   "execution_count": null,
   "id": "ccd8ee83",
   "metadata": {},
   "outputs": [],
   "source": []
  }
 ],
 "metadata": {
  "kernelspec": {
   "display_name": "Python 3",
   "language": "python",
   "name": "python3"
  },
  "language_info": {
   "codemirror_mode": {
    "name": "ipython",
    "version": 3
   },
   "file_extension": ".py",
   "mimetype": "text/x-python",
   "name": "python",
   "nbconvert_exporter": "python",
   "pygments_lexer": "ipython3",
   "version": "3.8.8"
  }
 },
 "nbformat": 4,
 "nbformat_minor": 5
}
