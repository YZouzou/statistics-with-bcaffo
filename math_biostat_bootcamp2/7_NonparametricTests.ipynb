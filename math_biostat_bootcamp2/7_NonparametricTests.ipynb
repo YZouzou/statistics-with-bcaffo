{
 "cells": [
  {
   "cell_type": "markdown",
   "id": "312f6850",
   "metadata": {},
   "source": [
    "# Nonparametric Tests"
   ]
  },
  {
   "cell_type": "markdown",
   "id": "547c5e2f",
   "metadata": {},
   "source": [
    "* Lecture 12 [Link](https://github.com/bcaffo/MathematicsBiostatisticsBootCamp2/blob/master/lecture12.pdf)"
   ]
  },
  {
   "cell_type": "code",
   "execution_count": 1,
   "id": "527bdf78",
   "metadata": {},
   "outputs": [],
   "source": [
    "import numpy as np\n",
    "import pandas as pd\n",
    "import matplotlib.pyplot as plt\n",
    "\n",
    "from scipy.stats import chi2, binom, binom_test, norm, wilcoxon, mannwhitneyu"
   ]
  },
  {
   "cell_type": "markdown",
   "id": "dd548a12",
   "metadata": {},
   "source": [
    "## Sign Test"
   ]
  },
  {
   "cell_type": "markdown",
   "id": "7b97d408",
   "metadata": {},
   "source": [
    "The following dataset has the measurement of mercury levels in fish in two different sites. We are interested in studying the differences between these measurements in the two sites.\n",
    "\n",
    "The null hypothesis states that the population median of the differences is 0. This necessitates that the probability of getting a positive (or a negative) difference is 0.5. The problem then is transformed to a binomial test where the success refers to getting a positive difference with probability 0.5 under the null hypothesis."
   ]
  },
  {
   "cell_type": "code",
   "execution_count": 2,
   "id": "2a15212a",
   "metadata": {},
   "outputs": [
    {
     "data": {
      "text/html": [
       "<div>\n",
       "<style scoped>\n",
       "    .dataframe tbody tr th:only-of-type {\n",
       "        vertical-align: middle;\n",
       "    }\n",
       "\n",
       "    .dataframe tbody tr th {\n",
       "        vertical-align: top;\n",
       "    }\n",
       "\n",
       "    .dataframe thead th {\n",
       "        text-align: right;\n",
       "    }\n",
       "</style>\n",
       "<table border=\"1\" class=\"dataframe\">\n",
       "  <thead>\n",
       "    <tr style=\"text-align: right;\">\n",
       "      <th></th>\n",
       "      <th>Fish</th>\n",
       "      <th>SR</th>\n",
       "      <th>P</th>\n",
       "      <th>Diff</th>\n",
       "      <th>Sgn rank</th>\n",
       "    </tr>\n",
       "  </thead>\n",
       "  <tbody>\n",
       "    <tr>\n",
       "      <th>0</th>\n",
       "      <td>1</td>\n",
       "      <td>0.32</td>\n",
       "      <td>0.39</td>\n",
       "      <td>0.07</td>\n",
       "      <td>15.5</td>\n",
       "    </tr>\n",
       "    <tr>\n",
       "      <th>1</th>\n",
       "      <td>2</td>\n",
       "      <td>0.40</td>\n",
       "      <td>0.47</td>\n",
       "      <td>0.07</td>\n",
       "      <td>15.5</td>\n",
       "    </tr>\n",
       "    <tr>\n",
       "      <th>2</th>\n",
       "      <td>3</td>\n",
       "      <td>0.11</td>\n",
       "      <td>0.11</td>\n",
       "      <td>0.00</td>\n",
       "      <td>NaN</td>\n",
       "    </tr>\n",
       "    <tr>\n",
       "      <th>3</th>\n",
       "      <td>4</td>\n",
       "      <td>0.47</td>\n",
       "      <td>0.43</td>\n",
       "      <td>-0.04</td>\n",
       "      <td>-11.0</td>\n",
       "    </tr>\n",
       "    <tr>\n",
       "      <th>4</th>\n",
       "      <td>5</td>\n",
       "      <td>0.32</td>\n",
       "      <td>0.42</td>\n",
       "      <td>0.10</td>\n",
       "      <td>20.0</td>\n",
       "    </tr>\n",
       "  </tbody>\n",
       "</table>\n",
       "</div>"
      ],
      "text/plain": [
       "   Fish    SR     P  Diff  Sgn rank\n",
       "0     1  0.32  0.39  0.07      15.5\n",
       "1     2  0.40  0.47  0.07      15.5\n",
       "2     3  0.11  0.11  0.00       NaN\n",
       "3     4  0.47  0.43 -0.04     -11.0\n",
       "4     5  0.32  0.42  0.10      20.0"
      ]
     },
     "execution_count": 2,
     "metadata": {},
     "output_type": "execute_result"
    }
   ],
   "source": [
    "fish_data = pd.read_csv('data/mercury_fish.csv')\n",
    "fish_data.head()"
   ]
  },
  {
   "cell_type": "code",
   "execution_count": 3,
   "id": "a320752d",
   "metadata": {},
   "outputs": [],
   "source": [
    "data = fish_data.iloc[:, :3]"
   ]
  },
  {
   "cell_type": "code",
   "execution_count": 4,
   "id": "c135e809",
   "metadata": {},
   "outputs": [],
   "source": [
    "data['diff'] = (data['P'] - data['SR'])"
   ]
  },
  {
   "cell_type": "code",
   "execution_count": 5,
   "id": "784377d3",
   "metadata": {},
   "outputs": [
    {
     "data": {
      "text/plain": [
       "15"
      ]
     },
     "execution_count": 5,
     "metadata": {},
     "output_type": "execute_result"
    }
   ],
   "source": [
    "# Count of differences greater than zero\n",
    "cond = data['diff'] >= 0\n",
    "count = cond.sum()\n",
    "count"
   ]
  },
  {
   "cell_type": "markdown",
   "id": "510b6f0e",
   "metadata": {},
   "source": [
    "The two-sided p-value:"
   ]
  },
  {
   "cell_type": "code",
   "execution_count": 6,
   "id": "0e0a1f1f",
   "metadata": {},
   "outputs": [
    {
     "name": "stdout",
     "output_type": "stream",
     "text": [
      "P-value = 0.424\n"
     ]
    }
   ],
   "source": [
    "# Probability of getting 15 positive differences or less\n",
    "p1 = binom.cdf(15, 25, 0.5)\n",
    "\n",
    "# Probability of getting 10 negative differences or less\n",
    "p2 = binom.cdf(10, 25, 0.5)\n",
    "\n",
    "p_val = min(p1, p2) * 2\n",
    "print('P-value = {:.3f}'.format(p_val))"
   ]
  },
  {
   "cell_type": "code",
   "execution_count": 7,
   "id": "345e7862",
   "metadata": {},
   "outputs": [
    {
     "data": {
      "text/plain": [
       "0.4243562221527101"
      ]
     },
     "execution_count": 7,
     "metadata": {},
     "output_type": "execute_result"
    }
   ],
   "source": [
    "binom_test(15, 25, 0.5)"
   ]
  },
  {
   "cell_type": "markdown",
   "id": "2071e567",
   "metadata": {},
   "source": [
    "We fail to reject the null hypothesis using the sign test. Note that in this test we treated all positive (and negative) differences equally regardless of how big or small the difference is. The signed rank test compensates for some of this loss in information by ranking the differences."
   ]
  },
  {
   "cell_type": "markdown",
   "id": "76d5ecc6",
   "metadata": {},
   "source": [
    "## Signed Rank Test"
   ]
  },
  {
   "cell_type": "markdown",
   "id": "c95d0bc2",
   "metadata": {},
   "source": [
    "**Note**: The sum of a sequence of integers is equal to $n(n+1)/2$"
   ]
  },
  {
   "cell_type": "code",
   "execution_count": 9,
   "id": "6bd45898",
   "metadata": {},
   "outputs": [],
   "source": [
    "cond = data['diff'] == 0\n",
    "idx = data.loc[~cond, 'diff'].abs().sort_values().index\n",
    "\n",
    "data['rank'] = 0\n",
    "data.loc[idx, 'rank'] = np.arange(1, data.loc[idx].shape[0]+1)"
   ]
  },
  {
   "cell_type": "code",
   "execution_count": 10,
   "id": "225b25e1",
   "metadata": {},
   "outputs": [],
   "source": [
    "# Assigning the mean rank for equal differences\n",
    "done_vals = []\n",
    "for diff in data['diff'].abs():\n",
    "    if np.isclose(diff, done_vals).any():\n",
    "        continue\n",
    "        \n",
    "    cond = np.isclose(data['diff'].abs(), diff)\n",
    "    data.loc[cond, 'rank'] = data.loc[cond, 'rank'].mean() * np.sign(data.loc[cond, 'diff'])\n",
    "    done_vals.append(diff)"
   ]
  },
  {
   "cell_type": "code",
   "execution_count": 11,
   "id": "81660413",
   "metadata": {},
   "outputs": [
    {
     "data": {
      "text/plain": [
       "194.5"
      ]
     },
     "execution_count": 11,
     "metadata": {},
     "output_type": "execute_result"
    }
   ],
   "source": [
    "cond = data['rank'] > 0\n",
    "rank_sum = data.loc[cond, 'rank'].sum()\n",
    "rank_sum"
   ]
  },
  {
   "cell_type": "code",
   "execution_count": 12,
   "id": "2045aa07",
   "metadata": {},
   "outputs": [
    {
     "name": "stdout",
     "output_type": "stream",
     "text": [
      "P-value = 0.204\n"
     ]
    }
   ],
   "source": [
    "# Removing the ties\n",
    "n = data.shape[0] - np.isclose(data['diff'], 0.).sum()\n",
    "\n",
    "# Expected value of the positive rank sum\n",
    "E = n*(n+1)/4.\n",
    "\n",
    "# Variance of the positive rank sum\n",
    "Var = n * (n+1) * (2*n+1) / 24.\n",
    "\n",
    "stat = (rank_sum - E) / np.sqrt(Var)\n",
    "\n",
    "p_val = min(norm.cdf(stat), norm.cdf(-stat)) * 2\n",
    "\n",
    "print('P-value = {:.3f}'.format(p_val))"
   ]
  },
  {
   "cell_type": "markdown",
   "id": "77ac572c",
   "metadata": {},
   "source": [
    "Computing the signed rank test (Wilcoxon test) using Monte carlo simulation"
   ]
  },
  {
   "cell_type": "code",
   "execution_count": 13,
   "id": "7ecb279d",
   "metadata": {},
   "outputs": [],
   "source": [
    "cond = np.isclose(data['diff'], 0.)\n",
    "idx = data.loc[~cond].index\n",
    "\n",
    "ranks = data.loc[idx, 'rank'].to_numpy()\n",
    "rank_sum = np.where(ranks>0, ranks, 0).sum()\n",
    "\n",
    "ranks = np.abs(ranks)"
   ]
  },
  {
   "cell_type": "code",
   "execution_count": 14,
   "id": "2ed5bd0c",
   "metadata": {},
   "outputs": [
    {
     "name": "stdout",
     "output_type": "stream",
     "text": [
      "Monte Carlo P-value: 0.186\n"
     ]
    }
   ],
   "source": [
    "n = 1000\n",
    "count_greater = 0\n",
    "count_less = 0\n",
    "\n",
    "for i in range(n):\n",
    "    signs = np.random.choice([-1, 1], size=ranks.shape[0])\n",
    "    a = signs * ranks\n",
    "    rank_sum_iter = np.where(a>0, a, 0).sum()\n",
    "    \n",
    "    count_greater += (rank_sum < rank_sum_iter)*1.\n",
    "    count_less += (rank_sum > rank_sum_iter)*1.\n",
    "    \n",
    "\n",
    "p1 = 1. * count_greater / n\n",
    "p2 = 1. * count_less / n\n",
    "\n",
    "p_val = min(p1, p2) * 2\n",
    "print('Monte Carlo P-value: {:.3f}'.format(p_val))"
   ]
  },
  {
   "cell_type": "markdown",
   "id": "9b67da66",
   "metadata": {},
   "source": [
    "Using Scipy `wilcoxon`"
   ]
  },
  {
   "cell_type": "code",
   "execution_count": 15,
   "id": "1c5afc5d",
   "metadata": {},
   "outputs": [
    {
     "data": {
      "text/plain": [
       "WilcoxonResult(statistic=107.0, pvalue=0.21883253814638726)"
      ]
     },
     "execution_count": 15,
     "metadata": {},
     "output_type": "execute_result"
    }
   ],
   "source": [
    "wilcoxon(data['P'], data['SR'], mode='approx')"
   ]
  },
  {
   "cell_type": "markdown",
   "id": "a5cf7f22",
   "metadata": {},
   "source": [
    "### Signed Rank Test for Unpaired Data"
   ]
  },
  {
   "cell_type": "markdown",
   "id": "a0461475",
   "metadata": {},
   "source": [
    "Example from the lecture"
   ]
  },
  {
   "cell_type": "code",
   "execution_count": 16,
   "id": "6626ce77",
   "metadata": {},
   "outputs": [],
   "source": [
    "A = np.array([79.98, 80.04, 80.02, 80.04, 80.03, 80.03, 80.04, 79.97, 80.05, 80.03, 80.02, 80, 80.02 ])\n",
    "A = np.array([A, ['A']*A.shape[0]]).T\n",
    "\n",
    "B = np.array([80.02, 79.94, 79.98, 79.97, 79.97, 80.03, 79.95, 79.97])\n",
    "B = np.array([B, ['B']*B.shape[0]]).T\n",
    "\n",
    "AB = np.concatenate([A, B])\n",
    "AB = pd.DataFrame(AB, columns=['value', 'method'])\n",
    "AB['value'] = AB['value'].astype('float')\n",
    "\n",
    "idx = AB.sort_values(by='value').index\n",
    "AB.loc[idx, 'rank'] = np.arange(1, AB.shape[0]+1)\n",
    "\n",
    "done_vals = []\n",
    "for val in AB['value']:\n",
    "    if np.isclose(val, done_vals).any():\n",
    "        continue\n",
    "    \n",
    "    cond = np.isclose(AB['value'], val)\n",
    "    AB.loc[cond, 'rank'] = AB.loc[cond, 'rank'].mean()\n",
    "\n",
    "\n",
    "# Sum of A, B ranks\n",
    "cond = AB['method'] == 'A'\n",
    "A_rank_sum = AB.loc[cond, 'rank'].sum()\n",
    "B_rank_sum = AB.loc[~cond, 'rank'].sum()"
   ]
  },
  {
   "cell_type": "code",
   "execution_count": 17,
   "id": "fddfc28b",
   "metadata": {},
   "outputs": [
    {
     "name": "stdout",
     "output_type": "stream",
     "text": [
      "P-value = 0.0074\n"
     ]
    }
   ],
   "source": [
    "cond = AB['method'] == 'A'\n",
    "na = cond.sum()\n",
    "nb = (~cond).sum()\n",
    "# Expected value of the sum of ranks of A method\n",
    "E = na*(na + nb + 1)/2.\n",
    "\n",
    "Var = na*nb*(na + nb + 1)/12.\n",
    "\n",
    "stat = (A_rank_sum - E) / np.sqrt(Var)\n",
    "\n",
    "p_val = min(norm.cdf(stat), norm.cdf(-stat)) * 2\n",
    "\n",
    "print('P-value = {:.4f}'.format(p_val))"
   ]
  },
  {
   "cell_type": "markdown",
   "id": "8d222ae9",
   "metadata": {},
   "source": [
    "Using Scipy `mannwhitneyu`"
   ]
  },
  {
   "cell_type": "code",
   "execution_count": 18,
   "id": "12026c89",
   "metadata": {},
   "outputs": [
    {
     "data": {
      "text/plain": [
       "MannwhitneyuResult(statistic=89.0, pvalue=0.007497146445668576)"
      ]
     },
     "execution_count": 18,
     "metadata": {},
     "output_type": "execute_result"
    }
   ],
   "source": [
    "A = np.array([79.98, 80.04, 80.02, 80.04, 80.03, 80.03, 80.04, 79.97, 80.05, 80.03, 80.02, 80, 80.02 ])\n",
    "B = np.array([80.02, 79.94, 79.98, 79.97, 79.97, 80.03, 79.95, 79.97])\n",
    "mannwhitneyu(A, B, alternative='two-sided')"
   ]
  },
  {
   "cell_type": "markdown",
   "id": "34bb0031",
   "metadata": {},
   "source": [
    "**Using Monte Carlo simulation:**\n",
    "\n",
    "Under the null hypothesis, the labeling of the measurements is not important (both methods are assumed to be equivalent). We randomly assign the labels to the measurements and compute the number of times the sum of ranks of A exceeds (or is less than) the observed sum of ranks."
   ]
  },
  {
   "cell_type": "code",
   "execution_count": 19,
   "id": "b5681c7d",
   "metadata": {},
   "outputs": [
    {
     "name": "stdout",
     "output_type": "stream",
     "text": [
      "Monte Carlo P-value: 0.0052\n"
     ]
    }
   ],
   "source": [
    "n = 10000\n",
    "\n",
    "A = np.array([79.98, 80.04, 80.02, 80.04, 80.03, 80.03, 80.04, 79.97, 80.05, 80.03, 80.02, 80, 80.02 ])\n",
    "B = np.array([80.02, 79.94, 79.98, 79.97, 79.97, 80.03, 79.95, 79.97])\n",
    "\n",
    "ranks = AB['rank'].to_numpy()\n",
    "# 1 refers to A and 0 refers to B\n",
    "labels = np.array([1]*A.shape[0] + [0]*B.shape[0])\n",
    "\n",
    "count_greater = 0\n",
    "count_less = 0\n",
    "\n",
    "\n",
    "for i in range(n):\n",
    "    np.random.shuffle(labels)\n",
    "    \n",
    "    A_idx = labels == 1\n",
    "    \n",
    "    A_rank_sum_iter = ranks[A_idx].sum()\n",
    "    \n",
    "    count_greater += (A_rank_sum_iter > A_rank_sum)*1.\n",
    "    count_less += (A_rank_sum_iter < A_rank_sum)*1.\n",
    "    \n",
    "\n",
    "p1 = 1. * count_greater / n\n",
    "p2 = 1. * count_less / n\n",
    "\n",
    "p_val = min(p1, p2) * 2\n",
    "print('Monte Carlo P-value: {:.4f}'.format(p_val))"
   ]
  },
  {
   "cell_type": "markdown",
   "id": "e604ab42",
   "metadata": {},
   "source": [
    "### Permutation Test\n",
    "In this test, the original data is used instead of ranks. Under the null hypothesis, the measurements can be from both methods with equal probability. We randomly assign the labels and compute a test statistic (say t-test or the difference of the means of both samples) for every permutation and compare with the observed statistic."
   ]
  },
  {
   "cell_type": "code",
   "execution_count": 20,
   "id": "72a510b9",
   "metadata": {},
   "outputs": [
    {
     "name": "stdout",
     "output_type": "stream",
     "text": [
      "Monte Carlo P-value: 0.004\n"
     ]
    },
    {
     "data": {
      "image/png": "[encoded data removed]",
      "text/plain": [
       "<Figure size 576x432 with 1 Axes>"
      ]
     },
     "metadata": {
      "needs_background": "light"
     },
     "output_type": "display_data"
    }
   ],
   "source": [
    "from scipy.stats import ttest_ind\n",
    "A = np.array([79.98, 80.04, 80.02, 80.04, 80.03, 80.03, 80.04, 79.97, 80.05, 80.03, 80.02, 80, 80.02 ])\n",
    "B = np.array([80.02, 79.94, 79.98, 79.97, 79.97, 80.03, 79.95, 79.97])\n",
    "\n",
    "obs_stat, p = ttest_ind(A, B)\n",
    "n = 10000\n",
    "\n",
    "vals = np.concatenate([A, B])\n",
    "\n",
    "na = A.shape[0]\n",
    "\n",
    "count_greater = 0\n",
    "count_less = 0\n",
    "\n",
    "stats = np.zeros(n)\n",
    "for i in range(n):\n",
    "    np.random.shuffle(vals)\n",
    "    \n",
    "    # The first na are assumed to be measurements from method A\n",
    "    A_iter = vals[:na]\n",
    "    B_iter = vals[na:]\n",
    "    \n",
    "    iter_stat, _ = ttest_ind(A_iter, B_iter)\n",
    "    stats[i] = iter_stat\n",
    "    \n",
    "    count_greater += (iter_stat > obs_stat)*1.\n",
    "    count_less += (iter_stat < obs_stat)*1.\n",
    "    \n",
    "p1 = 1. * count_greater / n\n",
    "p2 = 1. * count_less / n\n",
    "\n",
    "p_val = min(p1, p2) * 2\n",
    "print('Monte Carlo P-value: {:.3f}'.format(p_val))\n",
    "\n",
    "plt.figure(figsize=(8, 6))\n",
    "plt.hist(stats)\n",
    "plt.axvline(obs_stat, color='black', linestyle='--')\n",
    "plt.show()"
   ]
  },
  {
   "cell_type": "code",
   "execution_count": null,
   "id": "6d052257",
   "metadata": {},
   "outputs": [],
   "source": []
  }
 ],
 "metadata": {
  "kernelspec": {
   "display_name": "Python 3",
   "language": "python",
   "name": "python3"
  },
  "language_info": {
   "codemirror_mode": {
    "name": "ipython",
    "version": 3
   },
   "file_extension": ".py",
   "mimetype": "text/x-python",
   "name": "python",
   "nbconvert_exporter": "python",
   "pygments_lexer": "ipython3",
   "version": "3.8.8"
  }
 },
 "nbformat": 4,
 "nbformat_minor": 5
}
