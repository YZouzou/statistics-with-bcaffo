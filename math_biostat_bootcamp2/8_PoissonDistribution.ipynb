{
 "cells": [
  {
   "cell_type": "markdown",
   "id": "312f6850",
   "metadata": {},
   "source": [
    "# Poisson Distribution"
   ]
  },
  {
   "cell_type": "markdown",
   "id": "547c5e2f",
   "metadata": {},
   "source": [
    "* Lecture 13: Poisson Distribution [Link](https://github.com/bcaffo/MathematicsBiostatisticsBootCamp2/blob/master/lecture13.pdf)\n",
    "\n",
    "* Poisson distribution is a discrete distribution that models the number of events/observations per time/area/volume etc.\n",
    "* λ is the expected count in the studied period of time (mean).\n",
    "* Each value in the probability mass function represents the probability of observing a certain number of counts in the same period of time.\n",
    "* The variance of the Poisson distribution is also λ"
   ]
  },
  {
   "cell_type": "code",
   "execution_count": 1,
   "id": "527bdf78",
   "metadata": {},
   "outputs": [],
   "source": [
    "import numpy as np\n",
    "import pandas as pd\n",
    "import matplotlib.pyplot as plt\n",
    "\n",
    "from scipy.stats import poisson, norm"
   ]
  },
  {
   "cell_type": "code",
   "execution_count": 2,
   "id": "6d052257",
   "metadata": {},
   "outputs": [
    {
     "data": {
      "image/png": "[encoded data removed]",
      "text/plain": [
       "<Figure size 576x432 with 1 Axes>"
      ]
     },
     "metadata": {
      "needs_background": "light"
     },
     "output_type": "display_data"
    }
   ],
   "source": [
    "x = np.arange(0, 50)\n",
    "y = poisson.pmf(x, 4)\n",
    "\n",
    "plt.figure(figsize=(8, 6))\n",
    "plt.bar(x, y)\n",
    "plt.show()"
   ]
  },
  {
   "cell_type": "markdown",
   "id": "deffc7be",
   "metadata": {},
   "source": [
    "### Lecture pump example"
   ]
  },
  {
   "cell_type": "markdown",
   "id": "f762403d",
   "metadata": {},
   "source": [
    "Dataframe including the number of failures recorded `n_fail` and the time of observation `time`"
   ]
  },
  {
   "cell_type": "code",
   "execution_count": 3,
   "id": "b6b4814d",
   "metadata": {},
   "outputs": [],
   "source": [
    "df = pd.DataFrame({\n",
    "    'pump': np.arange(1, 11),\n",
    "    'n_fail': [5, 1, 5, 14, 3, 19, 1, 1, 4, 22],\n",
    "    'time': [94.32, 15.72, 62.88, 125.76, 5.24, 31.44, 1.05, 1.05, 2.1, 10.48]\n",
    "})"
   ]
  },
  {
   "cell_type": "markdown",
   "id": "91a16b45",
   "metadata": {},
   "source": [
    "Testing the hypothesis that, for the first pump, the number of failures per day is greater than 0.15 against the null hypothesis that states that the number of failures per day in the industry standard is 0.15.\n",
    "\n",
    "This value follows an asymptotic standard normal distribution:\n",
    "$$ \\frac{X-\\lambda \\cdot t}{\\sqrt{\\lambda \\cdot t}} $$\n",
    "\n",
    "Where $X$ is the count of the observed events during the period $t$"
   ]
  },
  {
   "cell_type": "code",
   "execution_count": 4,
   "id": "8eda6d2f",
   "metadata": {},
   "outputs": [
    {
     "data": {
      "text/html": [
       "<div>\n",
       "<style scoped>\n",
       "    .dataframe tbody tr th:only-of-type {\n",
       "        vertical-align: middle;\n",
       "    }\n",
       "\n",
       "    .dataframe tbody tr th {\n",
       "        vertical-align: top;\n",
       "    }\n",
       "\n",
       "    .dataframe thead th {\n",
       "        text-align: right;\n",
       "    }\n",
       "</style>\n",
       "<table border=\"1\" class=\"dataframe\">\n",
       "  <thead>\n",
       "    <tr style=\"text-align: right;\">\n",
       "      <th></th>\n",
       "      <th>pump</th>\n",
       "      <th>n_fail</th>\n",
       "      <th>time</th>\n",
       "    </tr>\n",
       "  </thead>\n",
       "  <tbody>\n",
       "    <tr>\n",
       "      <th>0</th>\n",
       "      <td>1</td>\n",
       "      <td>5</td>\n",
       "      <td>94.32</td>\n",
       "    </tr>\n",
       "  </tbody>\n",
       "</table>\n",
       "</div>"
      ],
      "text/plain": [
       "   pump  n_fail   time\n",
       "0     1       5  94.32"
      ]
     },
     "execution_count": 4,
     "metadata": {},
     "output_type": "execute_result"
    }
   ],
   "source": [
    "# Pump 1\n",
    "df.head(1)"
   ]
  },
  {
   "cell_type": "code",
   "execution_count": 5,
   "id": "b306439a",
   "metadata": {},
   "outputs": [
    {
     "name": "stdout",
     "output_type": "stream",
     "text": [
      "Statistic: -2.4320843344305105\n",
      "P-value: 0.9924938942813274\n",
      "Exact P-value: 0.9949940431594622\n"
     ]
    }
   ],
   "source": [
    "X = 5\n",
    "t = 94.32\n",
    "lmbda = X / t\n",
    "lmbda_null = 0.15\n",
    "\n",
    "stat = (X - lmbda_null * t) / np.sqrt(lmbda_null * t)\n",
    "\n",
    "# P-value using the asymptotic normal distribution\n",
    "p_val = 1 - norm.cdf(stat)\n",
    "\n",
    "# Exact P-value using the Poisson distribution\n",
    "p_val_exact = 1 - poisson.cdf(k=5, mu=lmbda_null*t)\n",
    "\n",
    "print(f'Statistic: {stat}')\n",
    "print(f'P-value: {p_val}')\n",
    "print(f'Exact P-value: {p_val_exact}')"
   ]
  },
  {
   "cell_type": "markdown",
   "id": "1063c3cb",
   "metadata": {},
   "source": [
    "To compute a confidence interval for the observed lambda we use the lambda (mean) standard error $\\sqrt{\\frac{\\lambda}{t}}$. The confidence interval would be:\n",
    "$$ CI_{\\text{95%}} = \\hat{\\lambda} \\pm 1.96 \\cdot \\sqrt{\\frac{\\lambda}{t}} $$"
   ]
  },
  {
   "cell_type": "code",
   "execution_count": 6,
   "id": "07033595",
   "metadata": {},
   "outputs": [
    {
     "name": "stdout",
     "output_type": "stream",
     "text": [
      "CI (95%): [0.00654481 0.09947724]\n"
     ]
    }
   ],
   "source": [
    "# Confidence interval for the observed lambda\n",
    "CI = lmbda + 1.96 * np.array([-1, 1]) * np.sqrt(lmbda / t)\n",
    "print(f'CI (95%): {CI}')"
   ]
  },
  {
   "cell_type": "markdown",
   "id": "10960728",
   "metadata": {},
   "source": [
    "Computing the p-values of every pump against the null hypothesis that the number of failures is 0.15 per day. Here we use a different poisson distribution for each case where the null hypothesis mean is the number of failures in the observed duration. (Null mean changes from pump to pump based on the observed duration)\n",
    "\n",
    "**Note:**\n",
    "* The poisson distribution is a discrete distribution of counts, i.e., values are integers. Although lambda may take any value.\n",
    "* So to test whether the observed failures are likely under the poisson distribution, we create a distribution that has a mean equal to the rate of failure under the null hypothesis. Then, we look at the probability of observing the same number of failures that we observed during the observation time. "
   ]
  },
  {
   "cell_type": "code",
   "execution_count": 7,
   "id": "cbfce97b",
   "metadata": {},
   "outputs": [],
   "source": [
    "lmbda_null = 0.15\n",
    "df['n_fail_null'] = lmbda_null * df['time']\n",
    "df['p_val'] = 1-poisson.cdf(k=df['n_fail'], mu=df['n_fail_null'])"
   ]
  },
  {
   "cell_type": "code",
   "execution_count": 8,
   "id": "dca0173e",
   "metadata": {},
   "outputs": [
    {
     "data": {
      "text/html": [
       "<div>\n",
       "<style scoped>\n",
       "    .dataframe tbody tr th:only-of-type {\n",
       "        vertical-align: middle;\n",
       "    }\n",
       "\n",
       "    .dataframe tbody tr th {\n",
       "        vertical-align: top;\n",
       "    }\n",
       "\n",
       "    .dataframe thead th {\n",
       "        text-align: right;\n",
       "    }\n",
       "</style>\n",
       "<table border=\"1\" class=\"dataframe\">\n",
       "  <thead>\n",
       "    <tr style=\"text-align: right;\">\n",
       "      <th></th>\n",
       "      <th>pump</th>\n",
       "      <th>n_fail</th>\n",
       "      <th>time</th>\n",
       "      <th>n_fail_null</th>\n",
       "      <th>p_val</th>\n",
       "    </tr>\n",
       "  </thead>\n",
       "  <tbody>\n",
       "    <tr>\n",
       "      <th>0</th>\n",
       "      <td>1</td>\n",
       "      <td>5</td>\n",
       "      <td>94.32</td>\n",
       "      <td>14.1480</td>\n",
       "      <td>9.949940e-01</td>\n",
       "    </tr>\n",
       "    <tr>\n",
       "      <th>1</th>\n",
       "      <td>2</td>\n",
       "      <td>1</td>\n",
       "      <td>15.72</td>\n",
       "      <td>2.3580</td>\n",
       "      <td>6.823021e-01</td>\n",
       "    </tr>\n",
       "    <tr>\n",
       "      <th>2</th>\n",
       "      <td>3</td>\n",
       "      <td>5</td>\n",
       "      <td>62.88</td>\n",
       "      <td>9.4320</td>\n",
       "      <td>9.081362e-01</td>\n",
       "    </tr>\n",
       "    <tr>\n",
       "      <th>3</th>\n",
       "      <td>4</td>\n",
       "      <td>14</td>\n",
       "      <td>125.76</td>\n",
       "      <td>18.8640</td>\n",
       "      <td>8.431411e-01</td>\n",
       "    </tr>\n",
       "    <tr>\n",
       "      <th>4</th>\n",
       "      <td>5</td>\n",
       "      <td>3</td>\n",
       "      <td>5.24</td>\n",
       "      <td>0.7860</td>\n",
       "      <td>8.553342e-03</td>\n",
       "    </tr>\n",
       "    <tr>\n",
       "      <th>5</th>\n",
       "      <td>6</td>\n",
       "      <td>19</td>\n",
       "      <td>31.44</td>\n",
       "      <td>4.7160</td>\n",
       "      <td>1.399945e-07</td>\n",
       "    </tr>\n",
       "    <tr>\n",
       "      <th>6</th>\n",
       "      <td>7</td>\n",
       "      <td>1</td>\n",
       "      <td>1.05</td>\n",
       "      <td>0.1575</td>\n",
       "      <td>1.117459e-02</td>\n",
       "    </tr>\n",
       "    <tr>\n",
       "      <th>7</th>\n",
       "      <td>8</td>\n",
       "      <td>1</td>\n",
       "      <td>1.05</td>\n",
       "      <td>0.1575</td>\n",
       "      <td>1.117459e-02</td>\n",
       "    </tr>\n",
       "    <tr>\n",
       "      <th>8</th>\n",
       "      <td>9</td>\n",
       "      <td>4</td>\n",
       "      <td>2.10</td>\n",
       "      <td>0.3150</td>\n",
       "      <td>1.989776e-05</td>\n",
       "    </tr>\n",
       "    <tr>\n",
       "      <th>9</th>\n",
       "      <td>10</td>\n",
       "      <td>22</td>\n",
       "      <td>10.48</td>\n",
       "      <td>1.5720</td>\n",
       "      <td>0.000000e+00</td>\n",
       "    </tr>\n",
       "  </tbody>\n",
       "</table>\n",
       "</div>"
      ],
      "text/plain": [
       "   pump  n_fail    time  n_fail_null         p_val\n",
       "0     1       5   94.32      14.1480  9.949940e-01\n",
       "1     2       1   15.72       2.3580  6.823021e-01\n",
       "2     3       5   62.88       9.4320  9.081362e-01\n",
       "3     4      14  125.76      18.8640  8.431411e-01\n",
       "4     5       3    5.24       0.7860  8.553342e-03\n",
       "5     6      19   31.44       4.7160  1.399945e-07\n",
       "6     7       1    1.05       0.1575  1.117459e-02\n",
       "7     8       1    1.05       0.1575  1.117459e-02\n",
       "8     9       4    2.10       0.3150  1.989776e-05\n",
       "9    10      22   10.48       1.5720  0.000000e+00"
      ]
     },
     "execution_count": 8,
     "metadata": {},
     "output_type": "execute_result"
    }
   ],
   "source": [
    "df"
   ]
  },
  {
   "cell_type": "markdown",
   "id": "e8665842",
   "metadata": {},
   "source": [
    "### Comparing two rates\n",
    "Here the rate of cases per person year for users and non-users (treatment and controls) is compared. We test the null hypothesis that both treatment and controls have the same rates."
   ]
  },
  {
   "cell_type": "code",
   "execution_count": 9,
   "id": "6982fc42",
   "metadata": {},
   "outputs": [
    {
     "data": {
      "text/html": [
       "<div>\n",
       "<style scoped>\n",
       "    .dataframe tbody tr th:only-of-type {\n",
       "        vertical-align: middle;\n",
       "    }\n",
       "\n",
       "    .dataframe tbody tr th {\n",
       "        vertical-align: top;\n",
       "    }\n",
       "\n",
       "    .dataframe thead th {\n",
       "        text-align: right;\n",
       "    }\n",
       "</style>\n",
       "<table border=\"1\" class=\"dataframe\">\n",
       "  <thead>\n",
       "    <tr style=\"text-align: right;\">\n",
       "      <th></th>\n",
       "      <th>No. Cases</th>\n",
       "      <th>No. Person Years</th>\n",
       "    </tr>\n",
       "  </thead>\n",
       "  <tbody>\n",
       "    <tr>\n",
       "      <th>Current users</th>\n",
       "      <td>9</td>\n",
       "      <td>2935</td>\n",
       "    </tr>\n",
       "    <tr>\n",
       "      <th>Never users</th>\n",
       "      <td>239</td>\n",
       "      <td>135130</td>\n",
       "    </tr>\n",
       "  </tbody>\n",
       "</table>\n",
       "</div>"
      ],
      "text/plain": [
       "               No. Cases  No. Person Years\n",
       "Current users          9              2935\n",
       "Never users          239            135130"
      ]
     },
     "execution_count": 9,
     "metadata": {},
     "output_type": "execute_result"
    }
   ],
   "source": [
    "# Data\n",
    "df = pd.DataFrame({\n",
    "    'No. Cases': [9, 239],\n",
    "    'No. Person Years': [2935, 135130]\n",
    "}, index=['Current users', 'Never users'])\n",
    "df"
   ]
  },
  {
   "cell_type": "code",
   "execution_count": 10,
   "id": "b027343d",
   "metadata": {},
   "outputs": [],
   "source": [
    "from scipy.stats import chi2"
   ]
  },
  {
   "cell_type": "code",
   "execution_count": 11,
   "id": "7403b4b1",
   "metadata": {},
   "outputs": [
    {
     "name": "stdout",
     "output_type": "stream",
     "text": [
      "Test score: 2.6934270108641556\n",
      "P-value: 0.10076288732449068\n"
     ]
    }
   ],
   "source": [
    "# Lambda under the null hyypothesis\n",
    "lmbda_null = (9 + 239) / (2935 + 135130)\n",
    "\n",
    "# Chi2 test score\n",
    "# Current users\n",
    "E = lmbda_null * 2935 # Expected number of cases\n",
    "O = 9 # Observed number of cases\n",
    "TS = (E-O)**2 / E\n",
    "\n",
    "# Never users\n",
    "E = lmbda_null * 135130 # Expected number of cases\n",
    "O = 239 # Observed number of cases\n",
    "TS += (E-O)**2 / E\n",
    "\n",
    "print(f'Test score: {TS}')\n",
    "print(f'P-value: {1-chi2.cdf(TS, df=1)}')"
   ]
  },
  {
   "cell_type": "markdown",
   "id": "d58ed9f5",
   "metadata": {},
   "source": [
    "### Plotting Poisson likelihood\n",
    "Assuming we observed 5 failures of a nuclear pump in 94 days, plot the likelihood given that the pump failures are modelled using a Poisson distribution."
   ]
  },
  {
   "cell_type": "code",
   "execution_count": 12,
   "id": "d72e5915",
   "metadata": {},
   "outputs": [],
   "source": [
    "from scipy.stats import poisson"
   ]
  },
  {
   "cell_type": "code",
   "execution_count": 13,
   "id": "4c309084",
   "metadata": {},
   "outputs": [
    {
     "name": "stdout",
     "output_type": "stream",
     "text": [
      "MLE: 0.053\n"
     ]
    },
    {
     "data": {
      "image/png": "[encoded data removed]",
      "text/plain": [
       "<Figure size 432x288 with 1 Axes>"
      ]
     },
     "metadata": {
      "needs_background": "light"
     },
     "output_type": "display_data"
    }
   ],
   "source": [
    "lmbda = np.linspace(0, 0.2, 500)\n",
    "x = 5\n",
    "t = 94\n",
    "\n",
    "\n",
    "poisson_likelihood = (t*lmbda)**x * np.exp(-t*lmbda) / np.math.factorial(x)\n",
    "# Using scipy's Poisson PMF function\n",
    "# poisson_likelihood = poisson.pmf(k=5, mu=lmbda*t)\n",
    "\n",
    "# Normalizing by dividing by the value corresponding to the MLE\n",
    "mle_val = poisson.pmf(k=5, mu=5)\n",
    "\n",
    "plt.plot(lmbda, poisson_likelihood/mle_val)\n",
    "\n",
    "\n",
    "\n",
    "print(f'MLE: {x/t:.3f}')\n",
    "plt.title('Poisson (Lambda) likelihood')\n",
    "plt.xlabel('Lambda')\n",
    "plt.ylabel('Likelihood')\n",
    "plt.show()"
   ]
  },
  {
   "cell_type": "code",
   "execution_count": null,
   "id": "99fabc97",
   "metadata": {},
   "outputs": [],
   "source": []
  }
 ],
 "metadata": {
  "kernelspec": {
   "display_name": "Python 3",
   "language": "python",
   "name": "python3"
  },
  "language_info": {
   "codemirror_mode": {
    "name": "ipython",
    "version": 3
   },
   "file_extension": ".py",
   "mimetype": "text/x-python",
   "name": "python",
   "nbconvert_exporter": "python",
   "pygments_lexer": "ipython3",
   "version": "3.8.8"
  }
 },
 "nbformat": 4,
 "nbformat_minor": 5
}
