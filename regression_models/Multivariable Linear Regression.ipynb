{
 "cells": [
  {
   "cell_type": "markdown",
   "id": "4080bff3",
   "metadata": {},
   "source": [
    "# Multivariable Linear Regression"
   ]
  },
  {
   "cell_type": "code",
   "execution_count": 1,
   "id": "ebead510",
   "metadata": {},
   "outputs": [],
   "source": [
    "import pandas as pd\n",
    "import numpy as np\n",
    "import matplotlib.pyplot as plt\n",
    "import matplotlib as mpl\n",
    "from scipy.stats import linregress, t, norm\n",
    "from sklearn.linear_model import LinearRegression\n",
    "import statsmodels.api as sm"
   ]
  },
  {
   "cell_type": "markdown",
   "id": "96702caf",
   "metadata": {},
   "source": [
    "### Understanding MLR Coefficient Interpretations"
   ]
  },
  {
   "cell_type": "markdown",
   "id": "030ed7ec",
   "metadata": {},
   "source": [
    "Here we plot a response variable (Y) that depends on two explanatory variables (X1 and X2)"
   ]
  },
  {
   "cell_type": "code",
   "execution_count": 2,
   "id": "3cbfe315",
   "metadata": {},
   "outputs": [
    {
     "data": {
      "application/javascript": [
       "/* Put everything inside the global mpl namespace */\n",
       "/* global mpl */\n",
       "window.mpl = {};\n",
       "\n",
       "mpl.get_websocket_type = function () {\n",
       "    if (typeof WebSocket !== 'undefined') {\n",
       "        return WebSocket;\n",
       "    } else if (typeof MozWebSocket !== 'undefined') {\n",
       "        return MozWebSocket;\n",
       "    } else {\n",
       "        alert(\n",
       "            'Your browser does not have WebSocket support. ' +\n",
       "                'Please try Chrome, Safari or Firefox ≥ 6. ' +\n",
       "                'Firefox 4 and 5 are also supported but you ' +\n",
       "                'have to enable WebSockets in about:config.'\n",
       "        );\n",
       "    }\n",
       "};\n",
       "\n",
       "mpl.figure = function (figure_id, websocket, ondownload, parent_element) {\n",
       "    this.id = figure_id;\n",
       "\n",
       "    this.ws = websocket;\n",
       "\n",
       "    this.supports_binary = this.ws.binaryType !== undefined;\n",
       "\n",
       "    if (!this.supports_binary) {\n",
       "        var warnings = document.getElementById('mpl-warnings');\n",
       "        if (warnings) {\n",
       "            warnings.style.display = 'block';\n",
       "            warnings.textContent =\n",
       "                'This browser does not support binary websocket messages. ' +\n",
       "                'Performance may be slow.';\n",
       "        }\n",
       "    }\n",
       "\n",
       "    this.imageObj = new Image();\n",
       "\n",
       "    this.context = undefined;\n",
       "    this.message = undefined;\n",
       "    this.canvas = undefined;\n",
       "    this.rubberband_canvas = undefined;\n",
       "    this.rubberband_context = undefined;\n",
       "    this.format_dropdown = undefined;\n",
       "\n",
       "    this.image_mode = 'full';\n",
       "\n",
       "    this.root = document.createElement('div');\n",
       "    this.root.setAttribute('style', 'display: inline-block');\n",
       "    this._root_extra_style(this.root);\n",
       "\n",
       "    parent_element.appendChild(this.root);\n",
       "\n",
       "    this._init_header(this);\n",
       "    this._init_canvas(this);\n",
       "    this._init_toolbar(this);\n",
       "\n",
       "    var fig = this;\n",
       "\n",
       "    this.waiting = false;\n",
       "\n",
       "    this.ws.onopen = function () {\n",
       "        fig.send_message('supports_binary', { value: fig.supports_binary });\n",
       "        fig.send_message('send_image_mode', {});\n",
       "        if (fig.ratio !== 1) {\n",
       "            fig.send_message('set_dpi_ratio', { dpi_ratio: fig.ratio });\n",
       "        }\n",
       "        fig.send_message('refresh', {});\n",
       "    };\n",
       "\n",
       "    this.imageObj.onload = function () {\n",
       "        if (fig.image_mode === 'full') {\n",
       "            // Full images could contain transparency (where diff images\n",
       "            // almost always do), so we need to clear the canvas so that\n",
       "            // there is no ghosting.\n",
       "            fig.context.clearRect(0, 0, fig.canvas.width, fig.canvas.height);\n",
       "        }\n",
       "        fig.context.drawImage(fig.imageObj, 0, 0);\n",
       "    };\n",
       "\n",
       "    this.imageObj.onunload = function () {\n",
       "        fig.ws.close();\n",
       "    };\n",
       "\n",
       "    this.ws.onmessage = this._make_on_message_function(this);\n",
       "\n",
       "    this.ondownload = ondownload;\n",
       "};\n",
       "\n",
       "mpl.figure.prototype._init_header = function () {\n",
       "    var titlebar = document.createElement('div');\n",
       "    titlebar.classList =\n",
       "        'ui-dialog-titlebar ui-widget-header ui-corner-all ui-helper-clearfix';\n",
       "    var titletext = document.createElement('div');\n",
       "    titletext.classList = 'ui-dialog-title';\n",
       "    titletext.setAttribute(\n",
       "        'style',\n",
       "        'width: 100%; text-align: center; padding: 3px;'\n",
       "    );\n",
       "    titlebar.appendChild(titletext);\n",
       "    this.root.appendChild(titlebar);\n",
       "    this.header = titletext;\n",
       "};\n",
       "\n",
       "mpl.figure.prototype._canvas_extra_style = function (_canvas_div) {};\n",
       "\n",
       "mpl.figure.prototype._root_extra_style = function (_canvas_div) {};\n",
       "\n",
       "mpl.figure.prototype._init_canvas = function () {\n",
       "    var fig = this;\n",
       "\n",
       "    var canvas_div = (this.canvas_div = document.createElement('div'));\n",
       "    canvas_div.setAttribute(\n",
       "        'style',\n",
       "        'border: 1px solid #ddd;' +\n",
       "            'box-sizing: content-box;' +\n",
       "            'clear: both;' +\n",
       "            'min-height: 1px;' +\n",
       "            'min-width: 1px;' +\n",
       "            'outline: 0;' +\n",
       "            'overflow: hidden;' +\n",
       "            'position: relative;' +\n",
       "            'resize: both;'\n",
       "    );\n",
       "\n",
       "    function on_keyboard_event_closure(name) {\n",
       "        return function (event) {\n",
       "            return fig.key_event(event, name);\n",
       "        };\n",
       "    }\n",
       "\n",
       "    canvas_div.addEventListener(\n",
       "        'keydown',\n",
       "        on_keyboard_event_closure('key_press')\n",
       "    );\n",
       "    canvas_div.addEventListener(\n",
       "        'keyup',\n",
       "        on_keyboard_event_closure('key_release')\n",
       "    );\n",
       "\n",
       "    this._canvas_extra_style(canvas_div);\n",
       "    this.root.appendChild(canvas_div);\n",
       "\n",
       "    var canvas = (this.canvas = document.createElement('canvas'));\n",
       "    canvas.classList.add('mpl-canvas');\n",
       "    canvas.setAttribute('style', 'box-sizing: content-box;');\n",
       "\n",
       "    this.context = canvas.getContext('2d');\n",
       "\n",
       "    var backingStore =\n",
       "        this.context.backingStorePixelRatio ||\n",
       "        this.context.webkitBackingStorePixelRatio ||\n",
       "        this.context.mozBackingStorePixelRatio ||\n",
       "        this.context.msBackingStorePixelRatio ||\n",
       "        this.context.oBackingStorePixelRatio ||\n",
       "        this.context.backingStorePixelRatio ||\n",
       "        1;\n",
       "\n",
       "    this.ratio = (window.devicePixelRatio || 1) / backingStore;\n",
       "\n",
       "    var rubberband_canvas = (this.rubberband_canvas = document.createElement(\n",
       "        'canvas'\n",
       "    ));\n",
       "    rubberband_canvas.setAttribute(\n",
       "        'style',\n",
       "        'box-sizing: content-box; position: absolute; left: 0; top: 0; z-index: 1;'\n",
       "    );\n",
       "\n",
       "    // Apply a ponyfill if ResizeObserver is not implemented by browser.\n",
       "    if (this.ResizeObserver === undefined) {\n",
       "        if (window.ResizeObserver !== undefined) {\n",
       "            this.ResizeObserver = window.ResizeObserver;\n",
       "        } else {\n",
       "            var obs = _JSXTOOLS_RESIZE_OBSERVER({});\n",
       "            this.ResizeObserver = obs.ResizeObserver;\n",
       "        }\n",
       "    }\n",
       "\n",
       "    this.resizeObserverInstance = new this.ResizeObserver(function (entries) {\n",
       "        var nentries = entries.length;\n",
       "        for (var i = 0; i < nentries; i++) {\n",
       "            var entry = entries[i];\n",
       "            var width, height;\n",
       "            if (entry.contentBoxSize) {\n",
       "                if (entry.contentBoxSize instanceof Array) {\n",
       "                    // Chrome 84 implements new version of spec.\n",
       "                    width = entry.contentBoxSize[0].inlineSize;\n",
       "                    height = entry.contentBoxSize[0].blockSize;\n",
       "                } else {\n",
       "                    // Firefox implements old version of spec.\n",
       "                    width = entry.contentBoxSize.inlineSize;\n",
       "                    height = entry.contentBoxSize.blockSize;\n",
       "                }\n",
       "            } else {\n",
       "                // Chrome <84 implements even older version of spec.\n",
       "                width = entry.contentRect.width;\n",
       "                height = entry.contentRect.height;\n",
       "            }\n",
       "\n",
       "            // Keep the size of the canvas and rubber band canvas in sync with\n",
       "            // the canvas container.\n",
       "            if (entry.devicePixelContentBoxSize) {\n",
       "                // Chrome 84 implements new version of spec.\n",
       "                canvas.setAttribute(\n",
       "                    'width',\n",
       "                    entry.devicePixelContentBoxSize[0].inlineSize\n",
       "                );\n",
       "                canvas.setAttribute(\n",
       "                    'height',\n",
       "                    entry.devicePixelContentBoxSize[0].blockSize\n",
       "                );\n",
       "            } else {\n",
       "                canvas.setAttribute('width', width * fig.ratio);\n",
       "                canvas.setAttribute('height', height * fig.ratio);\n",
       "            }\n",
       "            canvas.setAttribute(\n",
       "                'style',\n",
       "                'width: ' + width + 'px; height: ' + height + 'px;'\n",
       "            );\n",
       "\n",
       "            rubberband_canvas.setAttribute('width', width);\n",
       "            rubberband_canvas.setAttribute('height', height);\n",
       "\n",
       "            // And update the size in Python. We ignore the initial 0/0 size\n",
       "            // that occurs as the element is placed into the DOM, which should\n",
       "            // otherwise not happen due to the minimum size styling.\n",
       "            if (fig.ws.readyState == 1 && width != 0 && height != 0) {\n",
       "                fig.request_resize(width, height);\n",
       "            }\n",
       "        }\n",
       "    });\n",
       "    this.resizeObserverInstance.observe(canvas_div);\n",
       "\n",
       "    function on_mouse_event_closure(name) {\n",
       "        return function (event) {\n",
       "            return fig.mouse_event(event, name);\n",
       "        };\n",
       "    }\n",
       "\n",
       "    rubberband_canvas.addEventListener(\n",
       "        'mousedown',\n",
       "        on_mouse_event_closure('button_press')\n",
       "    );\n",
       "    rubberband_canvas.addEventListener(\n",
       "        'mouseup',\n",
       "        on_mouse_event_closure('button_release')\n",
       "    );\n",
       "    // Throttle sequential mouse events to 1 every 20ms.\n",
       "    rubberband_canvas.addEventListener(\n",
       "        'mousemove',\n",
       "        on_mouse_event_closure('motion_notify')\n",
       "    );\n",
       "\n",
       "    rubberband_canvas.addEventListener(\n",
       "        'mouseenter',\n",
       "        on_mouse_event_closure('figure_enter')\n",
       "    );\n",
       "    rubberband_canvas.addEventListener(\n",
       "        'mouseleave',\n",
       "        on_mouse_event_closure('figure_leave')\n",
       "    );\n",
       "\n",
       "    canvas_div.addEventListener('wheel', function (event) {\n",
       "        if (event.deltaY < 0) {\n",
       "            event.step = 1;\n",
       "        } else {\n",
       "            event.step = -1;\n",
       "        }\n",
       "        on_mouse_event_closure('scroll')(event);\n",
       "    });\n",
       "\n",
       "    canvas_div.appendChild(canvas);\n",
       "    canvas_div.appendChild(rubberband_canvas);\n",
       "\n",
       "    this.rubberband_context = rubberband_canvas.getContext('2d');\n",
       "    this.rubberband_context.strokeStyle = '#000000';\n",
       "\n",
       "    this._resize_canvas = function (width, height, forward) {\n",
       "        if (forward) {\n",
       "            canvas_div.style.width = width + 'px';\n",
       "            canvas_div.style.height = height + 'px';\n",
       "        }\n",
       "    };\n",
       "\n",
       "    // Disable right mouse context menu.\n",
       "    this.rubberband_canvas.addEventListener('contextmenu', function (_e) {\n",
       "        event.preventDefault();\n",
       "        return false;\n",
       "    });\n",
       "\n",
       "    function set_focus() {\n",
       "        canvas.focus();\n",
       "        canvas_div.focus();\n",
       "    }\n",
       "\n",
       "    window.setTimeout(set_focus, 100);\n",
       "};\n",
       "\n",
       "mpl.figure.prototype._init_toolbar = function () {\n",
       "    var fig = this;\n",
       "\n",
       "    var toolbar = document.createElement('div');\n",
       "    toolbar.classList = 'mpl-toolbar';\n",
       "    this.root.appendChild(toolbar);\n",
       "\n",
       "    function on_click_closure(name) {\n",
       "        return function (_event) {\n",
       "            return fig.toolbar_button_onclick(name);\n",
       "        };\n",
       "    }\n",
       "\n",
       "    function on_mouseover_closure(tooltip) {\n",
       "        return function (event) {\n",
       "            if (!event.currentTarget.disabled) {\n",
       "                return fig.toolbar_button_onmouseover(tooltip);\n",
       "            }\n",
       "        };\n",
       "    }\n",
       "\n",
       "    fig.buttons = {};\n",
       "    var buttonGroup = document.createElement('div');\n",
       "    buttonGroup.classList = 'mpl-button-group';\n",
       "    for (var toolbar_ind in mpl.toolbar_items) {\n",
       "        var name = mpl.toolbar_items[toolbar_ind][0];\n",
       "        var tooltip = mpl.toolbar_items[toolbar_ind][1];\n",
       "        var image = mpl.toolbar_items[toolbar_ind][2];\n",
       "        var method_name = mpl.toolbar_items[toolbar_ind][3];\n",
       "\n",
       "        if (!name) {\n",
       "            /* Instead of a spacer, we start a new button group. */\n",
       "            if (buttonGroup.hasChildNodes()) {\n",
       "                toolbar.appendChild(buttonGroup);\n",
       "            }\n",
       "            buttonGroup = document.createElement('div');\n",
       "            buttonGroup.classList = 'mpl-button-group';\n",
       "            continue;\n",
       "        }\n",
       "\n",
       "        var button = (fig.buttons[name] = document.createElement('button'));\n",
       "        button.classList = 'mpl-widget';\n",
       "        button.setAttribute('role', 'button');\n",
       "        button.setAttribute('aria-disabled', 'false');\n",
       "        button.addEventListener('click', on_click_closure(method_name));\n",
       "        button.addEventListener('mouseover', on_mouseover_closure(tooltip));\n",
       "\n",
       "        var icon_img = document.createElement('img');\n",
       "        icon_img.src = '_images/' + image + '.png';\n",
       "        icon_img.srcset = '_images/' + image + '_large.png 2x';\n",
       "        icon_img.alt = tooltip;\n",
       "        button.appendChild(icon_img);\n",
       "\n",
       "        buttonGroup.appendChild(button);\n",
       "    }\n",
       "\n",
       "    if (buttonGroup.hasChildNodes()) {\n",
       "        toolbar.appendChild(buttonGroup);\n",
       "    }\n",
       "\n",
       "    var fmt_picker = document.createElement('select');\n",
       "    fmt_picker.classList = 'mpl-widget';\n",
       "    toolbar.appendChild(fmt_picker);\n",
       "    this.format_dropdown = fmt_picker;\n",
       "\n",
       "    for (var ind in mpl.extensions) {\n",
       "        var fmt = mpl.extensions[ind];\n",
       "        var option = document.createElement('option');\n",
       "        option.selected = fmt === mpl.default_extension;\n",
       "        option.innerHTML = fmt;\n",
       "        fmt_picker.appendChild(option);\n",
       "    }\n",
       "\n",
       "    var status_bar = document.createElement('span');\n",
       "    status_bar.classList = 'mpl-message';\n",
       "    toolbar.appendChild(status_bar);\n",
       "    this.message = status_bar;\n",
       "};\n",
       "\n",
       "mpl.figure.prototype.request_resize = function (x_pixels, y_pixels) {\n",
       "    // Request matplotlib to resize the figure. Matplotlib will then trigger a resize in the client,\n",
       "    // which will in turn request a refresh of the image.\n",
       "    this.send_message('resize', { width: x_pixels, height: y_pixels });\n",
       "};\n",
       "\n",
       "mpl.figure.prototype.send_message = function (type, properties) {\n",
       "    properties['type'] = type;\n",
       "    properties['figure_id'] = this.id;\n",
       "    this.ws.send(JSON.stringify(properties));\n",
       "};\n",
       "\n",
       "mpl.figure.prototype.send_draw_message = function () {\n",
       "    if (!this.waiting) {\n",
       "        this.waiting = true;\n",
       "        this.ws.send(JSON.stringify({ type: 'draw', figure_id: this.id }));\n",
       "    }\n",
       "};\n",
       "\n",
       "mpl.figure.prototype.handle_save = function (fig, _msg) {\n",
       "    var format_dropdown = fig.format_dropdown;\n",
       "    var format = format_dropdown.options[format_dropdown.selectedIndex].value;\n",
       "    fig.ondownload(fig, format);\n",
       "};\n",
       "\n",
       "mpl.figure.prototype.handle_resize = function (fig, msg) {\n",
       "    var size = msg['size'];\n",
       "    if (size[0] !== fig.canvas.width || size[1] !== fig.canvas.height) {\n",
       "        fig._resize_canvas(size[0], size[1], msg['forward']);\n",
       "        fig.send_message('refresh', {});\n",
       "    }\n",
       "};\n",
       "\n",
       "mpl.figure.prototype.handle_rubberband = function (fig, msg) {\n",
       "    var x0 = msg['x0'] / fig.ratio;\n",
       "    var y0 = (fig.canvas.height - msg['y0']) / fig.ratio;\n",
       "    var x1 = msg['x1'] / fig.ratio;\n",
       "    var y1 = (fig.canvas.height - msg['y1']) / fig.ratio;\n",
       "    x0 = Math.floor(x0) + 0.5;\n",
       "    y0 = Math.floor(y0) + 0.5;\n",
       "    x1 = Math.floor(x1) + 0.5;\n",
       "    y1 = Math.floor(y1) + 0.5;\n",
       "    var min_x = Math.min(x0, x1);\n",
       "    var min_y = Math.min(y0, y1);\n",
       "    var width = Math.abs(x1 - x0);\n",
       "    var height = Math.abs(y1 - y0);\n",
       "\n",
       "    fig.rubberband_context.clearRect(\n",
       "        0,\n",
       "        0,\n",
       "        fig.canvas.width / fig.ratio,\n",
       "        fig.canvas.height / fig.ratio\n",
       "    );\n",
       "\n",
       "    fig.rubberband_context.strokeRect(min_x, min_y, width, height);\n",
       "};\n",
       "\n",
       "mpl.figure.prototype.handle_figure_label = function (fig, msg) {\n",
       "    // Updates the figure title.\n",
       "    fig.header.textContent = msg['label'];\n",
       "};\n",
       "\n",
       "mpl.figure.prototype.handle_cursor = function (fig, msg) {\n",
       "    var cursor = msg['cursor'];\n",
       "    switch (cursor) {\n",
       "        case 0:\n",
       "            cursor = 'pointer';\n",
       "            break;\n",
       "        case 1:\n",
       "            cursor = 'default';\n",
       "            break;\n",
       "        case 2:\n",
       "            cursor = 'crosshair';\n",
       "            break;\n",
       "        case 3:\n",
       "            cursor = 'move';\n",
       "            break;\n",
       "    }\n",
       "    fig.rubberband_canvas.style.cursor = cursor;\n",
       "};\n",
       "\n",
       "mpl.figure.prototype.handle_message = function (fig, msg) {\n",
       "    fig.message.textContent = msg['message'];\n",
       "};\n",
       "\n",
       "mpl.figure.prototype.handle_draw = function (fig, _msg) {\n",
       "    // Request the server to send over a new figure.\n",
       "    fig.send_draw_message();\n",
       "};\n",
       "\n",
       "mpl.figure.prototype.handle_image_mode = function (fig, msg) {\n",
       "    fig.image_mode = msg['mode'];\n",
       "};\n",
       "\n",
       "mpl.figure.prototype.handle_history_buttons = function (fig, msg) {\n",
       "    for (var key in msg) {\n",
       "        if (!(key in fig.buttons)) {\n",
       "            continue;\n",
       "        }\n",
       "        fig.buttons[key].disabled = !msg[key];\n",
       "        fig.buttons[key].setAttribute('aria-disabled', !msg[key]);\n",
       "    }\n",
       "};\n",
       "\n",
       "mpl.figure.prototype.handle_navigate_mode = function (fig, msg) {\n",
       "    if (msg['mode'] === 'PAN') {\n",
       "        fig.buttons['Pan'].classList.add('active');\n",
       "        fig.buttons['Zoom'].classList.remove('active');\n",
       "    } else if (msg['mode'] === 'ZOOM') {\n",
       "        fig.buttons['Pan'].classList.remove('active');\n",
       "        fig.buttons['Zoom'].classList.add('active');\n",
       "    } else {\n",
       "        fig.buttons['Pan'].classList.remove('active');\n",
       "        fig.buttons['Zoom'].classList.remove('active');\n",
       "    }\n",
       "};\n",
       "\n",
       "mpl.figure.prototype.updated_canvas_event = function () {\n",
       "    // Called whenever the canvas gets updated.\n",
       "    this.send_message('ack', {});\n",
       "};\n",
       "\n",
       "// A function to construct a web socket function for onmessage handling.\n",
       "// Called in the figure constructor.\n",
       "mpl.figure.prototype._make_on_message_function = function (fig) {\n",
       "    return function socket_on_message(evt) {\n",
       "        if (evt.data instanceof Blob) {\n",
       "            /* FIXME: We get \"Resource interpreted as Image but\n",
       "             * transferred with MIME type text/plain:\" errors on\n",
       "             * Chrome.  But how to set the MIME type?  It doesn't seem\n",
       "             * to be part of the websocket stream */\n",
       "            evt.data.type = 'image/png';\n",
       "\n",
       "            /* Free the memory for the previous frames */\n",
       "            if (fig.imageObj.src) {\n",
       "                (window.URL || window.webkitURL).revokeObjectURL(\n",
       "                    fig.imageObj.src\n",
       "                );\n",
       "            }\n",
       "\n",
       "            fig.imageObj.src = (window.URL || window.webkitURL).createObjectURL(\n",
       "                evt.data\n",
       "            );\n",
       "            fig.updated_canvas_event();\n",
       "            fig.waiting = false;\n",
       "            return;\n",
       "        } else if (\n",
       "            typeof evt.data === 'string' &&\n",
       "            evt.data.slice(0, 21) === 'data:image/png;base64'\n",
       "        ) {\n",
       "            fig.imageObj.src = evt.data;\n",
       "            fig.updated_canvas_event();\n",
       "            fig.waiting = false;\n",
       "            return;\n",
       "        }\n",
       "\n",
       "        var msg = JSON.parse(evt.data);\n",
       "        var msg_type = msg['type'];\n",
       "\n",
       "        // Call the  \"handle_{type}\" callback, which takes\n",
       "        // the figure and JSON message as its only arguments.\n",
       "        try {\n",
       "            var callback = fig['handle_' + msg_type];\n",
       "        } catch (e) {\n",
       "            console.log(\n",
       "                \"No handler for the '\" + msg_type + \"' message type: \",\n",
       "                msg\n",
       "            );\n",
       "            return;\n",
       "        }\n",
       "\n",
       "        if (callback) {\n",
       "            try {\n",
       "                // console.log(\"Handling '\" + msg_type + \"' message: \", msg);\n",
       "                callback(fig, msg);\n",
       "            } catch (e) {\n",
       "                console.log(\n",
       "                    \"Exception inside the 'handler_\" + msg_type + \"' callback:\",\n",
       "                    e,\n",
       "                    e.stack,\n",
       "                    msg\n",
       "                );\n",
       "            }\n",
       "        }\n",
       "    };\n",
       "};\n",
       "\n",
       "// from http://stackoverflow.com/questions/1114465/getting-mouse-location-in-canvas\n",
       "mpl.findpos = function (e) {\n",
       "    //this section is from http://www.quirksmode.org/js/events_properties.html\n",
       "    var targ;\n",
       "    if (!e) {\n",
       "        e = window.event;\n",
       "    }\n",
       "    if (e.target) {\n",
       "        targ = e.target;\n",
       "    } else if (e.srcElement) {\n",
       "        targ = e.srcElement;\n",
       "    }\n",
       "    if (targ.nodeType === 3) {\n",
       "        // defeat Safari bug\n",
       "        targ = targ.parentNode;\n",
       "    }\n",
       "\n",
       "    // pageX,Y are the mouse positions relative to the document\n",
       "    var boundingRect = targ.getBoundingClientRect();\n",
       "    var x = e.pageX - (boundingRect.left + document.body.scrollLeft);\n",
       "    var y = e.pageY - (boundingRect.top + document.body.scrollTop);\n",
       "\n",
       "    return { x: x, y: y };\n",
       "};\n",
       "\n",
       "/*\n",
       " * return a copy of an object with only non-object keys\n",
       " * we need this to avoid circular references\n",
       " * http://stackoverflow.com/a/24161582/3208463\n",
       " */\n",
       "function simpleKeys(original) {\n",
       "    return Object.keys(original).reduce(function (obj, key) {\n",
       "        if (typeof original[key] !== 'object') {\n",
       "            obj[key] = original[key];\n",
       "        }\n",
       "        return obj;\n",
       "    }, {});\n",
       "}\n",
       "\n",
       "mpl.figure.prototype.mouse_event = function (event, name) {\n",
       "    var canvas_pos = mpl.findpos(event);\n",
       "\n",
       "    if (name === 'button_press') {\n",
       "        this.canvas.focus();\n",
       "        this.canvas_div.focus();\n",
       "    }\n",
       "\n",
       "    var x = canvas_pos.x * this.ratio;\n",
       "    var y = canvas_pos.y * this.ratio;\n",
       "\n",
       "    this.send_message(name, {\n",
       "        x: x,\n",
       "        y: y,\n",
       "        button: event.button,\n",
       "        step: event.step,\n",
       "        guiEvent: simpleKeys(event),\n",
       "    });\n",
       "\n",
       "    /* This prevents the web browser from automatically changing to\n",
       "     * the text insertion cursor when the button is pressed.  We want\n",
       "     * to control all of the cursor setting manually through the\n",
       "     * 'cursor' event from matplotlib */\n",
       "    event.preventDefault();\n",
       "    return false;\n",
       "};\n",
       "\n",
       "mpl.figure.prototype._key_event_extra = function (_event, _name) {\n",
       "    // Handle any extra behaviour associated with a key event\n",
       "};\n",
       "\n",
       "mpl.figure.prototype.key_event = function (event, name) {\n",
       "    // Prevent repeat events\n",
       "    if (name === 'key_press') {\n",
       "        if (event.which === this._key) {\n",
       "            return;\n",
       "        } else {\n",
       "            this._key = event.which;\n",
       "        }\n",
       "    }\n",
       "    if (name === 'key_release') {\n",
       "        this._key = null;\n",
       "    }\n",
       "\n",
       "    var value = '';\n",
       "    if (event.ctrlKey && event.which !== 17) {\n",
       "        value += 'ctrl+';\n",
       "    }\n",
       "    if (event.altKey && event.which !== 18) {\n",
       "        value += 'alt+';\n",
       "    }\n",
       "    if (event.shiftKey && event.which !== 16) {\n",
       "        value += 'shift+';\n",
       "    }\n",
       "\n",
       "    value += 'k';\n",
       "    value += event.which.toString();\n",
       "\n",
       "    this._key_event_extra(event, name);\n",
       "\n",
       "    this.send_message(name, { key: value, guiEvent: simpleKeys(event) });\n",
       "    return false;\n",
       "};\n",
       "\n",
       "mpl.figure.prototype.toolbar_button_onclick = function (name) {\n",
       "    if (name === 'download') {\n",
       "        this.handle_save(this, null);\n",
       "    } else {\n",
       "        this.send_message('toolbar_button', { name: name });\n",
       "    }\n",
       "};\n",
       "\n",
       "mpl.figure.prototype.toolbar_button_onmouseover = function (tooltip) {\n",
       "    this.message.textContent = tooltip;\n",
       "};\n",
       "\n",
       "///////////////// REMAINING CONTENT GENERATED BY embed_js.py /////////////////\n",
       "// prettier-ignore\n",
       "var _JSXTOOLS_RESIZE_OBSERVER=function(A){var t,i=new WeakMap,n=new WeakMap,a=new WeakMap,r=new WeakMap,o=new Set;function s(e){if(!(this instanceof s))throw new TypeError(\"Constructor requires 'new' operator\");i.set(this,e)}function h(){throw new TypeError(\"Function is not a constructor\")}function c(e,t,i,n){e=0 in arguments?Number(arguments[0]):0,t=1 in arguments?Number(arguments[1]):0,i=2 in arguments?Number(arguments[2]):0,n=3 in arguments?Number(arguments[3]):0,this.right=(this.x=this.left=e)+(this.width=i),this.bottom=(this.y=this.top=t)+(this.height=n),Object.freeze(this)}function d(){t=requestAnimationFrame(d);var s=new WeakMap,p=new Set;o.forEach((function(t){r.get(t).forEach((function(i){var r=t instanceof window.SVGElement,o=a.get(t),d=r?0:parseFloat(o.paddingTop),f=r?0:parseFloat(o.paddingRight),l=r?0:parseFloat(o.paddingBottom),u=r?0:parseFloat(o.paddingLeft),g=r?0:parseFloat(o.borderTopWidth),m=r?0:parseFloat(o.borderRightWidth),w=r?0:parseFloat(o.borderBottomWidth),b=u+f,F=d+l,v=(r?0:parseFloat(o.borderLeftWidth))+m,W=g+w,y=r?0:t.offsetHeight-W-t.clientHeight,E=r?0:t.offsetWidth-v-t.clientWidth,R=b+v,z=F+W,M=r?t.width:parseFloat(o.width)-R-E,O=r?t.height:parseFloat(o.height)-z-y;if(n.has(t)){var k=n.get(t);if(k[0]===M&&k[1]===O)return}n.set(t,[M,O]);var S=Object.create(h.prototype);S.target=t,S.contentRect=new c(u,d,M,O),s.has(i)||(s.set(i,[]),p.add(i)),s.get(i).push(S)}))})),p.forEach((function(e){i.get(e).call(e,s.get(e),e)}))}return s.prototype.observe=function(i){if(i instanceof window.Element){r.has(i)||(r.set(i,new Set),o.add(i),a.set(i,window.getComputedStyle(i)));var n=r.get(i);n.has(this)||n.add(this),cancelAnimationFrame(t),t=requestAnimationFrame(d)}},s.prototype.unobserve=function(i){if(i instanceof window.Element&&r.has(i)){var n=r.get(i);n.has(this)&&(n.delete(this),n.size||(r.delete(i),o.delete(i))),n.size||r.delete(i),o.size||cancelAnimationFrame(t)}},A.DOMRectReadOnly=c,A.ResizeObserver=s,A.ResizeObserverEntry=h,A}; // eslint-disable-line\n",
       "mpl.toolbar_items = [[\"Home\", \"Reset original view\", \"fa fa-home icon-home\", \"home\"], [\"Back\", \"Back to previous view\", \"fa fa-arrow-left icon-arrow-left\", \"back\"], [\"Forward\", \"Forward to next view\", \"fa fa-arrow-right icon-arrow-right\", \"forward\"], [\"\", \"\", \"\", \"\"], [\"Pan\", \"Left button pans, Right button zooms\\nx/y fixes axis, CTRL fixes aspect\", \"fa fa-arrows icon-move\", \"pan\"], [\"Zoom\", \"Zoom to rectangle\\nx/y fixes axis, CTRL fixes aspect\", \"fa fa-square-o icon-check-empty\", \"zoom\"], [\"\", \"\", \"\", \"\"], [\"Download\", \"Download plot\", \"fa fa-floppy-o icon-save\", \"download\"]];\n",
       "\n",
       "mpl.extensions = [\"eps\", \"jpeg\", \"pdf\", \"png\", \"ps\", \"raw\", \"svg\", \"tif\"];\n",
       "\n",
       "mpl.default_extension = \"png\";/* global mpl */\n",
       "\n",
       "var comm_websocket_adapter = function (comm) {\n",
       "    // Create a \"websocket\"-like object which calls the given IPython comm\n",
       "    // object with the appropriate methods. Currently this is a non binary\n",
       "    // socket, so there is still some room for performance tuning.\n",
       "    var ws = {};\n",
       "\n",
       "    ws.close = function () {\n",
       "        comm.close();\n",
       "    };\n",
       "    ws.send = function (m) {\n",
       "        //console.log('sending', m);\n",
       "        comm.send(m);\n",
       "    };\n",
       "    // Register the callback with on_msg.\n",
       "    comm.on_msg(function (msg) {\n",
       "        //console.log('receiving', msg['content']['data'], msg);\n",
       "        // Pass the mpl event to the overridden (by mpl) onmessage function.\n",
       "        ws.onmessage(msg['content']['data']);\n",
       "    });\n",
       "    return ws;\n",
       "};\n",
       "\n",
       "mpl.mpl_figure_comm = function (comm, msg) {\n",
       "    // This is the function which gets called when the mpl process\n",
       "    // starts-up an IPython Comm through the \"matplotlib\" channel.\n",
       "\n",
       "    var id = msg.content.data.id;\n",
       "    // Get hold of the div created by the display call when the Comm\n",
       "    // socket was opened in Python.\n",
       "    var element = document.getElementById(id);\n",
       "    var ws_proxy = comm_websocket_adapter(comm);\n",
       "\n",
       "    function ondownload(figure, _format) {\n",
       "        window.open(figure.canvas.toDataURL());\n",
       "    }\n",
       "\n",
       "    var fig = new mpl.figure(id, ws_proxy, ondownload, element);\n",
       "\n",
       "    // Call onopen now - mpl needs it, as it is assuming we've passed it a real\n",
       "    // web socket which is closed, not our websocket->open comm proxy.\n",
       "    ws_proxy.onopen();\n",
       "\n",
       "    fig.parent_element = element;\n",
       "    fig.cell_info = mpl.find_output_cell(\"<div id='\" + id + \"'></div>\");\n",
       "    if (!fig.cell_info) {\n",
       "        console.error('Failed to find cell for figure', id, fig);\n",
       "        return;\n",
       "    }\n",
       "    fig.cell_info[0].output_area.element.on(\n",
       "        'cleared',\n",
       "        { fig: fig },\n",
       "        fig._remove_fig_handler\n",
       "    );\n",
       "};\n",
       "\n",
       "mpl.figure.prototype.handle_close = function (fig, msg) {\n",
       "    var width = fig.canvas.width / fig.ratio;\n",
       "    fig.cell_info[0].output_area.element.off(\n",
       "        'cleared',\n",
       "        fig._remove_fig_handler\n",
       "    );\n",
       "    fig.resizeObserverInstance.unobserve(fig.canvas_div);\n",
       "\n",
       "    // Update the output cell to use the data from the current canvas.\n",
       "    fig.push_to_output();\n",
       "    var dataURL = fig.canvas.toDataURL();\n",
       "    // Re-enable the keyboard manager in IPython - without this line, in FF,\n",
       "    // the notebook keyboard shortcuts fail.\n",
       "    IPython.keyboard_manager.enable();\n",
       "    fig.parent_element.innerHTML =\n",
       "        '<img src=\"' + dataURL + '\" width=\"' + width + '\">';\n",
       "    fig.close_ws(fig, msg);\n",
       "};\n",
       "\n",
       "mpl.figure.prototype.close_ws = function (fig, msg) {\n",
       "    fig.send_message('closing', msg);\n",
       "    // fig.ws.close()\n",
       "};\n",
       "\n",
       "mpl.figure.prototype.push_to_output = function (_remove_interactive) {\n",
       "    // Turn the data on the canvas into data in the output cell.\n",
       "    var width = this.canvas.width / this.ratio;\n",
       "    var dataURL = this.canvas.toDataURL();\n",
       "    this.cell_info[1]['text/html'] =\n",
       "        '<img src=\"' + dataURL + '\" width=\"' + width + '\">';\n",
       "};\n",
       "\n",
       "mpl.figure.prototype.updated_canvas_event = function () {\n",
       "    // Tell IPython that the notebook contents must change.\n",
       "    IPython.notebook.set_dirty(true);\n",
       "    this.send_message('ack', {});\n",
       "    var fig = this;\n",
       "    // Wait a second, then push the new image to the DOM so\n",
       "    // that it is saved nicely (might be nice to debounce this).\n",
       "    setTimeout(function () {\n",
       "        fig.push_to_output();\n",
       "    }, 1000);\n",
       "};\n",
       "\n",
       "mpl.figure.prototype._init_toolbar = function () {\n",
       "    var fig = this;\n",
       "\n",
       "    var toolbar = document.createElement('div');\n",
       "    toolbar.classList = 'btn-toolbar';\n",
       "    this.root.appendChild(toolbar);\n",
       "\n",
       "    function on_click_closure(name) {\n",
       "        return function (_event) {\n",
       "            return fig.toolbar_button_onclick(name);\n",
       "        };\n",
       "    }\n",
       "\n",
       "    function on_mouseover_closure(tooltip) {\n",
       "        return function (event) {\n",
       "            if (!event.currentTarget.disabled) {\n",
       "                return fig.toolbar_button_onmouseover(tooltip);\n",
       "            }\n",
       "        };\n",
       "    }\n",
       "\n",
       "    fig.buttons = {};\n",
       "    var buttonGroup = document.createElement('div');\n",
       "    buttonGroup.classList = 'btn-group';\n",
       "    var button;\n",
       "    for (var toolbar_ind in mpl.toolbar_items) {\n",
       "        var name = mpl.toolbar_items[toolbar_ind][0];\n",
       "        var tooltip = mpl.toolbar_items[toolbar_ind][1];\n",
       "        var image = mpl.toolbar_items[toolbar_ind][2];\n",
       "        var method_name = mpl.toolbar_items[toolbar_ind][3];\n",
       "\n",
       "        if (!name) {\n",
       "            /* Instead of a spacer, we start a new button group. */\n",
       "            if (buttonGroup.hasChildNodes()) {\n",
       "                toolbar.appendChild(buttonGroup);\n",
       "            }\n",
       "            buttonGroup = document.createElement('div');\n",
       "            buttonGroup.classList = 'btn-group';\n",
       "            continue;\n",
       "        }\n",
       "\n",
       "        button = fig.buttons[name] = document.createElement('button');\n",
       "        button.classList = 'btn btn-default';\n",
       "        button.href = '#';\n",
       "        button.title = name;\n",
       "        button.innerHTML = '<i class=\"fa ' + image + ' fa-lg\"></i>';\n",
       "        button.addEventListener('click', on_click_closure(method_name));\n",
       "        button.addEventListener('mouseover', on_mouseover_closure(tooltip));\n",
       "        buttonGroup.appendChild(button);\n",
       "    }\n",
       "\n",
       "    if (buttonGroup.hasChildNodes()) {\n",
       "        toolbar.appendChild(buttonGroup);\n",
       "    }\n",
       "\n",
       "    // Add the status bar.\n",
       "    var status_bar = document.createElement('span');\n",
       "    status_bar.classList = 'mpl-message pull-right';\n",
       "    toolbar.appendChild(status_bar);\n",
       "    this.message = status_bar;\n",
       "\n",
       "    // Add the close button to the window.\n",
       "    var buttongrp = document.createElement('div');\n",
       "    buttongrp.classList = 'btn-group inline pull-right';\n",
       "    button = document.createElement('button');\n",
       "    button.classList = 'btn btn-mini btn-primary';\n",
       "    button.href = '#';\n",
       "    button.title = 'Stop Interaction';\n",
       "    button.innerHTML = '<i class=\"fa fa-power-off icon-remove icon-large\"></i>';\n",
       "    button.addEventListener('click', function (_evt) {\n",
       "        fig.handle_close(fig, {});\n",
       "    });\n",
       "    button.addEventListener(\n",
       "        'mouseover',\n",
       "        on_mouseover_closure('Stop Interaction')\n",
       "    );\n",
       "    buttongrp.appendChild(button);\n",
       "    var titlebar = this.root.querySelector('.ui-dialog-titlebar');\n",
       "    titlebar.insertBefore(buttongrp, titlebar.firstChild);\n",
       "};\n",
       "\n",
       "mpl.figure.prototype._remove_fig_handler = function (event) {\n",
       "    var fig = event.data.fig;\n",
       "    if (event.target !== this) {\n",
       "        // Ignore bubbled events from children.\n",
       "        return;\n",
       "    }\n",
       "    fig.close_ws(fig, {});\n",
       "};\n",
       "\n",
       "mpl.figure.prototype._root_extra_style = function (el) {\n",
       "    el.style.boxSizing = 'content-box'; // override notebook setting of border-box.\n",
       "};\n",
       "\n",
       "mpl.figure.prototype._canvas_extra_style = function (el) {\n",
       "    // this is important to make the div 'focusable\n",
       "    el.setAttribute('tabindex', 0);\n",
       "    // reach out to IPython and tell the keyboard manager to turn it's self\n",
       "    // off when our div gets focus\n",
       "\n",
       "    // location in version 3\n",
       "    if (IPython.notebook.keyboard_manager) {\n",
       "        IPython.notebook.keyboard_manager.register_events(el);\n",
       "    } else {\n",
       "        // location in version 2\n",
       "        IPython.keyboard_manager.register_events(el);\n",
       "    }\n",
       "};\n",
       "\n",
       "mpl.figure.prototype._key_event_extra = function (event, _name) {\n",
       "    var manager = IPython.notebook.keyboard_manager;\n",
       "    if (!manager) {\n",
       "        manager = IPython.keyboard_manager;\n",
       "    }\n",
       "\n",
       "    // Check for shift+enter\n",
       "    if (event.shiftKey && event.which === 13) {\n",
       "        this.canvas_div.blur();\n",
       "        // select the cell after this one\n",
       "        var index = IPython.notebook.find_cell_index(this.cell_info[0]);\n",
       "        IPython.notebook.select(index + 1);\n",
       "    }\n",
       "};\n",
       "\n",
       "mpl.figure.prototype.handle_save = function (fig, _msg) {\n",
       "    fig.ondownload(fig, null);\n",
       "};\n",
       "\n",
       "mpl.find_output_cell = function (html_output) {\n",
       "    // Return the cell and output element which can be found *uniquely* in the notebook.\n",
       "    // Note - this is a bit hacky, but it is done because the \"notebook_saving.Notebook\"\n",
       "    // IPython event is triggered only after the cells have been serialised, which for\n",
       "    // our purposes (turning an active figure into a static one), is too late.\n",
       "    var cells = IPython.notebook.get_cells();\n",
       "    var ncells = cells.length;\n",
       "    for (var i = 0; i < ncells; i++) {\n",
       "        var cell = cells[i];\n",
       "        if (cell.cell_type === 'code') {\n",
       "            for (var j = 0; j < cell.output_area.outputs.length; j++) {\n",
       "                var data = cell.output_area.outputs[j];\n",
       "                if (data.data) {\n",
       "                    // IPython >= 3 moved mimebundle to data attribute of output\n",
       "                    data = data.data;\n",
       "                }\n",
       "                if (data['text/html'] === html_output) {\n",
       "                    return [cell, data, j];\n",
       "                }\n",
       "            }\n",
       "        }\n",
       "    }\n",
       "};\n",
       "\n",
       "// Register the function which deals with the matplotlib target/channel.\n",
       "// The kernel may be null if the page has been refreshed.\n",
       "if (IPython.notebook.kernel !== null) {\n",
       "    IPython.notebook.kernel.comm_manager.register_target(\n",
       "        'matplotlib',\n",
       "        mpl.mpl_figure_comm\n",
       "    );\n",
       "}\n"
      ],
      "text/plain": [
       "<IPython.core.display.Javascript object>"
      ]
     },
     "metadata": {},
     "output_type": "display_data"
    },
    {
     "data": {
      "text/html": [
       "<img src=\"data:image/png;base64,iVBORw0KGgoAAAANSUhEUgAABRIAAAPOCAYAAABzjeTcAAAAAXNSR0IArs4c6QAAIABJREFUeF7svQn0JWddoF1ICCQhiWbBkPSSpbN0d5buLJ19pbOoeBhEHWZGcJkRh6PM6q6goHhc0KOCgsCH34DKDM4w6OAM2cjW2dcme9LpbJ0EBKMGsqLwnaec3/+r3Nz/vXXvrar3rXuf95z/6Q59b9Vbz/ve+lPP/S0v++Y3v/nNwiEBCUhAAhKQgAQkIAEJSEACEhhB4GUve9nLBCQBCUhAAotN4GWKxMXeAF69BCQgAQlIQAISkIAEJCCBOgQUiXUo+RoJSEAC801AkTjf6+vVSUACEpCABCQgAQlIQAISaISAIrERjB5EAhKQQK8JKBJ7vXxOXgISkIAEJCABCUhAAhKQQDcEFIndcPYsEpCABHImoEjMeXWcmwQkIAEJSEACEpCABCQggUwIKBIzWQinIQEJSCAhAUViQvieWgISkIAEJCABCUhAAhKQQF8IKBL7slLOUwISkEB7BBSJ7bH1yBKQgAQkIAEJSEACEpCABOaGgCJxbpbSC5GABCQwNQFF4tTofKMEJCABCUhAAhKQgAQkIIHFIaBIXJy19kolIAEJLEdAkejekIAEJCABCUhAAhKQgAQkIIGxBBSJYxH5AglIQAJzT0CROPdL7AVKQAISkIAEJCABCUhAAhKYnYAicXaGHkECEpBA3wkoEvu+gs5fAhKQgAQkIAEJSEACEpBABwQUiR1A9hQSkIAEMiegSMx8gZyeBCQgAQlIQAISkIAEJCCBHAgoEnNYBecgAQlIIC0BRWJa/p5dAhKQgAQkIAEJSEACEpBALwgoEnuxTE5SAhKQQKsEFImt4vXgEpCABCQgAQlIQAISkIAE5oOAInE+1tGrkIAEJDALAUXiLPR8rwQkIAEJSEACEpCABCQggQUhoEhckIX2MiUgAQmMIKBIdHtIQAISkIAEJCABCUhAAhKQwFgCisSxiHyBBCQggbknoEic+yX2AiUgAQlIQAISkIAEJCABCcxOQJE4O0OPIAEJSKDvBBSJfV9B5y8BCUhAAhKQgAQkIAEJSKADAorEDiB7CglIQAKZE1AkZr5ATk8CEpCABCQgAQlIQAISkEAOBBSJOayCc5CABCSQloAiMS1/zy4BCUhAAhKQgAQkIAEJSKAXBBSJvVgmJykBCUigVQKKxFbxenAJSEACEpCABCQgAQlIQALzQUCROB/r6FVIQAISmIWAInEWer5XAhKQgAQkIAEJSEACEpDAghBQJC7IQnuZEpCABEYQUCS6PSQgAQlIQAISkIAEJCABCUhgLAFF4lhEvkACEpDA3BNQJM79EnuBEpCABCQgAQlIQAISkIAEZiegSJydoUeQgAQk0HcCisS+r6Dzl4AEJCABCUhAAhKQgAQk0AEBRWIHkD2FBCQggcwJKBIzXyCnJwEJSEACEpCABCQgAQlIIAcCisQcVsE5SEACEkhLQJGYlr9nl4AEJCABCUhAAhKQgAQk0AsCisReLJOTlIAEJNAqAUViq3g9uAQkIAEJSEACEpCABCQggfkgoEicj3X0KiQgAQnMQkCROAs93ysBCUhAAhKQgAQkIAEJSGBBCCgSF2ShvUwJSEACIwgoEt0eEpCABCQgAQlIQAISkIAEJDCWgCJxLCJfIAEJSGDuCSgS536JvUAJSEACEpCABCQgAQlIQAKzE1Akzs7QI0hAAhLoOwFFYt9X0PlLQAISkIAEJCABCUhAAhLogIAisQPInkICEpBA5gQUiZkvkNOTgAQkIAEJSEACEpCABCSQAwFFYg6r4BwkIAEJpCWgSEzL37NLQAISkIAEJCABCUhAAhLoBQFFYi+WyUlKQAISaJWAIrFVvB5cAhKQgAQkIAEJSEACEpDAfBBQJM7HOnoVEpCABGYhoEichZ7vlYAEJCABCUhAAhKQgAQksCAEFIkLstBepgQkIIERBBSJbg8JSEACEpCABCQgAQlIQAISGEtAkTgWkS+QgAQkMPcEFIlzv8ReoAQkIAEJSEACEpCABCQggdkJKBJnZ+gRJCABCfSdgCKx7yvo/CUgAQlIQAISkIAEJCABCXRAQJHYAWRPIQEJSCBzAorEzBfI6UlAAhKQgAQkIAEJSEACEsiBgCIxh1VwDhKQgATSElAkpuXv2SUgAQlIQAISkIAEJCABCfSCgCKxF8vkJCUgAQm0SkCR2CpeDy4BCUhAAhKQgAQkIAEJSGA+CCgS52MdvQoJSEACsxBQJM5Cz/dKQAISkIAEJCABCUhAAhJYEAKKxAVZaC9TAhKQwAgCikS3hwQkIAEJSEACEpCABCQgAQmMJaBIHIvIF0hAAhKYewKKxLlfYi9QAhKQgAQkIAEJSEACEpDA7AQUibMz9AgSkIAE+k5Akdj3FXT+EpCABCQgAQlIQAISkIAEOiCgSOwAsqeQgAQkkDkBRWLmC+T0JCABCUhAAhKQgAQkIAEJ5EBAkZjDKjgHCUhAAmkJKBLT8vfsEpCABCQgAQlIQAISkIAEekFAkdiLZXKSEpCABFoloEhsFa8Hl4AEJCABCUhAAhKQgAQkMB8EFInzsY5ehQQkIIFZCCgSZ6HneyUgAQlIQAISkIAEJCABCSwIAUXigiy0lykBCUhgBAFFottDAhKQgAQkIAEJSEACEpCABMYSUCSOReQLJCABCcw9AUXi3C+xFygBCUhAAhKQgAQkIAEJSGB2AorE2Rl6BAlIQAJ9J6BI7PsKOn8JSEACEpCABCQgAQlIQAIdEFAkdgDZU0hAAhLInIAiMfMFcnoSkIAEJCABCUhAAhKQgARyIKBIzGEVnIMEJCCBtAQUiWn5e3YJSEACEpCABCQgAQlIQAK9IKBI7MUyOUkJSEACrRJQJLaK14NLQAISkIAEJCABCUhAAhKYDwKKxPlYR69CAhKQwCwEFImz0PO9EpCABCQgAQlIQAISkIAEFoSAInFBFtrLlIAEJDCCgCLR7SEBCUhAAhKQgAQkIAEJSEACYwkoEsci8gUSkIAE5p6AInHul9gLlIAEJCABCUhAAhKQgAQkMDsBReLsDD2CBCQggb4TUCT2fQWdvwQkIAEJSEACEpCABCQggQ4IKBI7gOwpJCABCWROQJGY+QI5PQlIQAISkIAEJCABCUhAAjkQUCTmsArOQQISkEBaAorEtPw9uwQkIAEJSEACEpCABCQggV4QUCT2YpmcpAQkIIFWCSgSW8XrwSUgAQlIQAISkIAEJCABCcwHAUXifKyjVyEBCUhgFgKKxFno+V4JSEACEpCABCQgAQlIQAILQkCRuCAL7WVKQAISGEFAkej2kIAEJCABCUhAAhKQgAQkIIGxBBSJYxH5AglIQAJzT0CROPdL7AVKQAISkIAEJCABCUhAAhKYnYAicXaGHkECEpBA3wkoEvu+gs5fAhKQgAQkIAEJSEACEpBABwQUiR1A9hQSkIAEMiegSMx8gZyeBCQgAQlIQAISkIAEJCCBHAgoEnNYBecgAQlIIC0BRWJa/p5dAhKQgAQkIAEJSEACEpBALwgoEnuxTE5SAhKQQKsEFImt4vXgEpCABCQgAQlIQAISkIAE5oOAInE+1tGrkIAEJDALAUXiLPR8rwQkIAEJSEACEpCABCQggQUhoEhckIX2MiUgAQmMIKBIdHtIQAISkIAEJCABCUhAAhKQwFgCisSxiHyBBCQggbknoEic+yX2AiUgAQlIQAISkIAEJCABCcxOQJE4O0OPIAEJSKDvBBSJfV9B5y8BCUhAAhKQgAQkIAEJSKADAorEDiB7CglIQAKZE1AkZr5ATk8CEpCABCQgAQlIQAISkEAOBBSJOayCc5CABCSQloAiMS1/zy4BCUhAAhKQgAQkIAEJSKAXBBSJvVgmJykBCUigVQKKxFbxenAJSEACEpCABCQgAQlIQALzQUCROB/r6FVIQAISmIWAInEWer5XAhKQgAQkIAEJSEACEpDAghBQJC7IQnuZEpCABEYQUCS6PSQgAQlIQAISkIAEJCABCUhgLAFF4lhEvkACEpDA3BNQJM79EnuBEpCABCQgAQlIQAISkIAEZiegSJydoUeQgAQk0HcCisS+r6Dzl4AEJCABCUhAAhKQgAQk0AEBRWIHkD2FBCQggcwJKBIzXyCnJwEJSEACEpCABCQgAQlIIAcCisQcVsE5SEACEkhLQJGYlr9nl4AEJCABCUhAAhKQgAQk0AsCisReLJOTlIAEJNAqAUViq3g9uAQkIAEJSEACEpCABCQggfkgoEicj3X0KiQgAQnMQkCROAs93ysBCUhAAhKQgAQkIAEJSGBBCCgSF2ShvUwJSEACIwgoEt0eEpCABCQgAQlIQAISkIAEJDCWgCJxLCJfIAEJSGDuCSgS536JvUAJSEACEpCABCQgAQlIQAKzE1Akzs7QI0hAAhLoOwFFYt9X0PlLQAISkIAEJCABCUhAAhLogIAisQPInkICEpBA5gQUiZkvkNOTgAQkIAEJSEACEpCABCSQAwFFYg6r4BwkIAEJpCWgSEzL37NLQAISkIAEJCABCUhAAhLoBQFFYi+WyUlKQAISaJWAIrFVvB5cAhKQgAQkIAEJSEACEpDAfBBQJM7HOnoVEpCABGYhoEichZ7vlYAEJCABCUhAAhKQgAQksCAEFIkLstBepgQkIIERBBSJbg8JSEACEpCABCQgAQlIQAISGEtAkTgWkS+QgAQkMPcEFIlzv8ReoAQkIAEJSEACEpCABCQggdkJKBJnZ+gRJCABCfSdgCKx7yvo/CUgAQlIQAISkIAEJCABCXRAQJHYAWRPIQEJSCBzAorEzBfI6UlAAhKQgAQkIAEJSEACEsiBgCIxh1VwDhKQgATSElAkpuXv2SUgAQlIQAISkIAEJCABCfSCgCKxF8vkJCUgAQm0SkCR2CpeDy4BCUhAAhKQgAQkIAEJSGA+CCgS52MdvQoJSEACsxBQJM5Cz/dKQAISkIAEJCABCUhAAhJYEAKKxAVZaC9TAhKQwAgCikS3hwQkIAEJSEACEpCABCQgAQmMJaBIHIvIF0hAAhKYewKKxLlfYi9QAhKQgAQkIAEJSEACEpDA7AQUibMz9AgSkIAE+k5Akdj3FXT+EpCABCQgAQlIQAISkIAEOiCgSOwAsqeQgAQkkDkBRWLmC+T0JCABCUhAAhKQgAQkIAEJ5EBAkZjDKjgHCUhAAmkJKBLT8vfsEpCABCQgAQlIQAISkIAEekFAkdiLZXKSEpCABFoloEhsFa8Hl4AEJCABCUhAAhKQgAQkMB8EFInzsY5ehQQkIIFZCCgSZ6HneyUgAQlIQAISkIAEJCABCSwIAUXigiy0lykBCUhgBAFFottDAhKQgAQkIAEJSEACEpCABMYSUCSOReQLJCABCcw9AUXi3C+xFygBCUhAAhKQgAQkIAEJSGB2AorE2Rl6BAlIQAJ9J6BI7PsKOn8JSEACEpCABCQgAQlIQAIdEFAkdgDZU0hAAhLInIAiMfMFcnoSkIAEJCABCUhAAhKQgARyIKBIzGEVnIMEJCCBtAQUiWn5e3YJSEACEpCABCQgAQlIQAK9IKBI7MUyOUkJSEACrRJQJLaK14NLQAISkIAEJCABCUhAAhKYDwKKxPlYR69CAhKQwCwEFImz0PO9EpCABCQgAQlIQAISkIAEFoSAInFBFtrLlIAEJDCCgCLR7SEBCUhAAhKQgAQkIAEJSEACYwkoEsci8gUSkIAE5p6AInHul9gLlIAEJCABCUhAAhKQgAQkMDsBReLsDD2CBCQggb4TUCT2fQWdvwQkIAEJSEACEpCABCQggQ4IKBI7gOwpJCABCWROQJGY+QI5PQlIQAISkIAEJCABCUhAAjkQUCTmsArOQQISkEBaAorEtPw9uwQkIAEJSEACEpCABCQggV4QUCT2YpmcpAQkIIFWCSgSW8XrwSUgAQlIQAISkIAEJCABCcwHAUXifKyjVyEBCUhgFgKKxFno+V4JSEACEpCABCQgAQlIQAILQkCRuCAL7WVKQAISGEFAkej2kIAEJCABCUhAAhKQgAQkIIGxBBSJYxH5AglIQAJzT0CROPdL7AVKQAISkIAEJCABCUhAAhKYnYAicXaGHkECEpBA3wkoEvu+gs5fAhKQgAQkIAEJSEACEpBABwQUiR1A9hQSkIAEMiegSMx8gZyeBCQgAQlIQAISkIAEJCCBHAgoEnNYBecgAQlIIC0BRWJa/p5dAhKQgAQkIAEJSEACEpBALwgoEnuxTE5SAhKQQKsEFImt4vXgEpCABCQgAQlIQAISkIAE5oOAInE+1tGrkIAEJDALAUXiLPR8rwQkIAEJSEACEpCABCQggQUhoEhckIX2MiUgAQmMIKBIdHtIQAISkIAEJCABCUhAAhKQwFgCisSxiHyBBCQggbknoEic+yX2AiUgAQlIQAISkIAEJCABCcxOQJE4O0OPIAEJSKDvBBSJfV9B5y8BCUhAAhKQgAQkIAEJSKADAorEDiB7CglIQAKZE1AkZr5ATk8CEpCABCQgAQlIQAISkEAOBBSJOayCc5CABCSQloAiMS1/zy4BCUhAAhKQgAQkIAEJSKAXBBSJvVgmJykBCUigVQKKxFbxenAJSEACEpCABCQgAQlIQALzQUCROB/r6FVIQAISmIWAInEWer5XAhKQgAQkIAEJSEACEpDAghBQJC7IQnuZEpCABEYQUCS6PSQgAQlIQAISkIAEJCABCUhgLAFF4lhEvkACEpDA3BNQJM79EnuBEpCABCQgAQlIQAISkIAEZiegSJydoUeQgAQk0HcCisS+r6Dzl4AEJCABCUhAAhKQgAQk0AEBRWIHkD2FBCQggcwJKBIzXyCnJwEJSEACEpCABCQgAQlIIAcCisQcVsE5SEACEkhLQJGYlr9nl4AEJCABCUhAAhKQgAQk0AsCisReLJOTlIAEJNAqAUViq3g9uAQkIAEJSEACEpCABCQggfkgoEicj3X0KiQgAQnMQkCROAs93ysBCUhAAhKQgAQkIAEJSGBBCCgSF2ShvUwJSEACIwgoEt0eEpCABCQgAQlIQAISkIAEJDCWgCJxLCJfIAEJSGDuCSgS536JvUAJSEACEpCABCQgAQlIQAKzE1Akzs7QI0hAAhLoOwFFYt9X0PlLQAISkIAEJCABCUhAAhLogIAisQPInkICEpBA5gQUiZkvkNOTgAQkIAEJSEACEpCABCSQAwFFYg6r4BwkIAEJpCWgSEzL37NLQAISkIAEJCABCUhAAhLoBQFFYi+WyUlKQAISaJWAIrFVvB5cAhKQgAQkIAEJSEACEpDAfBBQJM7HOnoVEpCABGYhoEichZ7vlYAEJCABCUhAAhKQgAQksCAEFIkLstBepgQkIIERBBSJbg8JSEACEpCABCQgAQlIQAISGEtAkTgWkS+QgAQkMPcEFIlzv8ReoAQkIAEJ9IHAN77xjeIf//Efy6l+y7d8S/nzspe9rA9Td44SkIAEJLAgBBSJC7LQXqYEJCCBEQQUiW4PCUhAAhKQQMcEvvnNbxb8IA6rP8hE5OHOO+9c/hlCMaSiYrHjhfJ0EpCABCTwIgKKRDeEBCQgAQkoEt0DEpCABCQggZYJIA0j4jDEIf/NT/wbU0AUvvzlLy9FIv97/G/878PEYsvT9vASkIAEJCABRaJ7QAISkIAEXvy74JvxpCIYCUhAAhKQgAQaITAoDv/hH/5hSRhWxWE10rAqC3faaaclkRjRizGxqlCMv8d7G5m8B5GABCQgAQksQ8CIRLeGBCQgAQkYkegekIAEJCABCcxIoCoOkYZEHVajDeM7uxCH/MkYlqrMvyESB0cIxer3f8tFKpoCPeOC+nYJSEACEhhKQJHoxpCABCQgAUWie0ACEpCABCQwIYHl6huGUBwmDuvKveVEYnWKcfxqtOKTTz5ZCsz99tvvJbUVJ7w8Xy4BCUhAAhJQJLoHJCABCUhg+O8CU5vdGRKQgAQkIIHRBJYThxF1yL9XowNnSTWuIxKHScWbbrqpeOaZZ4pTTz31JXOpdoGuKzTdExKQgAQkIIFBAkYkuickIAEJSMCIRPeABCQgAQlIYIDAco1R2hCHg/AnFYnx/htvvLF49tlni9NPP72sr2gKtNtaAhKQgASaJqBIbJqox5OABCTQPwKKxP6tmTOWgAQkIIEGCYR0i27K1DiM5iicBnnIGGxs0lZk36wi8YwzzliiMywFOqIl7QLd4CbyUBKQgAQWhIAicUEW2suUgAQkMIKAItHtIQEJSEACC0VgsKNyNEaJaMPt27cXO3bsKE466aTila985VKacFvicBB+kyKxeuxhUjEE6TCp2NX1LtTm82IlIAEJ9JyAIrHnC+j0JSABCTRAQJHYAEQPIQEJSEAC+RIYFIcRbVjtqszso6Pygw8+WDzyyCNlivArXvGKzi9sWpF4ww03FM8991xRjUgcNfk6XaCrUZidg/CEEpCABCSQHQFFYnZL4oQkIAEJdE5Akdg5ck8oAQlIQAJtEhgmDqvScFhHZeYTEXgPPPBA8fDDD8+9SKyugSnQbe5Ijy0BCUhgfggoEudnLb0SCUhAAtMSUCROS873SUACEpBAFgSW66gcQnGYOByVttu1SGR+RBL+3d/9XfG3f/u3xVNPPVXsuuuuxWte85ry51WvelUtzkQkPv/886UAnWWYAj0LPd8rAQlIYL4JKBLne329OglIQAJ1CCgS61DyNRKQgAQkkA2B5cRhUx2VqZH40EMPtRaRyPyfeeaZUhzGDwKQgeDcfffdy38nBZuxxx57FPvuu28pFfn7chK0KZE4uNDVDtAhGaNhS6SD82f8PZuN4kQkIAEJSKBxAorExpF6QAlIQAK9I6BI7N2SOWEJSEACi0UAQRgdlauNUZoSh4M0QySedtppxc477zwzbOTb008//SJx+MILL5THRb4hB7/t276t+NZv/dby79Rl5H8nOvHLX/5y8dd//delWGTQ/AWhiFjce++9i5e//OVL87v++usLjjtrROKoCzYFeubt4AEkIAEJ9JqAIrHXy+fkJSABCTRCQJHYCEYPIgEJSEACTRCI6LeqOAx5WG0OMhgR12SH4VlFIvP82te+tpSq/Pd///fF17/+9RIP4m/PPfcspWGIQ6RhdQw2WwkRGVIRwRjHQiaGWLzttttaF4mDa1xdE6Iq77333mL//fcv5xRRihGp2OQaNbHXPIYEJCABCUxOQJE4OTPfIQEJSGDeCCgS521FvR4JSEACPSIw2BilGnEY/8blVLsHh0Rs6zInFYlERn71q19dijhEHEZaMuIwpCFRh69+9atLwTZqjOvaTNQhUjF+YBZikfOdcMIJ5Xm6FnfI0y1bthSHHXZYsXr16nJOsVaxfqZAt7VrPa4EJCCBbggoErvh7FkkIAEJ5ExAkZjz6jg3CUhAAnNGIEdxOIh4nEhEHNIQJeobIg5D5u20006lOIxU5WmE3jiRWJ0vc3nyySfL9OcdO3YU/DeDBi3RrGWvvfYaKy+b2Gakb1911VXFEUccsSQSq/UVq0K4WluxbTHcxLV5DAlIQAIS+CcCikR3ggQkIAEJKBLdAxKQgAQk0BqBQXFIpB7CCfmFbIsahFWxFMKptUmNOfCgSEQSIg5JKUYe8vcQdsw/Ig75c7fddps5EnASkVi9lOuuu67s2rxixYpSLCI4GUQp7rPPPksp0E3UfRyGMCISEYkHHnjgi15STYGOf6imp1cjFbuOpEy1zzyvBCQggT4SUCT2cdWcswQkIIFmCSgSm+Xp0SQgAQksNIHlOiqHUORPUnKppXfMMccURMvlJo62bdtWPPLII6WQI2UZcRhNRmh2UhWHu+66a+Pzn0UkImppEsNAKkZdxb/5m79ZippE4EZdxSbEZ2z4EIlr165dikgc9mGwYctC3yK8eAlIoOcEFIk9X0CnLwEJSKABAorEBiB6CAlIQAKLSmA5cTiqozJy64477ig2btxYRiWmHjRCIXovUpURhzFIEa6mKvPfbYvPpkRilStRlZECTbQikpGBCA2pyFqMq984aq2QrldffXWxbt26YtWqVbWWdVAq8t+DjXSMVqyF0hdJQAIS6ISAIrETzJ5EAhKQQNYEFIlZL4+Tk4AEJJAXAQRhtaMy/x0/kb46rqMyIguRuGHDhjIiseuBOAxpSLoykXQxEGukAiPFjj/++GKPPfboenqlzKPW4qSD1GbW5tRTTx35VtYJWco6IHVDnHLOfffdtxSLpEK/4hWvmGgK04jEwROYAj0Rcl8sAQlIoHMCisTOkXtCCUhAAtkRUCRmtyROSAISkEA+BAbFIaKqmqY8LIJsXMQe8ur222/vTCQSfRfikD+p0RiD1N5qqjKpyw8++GD5g5Djv7se04rEa6+9tpS640Ti4PU899xzS1KRFGiOwRpGCjRiEcE6biAkr7nmmokiEkcd0xToccT9dwlIQALdE1Akds/cM0pAAhLIjYAiMbcVcT4SkIAEEhGIaDBkIbX2+LMabRgNRpBM0Rxlmo67IRKpkbj33ns3frWIsao4fOaZZ5bOQRfl6Ki85557LjV7qU5i0URi9dpZd2RiRCu+8MIL5T/DLaIVEa/DZHGIxPXr1xcrV65sdF2HSUVOYMOWRjF7MAlIQAJjCSgSxyLyBRKQgATmnoAice6X2AuUgAQkMJzAYEfltsTh4Nm/8pWvFF/4whfKZiuzikSuIcRhdFXmv0My7b777ksRh4jDOum6iywSq2sFW2pHIhX5iRRwGFZToCMNm9cSFXnkkUeWjWraHHVSoKvCu825eGwJSEACi0RAkbhIq+21SkACEhhOQJHozpCABCSwIAQGxSHRZ9EUJf4ERUQbRuONcanKk+ILkXj00UeXtfgmGVwDEYbViMNoHMI8qWkYqcqIw2lqDfZZJMLnlFNOmQRp7dfCPbpA07gl0tqRwYjFXXbZpbjllls6EYmDwpP/Drl43333ldG0REaHSLUGAAAgAElEQVSGTKw2bKl9wb5QAhKQgAReQkCR6KaQgAQkIAFFontAAhKQwJwSWK6jcrXG4aA4bFoaDkNL6uzWrVuLOiKRuVLTsCoOI90WORTikHRl/k6jlFnHQw89VGzfvr2XNRLbFIlVrkhohHCkQNPAJgZScc2aNeV6dLGfBqXi9ddfX6bmn3zyyUv/ZAr0rJ8K3y8BCUjgnwgoEt0JEpCABCSgSHQPSEACEpgTAsuJw4g2nKYxShtoQiQeddRRZSTboAgihRZxSKoy6bIhqZCERBlGxCGiKqImm5xniEQi+171qlc1eehax5q22QqNThhtRSQuN3n2F+v16KOPFk888cTSy2hUEynQRC02IXnrAKw2nYkoRd4XdRZDKhqtWIemr5GABCTwYgKKRHeEBCQgAQkoEt0DEpCABHpKYLCjMv9Nmi8iLBqKVCOxpmmM0gaaqkhEMH31q19dijhEHBJNxkA8hTTkemj40YY4HLxGReJ0q474JRrw8MMPLw9AtCKCEYHHurHWdIBGLrYpaJcTqnaBnm5dfZcEJCCBKgFFovtBAhKQgAQUie4BCUhAAj0hMCgOqQNXTVPm76T93nDDDcWBBx5YHHTQQZ2nlo5DyTXs2LGj2LZtWykGn3322bKeHYN6hojDkKD8e9epscyjzyIRXtWU3nHr0eS/h0gkZX3//fcvD81+jBRo/gxJTDQpUpEfGuI0uc6IxDoc6jRsqXYnb5KVx5KABCTQVwKKxL6unPOWgAQk0BwBRWJzLD2SBCQggcYIhORAsiFf6nZURtxcffXVpUTkJ/Vg3k899VSZpkx0Gn9HJoY43GuvvZaiDnfbbbdGhdK0165InI4cDViQ2HTjfu1rX/uSg7Du7IPoAo1EZhCdGJGKRC3OGnXK/iea9aSTTqp9IaZA10blCyUggQUnoEhc8A3g5UtAAhKgXu43I9dHHBKQgAQkkIzAYEfluuJwMJILkbhly5YyIvHggw/u/HqQnqQnR3MUxGH8mqFmHhGHO++8c1lPj6663/7t3975HMedUJE4jtDwfx8nEqvvYk9QCzO6QLNfGAhAOnlHbUX2yqSD/f+KV7yiOPHEEyd9a/n6YSnQ/O/Vmorx91zKBUx1ob5JAhKQwBQEFIlTQPMtEpCABOaMgCJxzhbUy5GABPpBYFAcIuCiKUr8yZVEamVEaY1LAaUxyVVXXVWsXr26OOSQQ1qHwfmq4pB6hyFiiDSrpirz38yfqLRbb701e5FIivAuu+zSOsPBE0zbbIVIPN6bKrWZ2pc33nhjsWHDhmK//fabiBu1PZGK/JACHenu7J+IVqyb6s7+R0BOKxIHJ24K9ERL6YslIIE5J6BInPMF9vIkIAEJ1CCgSKwByZdIQAISmJXAch2VqzUOB8XhOGk4bE4IySuvvLJYtWpVsWbNmlmn/ZL3Iw4j2hAhSFRZjF133XUpTRkBtFxDDd5/yy23FOvWrZtYODV+QUMO+PDDDxcPPPBAKeQUifWJzyISq2dBIhLdGNGKzz33XPnPrEXUVaSO5nIp0Ox/9t6mTZvqT77mK23YUhOUL5OABOaWgCJxbpfWC5OABCRQm4AisTYqXygBCUigPoHlxGFEG/LvkRZZTZOsf4bhr0TCXHHFFcXKlSuLQw89dNbDlV2gQxzy59NPP710TGoaRldl/iR1uc5QJI6mNEtE4qS1AeusV93XEEl40003FRs3bmwsZZ3PCVGuUVeRVHkGjXlIgUYs8mc1BRqRiHQ84YQT6k59qtcNSsXqZ7oaSWzDlqnw+iYJSCBTAorETBfGaUlAAhLokIAisUPYnkoCEphfAoMdlfnv+InUyBCHbYqFWUUi0V9VcfjMM88sLRqppdFRec8993yRvJlkZUmFvvnmm41IXAaaInH53cT+jEhFIiD5jPG5ihRoxCIyE8l9/PHHT7ItZ37tYAo082SvI/QRvKxrm5/9mS/AA0hAAhKoQUCRWAOSL5GABCQw5wQUiXO+wF6eBCTQDoFBcYjAq6YpD4tOmiZVedLZM6/LL7+8WLFiRXHYYYeNfDtzDHEYXZUjjZS57r777ksRh4hDGlg0MUIkrl27dmh33ybOMcsx+praTJMRIvUm6VY8C6fB9yLOEMTHHntsGSnY9uAzh0wkWpFzEz3LYO+S2nzUUUeV+3fWLtDTXAefrbvuuqtsKrR58+YXRR9Xm7aEWJzmHL5HAhKQQAoCisQU1D2nBCQggbwIKBLzWg9nIwEJZEggIo0QF9WfanOUEBjViKMuxOEgLuZ62WWXFQcccEBx+OGHv+if+TciDKsRh1X5sscee7xIHCKl2hikpxI1pkgcTnfaiMRFE4lVeuxtBDVCcfv27UsNf5Df0QGaFOi29vSwlbzzzjtLkXj++eeX/xz3kXhtNULZaMU27jQeUwISaIOAIrENqh5TAhKQQL8IKBL7tV7OVgIS6IDAYEdl5CHScMeOHWWKIkIiF3E4DMfnP//5Yv/99y9FIjUNq+LwhRdeKN+CuAhxSLoyf+fauhghEo844ohynrmNRx55pNi2bVvvmq0gEhFnTXUrnnRdiAykic5xxx1XyrtUg/1PNC1RkYhFohYjQnivvfZa6gJNc6A2xx133FE89thjSyIxzlWnC3STdVPbvEaPLQEJLB4BReLirblXLAEJSGCQgCLRPSEBCSw8gUFxSOfjarRhNFUgbZOGIjSTCJGYEzzmSRflG2+8sZwn10CXZQaSkPTkaI6COEyR8slcaJ7BHHMXiaQIty2bhu2fWSISFYlFgUhEjsfnlM8zjWAiBTo+E9T8jC7QfDaajiC+/fbbiyeeeKI477zzlr1N2AU6pzuoc5GABOoQUCTWoeRrJCABCcw3AUXifK+vVycBCQwhsFxH5WqNQ95W7bzKf19//fVlgxFqwOUwEIVIuYg4JLUTaRKSk+irEIdEaKUSh4OsQiQSMUkKdm4jIhIViZOtzJe+9KXi1ltvLZucRNTuZEdo5tWXXnppsffeexcbNmx4yQH5jPN5CamIeGfwuY4UaN7bRAr0F77whQIm5557bq0LGyYV47M8rK5i0+Kz1iR9kQQksPAEFIkLvwUEIAEJSKBQJLoJJCCBuSdQRxxGvbJRKYWIRAQDqZspBuKQtOCqOCTtmsG8kIZEYpGWS6TV+vXrU0xz7DmRNzfccEOZeq1IfCmuaSMSr7rqqlKIpUptzkUkXnLJJaXIHCYSB2lTMxSpyA8Nh7hXwB+ZGGKRxi3TjNtuu61Mq37d6143zdtfVFMxJOPgfapaW3Gqk/gmCUhAAhMSUCROCMyXS0ACEphDAorEOVxUL0kCi05gsKMy/x0/UZ+s2ugg/j6OG+m4vJaIqy4GkhBxGB2V+TvXwUAYRbQhf+62225LqZlXXHFFKVJyF4l0laa7dG6jrxGJqUXiF7/4xQJ5dsIJJ5QiLtW4+OKLS5F+zDHHTDQFUp6rKdAR3UsZgJCK/L1uJCDRmXx2zznnnInmMezFpkDPjNADSEACDRFQJDYE0sNIQAIS6DEBRWKPF8+pS0AC/0RgUBwi4KppytFooRptWFcGVBnTaZhzbdq0qRX0iAvSkyPiEHEYAoGah1VxSO2+5a7hyiuvLEhrPvLII1uZ56wHpQEM0Z2KxOEkZ4lIZJ+0tT/HrXsuIvGiiy4q9ttvv+Loo48eN+Vl/53PORIwUqCJXGTAN+oq8hkb1aCIxjN8ns8+++yp57HcG+s0bKl2kG98Ah5QAhJYWAKKxIVdei9cAhKQwBIBRaKbQQIS6BWBeIBGFlZ/qs1RuKBBaTiNOBwEQ7MVZF9TqaNEQFXFIbUDQxySThnikHRl/rvuNRCZxntyF4mHHnposXLlyuz2X18jEhHI7JNUIpHGIlu3bi3Pj2RLNS688MKyG/hRRx3VyBT4TCK/QyoiGBlIRCIvEYtELCIZq4P7BZ/ps846q5F5jJOK/Lsp0K2i9uASkMA//f+rlwlCAhKQgAQWm4AicbHX36uXQPYEBjsqIw+racqR6tuGOByEQ4TRCy+8UNCEY5rBexGHkaocjR44FhGG1YjDaeuycSxEIsdqSqRMc62j3hMRibmKxEcffbS4//77y3XuU9fm1CLx8ccfL2gwkoNIpPZmWyKdz/GXv/zlUiySCh11Sun8HNGKdIRGJLLXzzzzzKY/Qsseb7mGLRGlzX2lWldRH9DZ0ngiCcwNAUXi3CylFyIBCUhgagKKxKnR+UYJSKANAoPikAjAarRhPCgPdlTu4oGYmmfPPfdccfLJJ9e69Oeff34pTZl0ZaRCDGoaVsXhYDRTrRMs86ItW7YU1HKbJbVzlvOPey9potddd12Ru0gk8pR16npMm9qci0iEGxGxqcbnPve5MtK1ixqh3JuefPLJpYYt3B8Yu+yyy1KzFERiqo7pEcF97733Fg8//HCZZv2KV7xiKWJbqZhql3peCfSXgCKxv2vnzCUgAQk0RUCR2BRJjyMBCUxFoE5HZQ6cQhwOXhCNJJBgp5xyytBrRSJEfUP+jLpqvJgIpeiqTOQSzVLaGldffXV5vkmbTbQ1n8Hjhkhcs2ZNsWrVqq5OW/s8EZHYR5GIwKLZSYoREYkpRSL3E1KbuxKJVc6cmyjj6AJN9DGDFGhSn+Onzc/+cut+9913lyJx8+bN5b3UFOgUnxDPKYH5IKBInI919CokIAEJzEJAkTgLPd8rAQlMTGBQHD777LNlujACJCIPo4tyNV154hO18AbqvyEKTj311PJBHHEYacqIw4hGYt677777UsQh4pAooK7GNddcU6bkbtiwoatTTnQe1vzaa68tFInDsc0SkZhSJD722GPF7bffXqaEI81TDO4hNFtBUK9bty7FFJbOyR7nnsDnnxToKMNAtGbUVUT4dzHuuuuugtqf559/fhmNOJgCPawhldGKXayM55BA/wgoEvu3Zs5YAhKQQNMEFIlNE/V4EpDAiwgMdlSO+oYhDUm54yH7tNNOW4o67CJNedJl4kGb1GaaJ+yzzz5l5CGpywzmSypxpCojDnbaaadJT9HY6xGJCKWNGzc2dswmDxQi8ZBDDilWr17d5KEbOVZfIxKvuOKKUiCnikjcsWNHcccdd2QhEtlXa9eubWQ/THsQ0vepTcgXD/z5N3/zN0u1FePewXqFVEQwtpUCzbqwPhdccMHQy7EL9LSr7PsksHgEFImLt+ZesQQkIIFBAopE94QEJNAogUFxGEX+QxwORr4gEr/4xS+WtbtyGtGptZqqTOQkg4f9EIc8/PN30hdzGURC0VQhV5FIlBay8+CDDy4OPPDAXLAtzUORON2ShEikhigyPcXgfnPxxReX++qII45IMYWlc/I55D4yWAqB/+2pp55a6gLN3xlELfMlBWKRP5uMYiZSlNRzIhLHjWENWwajxKvRiuOO579LQALzRUCROF/r6dVIQAISmIaAInEaar5HAhIoCUQUCw/v1Z9qcxReN6qjMiKRlEhEYspIxKhvhjgkXZn6Zl//+tfL60QSIgsRiUiw008/vbXIoSa2FpFQ1GE79thjmzhc48dQJI5GOm1qMxGJNIc5/vjjG1+zOgfMQSTSnOmSSy4pDjrooOLwww+vM+3WXoMs5542rjkTn4eoq0jjFu6fvC9SoBGLs3YPp5v2l770peLcc8+d6HqX6wIdYjGEYtSwTXkPn+jCfLEEJDA1AUXi1Oh8owQkIIG5IaBInJul9EIk0D6BwY7KyMNIVY5/GycOB2d53333lSl3Z511VqdyjnmTphwRh4hDJESIw2pHZeod8qBMnTEe+JlrzuP6668vU6uPO+64LKdJWicNYXKNSGQ/si/71mwltUgkkvPOO+8sI/AQ7ykG8v/SSy/NQiTSPZ2oQvZR3cE9iBRo7jNf/vKXyy8vGNRSpFkLUpF706TCjkZRlJCg2coso04KdG61bWe5Xt8rAQm8lIAi0V0hAQlIQAKKRPeABCSwLIFBcchDbjXaMKJVZumovG3btrIJwBlnnNFqXUHmTQphVRwiQhlIt+iozJ88tA97UKfzaY5p2IMLeMMNN5TiM1Vk2riPVIhEosb4yW2ESNy0aVO5F7oe00YkXn755eV8U607n2NkOzUBke8pBuLt85//fCmpDzvssBRTWDrnVVddVbzyla8s2EfTDO6vfMER0Yo0emIgJ6OuIinQdeqxUt+VSOtzzjlnmqkMfY8p0I2h9EAS6BUBRWKvlsvJSkACEmiFgCKxFaweVAL9JDDYUTkiDkMoNiEOB8k88MADxcMPP1ymCzdZE4y5Iw6jqzJ/j66pnIe0wYg6JB20ToTPPffcU9YZa/JhvI2dkrtIRPYQraVIHL76isTpPxUhEmnkc+ihh05/oAbeeeWVV5ZNj5pqfvPMM88sRSqSAh31Zvfee+8lscj5ho2bb765vB+2VYvWFOgGNoyHkEBPCCgSe7JQTlMCEpBAiwQUiS3C9dASyJ1AHXE4WGS/jnCb5LoffPDBgh+imIjemXYQLUn0TkQc8tAcD7cct5qqTL2xaa4jl3qO4xjdeOON5UuaEhjjzjfpv4dIpCEGkWO5jT5HJBIJmCqlnS8EiNpNGZFItOtll11WrFmzpvxJOdpMNSeFm1Rl0p/5iXqurD/RivyQXh73uZtuuqkgorGrsgyRAg3/uA/bsCXlbvTcEmiOgCKxOZYeSQISkEBfCSgS+7pyzlsCUxAY7Kgc9Q2X66gcD35TnKr2Wx566KFi+/btZV01Og3XHTw4V8Uh9Q7jgZXjhDgk8pD/nkYcDs4lVT3HukzidUgD1nTalMpJzzfp61k70j4VicPJzRKRmINIPO2005KkhEOTxiWkeBONSFRiysE8ulgPPut8gRIp0EQuMvgCJeoqcp+FDSUkuh7DohWJFGc+K1asKMsw2AW661XxfBKYnoAicXp2vlMCEpDAvBBQJM7LSnodEhhCYFAcku5bTVOO1LjBrspdwqSuGnUSTzrppJGdSYliQxxGqnLUC2OuRBhWIw4nEZKTXOv9999f0FDizDPPLDs55zpIYyRCc5ImD11eS4jE1atXJ5c9w67biMTpdgOyivT/lCLx2WefLYgEzEEkEhm55557dt49/emnn16SigjGEHncs4444ohSLrZ1j6yzc5gPXaQRn1Emwi7Qdcj5GgnkQUCRmMc6OAsJSEACKQkoElPS99wSaJBApJIhC6s/1eYonG5QGjYRqTfLZSDmEHSDHXJJUYw0Zf7k4TgGNQ2r4nCWlOhJ5h71HNtuDDPJnIa99pZbbim7vSJncxxITurH5SoSH3vssYI09r41W0Fckc6aKrU5RCL1TvmMphhE47G3aLSSOm2epi9ERG/cuDEFivKc3AdIgSblPNKf+d8RnBGtSNRk178H6CJNd2pEYjViMX5HLScWk4H0xBKQwBIBRaKbQQISkIAEFInuAQn0lMBgR+VojMLDGQ+OK1euLJuX5CYOB3GHtDnmmGPKB92Qh5Gex+vpRBtdlXkA3nnnnZOsGinYyJKmG8M0fTF9EYmrVq1KXsduGPvYk9SYTNF9eNrU5tQikVqnCFhEO1HCKQZfOJA2f/jhhyfvCH7ppZcWNELZsGFDChQvOuc111xTCjsiEiMFmuhNBtGJ0QWa+bL/2h7DukiPathSTX3m712U3WibgceXQF8JKBL7unLOWwISkEBzBBSJzbH0SBJolcCgOCSqqxptGA9hdBVGeBFNVbcbcasTH3Jw5kp9LNKUn3jiiTJlOQYPiMibiDhEHDbZzXmWa22qMcwsc6jzXh7S4XvyySfXeXnnr0F6k36qSByOfhaRmCKVNq4iJ5GIMKMGZ8px8cUXl4KOL0lSj6uvvroUhHFP4B5MeQikIs1a+AKHQfrzPvvssyQW2/rShvIL1LUd1fwlouzjdxvzMwU69U7y/BIoP4cvk4MEJCABCSw2AUXiYq+/V58xAWQLD3c8/JG6GxGH1RqHTD+iMyKKhGgqmoKkSsschpQ5E2FYTVUmdbk69ttvv+Lbv/3by5S7nXbaKcuVmbYxTNcXQ9ogvGlgk+MIkUjULLXscht9jkhMKRL5AoN7T8qIROTYli1bysi7HEQi97Sjjz46+RaHCV/ILFc3lftxdIAmop3PKIMvdKILdJNfTNFZnojIus1fhkUr2gU6+bZyAgtKQJG4oAvvZUtAAhKoEFAkuh0kkCmBhx9+uHwQ/oVf+IXiP/2n/1SmpQ0+OA37UpiIRBoeHH/88WW9tBSDuZJiWBWH1OoK8cm8IuKQB1jqd1FHjHpiOQ/WhDqJRPXssssu2U5169atZbTRqaeemuUcFYmjl6WvEYkhEmlGlOrzQZQb0Xdr164ta3CmHBdeeGFxwAEHFEceeWTKaZTnpm4kKcx1Ornz+XzyySeXohWJbmawpiEVuVfPkgJ9/fXXl/UbKRMx6RiUisOahlVToQ2empSwr5fAaAKKRHeIBCQgAQkoEt0DEsiUwJe+9KWCKD0k4rve9a7aNaG++MUvFnfddVfZcIHopC5GpMkhDklXJlU5CvuTKoc45METecjfqw+gRMHcfvvtZR2xvfbaq4vpTn2Ouh2mpz5BQ2+kI+pTTz1Vds/NcZCSf/nll5d1PI1I/KcVQt5EV3LWjvR+otn4TNQVITT34DN27LHHJll2JDuNk0hXTdUVGHbUA1y3bl2ZOp9yfO5znyv3+Pr161NOozw3pQSIKOQLpkkG93bkbNRVhC+DqPFqCvSk5Seuu+66cs838WWHKdCTrKivlcDsBBSJszP0CBKQgAT6TkCR2PcVdP5zSwAph3z7iZ/4ieLXfu3Xal8nD3x33HFHqxF+iCAeLiPiEAFCzUYG4rDaURkhMipyhTQ6xBfpfzyY5jyW6zCd25z7IhJXrFhRdtfNbXSR2hyfIcQ70V8IGv43BqUMIvWfGnVEgSEVxzXCSN0lOAeRyL3o2muvLeUdEi/VQG4RkYjMRGqmHk014iE6kS9/+D1DYy/2LKKb31XRBbpOx25kL+9ruo6rKdCpd5rnXwQCisRFWGWvUQISkMBoAopEd4gEMiWASCCq59/8m39T/M7v/E7tWUaEHwX+EQ9NDB4WER1VcRg1tIhMCXHIwyQdlutGUDE3HkZJxT3qqKPKB9Gcx44dO7KrPzmMFxGerNU0aYNd8OdhH7GRq0iM8gBNdm2OdH+kIfKQ9YnPELKQzw7Rh/xJx2PEPLKGCGNez/v5rPEZQSoi3QdriaYWidu2bSv4Ofvss0sZmmKESCSdmP2VanDPvOiii8r0atKsU4829gb7l/t3RCtG+QpEYnSB5nfDsC+SxtVsbILXqC7Q/I6K9Ge7QDdB22MsEgFF4iKtttcqAQlIYDgBRaI7QwKZEuAhDcHwAz/wA8UHPvCB2rNsQsxxbsRhCI9qtBQpbJGmzEPirAX4OQddhokgQpDkPNoQTG1cLxGpCKu6jQzamMOoY4ZIpH7c4Ycf3vXpx56viTqjXCPNJNjf8RPp/ghAPkPxgzisyvfBGokIGmQN5Q6I4OXYvCakIn/yuWxDFo2FVXlBDiIRQUvaLF9MsL9SDe6hdG2mzi2NX1KPSy+9tPxiiRISbQz2JBI3ohWJWGewLyNSsSq/r7rqqlI216nZ2NR866RAh2Cc5MuwpubncSTQFwKKxL6slPOUgAQk0B4BRWJ7bD2yBGYiQEQLacGvf/3ri49+9KO1jzWNmCP6iYfAiDhEHEY0Bw971VTlQelRe2LLvJDz3nzzzWX6HzUhcx5PPPFE2RgmZSObOnzuvPPOUjjR9CLXgfSaN5FIFHGkKvNnpCcj/fgMhTjkcz1KVIxqtsJnFVmDVORPhBXHQhJxTqIaqY+aYlAfkfTmc845p/wSJMWAAY08KJWw//77p5hCeU7W6ZJLLikOOuigLGQ5UpMoQSLVuxhI9IhU5EuNaIjC/mQeNObhczBpzcam5j4sWpHPFJ+l1772tS+JVmzqvB5HAvNAQJE4D6voNUhAAhKYjYAicTZ+vlsCrRFAJCIHkEGf+MQnap8nxBzpdDwQDRtERlXFIdEj8WBFOnU1VZn/bjM6A2l50003lVE7KR/86wCORjY0s4BRroNmO0im3EUi651DtNbgOtaNSORzVI04fOaZZ8pD8XmJBkOIk8EGQ+P2Td2uzZFayr5kvSPiEWFJdC8/XXZPzkEkIq1uuOGG5CKRtSAK8OCDD86iDihp1vw+IFKz64FU5YsNxGJ1n1JPl9RvxCKNwdr8PTPqmuN3H3Ub+exFlCTzMQW6693i+fpAQJHYh1VyjhKQgATaJaBIbJevR5fA1AQQiURskYr2qU99qvZxkII33njji8QcqZHREZaow6997WtLxyPCsBpx2HW31ZgvKa4pUxHrACZihWi/jRs3ltFluQ5EIg/tdM/NdVAjEbHRJ5GIuIvO5AjESN+EMdFVEXHI5wlJMu2oKxKrx+d+gbgiEpB5Rr06JGZIReqXtjnuu+++MtLsda97XZnSmmJQ2oH7H5F3y32R0sW84E/U7SGHHJJFZ3I6SFMzktqRKQfSjs8Qa4Skq9YJjRRovkAbrP/ZxZxJt+bzg0isRixy7pCKIRb5fI9qItbFfD2HBFIRUCSmIu95JSABCeRDQJGYz1o4Ewm8iAAPMtTXWrNmTfGZz3ymNh0kIRE5kZ7FQ9vTTz+99H5qGlbFYaqmCDEh5kYq4qGHHpq0y2odwNERG7lLpFmug/RrotRoepHrQCSSyp5DI4pBRhGRSOQpo9pZOQQDAr5a57BJcTaNSGSeUQcPicbnHvHND2mmDERiSMVx6dXT7JucRCKf0ZSlEuhufPnll5f3b35Sjtw6SMOCtG/EIWyirmI0FWL/IxNDLHb15dYVV1xRNjqiyVKMYSnQzI/P+yxfFqTcD55bArMSUCTOStD3S0ACEug/AUVi/9fQK5hTAjzAEK1FgXqiSUYNHlqjviGpffx3DORB1GcjfSxV7Uaz9mYAACAASURBVLLl5k86KM0ReKBctWpV1qvZRkfsNi74nnvuKZBh1KrLdSBZkFo5iUQ+c4j4hx56qJQbCAMi/RgI92pn5TYF/LQiETnD/aLaUINrInISoYhcji8VSHkOqcj9oYm00nvvvbd48MEHi82bNyeJKGOdSKGlVAJRwymbNyFvEVN8QUJUYsqRWwdpWAxLtSYdnM9d/JASzSCqNrpA8/cm9uqw9eDLDY4/qsZo3A/4PapITLmrPXdKAorElPQ9twQkIIE8CCgS81gHZyGBlxBAABBZhLAgRS4G/zuiMDoqIxBDHPKARcQhMoSH6MMOOyxZimHdJWXu1KailhgRmDkPJMUXvvCFsv4awibXgdB57LHHyojEth66Z712RCJygCY7qQafJUR2tc5hyAvmhDhkjvyJeOuKZZMicZAt94aIVKQ+KYN7TEhFrnXalM0cRCISiuZNRJOydqkG++rKK68sG63QcCXliMYvuXSQhgVfjq1cubJYv379UDQIOz6XUVcx6o8SnRiRikSFNynz6nS2ViSm3MmeOxcCisRcVsJ5SEACEkhHQJGYjr1nlsBYAqRYEdnyoQ99qKwpdfLJJ5eRh9ENNpo6RKoyEYc86GzZsqWUcsi53AfXcvXVV5cP26kfuMexov7a1q1by4YFPMzmOkgx3bFjR1kjcVop1Pa1Ea0Fw65FYkh4IncRFVFLECERkbvUbSOyjsgkPlNdjzZFYvVauLeEVIQFg5RNBBxikfTSSUQNkbBEc5577rkTva9JvoinW265JblIJPKTmntElaf+giS3xi+TplrzeniGVIy9yt5kj0a04qxRwnS2Zt/zRdFyQ5HY5KfVY/WVgCKxryvnvCUgAQk0R0CR2BxLjySBRgjwoEKzDETLu9/97lJ00CgFafinf/qnZWfjqjgcfNAn+oRIGNKEU9fmqgOEh1weuOnemToFcNx8eYC99dZby4YFKaOdxs2zLyKRqM7lIpLGXWPdf+fzU404jHqByDrSGIlqIgqPmoEhXZ944omCOpN9FInIWSKZJx0I/ZCKSFbkDfcWjodc4c9xDTByEomsXUrZT+QnX+iQus+9LeVgbUnbzaXxC6IeaTdthCSf6airSJR4NGxB+nNf5oeSHpNGEF944YVlw69RDWkUiSl3sufOhYAiMZeVcB4SkIAE0hFQJKZj75kTE/g//+f/FH/wB39QNvogxY+HD+pq/fzP/3xx0kkndT67Rx99tPj3//7flxKQyDcGD/Kkf73+9a8vzjzzzDLCbFzUBQ9VSEjeR32u3EefxCfRoEQ7EUWXspHDuDW9//77C/YTe2aSiLJxx23y39nnRBM1LRLZT9XOytUO5YjDaJCCdFiOTV9FInKG+9g0IrG6tsh9or8Qi4ga5Ek0wEAqco5htVaRrw8//HBx3nnnJYuEZc7I/uOPPz5p+QHqUhJpzb0ide3XaPySQ71G9lmTEZLsTcQ3+5WfKPNBKYJqCvS4yOy6UZL8fkVQ8nt43DGbvF96LAnkRECRmNNqOBcJSEACaQgoEtNw96yJCfzH//gfi9/93d8tow++8zu/s3zg5CGEph9vf/vbix//8R/vfIY8eJLai8Q844wzSgn0S7/0S2UqLbXH6kZX8EBE9AnXRn2u3AcPgtTL64P4JDKU+mtEGdEVO9exbdu24pFHHin30bgoslTXgEgkGnBU9E+dufFgzxcBkarM5yg6rVIvNBqkEMVbl8Wii8Qqd8QsMhFBxz0yRAprF1IxuurmIBJpKHPbbbeVnXcR1akGe5Lar4hy7m0pR9RrpGZuDuUuiCik7m/TEZLRLCmkIvdrBp97fscjwPlzmASvGyXJ6xCIHEORmHJXe+6UBBSJKel7bglIQAJ5EFAk5rEOzqJDAtQbRBa+6U1vKv7kT/6kiIfgmALREtQJSzEi8ifO/T3f8z2lZKPuWF2RyHsRiUTM5dQRdzmefRKfyAE6wlL3jBTzXMcDDzxQRoadfvrpyfbyODaksyP5JhWJfEaQhZGujCyIdEM+y5GqzLGn7VDeZ5E4rsbbuHUZ9e9wJlo6UqC5VzKQtJyXdaFb+Pnnnz/R/WqWOQ2+l7Xjy5fUIpF9ee2115b7e8WKFU1e4sTHinqNOTR+YfJdRUhynugAHZG1nD+aKBGxSAo0o26UpCJx4u3nG+aQgCJxDhfVS5KABCQwIQFF4oTAfHm/CVArKh7qaKYQDxG5XtW/+Bf/ovhf/+t/lQ/nk4hEUpu7qD/XFLe+iE9ECU1veCAn4jPX0ReRiICicc2oEY0WqnUOoyYaojBSlaOzchNrokgcTzG66oZUjAZQvJParHyRQUToJPet8Wcd/wrulXRW37RpUymVUw3S64lwZ3+nvlfkVK+R9UjR0Zp7BhI8GrbEft11113LSEXuRUSysndH1RZWJKb6RHnenAgoEnNaDeciAQlIIA0BRWIa7p41EYHPfvazxXd/93cX//bf/tsytZk6iTQIQCiedtppxYYNGxLNbPhpf/iHf7j4xCc+UT4ATZJGRbRXHUmTy8USdcnDXNcdfCe9fh7Ib7jhhoIUwdRRRqPmvn379jKKlT09bVTepGwmff2oPUpDFMRhpCtH5BspitFZGUmEBGhDVJEeS8OjvjVbqdN1dtJ1qvN6ZC8ReHfeeWcZlRgDkUikIj/Up2xjrQbn99hjjxW33357ceKJJ5aSOdVg/1J/lw7AqaOXI806h3qNrEeIzVQdrdmvMAmpyN9j0HSJ9G++iBuWmaBITPWJ8rw5EVAk5rQazkUCEpBAGgKKxDTcPWsiAtQcfM973lP85E/+ZPGZz3ymoJZcdbzxjW8sPv7xj2cTqYjw/KM/+qNSJE6Sbk2Rfx6IeIjtw2ir8UbT106KIHKApgWp656Nujaibfk59dRTxzbnaZpR3ePR0ZaGJ0RsER1UjTiMhgnIc15T7azchYwKkXjssceW4rLrwXXXredYndtFF11URgKm+twjEmnyw76DIdGK0eyGtPOQigi+ttYxRCK1ZlOsXawH92yil/lyKnVjppzSrOGTUyMa5sMXFzt27CiI5GZfIhr5M1Kg+ZKLLy0YisSu74aeL0cCisQcV8U5SUACEuiWgCKxW96eLTEBaiNSI5FurQiMP/zDPyz/JCqRBitEm73lLW8pZWIOgy7Ov//7v1+mNk+Shk2Rfx58couwXI5pXyIoSckjXZHUt9SdWEftT6IRiUo85ZRTXlIDNId9TYQh9eOQZXwWEbQMHt4HOytPEonb1LUpEqcjeccddxSIPGokxmBtI/05ml8QJYucQSzSEKXJNUYIMY+TTz65lNCpBjX5qKeag0iM6Mgc0qxZj9zEZlVuEiVJx+eIVqQxDIPfv9RUJFIRwYgYb0uGp9qznlcCdQkoEuuS8nUSkIAE5peAInF+19YrG0LgbW97W/GRj3ykjNK67777XiSDeNhFEPHgS1RN6rpWTP+nf/qni9/6rd8qo8sm6UCK7OJhnYiqPgyi0xBIqSKp6jIiUg5JS+rbgQceWPdtnb+ORitE1yBTeChOPYjiQR5UOyvHnHhAj87KiJ9pIvGavr4+i0S6iY+rO9k0rzjeMJFYPReRXwga7rXsBQbrHVIRSYNYnmVw7yYyMrVIpMkHHd65B3N9KQes+ZIshzRrOOSU9h3rMkxuEplIrUvWkn0b0bXsLaSiIjHlrvbcKQkoElPS99wSkIAE8iCgSMxjHZxFRwR+5md+pvjN3/zNgrQ3IqIGx+bNm4tLL720THt+wxve0NGslj/Nu971ruJXfuVXyojJSeps8dBIlM/xxx+f/BrqTKAvEZSk4JI2ftBBB5U/uY5HHnmkTNtPJRJpxEHdsWpnZR7KGUTKIg6RSaTfb9y4MTuMisTploTahDSqOe+888YegEivkIpE77E/kIjIRCIVETWTlHOIE7L3qW9JNC5fTqQaXNstt9xS1tnkWlKOnNKs4ZDbfJhTHblJRDpSkbIWRiSm3NGeOzUBRWLqFfD8EpCABNITUCSmXwNn0CGBj33sY8W//tf/urjgggvKRiuD4/u+7/uK//7f/3vxyU9+snjzm9/c4cyGn+q9731v8Yu/+ItlN0mi4OoOUuqQOXQu7cMggpIo0RylUpUf8oPoSaIRJ1mPrtcgRCLCPGp7tTkHJBDROiEOieKJzsqsa7WzMg/gDOQxzTiOOeaYNqc21bFTi0SE2jSReRdeeGH5hUOqiES6JcOujkisLgyp7gga5DJSkb1DtFdIRSL66jYNIhr37rvvLus0IqpTDa7l1ltvLb/M4TpSjoiO5P6KpE09Iu07l/nAo67cjBqJ3NeMSEy9kzx/KgKKxFTkPa8EJCCBfAgoEvNZC2fSAQFqxxFJtnr16jJdePBBgK6WPIQSrYiEST1++7d/u2wMQ4OPtWvX1p4OkTA8nNO5tA+D6yPFkeidnAdMqefI/jnkkEOynSrpnffff3+5/si6pgfikDTVSFVGHEZnZaLIaHIRDVJIrR72wJ1zFCoSiPRYREeKzr99FomwO/fcc6fecogaRBPHIarvH/7hH8pjsZ+iWUvI6GEn4R5PBDcdyyepKzv1hJd5I0KVL4BOOOGEicpSND0PjpdTdGSO82FOdVPRFYlt7FCP2TcCisS+rZjzlYAEJNA8AUVi80w9YuYEXv/61xd/9Vd/Vbz//e8vfuInfmJptn/8x39c/MiP/EgpiO69996pIoKavvQPfOADxTve8Y6CrsaTNE4hEoZ6fqS29mH0JRUbqcFa0GiFepq5DhpOUAOUiNSmZAr7qdpZmTRvBtILcRhRh5yvTqQOsh7JOMm+7op3n0UitV2PPPLIrlC96DxEJM4qEqsHJKoaWY2UQ4ZF4wtqaYZUHBTlIRJPP/30ViR6XbCkeG/durX8DCJBU46QmjlER8IhJ8ka61KHEV+gIBL50ouIRIcEFpWAInFRV97rloAEJPD/E1AkuhsWjgBpn9TPorsoKXgUoCeC5bOf/WyZBkp6INEsOYyPfvSjxY/+6I8WF1988UTRhTzAkmpKel8fRl9SsXmIvOKKK8oaWYceemi2aNnbyHCioaZN7yTCsCoOqQ/GQBIickIcUodumq67iEQiy3JMZ1ckTre1ue8Q2UWt2aYHEof9GB2gEdsMxDVScb/99iv/jkhk759xxhmdpPUvd52PP/54gVglKjhFVGt1XiE1c4iOZF7BJgfJGpzqzEmR2PSn2uP1lYAisa8r57wlIAEJNEdAkdgcS4/UIwJEH7z73e8u5SEPpjzonXPOOcU73/nOgvTmXMYnPvGJ4q1vfWs5Tx6M6w6aHpBuSlROHwbdTYn2yz0Vmwipyy+/vFixYkVx2GGHZYt2GpEI/2pn5ehQykUiI6udlaep3zcIK+e6mIrE6bY2qbykJbchEqszQujQzId14l4ekpsvgogUQzimjkjkM8h9mBIZROymHDlJTTjkxCbWhShuuo6PWi9FYspd7LlzIqBIzGk1nIsEJCCBNAQUiWm4e1YJ1CLw53/+58X3f//3F//jf/yPieqOUd+NB/ozzzyz1nlSv4hUbFJlc6hLOYoFD5KXXXZZQfro4YcfnhrbsudHHBBlSyrjcp1rkaKIw4g6RMxEZ2XSRSPiEAkyTffccXAQiTTQOPbYY8e9tPN/76tI/NznPldK7lSpzYhEmla87nWv62zN2LNPP/30UqQi+5jB3iJKkWhF9vI0UbOzXESIKcpLEMGbctSRZF3Ojxqu/I5K3Vm7es11un2z17hvktpct/lPl1w9lwS6IqBI7Iq055GABCSQLwFFYr5r48wkUPzlX/5l8YY3vKH40z/90+K7v/u7axOhYQyROmeffXbt96R8IQKCqCIeLHMfiEQExSTNb7q+JlIZ2QM0rwmJwUPwV7/61VIcUncOichDMYMU42pn5S7qf9FgB0GpSHzp7pi22UpqkcgXAuytLkXiID0EOunNCPSQiuyzqKm49957dyIVQ0yl7h4Nn9zEXXTWTt0Qp7p36jTpUSR2/ZvM8+VKQJGY68o4LwlIQALdEVAkdsfaM0lgYgIXXXRRcf755xcf+9jHiu/93u+t/X5qhJE+hkis0/ii9oFbeiG1xHjoz6U25ajLJLX5Na95TVYp8IPzRSLfddddpewkZRl5SKp7dMBFrESqMn/S9KTrkXOnbhp7kObYt67NiETqd65fv77r5SzPh0hkr1EmItXYtm1bwQ/3PsQPa0mEKYKT/0bS8vlFLO6zzz5ldFkbIydZFnPJQWrCOpeGONV13759e9mgalRtTUViG58Uj9lHAorEPq6ac5aABCTQLAFFYrM8PZoEGiVAY4+zzjqr+OAHP1j8q3/1r2of+/777y+jUHhv1yl9tSdZeWGfajqyJgiIVLJmFN9nn322FDlEJBJxGAN5Uo04JHU5tWCmUzfzImoytxEikY7SKTruzhKRmFokIqxTRkJz73vggQdKmVlNP6XjM41gkOykXxONy72RzzJSEbnYZAp/TrKsTrRdl5/BkHaU3kjxJcawaw0Bze9MIrSHDUVil7vEc+VMQJGY8+o4NwlIQALdEFAkdsPZs0hgKgLIFhqQ/O7v/m7xIz/yI7WPwUMRqXVEV7QVcVN7MjVeSL0sHu4naShT47CtvOTKK68s5VKqOnTVi0KORKoyf0YnWyQhD72vfe1ry3qOdLPNTSizt5kTdRxzG4rE6VbklltuKQV2SpFIVBmialAkVq+IyFykIpGK/Ek3dj4zfK4jBXrW9P4HH3wwi+7RXHdOc2E+1ajRWTlPt1Nf+q46+0aR2BRtj9N3AorEvq+g85eABCQwOwFF4uwMPYIEWiNA7UDSK3/jN36jePvb3177PDxIE4VCqnAfisKThou8IRok93HVVVeVXViPOuqozqcaacrRIIUmEwwkCJ2VESFEHtK4BqapIurqgLnxxhvLeSsSX0prmohEJMeFF15YrFq1KlnaPd3XKVGQUiRS1gFxRp3GOhGGSES+xEAqcg/6+te/Xi4In6OQitNEzeUUdUeEJpGauUQA1pF2de4hTb4mamuee+65ZaT0sBEikX1VZ281OT+PJYGcCCgSc1oN5yIBCUggDQFFYhrunlUCtQjwcEOdu/e85z3Ff/gP/6HWe3gREpEHWZqXLJemVftgHbywT81htmzZUjZyOProo1sng+QY7KwcJyXKsNpZuRp5SpQV6eLHHHNMQXOJHAcikXHCCSdkN70+RiTmIhJp6JPyC4EQiZs3b544Gpt0ZyQ9UpEfhDyDz3tIRT53dUbIu1GpsnWO08RrcosAnGWNmuAx7Bh88UIUPzWJlyv7oEhsi77H7RsBRWLfVsz5SkACEmiegCKxeaYeUQKNEUAIHnTQQcXP//zPFz/7sz9b+7g8EPHweNJJJxW77rpr7felemGfmsNcffXVZaowkq7pgciodlYmuis6KxMVVa1zOCrS9Ctf+UpBAxtkJzXgchyKxOVXpa8RiTfddFPxta99LalIrBNZVufzgDSi3mNIReqPMqgvilSkcztRwMtJp5zkXW4RgHxxRAOY8847L5uSCzRXokEZInG5oUis88nxNYtAQJG4CKvsNUpAAhIYTUCR6A6RQMYEaAxAnbuf/MmfLN71rnfVnumOHTvKDpTUV+TBN/fRp+Yw11xzTdkggJTzWQcPpqQn01E2OisThchAFFY7K08SWUqq5tatW8v063333XfWabbyfqQT159jRGJEdKZKDZ9GJCKc6fKeMrWZNWU/k0KbarQhqdinCP6QishSBveBiFSk3EFVKi7X9CUFl9wiAKmJSzOwUdF/XXPiixfWl9RmRWLX9D1f3wgoEvu2Ys5XAhKQQPMEFInNM/WIEmiMAHKJunfveMc7ive+9721j0tkBQ+PSBqiZnIffWoOc91115WS79hjj50YK0IiOitHncOoyUZqcjXikEjSaTsr90UkIr82bdo0Mce235A6NbyvIpEoU/Z3yqZJkaLaZrQbIpH0d77oIWqYQdMQOj8jFrlnc0+jvETdWo1t7umQq6Pq/7V5/sFj14n+63I+nIt6xNw3Wa/lBvcr7uHWSOx6dTxfbgQUibmtiPORgAQk0D0BRWL3zD2jBGoToAsvUS9ve9vbive973213/fEE08UPDwed9xxxZ577ln7faleSD0xUt1OP/307IvYX3/99WXtNdjWGdRZq3ZWjrprdCwmiimiDkmXnlYcDs6DCEcejOksjdzIcdCYg+hLReJLV2cWkbh69eqyrmqKkYNI7DraDXEakYp8zhmIJsQiwpHGM6k7E3chVyfZb3Wi/yY5XhOvrdNxPMpMsL7VmrRNnN9jSKBPBBSJfVot5yoBCUigHQKKxHa4elQJNEKALr1Ev731rW8t3v/+99c+Jg+2PFCTfouoyn3QZZWfU089NflD9zhWN9xwQ1nXa7luw0QYRrQhfz7zzDPlIZGENG2Izsr8neO0MTjvrbfeWqxfv76MkMpxIBLZ36Tf5zb6HJGYUiTy2eDLj5QRiUS7Udrhggsu6Hxb8SUBkYrcf6lTykAKU16AzyF/phBQXcvVceDrRP+NO0bT/14nLV+R2DR1j9dXAorEvq6c85aABCTQHAFFYnMsPZIEGifAgwuRam94wxuKD3/4w7WPn1qE1J7o/31hn7pMDzYJIaqOpgwhD6mlFoO08mpnZaRCF4P5EGGzbt26silEjoP5IV0ViS9dnb5GJCISkWlEFqcauaTNhtAkIhipyL2cLxNofoRU5H8f1TCpSX50cH/88cdHNhJp8nzjjsWXHNyjiNbMZdTZu4rEXFbLeaQmoEhMvQKeXwISkEB6AorE9GvgDCSwLAEeXIhg44Hr4x//eG1SfaiRV72YPnWZRiQSSYegI4WYGmnUzWJQ1zBSlUlbJgUuxfj7v//7gog/Ulxp1pPjQCS+8MILZWfx3EZqET+NSERoX3zxxUXKiETS/pHDp512WrIlzUWaVaMAWRtkIpGK7C3uH0hF7hXRrGWSZkqTws0tlZh7E1+4nHXWWZNeSmuvp/Yt60RU/HJDkdgafg/cMwKKxJ4tmNOVgAQk0AIBRWILUD2kBJoiwIPL/vvvX9bj+6//9b/WPmwfauRVL4YOnnQ5zbHLNJKQWmfRWZk/Y1D7rNpZOXUttJhXH0QiUUlErykSX/qxViTWvtW95IVIM5qg0Gwl5VguMpJ7Ol/0RF3FaLbEFw8hFflCoslBKjEic/PmzU0edupj5VBLc3Dy11xzTSl3Tz75ZEXi1CvrGxeFgCJxUVba65SABCSwPAFFortDAhkTQGIdeOCBxaGHHlr8z//5P2vPtA+prdWLyanLNMypa1itc0gEESMiDHngpGszjXCaapBSe3FrvJAoSWp+HXHEEaWIznEgEqmnN+rBPdW8kS4IqWOOOabYe++9O5/GLCKR+wXrnmIQ1cVnJWVE4tatW8s6hXQoTjmIjKTp1SihiVTkXh1Skc8Dg5IIIRWbaMLEZ40vQEZ1JO6SVQ6Rq4PXu2XLlvL+PqrUQkQkkpLeVZmKLtfFc0mgLgFFYl1Svk4CEpDA/BJQJM7v2nplc0AAqXX44YeXD5X/+3//79pX1AeRVL0Y6nfdc889ZQMTmpB0PXiAr3ZWJuWWwcNitbPybrvtVnZDplPrKaec0vU0a5+PtEGiftg7BxxwQO33dfnC4JizSDz66KPLmnZdjz6LxHHpoW2zzCX6btJ0Yu71RBKHVIwmTUQncv+nlAL3xmm+uKjTkbjtdake/9prry1rRo5KI+5yPpzryiuvLL8YOuGEE5Y9tSKx61XxfLkSUCTmujLOSwISkEB3BBSJ3bH2TBKYmAAPl8gMHnAuvfTS2u8nFZfi8YcddlixYsWK2u9L9UJSEe+6664yhXvPPfdsfRqIwmrEIWKQQRflamdlIoMGOysT8QTfnB6CB4H1Yf0RPsiSHIVsRCT2SSQSCXjJJZeUEcypIhIRRNyzUq5pLh2BuU9QD3GadOIopxBSMRo4UUcxIhUpqVBXKhKdzD0hl5qEddKIW/8lMHCCyy+/vIwE5XfQckOR2PWqeL5cCSgSc10Z5yUBCUigOwKKxO5YeyYJTEWAKD3qaF111VW1HxwRNKQZrlmzpli1atVU5+3yTTww05xg48aNZc3BpgeSpdpZmYfqGIjD6KyMxByXskakERGfKdM3x/F5+umnC9IHcxbJiBbmmVI6LcdRkThuhw3/9xxEImm8fElwzjnnTHcRDb2rSaHJ54R0bb5wIWqRQXotnZ8Ri6TfD37hUb2M3GoS1kkjbmgZah/m85//fPl7gN9BisTa2HzhghJQJC7ownvZEpCABCoEFIluBwlkToDIN4rzE2FYNwKFVF2iPg4++OAyQin30XSXXNIrkX3RIIWInuisTHpytbPyTjvtNBEeap8hJU8//fSJ3tfli0MkUltz5cqVXZ669rlyjuzss0g86KCDypT2FCOHSLNc0njbEprc2yNSEWHKfY172L777ltKRVLxB+9pfKlAFHYu96w6acRd7186niNmqYuqSOyavufrGwFFYt9WzPlKQAISaJ6AIrF5ph5RAo0SoED+gw8+WNbmqysSeWgk6gOpwE/uY1ZxQ8oZsjDSlYnaiTQ00gH32muvpahDInlmGXRjRVCeccYZsxym1ff2ISKVyE7WLMcU8Vn346yLO02NxEhtXnSRePPNN5dfIpx99tmzLsNM7+9CaHKfJ1IRscieRSoSmRhSkT9pIJJDE5wqzCuuuKLgCx2i7XMZF154YdmY6qijjlp2SnxBxe/gV77ylSMjQHO5JuchgbYIKBLbIutxJSABCfSHgCKxP2vlTBeUwHd8x3cURG/RjKSuSIxU6NWrVxeHHHJI9uQQc4hSHuJ4+B03eGAm6q5a55CHPAaiMFKV+ZP6kk0OUrB5aD/zzDObPGyjx6LmI2mmrD17IMeRc4q4InG6HXP11VeXgiVlhxb/kwAAIABJREFUAx1EIoI6dT3ArueBSCayG6nInyG9SHvmXomczqUcw2WXXVbWwqXzfQ6D3yeIRKK3169fP1Iksr/5HTMqlTyHa3IOEmiTgCKxTboeWwISkEA/CCgS+7FOznKBCbzxjW8s6yNu3769tkjkIZKoDx6MSG/NfSAESQXkIY70vGEDOVbtrIwsZZDGV+2sTJfTusJ1Gi40hSEKKLWoGDX3PqS2kyJO5GgucqPKk1ICyPs+NVvh80BDppQRiYhEhNVJJ500zUerkffQWARxllr0p6xLyP2fPUxNRe5VSEYGX6xEs5amv2CZZPHYpwjODRs2TPK21l5L9PpFF11Ufumydu1aRWJrpD3wvBBQJM7LSnodEpCABKYnoEicnp3vlEAnBN785jcXn/3sZ4vHH3+8tiAjwoKojwMOOCBZvbRJ4CCUiODhIe61r31t+dbnn3/+RRGHyDEGkSBEs0S6Mp022xSHg9dx9913lw/oqVMnR/GFHVIn59T2nGtNhkisGyE7yV6v89ppUptzEIk5NNFIKfCqa0tNWz6HqesSIsmoSRilHkiHZnAPDalImnGXo049wi7nU/ezg6A1IrHLlfFcuRJQJOa6Ms5LAhKQQHcEFIndsfZMEpiKwA/90A8Vf/Znf1amq02SToVI3G+//UZGWEw1oRbeRE0zIokQn0hBIg+JKmLw34OdlSfh0PR077333uKxxx4rRWKXAnOS61AkTkLrpa9NKRKRGtS4RPRMUs8zZAgNlujWnWLkIBIReHzpkLqGKQ1OWJMcIm4RidSKPeGEE8pGUXwRQgp0fDnz6le/ekkqdvHFDNF/fGE0qh5hl/uX+yW/LykFMSqCX5HY5ap4rpwJKBJzXh3nJgEJSKAbAorEbjh7FglMTeDHfuzHig9/+MNlg49JOgyT2ky9wXXr1k197jbfyEMZkYhcF+ImxCHn5ME2OisjVCa57jbnzLHvu+++YseOHWVqc0qhOeo6o9kOHbsRSzkOmtYgjFNHbA1j06VIjEZBfA74QaoTUYykJv0T4UI3WZpmjFvzz3/+8+V6pxKJlGCgEcWmTZuSbblcOhTT4IR7XA7NhPhdQMkHRGIM9hh7LTpAx/2XlOeIVKRkRNNfltStR9jlBqJsBoyQiKNqCodIZI83zaXL6/VcEpiVgCJxVoK+XwISkED/CSgS+7+GXsGcE/h3/+7fFe9///uLJ554oux0WXcQhUL675FHHln3La2+DmHCg2u1szIPlQyiZYiOIYKSh7lx0qTViY45+P333188+uijZQ02UlBzHH1otpNz9+u2RSJ7nXMgDvk8RA276DCOwEGyI3n4N6QFXwrw+UAqDhPryGNFYlHkEglIsyPub6ecckryW8Tll19eEGl43HHHLTuXr33ta0tSkfs0A2EWUpEvdpr44qRuPcIuoSFRkeCHH354WQ5iuaFI7HJVPFfOBBSJOa+Oc5OABCTQDQFFYjecPYsEpibwUz/1U8X73ve+4qGHHirFYN1BmiEpwTSMSDF4iObhNMQhKXXRWZkH1GpnZR4uieBZs2ZNsWrVqhTTrX3Obdu2FY888kiZOplTpGT1ApBPiGRYwjTHQfdrZFrqFNRhbJoWiawH+z+iDkldZiCikYZEHvLZJhoMaRg1Evlc0EGaLxFomhEiA6lIpCJ/hswOkTguPbPNvcCe4xqqkW9tnm/YsXOJBLzmmmvKtUzZwTr4IJjZZ3W7JLM/2W+IbO7fDL7cQWIjFtmv036Jwh6mRiLR0kcccUTX22Po+ejyTU1ZovdH/f5RJGaxXE4iAwKKxAwWwSlIQAISSExAkZh4ATy9BMYReOc731n86q/+akFtvmhEMu49/DsPsqSzddUZE3FIilhEWSFOorMyD6E8yEaDlBAmcR196DIcc33ggQeKhx9+uEzJzTVyMrp25y4SkWSpu+u2IRJDokfUIdGFEX1LZBifA35I2x8W5TWs2QprSp1U6tvxJ//N60Iq8qUB6ZmLLhJziQTMoYN17O1ZuiRTPzDSn7m3s49j3xEhu88++0z0hUoOtTwHP/N8Ptk3RO+vWLFi2V+visQ6/8/D1ywCAUXiIqyy1ygBCUhgNAFFojtEApkTQCIiE7du3Toy7WrwMojMoVlD3SiUaTAgACPikD956GREpFVEHVLzcFRNqajpl3OX4eCzffv2MjqUJgqTNMOYhu+07wmRuHLlypHNA6Y9fhPvu+uuu0ohlqNIRJjcdtttZTMIRF2dwd6PiEP+DInOHglxyJ919sy4rs1EOFalIpGLvId1R+4QhdxEGmqd666+BpFJ+YXjjz9+0rc29nq+QGGkTinOofFMQG2qSzL3afYdYpEvAdh37DNkIpGKfFbG7e9obEKkdC7R0vzuIiWez83++++vSGzs0+iB5pWAInFeV9brkoAEJFCfgCKxPitfKYEkBEhrJr2ZbqSTpILxeh7ymnyoR45UxWGkaCIJia4KcUh01CQiow81/WLxH3zwwYIfmiiQop3j4AGfumhE16RqvDGOCyKR9Ema1uQ2QiQSoUQ657BRbRbE60njZ7Dv+SxEujJibdLGDONEYnU+SEU40kmcCEgGKfeIHaQi85jkszjLWuQgEokE5HpTpxTn0Hgm1pIuySGYZ1nfwX2HTEQqRto9+xxZzt7jc0PNz8FRt7FJU/Oscxw+NzfeeGMZvQ+n5YYRiXVo+ppFIKBIXIRV9holIAEJjCagSHSHSCBzAjRaoeEK9ccmSVPmwYgxS70yJEV0VkYghizhuKRoVjsrT1szi2P1oaZfbBOiEYlKJOJp2INyDtuJ9MPLLrusOOCAA8oGAjmOu+++u5QQfRGJMEWcR7oyqfsIWwayMKIOSeGf5bPA8SYRibG2EelFVBhzZZ78Sfo9YoeyCMxxUqk5yd6p09RjkuNN81oiARGpJ5100jRvb+w9OdSLjIu58MILy3tBW423EGzst5CKEY3LZyGatVBmg8FnCDbjGps0thA1DkSU5c0331xG7y/3xQGfJa6TvZXrF0g1LtWXSKARAorERjB6EAlIQAK9JqBI7PXyOflFIPCRj3ykeNvb3lZccsklxaZNm2pfMg9GCLoTTzyx9nsQI4jDiDqke2fUdkOWRMQhD4hN1gfsQwRdQKTRCg1XEBXxcFwbcIcvpMFC7iKRen9nn312h1TqnSoiEokARupFynKk7rP3+SxE1GHTYmEWkRgpo6ShInZgHJGKpJ0SccUP829aKuYiElmfSe579XbFZK/KgQUz5v6NSKTMwfr16ye7iClezb2c3x9RVzE+M0SpIxX5AuqWW24p1q5dW6xevXqKMzT/FuZ66623ltH7pGkPG4rE5rl7xP4SUCT2d+2cuQQkIIGmCCgSmyLpcSTQEoGPf/zjxQ/+4A8Wn/3sZyfqcMuDETUMR6X48XBEx0oe/JAlSMSIsiLartpZuWlZUsXVhwi6mO+jjz5a3H///aWoQK7mOohIJAptknT4Lq/lnnvuKbsR5yQS2fvIc9KEkQsxInU/og6RIU1LuCr7JkRi9XjRMAPe0YWXz3NIRb4YaOJ62HOkdbdZl3XcHs0lpTgHFrBiT5PajLRD3nU5uK/zOyWENmnNMRB2hx56aIFgbGLvzXJdfC6oQcwXdXzGR4lEJPW4OpCzzMX3SqAPBBSJfVgl5ygBCUigXQKKxHb5enQJzEzgU5/6VPHP//k/Lz796U8Xmzdvrn08HoxIRaaWX4xIz6x2ViZqkRFRVtXOyrVP1sALefBGbHT9sDvp1Hfs2FHcd9995UMnTWRyHbnzRCQ+/vjjxTnnnJMUIamWEXGIZCN9MQafBepMItpIaexqTCMS+dKAKLhxTSx4HVGK/JCezeBLAz57iOdZxE4O8oy0Wa5nkujtNtaViGC+iNm4cWMbh699TO7vRLMfeOCBSb9UiE7mdLznHhqDtYr05zaiZOuA4ouD22+/vYwy57M+bDB/pCz3AUViHaq+Zp4JKBLneXW9NglIQAL1CCgS63HyVRJIRuAv/uIvin/2z/5Z8Wd/9mfF61//+trz4MEIUUC6VrVBCimPDGRFNeJwmqYQtSdT44VIEOpTrVu3rsar072Eh8577723rD1JZFquI3eeMIRl1yIRsRIRuKT8Itbi8xARh3w2aAYzqtlKm+vepkiszpsIsZCKRI4xdtlll1IoIhYnjbzMQZ7R8IWSA7PUhm1ibS+99NIy9X2SurZNnHfwGNQrZC4HHXRQFvVSo0MyNRKRc0Qrxt5D0IVU5LPYVZMgoszvvPPOsu4tIn3YUCS2sTs9Zl8JKBL7unLOWwISkEBzBBSJzbH0SBJohQD1rS644ILij//4j4s3velNY8+BKORhjYYg1VSy6CYbDVKIpuvqQW3spIuiLMDPw2NbDQHqzKHOa4iiI5oOQbvcQ2ed47T9GoQK6YNd1EWb5lpCJJLa3GZqY6TvR5OUat1P1i/kYbXTOJ8fSgP0USSSLnrIIYdMvCREZiIVSfOk3AGDLxci/bmONM9BJCLQubc12a1+YphFUUYB0vjmmGOOmebtjb2H3wesC3uCvZF6DOuQzO8pOj8jFYkOZhD5xxdLiEXuY7M2MBp13URJ0vzptNNOWzbKXJGYeud4/pwIKBJzWg3nIgEJSCANAUViGu6eVQK1CfBgjGz50Ic+VPzLf/kvX/K+iLCKqMOnn376Ra8hpQ15iChp82Gs9gUt80Jqm5FWdtRRR816qFbfj2jhofO4444r68HlOnIXs6SHk+LYhkgkyjDSlfkz0vepC4g4JFKMz8RyDYNCJCJhERldj1kiEqcVidVr5B7CPkcsRqd25FykPy9XGzSHKLxcmpxcfPHF5d45+uiju94+Lzpf3ZT3riY5rkMy9TxDKkbncT4PyER4IhebLjPw4IMPllHmZ5xxxrINtBSJXe0Qz9MHAorEPqySc5SABCTQLgFFYrt8PboEZiZw/fXXl7Wbfu/3fq/44R/+4bKG22Bn5TgJD/uRrszDWHTFbTPia+YL/L8HuPrqq8tUytQP3uOuB6akvdJQYrl6WuOO0cW/90UknnXWWTNHxvKZII0faYh8ILqOQcRtROAiEEl5rfNZWHSRWN2fRCdG+nN8ScHnNNKfq53LcxCJOdRphB8NTmCU+osRov2ITj7ssMOKgw8+uItbz8hz8HuJrs18EUPE5qhBWjbikUjFr3zlK+XvPj6/VanYRL3CBx54oGygxb2Imo3DRohEvnxY7guI5HCdgAQ6IqBI7Ai0p5GABCSQMQFFYsaL49QkAIEbbrih+K7v+q4y7eqhhx4qU1W/7/u+r4RDPbNqncPqQ1VEfDUharpYiWuuuaYUPalrio27Vh6E77jjjrKJAuxzHblHeM6yP6NxQ0QdIhH53xjI9EhXRvROk77fR5EYwqiJiMTlREpIRaIVo2wCkc4hFfkyIHU6bw7p1fCjJMUBBxyQvFQD8pd7ATUJqZOYeiClb7vttrKGJZHBdQcSEZmIVOQeHFHGfNajruJyEnDcOZCIyETqtS4nJhWJ4yj674tEQJG4SKvttUpAAhIYTkCR6M6QQGYE6AxJoxQeiInwIcImIqx4aPre7/3e4j//5/9cSqxRD07btm0rHnnkkTJdq+lUsDaQXXfddQWpp6m7nI67NiJkWB9qn03yIDzuuE3/+5YtW8p09lwjPHl4p8nB6qM2FZ+65YvFlgeeLJ77+jeKFd/2quJ7NuxXfMe61xQ77/QtS1io9VZNV46mQTz4hzjkzyYilBSJo3cjUoVak5H+HA1reBd7jmjdaaXOrJ8D7pnsg5T3EfggEleuXJm8Rimp6dwLjjjiiLJzc+pBjdkvfOELxYknnjj1FzH8jiTyOKRi3AsoNRFScbn0+2HXT1oz6c2bN29e9nelIjH1zvH8ORFQJOa0Gs5FAhKQQBoCisQ03D1rhgT+5E/+pHjLW95SzozGJj/0Qz+UZJY/93M/V/z6r/96eW5k4aZNm0qp+Pa3v714z3veUzvCimYrRDCefvrpvUjFIoUb4UnKW86DqBgehBF0pNjlOogOIzovdbOH5fggEv/85h3Ff9v+8uIb/xRM+KKxdr/dil+/YGXxjWefKgVi1OojtZFIw5CHXGOddOVJ1qnPIrHrFFYECxGhRJrRtCIG9y4iFRE7fEHQ1cghvTpE4qpVq5J3oSeKlHvBunXrCuaTelAXlYhuynU0URoC1nxekYr8hNQm/T6k4rh7BKUq+NLtvPPOW/b3qyIx9c7x/DkRUCTmtBrORQISkEAaAorENNw9a2YEHnvssTIFjXQphEVKkYhQo77d6173ulICkca1//77Fz/1Uz9VvPOd76xNjggLfk499dROH+RrT3DghTfeeGMphFJ3Wx03fyJhtm7dWtY+G1fja9yx2vx3UsWJyslVJH7mmjuLd132leKbxcuWxXDI7t8s3rH+H4tXv3q3F6Urt900CDFGHTfkCw1Guh7TNFvJoRYedQERiOw7xGJEihG5C0fEThMRo6PWI4duyUTMwWL16tXF2rVru94+Lzof9XSvvfbaMjKSCMnUgyjkO++8szjllFMa73ofkbIIRfZfRPJTMiOkIlGLg188IDYRnBdccMGyeFhTjm+NxNQ7yPPnQECRmMMqOAcJSEACaQkoEtPy9+yZEDj//PPLYutvetObive9731JReIgEqKxeBB/xzveUbz3ve+tTYzoIOo+nXzyyWUtxdzHTTfdVPCwRgRmzoP1oMYX4pkOormO3GtOvvX/ub649YvPj8X30TevLU48ZHRThrEHmfAFfRSJSBO+gOg6IrGKttpgBOnCZ4X0Z8QOjTMQOFWp2EbTihy6JfOFFEKTmoTUJkw52MuUjeCLD2o2ph78XqLrPTV/iRRsa0Qd1YhUJDKTQco9923EItKbGqpEmCMeiUhcbigS21opj9tHAorEPq6ac5aABCTQLAFFYrM8PVoPCXzwgx8sfvzHf7ysR0h3y3e/+91ZiUQijYio+LEf+7Hit37rt2oTJvIDOUotqknqRdU+QcMvvPnmm8uIUOab80id9lqXDVFIPDSnrBU3OFcexqmt9/ATXyl+4NOPF0VBTvPyEYm8/83H7V/8wgVr6l52I69TJE6HkbqARE8PdiqOmnbIGsQOn/Povkv6M2KnqTquyEyiH1PWBkWa8vuELsmI3ZQDmUvDLniwNqkHUfLUJKR2b7Xjd9vzQrSHVOTzzUBkIxRpSMN96dxzzx0pEuM9Te3Vtq/Z40ugLQKKxLbIelwJSEAC/SGgSOzPWjnTFggQsUfqJ/UQP/CBDxS//Mu/nJ1I5KGbBx7m+Pu///u1KZCuzQMb3TGpF5X7uPXWW8v6VkRQ5jxSS6a6bIhCIo2UxhcpByK82iSF7qtffrYofvW2nWpN6/y1+xbv+55u00NTr/E0qc0RkZiyO2+dTsVIReqMhlRkPxAVRpkABCB/ziJqlpOZtTZbQy8ipZu6toccckhBF+2Ug1IMlI3YsGFDkjT9wWundi8d288888xkkfL8nqFkCGKRe1N0fI+antS+HdyD7FtFYsqd7LlzIqBIzGk1nIsEJCCBNAQUiWm4e9YMCPBgQFQEXSTpwkvUXo4ikQdtUsDe+MY3Fn/0R39UmxwphaSQ0byEulC5D+oOEhlC7aycB5ErpGFT+4wHz1xHquY1iG+iNkMeIhIZyDFSCWmS8vJd9yjO++BtRiQus3n6KhI/97nPFStWrCjT/usM7m1IRe5VdEPnv7n2qlSctB5mHZlZZ26zvOb5558vLrvssmLNmjXlT8oBV6K9iUwm+i712LZtW8HP2WefnUXtXqQvEZtRT5H/X4DYRibCi2hZvshTJKbeOZ4/JwKKxJxWw7lIQAISSENAkZiGu2fNgMBv/uZvFj/7sz9bRo6cddZZ5YxyFIk8wCBfzjnnnOK//Jf/UpscET90o+QBEoGT+6BOFZKO2lk5D2ptEeFzxBFHZJEquBwrHo55IG67eQ3RPDAJcUhzh4jwIRKWmnjs3z322ONFHVF/8GPXF7c8Mb5G4sffekyxcWW3IpxrQL70qdlKDhGJiEQaetDYY9JRRqp++ctLUpH7HhIRkYOwR+ywn8eNWeYw7th1/52It8svv7yMRiQqMeUg8o7GQUQm51DTlWhEohJpJtZGjcxpWHOvZM34Eos9SKRiiO2o6wk7BDdf6s0SMTvN/HyPBHIjoEjMbUWcjwQkIIHuCSgSu2fuGTMgQJdGBMuP/uiPFu9///uXZpSrSORBmhTlT37yk7Xp8SBEpCUpbYic3AdzJaX09NNPz3qqdPXmwZPaZ0Rf5TraFIlEXJEyiTwk+pCacIxXvvKVS92V2XOjRMFfXnd38YuX/vXIrs3Hrtyj+H/fcsxLuqy2zTxEYqqo02kiEonmveqqq8rmHjT56Hogj4kGnFYkVudLVCsCjC9DuI9xbORNSEXk9DCpGHNYtWpVKYFTjRw6aMe1I8UoG8HvO2Rs6nHPPfcUDz30ULF58+ZshBxlINhz1S+xENvc4+DHXuQeRxduom0Vial3kedPTUCRmHoFPL8EJCCB9AQUienXwBkkIEB0BtIqUppjCjmKRB6OeYBBEHz605+uTYuUQaL8KLKfwwPkuInfeeedZZojtbNyHggb0oaJNkKa5DqImmQgoGcdPFTzeYmoQxgwkDnf+q3fuhR1SPMEInjqDJoufPL6h4r/tv3lxTfouTIw1u736uJDbz6y2Gu3nescrtHX9FkkEil74IEHNsqjzsHakngIHEQO6c+IHc4TTTKoqYiwDqlIFCPNVlKLxByiQ2PN4EbZCO4DCNjUg3IbdG6mQ3KdCNMu5kuHe+5by9XnjWZBNK8iun/SdPsursFzSKBLAorELml7LglIQAJ5ElAk5rkuzqplAnVlxy/90i+V6c4pBw/ORL8RlfhXf/VXtaeC9LntttvKCIocUtrGTZw0bIRBpJmPe32qf0cSEMFC7TOERa6DOo48AG/atGniKbLnkIXsIeQNYi1qhJHah7zhh9qb0z5UE5X0/7H3HvBxVWfe/6Mp6r3YsiX3irvBxt3GxsaGbEggPZtGNsuS3WQhGxKSkLYhIQvZvCm8CSlvEtj80yGQZImxjQsuuGDjjnuTJVmyetdIM6P/53vEMbLQSHekmblX9nn2o3WwZ+4993fOvfqc7/09z0OKY8HkG+XZw5Wy/Uy1tLYHpTAzUe6elS+3Tx0iCZ6+U1nDvjgLXzAg0YJI3T4SC4hHPTsNFXWTDBoKUcuO5yPp8y+99JJ68YKb1K7Atbx9+3ZV/sAOqNv1uqkBzAulefPmOaLEBS+MLl68KKtXr7b80iHa88hcAafRKFTo5x/rrb/PvGhfhzm+USBWChiQGCulzXmMAkYBo4BzFTAg0blzY0YWRQU+8YlP9Hh0akmRBkYTFhxnd955p/qxM4A606dPV81g2CRbDbs7z1odp/4cKW+4ZyjC7+QgbXHnzp2q9hnAwqlBjT/S9XrbHHcdO5Cma3dl/ptgg63BIX+SvhyJ0CCRumQ4fZwUgxEk2g2vNEiMFcRjfZL6zA/rlgDy8Pc4FWfOjH1KvF7D1AzdsWOHgpl2PyOKi4uFUh7z589X7mG7gywAnvM4Ep0SW7duVR2ke3NvG5DolNky43CCAgYkOmEWzBiMAkYBo4C9ChiQaK/+5uwOU8CJqc1IRCo2Gxk2PFbdlLq7sNObguglcOLECSkpKVEg0eo12rF8KMpPKtzYsWNtdxv1dv1AcdJCQ4FE1hPATMND4AeB9jgNdZMUHIjRmA8DEkPPXn9qJNoNEkl/37Bhgy1uQO5JatnhvmNNE8BpgCI/rOdorOFQM8izl2cEdRrtdi3j/sMFSNouOtgduCOZq1WrVtk9lCvnpzEOjaFuuummkGMyINEx02UG4gAFDEh0wCSYIRgFjAJGAZsVMCDR5gkwp3eWAk4Fibi2aGpBbT6rG2LdFITaigUFBc4SuofRnDp1SqW8USPRyaljNBrBbURDCzuaWlidSEAi7iycSATOVtyUOl0Zxyrwh6C2oXYdxqoGGHXSzpw5owAHbiAnhXEkhj8bGiSSysvLCzsCcL5x40a1lhmPhoqsLw0VSX+2+gzt7zVwXlzLlJWwuyFTUVGRUDZi0aJFCpbZHZTboFwCXZudEps2bVJp37NnzzYg0SmTYsbhaAUMSHT09JjBGQWMAkaBmChgQGJMZDYnGSwKOBUk4tIDvLAJs7oJHixNQfTaOH36tLDpJa3cyV0xgRV0xwWY4Ep0apCiDziklqN2HeLcItCXjTOuQ/60A+Qx18y5E0GidvMOpq7N2pFoVzotafSUXrATJALOgUKUHaA0BfVMdfozc6qhOVCRmorRctsC6amjSkkKu1/i4PylbAQdibleu4MXHIBWJ5WwYN3m5eWpdPhQAZimOQzp805pEmP3XJrzX78KGJB4/c69uXKjgFHAKKAVMCDRrAWjwCBQYM2aNarOFc4SqyBxsNTy0/LTeINN75IlS1RdPqcGwIQUc2qfASycFKTfkaIMOMTdyVgJ1gxOLO06jIUrqy9dNEjEMYkj0klhd1mAgaQ22w0ScenigrYjcAtv3rz5CkjsOgZerAAVqc8HdCWoOwtQBCxGErJp9/iMGTNk+PDhdkhx5Zx0R6dsBC9onHCf0QQK/Z3UVItO36wDwK8BibYuV3PyQaKAAYmDZKLMMI0CRgGjQBQVMCAxiuKaQxsFIqXAO97xDlVzi1RQqyBxsKTgao3Y8PJDCl6kGnpESv+ux8GZ8vLLL8uIESOU68nu0OnKwEMAhoaH2jVDnTZch06DswYkhl45/QGJdjf40GnFdoJEHLfUu8OFy0+oAGQBFAGLAEaCtF/tVBwocONe3LNnj3K4AajsDH5nUDaCkhF2OI+7X/urr76qnNKATScEJR/WrVunnudTp041INEJk2LG4HgFDEh0/BSZARoFjAKrF9zwAAAgAElEQVRGgagrYEBi1CU2JzAKDFyB973vfbJ27VqhA6dVkKhTcJ3onOtJESc33+g6Xlx/wApqn02cOHHgkxvmEQCFpE7qdGXSNwngE8BQuw6BBwATwKwTA8ckYzSOxLfOzmAGiaT723FfoKIGiQB+K25hIFJXqKjvJRy72qnYH/hGDUCA2axZsxSctDMoH8APDkAndEenzi+/m0i1dkJY7TZuUpudMFtmDE5RwIBEp8yEGYdRwChgFLBPAQMS7dPenNkoYFmBj3zkI/KHP/xBLl++bLk+k9Occ31drJMdal3HDnwgfZLaZ7FI4dSwAzgBPKS+GH9H4KLS4JCOrF1rd9EdlRRdp2zYu8+/Bol0lSbF1EkxGFObtSPRrk7B3esT2jGfON1wCwMyw61fyj3FvOv0Z11PlPtKQ0WrIK6yslJI4aV5x9ChQ+2Q4so5gfW4ElesWKHq+9kdNKFBaxqIOSF0bc++nLQGJDphtswYnKKAAYlOmQkzDqOAUcAoYJ8CBiTap705s1HAsgL33nuv/PznP1epq1Y7GtvtnLN8cW98ELflyZMnxYlgqfu10NCB2mfR6k5LWrp2HPInDh4CEKDBIX/2BgYOHz6snIvUnHRiOHm+DUgMf8U4ASTiKKR+KYB/IB3VAV0Ae53+zP1I4PjV3Z97K79QUVEh+/btkxtvvFGGDBkSvpgR/Ab1ESkZQZdkJ5Q3oEQHrnqaLDkhrK5bDRKZd6tZAU64PjMGo0A0FDAgMRqqmmMaBYwCRoHBpYABiYNrvsxor1MFPvWpT8mPfvQj5ZYJp35XtIFXJKejpKRENQWYO3eucto5OXAkAhRobBGJYJMKuAAa4jzUddtwGGZmZl6Bhzj3rG5iac7D8ZxSi6y7Thok3nzzzRFtdBGJ+TAgMXwVe2t0Ev7R+vcN7hs6qg8UJHY9O1ARIA9ULC8vFw0VAfkaKnYH+jjH6U580003qW7AdgYdmykbsWrVKssvoaI53u3btyugyQsjJ4TVdHgDEp0wW2YMTlHAgESnzIQZh1HAKGAUsE8BAxLt096c2ShgWYEHH3xQvvvd78qFCxeUK8ZqUMsPRwzpjk6P0tJSYdM7Z84c1WHYyTFQXYETQA/tOgRU4CAlgIXadQhEtOpA7a7X0aNHhRRLmiw4MTQ4diJIJE2YGnc4Tu3outufGonAT9xedqU2a5DYV6OTaK5F6h0Cqpi30aNHR/xU3Lfcs7zQ4QenMGCf+5X0Z9KYgWT824EDB9SzLDc3N+LjCOeAr7/+ulA24rbbbrNcFiOc44f7WRyj1J3khZETwqqL1YBEJ8yWGYNTFDAg0SkzYcZhFDAKGAXsU8CARPu0N2c2ClhW4OGHH5ZHH31Upf6GU7yfTRub3GnTplk+l10fZPPNppd0QACakwNdc3Jyeu3y2X38QIeu6cra2QR46JquHKmO1WhJiqXTQaITHagaJOJsoxZmrGMwgkSrzq5oaqlBIk5hmkxFMwD/GiriVNRQEXBILUVqgLK2eU7YGbxQYCyrV6+27GaO5nh5CYPjHLemE8LqmjEg0QmzZcbgFAUMSHTKTJhxGAWMAkYB+xQwINE+7c2ZjQKWFXjkkUfkq1/9qlD3LpwNMu4c3H0zZsywfC67Pkg6IOm4NCgIx3Vpx3hJn2SMvQFaQINOVwY4AKcIHEw0cNDwkE211XTlcK4VkIimdGt1YmgHqgGJb52dgYDEqVOnyogRI2I+5U4AiXY1nOFepyQB6c/cczTwIHhGMBe4wj0eT8znhBPyTMX9C0h0QlAWgucfL4ycEDyjaQDT131jQKITZsuMwSkKGJDolJkw4zAKGAWMAvYpYECifdqbMxsFLCvw+OOPy0MPPaTSLcPpFEyqI6myM2fOtHwuuz6Iew5QyljtdvH0pUEoQEuanHYd0hiHzSdBKh/XBDzEbRkLqHDs2DGVYrl8+fK+LseWf3dyKvtgdiT2BUSiNdkD6ZgcqTHZnd7NdXDP4xynDAU1ToGM/EmtRNKf+bO/5Qr6oxPd23kOkNrshNi4caN6Fs6aNcsJw1ENzHbv3i3Tp0/v1X1sQKIjpssMwiEKGJDokIkwwzAKGAWMAjYqYECijeKbUxsFrCrwwx/+UO6//35V/yscd+GuXbuEVFlcfk4P6vmx6eX67K4r1pdWO3bsUA1CgDZsRHWTFFxZBKAQN5J2HQISYx3UmwTWrVixItantnQ+3FvATifWxByMINGqs8rS5PTjQ04AiXZroGWjkRBOQOp/0hUYkIdTEagIRMShSIkKnnPRhooHDx5UJQ5WrlzZj1mN/Fc2bNigakmG83ss8qN484g4SXlBxwssQG9PQW1MQCLP9UiVnojmNZljGwWirYABidFW2BzfKGAUMAo4XwEDEp0/R2aERgH56U9/Kvfdd5/g5ginSD1OCzY/TqlH1dtUAuNoUEC6MBttJwYbSlxPbM4JNpf8HUEKOeAQtw3pyriQ7Aw6YJPSiCMxGqnTA702DRJZm6Q6OikMSAx/Nqw2rQj/yNa/oUEiz5DCwkLrX4zwJ6lJSG3ChQsXXmkcRbozQI91z0sToCLP5q5QMRrPjP3796sXHbfeemuEr7J/h1u3bp1qYIQD0AnBnOzbt0+9bANw9hQGJDphpswYnKSAAYlOmg0zFqOAUcAoYI8CBiTao7s5q1EgLAWefvpp+djHPiZ///vfZfHixZa/i9OCCAc+Wj54hD+Is49NLy6/UBu6CJ/S0uFwGXZtkqLrn7Hpx1UEPMR9SNMUJwXplTijDEgMf1ZowLBnzx5VRoBmK4FghwQ7OsTrjg0c7k+NRLshmhNAIt3PcWH3laYa/ooI7xt0SaZG6aJFi9RLhe7BM4QGLTgVgYqAKp4fQEVccTxTIgUVX3vtNVWr1QklDrhOQCJ1I3nOOyGYB37v8EKDtPPeQCJzFB8f74RhmzEYBWxVwIBEW+U3JzcKGAWMAo5QwIBER0yDGYRRoHcFfv/738sHPvABee6558JyluC0YNM6b948x0vMZpfx0nE1VIpZLC4Cl6FOVwYgAkgINvY6XRnHESluTnZ6apBIs5VIQYlI6q+7dDvRkQhI3L17jzSmjZBdlwJypLRBgcSCzERZMyVP1kwZIsnx7kjKcdWxBiNIbGpqEpoQTZ48WUaPHh01bXo7sK53R9osrje7gvqIpO3z0ocSCL0F3Z6BWTgVed5oqMhLCv2iYiCOYp6pOGyd0HQJF+b69etVwzCe804IdMdh3luHbeZEO0gNSHTCrJkx2K2AAYl2z4A5v1HAKGAUsF8BAxLtnwMzAqNAnwo8//zzctdddwlA8Y477ujz8/oDOC18Pp/Mnz/f8nfs+iApw3v37lUgIpYQgE0i4Ei7DnE16XRlIIBukkL6rQZydqaMN7cFZMfZanmtqF743xnJHpk/Okvmjsq4yjF36tQpAXguW7Ys6nXY+rNmNEikeysNaJwUgJevP7tPDtTGS4u/Q1rbgyJxIh5XnKQleGRyfqo8euckyUiKjgs1UiCxstEnO8/WSH1ru6QnemXh2GzJSY2Oo4p7iBqudoJE7mGcpHaDxPPnzws1SpcsWaKaXVkN6il2hYp8D3CloSIvMsKFirjSeRnCc8Du4KXWSy+9JGPGjAmraVg0x035B5p88bINfXsKAxKjOQPm2INRAQMSB+OsmTEbBYwCRoHIKmBAYmT1NEczCkRFgbVr1yqA+NRTT8ndd99t+Rw4LXAKUavL6dE9nTSa42XDrhuk4GLiv/WmXTdI4c9Q7hM252zoaRQSyzhb2SxPbDknJbU+qW1tF3+gQ+LdLslK9sj4vBS5f/kYyX0DFJ0+fVpIsVy6dGlMukSHqwPAhDpy1CYLtYEP95j682cqmuRMZaeTdOKQFBmdkxzWof706gV5Yst5aQq4JC3Ro9yHcSLi8welvtUvSV63LB2fLY+8fVJYx7X64f6ARJ3Wq2qM5g+Xn207L5tOVKjx+gNB8bhdkp7okRWT8+TexaMl3hPZNG0ngEQrjTOszsFAPnfu3DmhRin3XnJyeGtPn5cXQMB2fnhGEbiggYo4tnmxYQUqAlY5FlDT7sB9SZ3fsWPHysSJE+0ejjq/rme5YMGCkLVaDUh0xFSZQThIAQMSHTQZZihGAaOAUcAmBQxItEl4c1qjQDgKbN68WXXf/dnPfibvf//7LX+VLsg4/cKpq2j54BH+IMATp9+ECRNUDa1IBmlpgBbtOgR6EDgM2ZBr1yHuISubc5yTbC5jWXuyuqlNvv73U3KivFGCHSI5KV4Fg1raA1LV2C6pCW6ZVZguX7l9gnImnjlzRkixdCpIpIstnW0jCRIBiD/dUSQnypuktT2g5hjoN2VYqvzL4lEyKrvv7tnUQ/z4r/erdGYgYmri1Q4+/v1yg0+GpCXIk++fFjaktLKuBwISp06bJk8fapKtpyqlsrFNkuLdkuBxKQja0hZQoHnphFz50pqJ4nKBRyMTGiSSskrqqh1BvUHuzVmzZingZldw7+EIJp04MTFxwMOgTitAkTRcSkAQHBegyHXS6CnUc4uakTgBnfA7AKDJ77Lx48erHyeElTR0AxKdMFNmDE5SwIBEJ82GGYtRwChgFLBHAQMS7dHdnNUoEJYCr7zyiirc/8Mf/lA1XbEagBrgGTDJ6dHS0iI7d+5UG8yRI0cOaLhs/Ejn0+AQRw8wkQAWatchKbVAm3DDjtqTz+6/JL95tVSa2/xSmJV4FTgAbp2vapGh6Qly/y2jZf6YrCsgESeS0xrBoLcGiUAf5mOgAUT8yv+elJLaVgURAWjSIQq08r9HZCXJt94+SUb2ARNPVzTJv/7usFQ2+SQvxdujdrUt7eKOi5N/WTxSPji3YKBDf8v3BwIS27PHypN7qqS8vlWGZSRe5Txs8wflUl2r5KcnylffNknmjRm47nrwpIPv2LFDpkyZMuD7t7+CWunA299jh/M93MD80OAEF2Ekg+ekhoq8JCJwPWqnIuUYukJFnqk8D53gSmfsL7/8snIj4kp0Qlhxj2qQyHPUic9SJ+hoxnB9KWBA4vU13+ZqjQJGAaNATwoYkGjWhVFgEChA502aUvz3f/+33HvvvZZHTOdQgI0TCu33NWhcNwBTNpj9adZA2hzAkPRGACLuF8Lj8VwBhwCrSDiEmA/SoWNZe/Lzzx2TV4tqVcMPXHbdo7a5XRp9AVk9JU8eWD5Gzp49K9Rqw4nkxAYBkQSJbPQf+stx2X2uVqUgZ6d4xRXX6bajSUplU7tgvls2Pkf+8x96T6k8WFIv//HMUalrblPuPdZP92j0+VUn54/OK5RPLBoY9O7pvugPSNSNRjbV5cmOoiZJ9Lp6rOFY19Kuaj7ePnWofPmOyKVmOwkkUneTDsh2BW5EXIm4yKN57+Hi1unP6E/woqQrVOSZClgkddfu0A156IZOnUQnhBX3qAGJTpgpMwYnKWBAopNmw4zFKGAUMArYo4ABifbobs5qFAhLAWrJUfvsm9/8pvz7v/+75e9S8L+0tFRtaJ0egDmaNbDBtLLJxGGII0e7DrU7h00zqX5AQ1KW09LSLKUrh6MPTWwAn7HcnN/720Py+qVGmZzfc/o1LrzSWp8snZAtX7tjouC04Qcna6RdUeFoFeqzuMdochAJRyIuws/++ZiU1bVKYebVbk0NE4trW2V4RqL83/dNlcLM0CnOOBo//usDnenLqT07kEgzJ13435ePkbtmRi6FVjf+AbiwdsNp1KFB4m+KM+T1y60KOFMXsXtQL5FrvHFkpvz8Q7MjMZXqGNx/QKupU6dGvDSB1UECp/VLl7y8PKtfi/jn6JgOyL/11ltj5mAjtVxDRV26AXciz1Xuf54DdocT0t+7a2AF+hqQaPfKMed3mgIGJDptRsx4jAJGAaNA7BUwIDH2mpszGgXCVoBN6bhx4+QrX/mKfO5zn7P8fTa0xcXFypGoOw5b/nKMP4ijcNu2baq+GtfaU5Aa17VJSiDwRh28pKQrrkMad/TkIovk5Rw4cEClTscyXfAzz7wu+4vrVGouEKt71Lf4hZTbVZPz5MGVY5UbkXXDGCPhwoykfhxLg8SZM2cqaDaQWHesQr678ayQupub0nNX4grqBXrd8sXV42TZhN7P98AfD6vO2Alet2QmX52ayjmqmtoUqHvqwzMlO8T5rF4P9euAgNT3w02rG//wfep3UgePn75gsAaJvyvJlKPlrZKfkdBjQxXGX1bnkzmjM+UnH5xldZh9fs4JIJEGPkB+3Nt2gkQarQDxV65cGfVnUU8TgztRpz/znCJ4uaK7P/e3AUyfi6CPDzhhjXQfopW5MiBxoDNvvn+tKWBA4rU2o+Z6jAJGAaNA+AoYkBi+ZuYbRoGYK1BSUiKFhYXy+c9/Xr785S9bPj9uC7pSLlu2rF+1AC2fKAIfBApSP4v6iLoQv4Ys2nUISCRI/QQY6lqHsd4Y0w0bd00sXT7/354S+dP+S+IPBpWzrmuw0b1Q3SLZyfFy35JRsnxijmq0QtoersmkpL6bjERgCsM6BOCMZkAxBYnxbvnibX2DxB0ny+XLfz0uDX6XgnGqa3NcnKq92NwelKwkj7z3xuFy7+Lw05p1/U6gIT80AeLvOL5u/EPtTtY8bmJS9Pk3YOvw4cNVym5PoFyDxL2+fNlwukHI7O4JclY1dnYof/eNw+XTy3sG9mFN5BsfpgkI9fhwTvOssiOAZ0B+uqnn5ubaMQR1TpzggPxVq1bZ+txlXW3ZskWtH37085N1pqFiLJ8NurP49OnTpaAg8rVF+zPhx44dU8/K2267LeTLNtzvaGlqJPZHYfOda1EBAxKvxVk112QUMAoYBcJTwIDE8PQynzYK2KIAwIGN8f333y+PPPKI5THozr1ObbjR9ULYrLHpBZSQkgdIAU6wgSN0ujLwkP9tp8PSjm7YNMn42gsn5UxlsyR6XJKTEi/xnjhpaQ+q7ryAgqnDUuWbb5+knHdFRUWq4YPTQeKMGTMGDH3OVjbLZ559XaU24xTU9RH1+qJOIqnN/NuP3jftLSC2+w1FavHP1+6R9WWJ0uwXVVOQVRjvjpOUBI+smZInn142WtwWux4DyYEo3McAVNLiCcAEgJB7GzCuGznoGomsfe4DuvUCyQDr/Bv3CFCR7+r7QIPE1IKJ8vi2y1Jc26LWCN28WRsqbdoXUG5KUrv/z7unyfghqZafJX190EkgkW7qA3W59nW9vf27FTg1kOOH812eqZR3oG4kc6TTn/UaBFprqBht57Jeo9zzrF8nBGVDeNm2evXqkCUwDEh0wkyZMThJAQMSnTQbZixGAaOAUcAeBQxItEd3c1ajQFgKADaAa/fdd588/vjjlr/r9Dp5XAgbWu04pMaZDlI5teOQP53ULZNu2GyKAbSxjP0X6+TJbRfkckObSmP2Bzskwe2SzGSvjMxKlAdWjJVRb3Ql1iCRhjCxdmxa0QSohrMzEiCR833xL8fllbM16tQ53ZutNLYp6HfLxBxVP7Kv4H7bvXu35BWOlcN1Xjlc2qC0HpGVKLdPGSIThqT0dQjl/tKuw65dw4HgQK7e6nf21GwFGEk6OC5F/gQM0siDtGegDJDx1VdfVXpuKQ7Kb1+9KBUNbcrBiquSlGaPyyV5afHyoZtHyPvnRtY16AS3GcCVNXXzzTdHpBN4n5Mc4gM0ueL+6w1O9ffY4X5v8+bNyukKSNTB2mG+NFTUjamA2aynoUOH9plKH+44+Dz3A2uUuqjASycEdVpZNzgSQwUgkeB3ULTLZjhBEzMGo0BfChiQ2JdC5t+NAkYBo8C1r4ABidf+HJsrvAYUABKwibnnnnvkBz/4geUrcmJ6q3ZnaXgItCFwVrFhA7TccMMNCn7hpHJi4GJhU7x06dKYD6+svlU2nqiS1y7WSZMvoCDigjGZcsuEnKu69OKyIbV93rx5YTXtiNUFaZBImmMk6tmdr2qWL//thHIeNrcFrnS2bmkPqNRkAOu37pzUa6MVfe0aJE6YMMFy4xDWLo4v7TrUtel013AND6108e2razN1FKkHCFQEUhKAd4AQHXHper7pRKU8d6BU0AUI6nXFyaicZLl79nBZMSnyjUi028zOtFX0wC3MmgeK2RXa5bZmzRq7hnDlvBs3blRQdfbsnhvrABWZO2Aaa0rX6GS9AvuAilbWrJULBYDv27dPQU07u2p3HSvgmXFRzzJUGJBoZXbNZ64nBQxIvJ5m21yrUcAoYBToWQEDEs3KMAoMAgWAb4C1d7/73fKTn/zE8oidAJPYqAJmdJMUYIvemOGy1K5DXDN0bQYqTZkyxfI12vFBHEe4J2li49SgyQ7NdnBnobPTgvVAPbtIgUSuD2j2i1cuKgch6chEUrxLZhakyycWjbAEEfmOVZAIuNOuQ65HN/9Bbw0O+5OG3xdI7DqXOB8BaMx31xp4uBSH5udLcV271Lf6FWQek5MsLovp2OGuFyekrVJLFoeZ3SARxzJjwZFod7z00kvqmUot0r6C5zLrGKciUJEGWLo+J05F4N9AnOFOaYbTVQea87B2V6xYYUBiXwvE/LtR4A0FDEg0S8EoYBQwChgFDEg0a8AoMAgUYIOHw4bi/b/61a8sj5jNLF0pYw2TcLVoxyF/apcLm9Cu6crdO9Fu3bpV/TsNG5wc1EBjs718+XLHDtOuubcqiAaJzHWk3UkXa1rkTEVnt9rxQ5ItA0Q9dtyEu3btku6ORKA4nWd1h2Ua7hC6+Y+GhwOtNRcOSNRj1mmjQCPGqJu0UH9RN2nhuNEKJ4BEYCoQj3R+av/ZFbgigWY8r+2O9evXK2chKe/hBL9zWFM4FXlpgiseqMh60lAx3DRf3QzH7hqWXXXAIUmX695eChlHYjgrx3z2elDAgMTrYZbNNRoFjAJGgd4VMCDRrBCjwCBQgI0MKWZskH/7299aHjFOJTqI0sUUZ1S0Qqd1anjIxoxg48mGXsNDnFq9pStv27ZNfR6XmpMDTdG2NxeL3ePXIJFNO80WnBaAJ9xA0QCJA71WDRLpHg400a5D/gSoEDiENThkzUay+c9AQCLOM8CR7voMvMEpyTF5hugmLZEuG8D59uzZo5xvaGZHaJBIgyEcznaFlXTZWI1t3bp1qkPyQF7O8HwHnmuoyHpivQOtWWv8aQUqOiX1vKv21GzEydtbmQoDEmO1Ws15BosCBiQOlpky4zQKGAWMAtFTwIDE6GlrjmwUiJgCOKFGjhypagc+++yzlo8LRCANl5pUkXToMB5giwaHFO7XaZ0AFg0OcVGG44LasWOHSsO1koZnWYQofBCXJ6AOR2KkgUykhhsriNzf8WqQOHXqVAW4nBKsbaAJKbI4C3V3W8AJ9xCOLNZ3NBvYDBQkdgV53Jc4ylgPXBfXhxMYAARU5AVDJNawdkTaCRIp5UB9woULF0b1xUlfa5WUffS49dZb+/poVP+duQYkjhgxQrjPIhG66Q+/W6gtqCE1MJF1x/0R6pnvFNDbVQeaKpHCvXjx4pDyaJBIrchwfp9FQm9zDKOAExUwINGJs2LGZBQwChgFYquAAYmx1duczSjQLwXYEOKOKiwslP/93/+1fAwAAql+dMkEfgwk2GwBfzQ81IBFN5PQ8HAgaZ2vvPKKAjSM18lB7UE2xaTDRdKJFslrxj1ECvZNN91kqzsr1DU5CSTiMtQ1PAFAOhWftQ3kxHkYLhQfyFwOBCT21hGX6wIAARWB/0RKSooCikCggcBRJ3TkpVMyL04WLVpkqwvXSt29gawPq98FgJHazEuoaNSd5b4BJmqoyPlYu5Qq0FCx6/PRKfPTVb+dO3cquA58DhUGJFpdceZz14sCBiReLzNtrtMoYBQwCoRWwIBEszqMAoNAATY6pKbhHmJjaDVwIFGvi/pYOEXCCTZPpCgDCIAs1F0jcC8xDg0OI+Vo4tjUpcP1gYPSyUE3ZNxPy5Ytc6xDJVpu1EjNCyDrtddeU4ADd1wsQztqdYdlGgDxd6xtUmJZ00CPcePGyahRo2I5NHWuaIHErheCoxjYDFTUndNxXAIVmY9wO/XyrNm7d696CRDr+dTXRZd64LndIJF1zZqyu4YqbsENGzaoLt6TJ0+O6joGKvLiijWlna8axLMegPE8M5kf3H9OaQBFgy/GSdkQAxKjukTMwa8hBQxIvIYm01yKUcAoYBTopwIGJPZTOPM1o0AsFQBy4Czjz5dfftlyKmK4DS2oFaUdhzjGdD04XIZsBIGHOLOs1MPqjz6kmXFsrtXJcebMGQFaUFcrWloM9Ppp9kCa5+zZs9WcOS0ALTQ66A0k+oMdsv9inZyvapG4OJHxeckyfXi6uPvReRiowprW9Q61oxZgpmsdsr6Zz641EnFzxTpiARL1NekGMgBFIBCuRYCqTlXFXWYlnVODRNZbJFPVGd9rF+tk3dFyudzQJikJblk0LkdWTMqVRO/VzWPOnz+vasLaDaqsNPCIxZrCRb5x40YZM2aMTJo0KRanVOfgvDx/eJnB/cYc0mgLxyv3/ZIlS5QT1glBgy9+v9GQzIBEJ8yIGcNgUMCAxMEwS2aMRgGjgFEgugoYkBhdfc3RjQIRU4AGArgCScWyWtNMp4+GgjWAQpxhGh4CUAjdhVa7DpOSkiyfcyAXTOF7ro3mME6Os2fPCtCCDTEbZCeGTmt3Okik7mdPzTkAiE/vLpayep80+QIicSKp8R4pzEqUf1owQibnp/YpO2Bcg0PuBZ2iiOMQeIhLt6cGQIMRJPbkCCytbZU956ulprldEjxumTY8Tab2AmLRRzdpAQTp+ne6niLPg1DPHlJcAWiRBImNrX756t+OyasXaqS5LSCAZVdcnCR53TI8I1G++Y4bZHL+m42ENEi0G1ThzMTliWPZzgAKb9q0STlr6UBuRzCGrlCRMfDM5J5nXfGSw+rvs2iMf8uWLeoZ0NvvHJPaHA3lzTEHswIGJA7m2TNjN4dxrFkAACAASURBVAoYBYwCkVHAgMTI6GiOYhSIugLU4yM1jPpbVjde2vWlYQ3OkMbGxivpyjqlk8HT2VeDQ9I77aj9xwacTVtv7pCoC23hBOfOnRN+SKGkcYUTI5L1MaNxfUBx5rsnkHiwpF6+t/GsXKxplQ7WZkKn86y+1a/ciKNzkuWhVeNkwpCrXU2sHcC4hocajOMy7Oo67CttFwAJsKcu6WBxJHYFidm5Q+T3e4tl97kaqWpqk5b2gHhccZKdHC+jcpLlnxaNkmEZib1Oa6gmLQAg0p95XnR9DmmQSFkCXIwDjWCwQx589ojsOFMtTW1+SY53S7zbJYFgh4KKLlecjMhKkp9/aLYMTe+8B7knaYSEU3gg9R4HOnYrnYAHeg4r38d1CyhjHfNjd5DWjJOb3y/87iF04x+gIqn1Vn+3RepaNm/erMbTWzkN3aWa54Ydvxcjda3mOEaBSClgQGKklDTHMQoYBYwCg1cBAxIH79yZkV9nCqxevVo1EiBd1epmixqHbGrZpAERcRuRdkbolE6drtwXXImF3NQWY3zz5s2Lxen6fQ6cT7gSKdA/kOYy/R6AhS8Cdug8TBddIJrTQoNEarcBpnSwTr/41xOy90Ktgke5Kd4r651/K29oU860xeOy5Su3TxCfz6fAISAN16HuHo7LSLsOw63jqUHiYKqR2DW1eO2ZVtlyslIu1rZKdrJXUhM80hYISmVjm3Lz4Ux8cNUEyUy25qbFVabrKWoAhL4aKuJYBlxz/0YKJDL/n/nTIeWmzEmJvyqdnXVQ2+IXrztOPjJ/pHzqlrFq+XBP0gjJbpC4Z88etS5xRtoZrGNKYeBGZC3bHcwNc0Q3a+5TUp/50Y1/eJbyu4p1Fe49299re+mll5QzubcGXwYk9ldd871rVQEDEq/VmTXXZRQwChgFrCtgQKJ1rcwnjQK2KnDnnXeqZiSnT5/uFSSy6WGzr+EKm0kCJwWOD+06pEaVVSAZqwvHbYmLhjRuJweuGuokMk4gihNjII12on09AK2txy/J4ZNnZVTBMLll2kgZld2ZPn/0UoN868XTUlrXKmNz3ppSH+jokNOXm2RYqls+MkkkJfhmOj5rWzsPB+IUHcwgccjYKfL/9lXLyfIm5djsWkcw2NEhZyuaJS3RI++dUyDvnDks7KkmZVdDRe34JD0VhyINaqhvSn3Fgcaja0/Is/tLFUAEhHaP9kBQQcaxuSnyl0/OU2uHe5JGSKQU23lfUuuVFyLUarQzmB9qAFIfkTqJdgf1K3kJs2rVqqvqbnK/aaioQTXzp6Fid/drJK+D5mWch4ZkocKAxEgqbo51LShgQOK1MIvmGowCRgGjwMAUMCBxYPqZbxsFYqbAe9/7Xlm3bp1Kb+4KAHHnsLnXdQ5xd+iaTqT3sZnE4TFx4kRLTRNidkE9nOjgwYPqWnD6OTkAJgBdOn3amULZm0aAZPTsT8fuaGkP/Pn9vlJ55WyNVDX4pLaxSVISEyQvI1mmDEuTe+YXyp4LtfLjrRek3R+8krIKAAPM8ONv90tVa1AS3HHy/kleWTwhT8FDIHmk0g4HI0jUqcUlCaNk3ekGSkrK8My3Qu6WtoCcqWySuaMy5Zt3TlEpwv2Jnpq0cBzmgS7BwEQrTVpCnfv+Px5Srsq0BI/Ee1w9fqy83id5afHy908tVO5V7kl+KANhp1OYtHj0sfs5RhkLuhLj+mVO7A4c9Tw7b7vttpD3Kr+vgIrAahz1BM9YXVMRqBjJePHFF6WwsFCmTZtmQGIkhTXHuqYVMCDxmp5ec3FGAaOAUcCSAgYkWpLJfMgoYL8CH/7wh+VPf/qTSiHkh9DwkDQ6giL22nHIn8SOHTuUG8UJjpS+VDx06JBqKGO3k6evcQJzcT6Rgu2U7qPdx6xB4vTp0yPiEOtLk77+HbDyi1cuysunq5XbMDXeJQFfs7jjE6WpXSQr2SszC9Nl7sgM+en2IlUXLycxTsHDgN/fefi4OPF6PFLZyucT5KHV4xUQi3QMZpB4JFggL59rkiHp8ZKe2HPq8uGSerkhP1X+666pktKD2y9cPXlxgRuQH2Au/01dSu0o661JS6hzffH5o/Li0cuS6HFJUvzV3Zn5DjUUKxrbZFhGgrz46YXicbvUPckYli9fbmvt0ldeeUW97LHbWQ2I4/lPsy07an12n1vKcvDsXLNmjaUlpt2vgEWgKEFKPeuKH/73QIJ1iiMRbdAoVBhH4kBUNt+9FhUwIPFanFVzTUYBo4BRIDwFDEgMTy/zaaOALQpQo+zuu+9W9aXY1LBh/slPfqI2UxSK1ymd3TvQAmG2bdum3Chjx3bWEXNyHDlyRNW5s7u2WF8aFRcXq1psNIUZ6Ga2r3P199+BzAcOHFBOm0g0v+jvOPT3Tlc0yWMbzsi5ymYZk5MknjiR2toaSUlNFW98gpytbJasRJcsHOaSTWebpKy5Q/KTOsTjdovX6xGvN17BKX8wKOeqWmTikBT57t1TLNf5C2f8gxkknowbIZvONkhGkleyU+Lfctk0KzlSWi/Th6fLd941LaTbLxy9+Cywh/VG12aeUaWlpaq8AgAZd2DXJi1Wjv3C4TL51tqT0uTzS3aXOpn6u3R0Js39jmn58sidN6i/1iBxxYoVqgasXQG8w42JY9nOIE0Yd+TUqVNlxIgRdg5FnZuarTgNcSSGG0BR7VTUKfW4EzWs7o8z3O/3CzUSeclG+neo0CCRcglOKwcSro7m80aBSChgQGIkVDTHMAoYBYwCg1sBAxIH9/yZ0V+jCrD5JkWPVGYcE3SW1I6MgoIC1S34U5/6lIJEwJVQwUaJGlk4LpzQtbOv6cKxQm0/apw5OYAk1PuaO3euqg3nxADIUnMSiDB06FDbh/j07mL5y8Ey1SBjSFqCsDZJwwf4kLrc0OKX2jaRyZkdkpacIIcqO8TfESfDMxNVt16izR+U0jqfpCZ65PYpeXLfklFRuS7qdOIqA77bkRIKhAo3LVinNncMmSh/PFwrlxt8qkZid/DB3zf5ArLqhjz5tzealERCRA0SuSd0cx+c0oAjfro2aaG5DmCxtzqGpGB/6Fd7FWAmUhPc4nXjduzs2tzcHlBNWJ543wyZUZihPtO1mQfu7IEEafivFdWqepwASzpEzxuTrVKo+wrSiTm/3U2juL+oq8vvCdJ37Q5KLbBOV65c2e+h8LuxK1TUNYBpzqLTn63Wx+QF3aZNm1QjGhrShAoDEvs9XeaL16gCBiReoxNrLssoYBQwCoShgAGJYYhlPnrtKYBj5rnnnpMXXnhBuSVKSkoU2CAd9J577lE/kaq7Fo56pFwBf4BqOA7pcknKLx04Sd2jDpmV4DhbtmxRm0hqJDo9qKFF2jY1zpwcgJFjx47JnDlzVHdRJwYQgS66pOzh2rE7Ht9wRjadrJQhyW5xd/jF19amUmA7OjobAcV7vXKuPqiccl9720T5r/VnBBcjDTUSPC71ufZgULKT41Va7hdXj5f0xNAQfSDXOxhBou6aPG3mLHlyd7UcLKlT4G14RqJyHQLgqprapKy+VSYMSVUQcdrwyK1d7glAUVeQ2HUOSFMFwPOj4Q9OaqAiz7qewN/xsgb53J+PSnl9q4KHrAEi0etSDVg+vXysvPvGgiunOXHihJw7d06Bqt5esPS1Nl6/VC+/2HFBSmpbpaHVLx3SISnxHslNjZf3zymUZRNzez0ELnDcaziW7QxeJtD4hTqpXTuj2zUmHKv8zuX3WSRC1+lk7QGyuW8Jfj/q9OfeamXyeX4/9tXV2oDESMyWOca1pIABidfSbJprMQoYBYwC/VPAgMT+6Wa+dY0oQHrwJz/5SeVkoK4Wzr3y8nL585//rBw073rXu1RdQjvSmZ555hm1+WMzyqb4S1/6knz7299W6XtWHWZstHAzchwK7js9cPkBGkhNdHKwaQV63njjjZahbqyvh/W7b98+20EiaYjAgx/vKJFdJT7J8HZIglukKeCWel9QgnGd7rsET5w0tQVlzsgM+f67p0h1c7s8d6BMdp2vVemtInGSnuSRhWOy5K5Z+VGDiMxTNEDixZoWOV7eKP5AhwzLSJTpw9NUR+KeIlxHYqPPLy/uPycbDpyTxIwccXviVR1KHJx1LX7B0ElKM/BtWGai/MP0fPUTydAgkeeVrs/a0/F5JrE2uc/5DuUXAMk0Z+E5xZ9dX94AEf/0WqmsO3pZGnzt4nHFyYKxOfLuG4fLzDeciPo8uivwQEDiGVLw152SMxWNEuwQlTrPNNW3+sXXHpTRucnyz4tHy5LxOSHlwwWOKw6oamdw37366qsyc+ZM9TvO7uDFBnPP79pIB+uKlye6+7OuG0xHcQ0Vu3dyt9rV2oDESM+WOd5gV8CAxME+g2b8RgGjgFFg4AoYkDhwDc0RBrECpDXhlHnb29521eaVzQgbYgrDA/QAinbHN77xDfna174m1BEMp3A+jgtq5PVWTN7ua9PnJzWR+oNsNO2At1Z1ADaThk09ODaqTgwNEm+44YaYQgRchmzogRj86HpmB2o8srXcLb6ASzriXMrp1dLeCQj1XLvi4mR6QZr89APTlZuOAJLhDOMzhZmJllJLBzofkQSJpBL/alexHC9rVDAK4EHzkIKMRHnvTcNkzsi3uovDAYmX6lrlyZfPyclLtVJS3Sgub7wkeD2q2zGRmeKVBI9b3HEi44ekyi0Tc68AONKH9xbVSlldq4KaOBWnDkvrVydnwCDNkkjntXpPsFZwXfNdHJVdm7QAFTmOXhs4Klv9QYl3x6nGKj0FLuELFy7IqlWrwk4N18d7fP0p2XS8QulBI5euz6HqpjapbGyTG0dkyGN3h64viXOcJkw4lu0MtN27d696Tll9+RTN8TIWft9Gu3QF9xhuTA0VSWEmANwAVbQg80B3teYZOWpU6DIJBiRGc1WYYw9GBQxIHIyzZsZsFDAKGAUiq4ABiZHV0xztGlLg0UcflYcffljVInziiSdsv7LHHntMvvCFL6iNYThpyrhjqFlGrTynB25L4C0bzXBrxMXy2oAeAN1Zs2b16r6K5Zi6n4tUeNYKTtRopzUC3jQ4ZAPPxpugfiRrj58Ob5J89YVTsq+oVjnlAEOeuA7xknYrLmltD9KUWcbmJsuHbi6Qd8yIrGMunLmIFEgklfjb607LictNUt/iVy5KGFiDLyB4Eam798klo+Tm0VfDRF9A5EBJg1Q0+FRa8g35aUqX7nAdHR9de0IOFNdLa1ubJARaZFhulojbK+UNPmltD8jEIanyr8vGSEFWknIk6nj5VKU8f+CSOkdTW0Bpn5nkVWO6Z+EoGZ2THI5kCgaGCxK7noCamQB63aSFfyMtVddTtFKLVINEmnn0pyQF7seHnjuq6iJOGpraI1DFsUiNz/9YOV5uHt3zSwRe3jDem266KSwNI/1hne6Oc9oJDZf27Nmj3L5Lly6N9KWGPB5QkcZTuF9ZXzhguY94JlE2hFIhvTWj4fsAbn4fAR+d/IIrZqKaE133ChiQeN0vASOAUcAoYBQQAxLNIjAKhFDgO9/5jnz+85+XBx54QL73ve/ZrtMPfvADNRY6glLD0WpQr4uaUeF8x+qxI/05GswUFRWpjeZAapxFelzdj0fDAGpqkjKoG0tE+5zhHp+GBKQ10o2UBj2RDDbWgErgIa4nXEYEm23dQRxduqcSbj5ZKV9/4aTUtfoF96F0BJUjEYcZdRCzkr3S0h6UWYXp8s23T1J/Z0eQFsl9NtBmK7945aL87XC5tLQHlJtSpzIruNHcLrUtfpXi/Pg7b1DAkL/fdKJK1h2vVM436gLyHQAfbsJ7Fo5UEEvHzrPV8rNt51UNwREZHqmrrVX6a92LqpvF43KpNOD33PTmGth6qlJ+veuinK1sUhqTMh4MilQ3tyn34sShqfLgqvFSkJlkWX7qy3JPhONIDHVwYBNuMqAi64wAzGmoGKruHeUGeH6sXr26X8DnUHGd6hRd09wmo0KA1PJ6n4LA/7R4lNw5o+d0YcpJAKkAeHYG4IyGSwBNUsbtDuo1AvIWL15sy1B4bvHMYm2hDfBary2aKuFU7P57h3uSFyP8fffnmS0XYU5qFHCAAgYkOmASzBCMAkYBo4DNChiQaPMEmNM7UwE2GKSD4Tp78cUX1cbU7tD1HEnHDidlDiCSmpqqoJfT4+zZs3L+/HlZsmRJj80XnDJ+4BnuK5oY5Ob23njBrjGTtocDCPdqJDq2kh6oXYc4fPQmnBRO7ToEnvTmBNt6ulp+sPmsVDR0phq2tbeLx+2W1MR41cgiM8kjZ6uaZWhagjy4cqxKs7UjrIJEHIG4AfcX10lts1+8njiZPDRVbh6VKUlel3z2z8fkWFmjjM1NupKq3fV6zlU1S25qgvz7LaNlwZgs2XC8Qp7ZXyYXqlpUQ5G0RI/4gx1S09SuYN/UYeny4G3jJSs5Xh2GlOa1R8sVgE12B1U6Z1eQ6GsPyMnLTco59+g7p6jv8Hdf+ssxOXCxVvIzElTzGh1Ak6KaFnHHxcnt0/Ll3iWjLcuvQeL8+fMjWjeUdYybrGuTFtab7tDbFfxQbgBHc39BIk1WHnnhhHJzjstL6fHaS2tbJd4TJ/cuGSO3T+25GzrPaNKy+R1iZ/TUSdvO8ezcuVPB8oULF9o5DHVuoCKNeXDB88ziv/mT5zlrC/DK2jIg0fapMgNwoAIGJDpwUsyQjAJGAaNAjBUwIDHGgpvTDQ4FHnzwQfnud78rd9xxh+ro7IR46qmnVBfptWvXyqJFiywPic0bDh67N7VWBszGjh+uz8nuD4AaHWpxeTrB6dOTtrgEcQD1FySygcbVCDTlevnfBJttIImGhzSVsBqAMlx6gaBIVpJLKqtrJTUlWdJT3kzbBWRlJHrkgRVjVC06O0KDxDFjxgg/PUVdS7s8vatYTlU0SUVjm0rNxj2YneyV/PQEWTA2S377aomCUmNCuNtIfab5yj/eXCBrpgyRr/3vSXm9rEEKM5NUkw8dpIEDWJPj3QoKLhqXo8DrC4fL5KXjFTIyO1lcwfa3gES+v/9incwuTJf/857pyqWHi/HHL59VjsfxPcAyfyAox8obZUp+mjz6zqlXjaO3uaC2KS9eFixYoNx4kQ7dTAOgCCDTTVpI2cWpCADCkcg41qxZ06/Tkwr+2WeOyMHiOhmTmyyJXvdVx6FhzcnyRgUZH7nzBqV7T7Fx40Z1f1D6wM7Q6eZ9NcCJ1Rh5qYVrGdjshNA1JHnJxnMNYI3bXNdEZG3hUtTualKbTRgFjALC75KeO4UZcYwCRgGjgFHgulHAgMTrZqrNhVpV4Ic//KHcf//9qrYcG5/eOpBaPWYkPve73/1OPvjBD8rzzz8fVldjYBLOCrvrdVnRgEYJ1KwCRoQDqKwcO5KfwflFyuC0adMcUXusp2vTIHHChAkyYsQIS5cPnMFtqJ2H/DcBiAbUsKEmTb6/9Sv3FdXJE1vOy+VGn4zJTlTnwtGYlNQJZIBF1BMcnZMkD68eH3adPksXaeFDfYHEYEeH/GTbBdlbVKeaxgxLT5DUBLe0BToUOGz0BWREZqKUNfikuqld1TfsKQCQdAb+8M0FkpXklad3F6vmMqNzUlTNQh0ArPNVzarpDI1a6Prc5g+o9GgAJufOTXKLq71Jhua+mdpMMxXSl+eNyVbgi3j+QKn8z+6L4nXFXUmT7sCp6A+qzs50RQbmDktPlC/dPlE1YLES0QaJXcfQU5MWr9eratix7vvrSOQcv3u1WJ59rVSt0RFZiZLkdSsAiz6ltS0q9XvphBx5aPXEkLJs2LBBASgcy3ZGtFyi/b2m7du3K6c56e9OCF1DsmvqNxARmKihImuNMdMAzMm/k5ygpxnD9aOAAYnXz1ybKzUKGAWMAqEUMCDRrA2jQBcFfvSjH6nmKnQ4xlWSn29fw4fuE/Pcc8/J3XffLX/4wx/k9ttvtzxv1Mkj5s6da/k7dn2Q+mbUScSxkpwcXrOHWI6ZrsSvvfaaWidOWiNdNaBb8q5du2T8+PEhu3wD7gAv2nVIPTr+DnACMAQcAhDZQEfCgEAq8Jf/1tkcZGiaV/zN9VeBRFxy9a3tys0HSIzEOfuzLvoCiSfKG+Vn24uE1OQb8lMV9KtqbFfOxOb2gDT7AuKhu7ArTnUaHpWVJAneq+s9ovOZyhYZntGZxn30UqP8+UCZgoI5KXQL7hw5bkRcj7Ut7dLY6lf1JL3uOGnzd0ggGJQOKGCcSFq8S9wSkAlD0yUnPVnNI+PDxfi+OYXyzpmd9fz+dqhMnt5VBLVVQJLjkmpOPUYAKbUrceaNzk2W/7prqozN7TnFt7uupBSTWhwtR2KoeSTFHoci4AcATrBeSU/FqUhZh3CCa//exjPyWlGt0HGbYC5wjuakxqvmNZ+/bYLkdalV2f3469evV+e3uy6tXXMSSm8afzE3Tvld1Ffqt24A1NLSIryQMY7EcO4k89lrWQEDEq/l2TXXZhQwChgFrClgQKI1ncynrgMFvv/978tnPvMZ5TIDIjqhy2VX2f/+97/L2972Nnn66aflrrvusjwjdO7FVUF6m9MDV9PJkyeVYwWnmlOjrq5O9u3bJzfccIMCBk4MNr+ktY8bN05GjRp1ZYhsjnFUatch0IwglVynK5O6HK1mN5tOVMrv9pbKuaomcfl9kp2aKPEJiVLX4pcWf0DG5iTLfUtGqYYrdkVfIPGZ/ZdUExXqGOalxMuZymYhTZlGMQAn2F57IKhSY+PdcQrO4W6joQoBsCuvb5O2QFBmj8iQb719kvzxtUvy5wOXJNHjVpBKg8Syep/QNAXnId8DrpJC7Y5T6WUKAIp0qAYgcdKh6ieOyUuV6qY2NQ7qTOKey07pTMskNffx9afkXGWT5KR45VJ9m7S0+SXQIao2Ynuw05mYlxovX33bZFk+yVqTDg2tqH+Xnm7P3OESxmUGPNSp+IwFoAjwD9Wkpfs6o47k2tcvy9aTlQoOA12pVzl/bLa8fUb+lRqVodbnunXrVIMjfpfYEay9I6X1cuBUsRSXlMjSm6bJgonDrqw/O8bEOZ3SzVpfv5VO47prM89DAxLtWjnmvE5TwIBEp82IGY9RwChgFIi9AgYkxl5zc0YHKvDYY4/JF77wBVXTirQ0JzbQoID/rbfeKj//+c/lfe97n2UVcc7RKMMpdal6GzipeCdOnFCOFbq0OjVw7gFoSX8HUjgx6Hz7yiuvqM7DQHHdYRk3JZtjglp22nUIuI2FA5Bzr329QjnjisprJODyijfeK+mJHslJiZf33zRMFo7NtlXSvkDi/+wulrVHK2RoerxQK7G4plWa2gOS4nUrtyBR1dQurjiR5HiPgoLtgQ4FHoGKwL+UBLdyKlILctLQVNlbVCtPbr2gAOOEISnicsWpeXr9UqPqpsxxgYkcK97tVt8nSK2mIQuGRwCYy03363hVv49O0Z9YPPqqxiEc89svnpStp6qkotGnoCGuxXi3Sx2nyecXt9sliR6XzBuTJZ9bNUHyMxL7nA/cxNQopL6pXfcudUsBiatWrVIgUTdp4V4gWOvcrz115+3pAqkXSao6rlDgbveaiaFEoUEX5QSmTp3ap26R/sDxsgb58/5SKa1rlfKaRmlubpLCITlSmJ0i/zAjX2aPyIz0KS0fzylNaPSAraTjG5BoeXrNB68jBQxIvI4m21yqUcAoYBQIoYABiWZpXPcKPPLII/LVr35V1RAkJc0pNRG7Twz1GhcvXixPPPGEfPSjH7U8bwcOHBDSXJ3QKbOvQbPxP3bsmOpKbZerqa8xKnjT0CCkjE+aNEk5j5wWus4XYAcnje6wTK0v7TpknfPfdsWlmkZ5ev2r0ujOkOS0dBmXmyxrpuRJRpJ9Y9JaAN6p5xaq2cqz+y/JXw+XqzqDgCagIY41UpkJ6h6SMpyZ5BW3SyQ1wSNpCR5peiN9mLp7pES/e/awK/UTcZE9svaU7C+uV8BqeEaiAomHSuoVLFRHjotTf3IuXIkE6eI4GzMSXNLe5hOfeGVMbqrquDxvdJakJnreMsV0Hn7gj4fk1OVGaQ92KKfaG2xZ1QQE6CbHu9Tf3z17uNw1q29Y7gSQyLOONP2VK1deuWY0xIGrm7RwL9BYo2uTlt46jYd7f3A+HIkjR45UpQ9iGWcqmuT/bT+vXKcslKQ4vypd4EpKV45T0rI/NH+EzCiIfDMcK9fplCY0eqxW1qwGiTwr7XxeWtHXfMYoECsFDEiMldLmPEYBo4BRwLkKGJDo3LkxI4uBAqQJf+xjH1PNIz796U/32G0Ul+I73/nOGIym91OQSgtgo5v0P//zP1sez6FDhwQHHRDS6UHNKuDXjTfeqGr0OTUaGxtlz549/e6IHI3rwnWl05VpYkI6O0E6nu5qi1MsFq5DK9d38GKNPL3xoJT7k6RNPFfSf++alS8Lx2TZOs7eQGIn3GuQX+66KCfKGpWLj0YcOCp1AAyJEZlJKh2ZDswfnDNcAUA+T3MW6hN2j1OXm+TJbRfkYk2r1LX6VVp0eb1PpUkDI3XKdHqi90rqMyARt2N+mkdSO5qlOpgkSycOkS/fManXaXj4+ddl08kK8bpcnSnTpLd73aoBS0FGoqrtSPr5LRNz5cFVE/qcUhol8RKA50y4dQn7PLjFDwASuQdwbvcU3BM00gAq4lxkLoFDlCfgh2fOQO8PzsELKcoJUPogVsG1/Ojlc7LtVKWCwQWZicJzijIM+cOGKdjNz4Kx2fLZleOV4zXW4ZQmNPq6z507pxzwS5YsCVlKw4DEWK8Sc77BoIABiYNhlswYjQJGAaNAdBUwIDG6+pqjO1yBr3/96/Kf//mfvY4S999TTz1l+5UcOXJEFe//1re+paCn1eB7gKWlS5da/Yptn2Nzz3hnz54t1OlzavSnI3KkrwVgASTQ8JAxETgQcRuStnzq1CkZPXq0Sm+OZlAfsKaZzTkixwAAIABJREFUVN44BTAS3qgFGOqcr5ytkad2FsnBi7XS1tFZ3Q+YhcsO595dM/NVyq9doUFiV+2AhdtPV8uu87VS1eSTs5UtUtPcJk1tQYl3i2QkxatroFlHIMh/e2RyfqpUN7ZJvMctH1tQKAvG9L2mL9a0yIvHKuVIaYNKgaaWYYMvoJqyACFpSEPnYJ1CTZdn0pJHZnilraVR/N4UuW1qvnx6+bhe5fvGC8fllTPVMnFIinKrMQt0hGYOCZ8/ICcvN8myPjoU65OcP39ejh8/bitIpEYi7sMVK1b0uXToSF5eXq6gIs9HggZPuklLf2u04gYGmLF2KH0QqyiuaZHvbzwjJ8obZEZBugKivEDih2vCdXn0UoPqhP7JZWNVOn2sw+7akd2v98yZM+oZuWzZspAdmQ1IjPUqMecbDAoYkDgYZsmM0ShgFDAKRFcBAxKjq685ulEgYgrQzZjOkV/72tfks5/9rOXj4vDDhcNmyenBOA8fPiwzZ85UKbhODSsdkaMxdmr3AT1I3+RPoAUB9NApywBEoAGgZNu2bcoZRcOVaERJbatsOVWlmo0AvSgPSH2+GQVpcsuEnKuaO/DvpAHXNLXJz3dclL1FddLmD6g2IS6XSEengVK57qjZ95kVY+R9N/WdUhuN6+oOEhn7T7cXyeuXGlQnX9KBqS3Y6AtIS3tAOdsSPHRpdqtrTvK6VMpyRqJHTlxuUg6/f1kySqUzWwlgcG2LXzVwAfa9eLRcaUeqdFl9q3JApsS7pS3QCS75+8m58XKirF5G5WXIvcvGycJxvd8/P9l6TjYcuyyZSfGSm9rZiKVrcJ3US7x92lC5Z+GbzXpCjd8JIJF6sMD15cuXW5H5ymdoTERZBX50kxbuI+1UpBGR1SB1+qWXXlJp8ZQ+iFUcLK4T5pSanbrTdl19vTTU1ytHMs8EIDXQ+WMLR8qiPtZHpMdtZ8p3qGsBIgITWS+h5tiAxEivBHO8a0EBAxKvhVk012AUMAoYBQamgAGJA9PPfNsoEDMFKAxPAf+HHnpIHn74YcvnJd2QlOFwN9eWTxDBD+Kuo2HCjBkzHNnwRl9q10YmOI+iFWxicRRp16GGHEABXIcaHvbUjRagsXXr1qiBxPNVzfKHfZfkTGWT1Lf6VeptALDlD0pBZoJML0iXD9w0XAHG9ccrVDow7rlLdbj5msUXCEpcR4eqK+jxuJUjDkcfkIwg/fev981Rbr5YR3eQ+PTuYtl8oko1PSnMSlQQj6htbpdDpQ0qtTg1vrPbMk5EOh4DbKqb24Wuy3NHZciDK8ddqaHY1/UAEnXdPhqofH/TGdlXVCtldT4FDtEIdyLa0XQlPz1RWnxtEmxrkQUT8uWLb5uq0pR7i9eKalU9vfPVLTJpSOpV0JdznLzcqJq0fHLpGJk6vO8uzBok9pYm2td1D/TfKf/A/TKQZx33GC5FoCL3Oc4+3aSFuop9dTNn7dBUBBfwxIkTB3pJlr9/tLRefvzyOals9MmEIZ3AGqjK9WiQeK6yWdXM/PjCkTJvTGwbGtmV8t2bgKQ1k95MKnyo+oeMW6fAmxqJlpej+eA1roABidf4BJvLMwoYBYwCFhQwINGCSOYjRgEnKIALLS8vTx544AH5xje+YXlIbJbohszmeqD1vyyftJ8fxGVHnbNp06apZghOjb66+g5k3DgJu7oO+W8iKSnpCjiklht1PXsL3Iovv/yyavowfvz4Xj/LRrmuxa8AFXX8cAT2euxghzy59bzsu1iv6rHRHZi05EBHh5TVtaqU2JQEj0wakqK6Gdc1tyuoRhORS3Wtym1HuAQnn+sKNOPvGEtLe1B1OP7GP0yUNVOuXgfARuoC4vzTabgD0bun73YFiRlDC+XRdafl2KVGmZSfIl66p3QJrvdEeZO6/tE5SZKb0unuq2nxqyYp4/NS5L03DpObR1uv+dkVJHKslraA/HFfiew+XyMVDT6lIXUTuZ+BmmgRDPjF5W+VO2aOkDtmjVSOyN7udxyVP9t2Xl69UCMltS3KScpcAn5pFDMiK0nV07tnwUhL9fR0vTlKKJAibEfQSZ26gLfccsuAT8865D4EKPIiBjDPPaebtAAXe2rSokEiLmAc5LEKIP1j607J/ou1yvlK+nttXZ00AhILClTnadLlpxaky+dXTZCcHlyo0RyrXU7N3q6Jl2zU9rztttt6nEu+q0EitWb7gsjR1M8c2yjgJAUMSHTSbJixGAWMAkYBexQwINEe3c1ZjQJhK8AGmWYZn/zkJ+Wxxx6z/H3Sty5evKhSm/uCT5YPGqUPUt+MOmdTp06VoUOHRuksAz9sTzX0+ntUgAVzq12HuIgIIBB1IrXrMFw4o0EiLtZQQEM1DiltkJ1na1SDD38wqADElPxUWTI+W9U77CmOlTXKr/cUS3FNq/osY6WmHinOAMkGn1+afAGhn4PHHSfuuDiZOixNNR3BWVdS61MpzHHS6arr6jpkTLgaAXP/OKdAPruys75jaV2r7DhTo+q8ATwBkKRQLxybLfnp1lNPrcxT1/m91JEpv9x5URrbAjIqO6nHrx8srhd/oEOGZSSolGcCIEvK8Oob8mTp+OywIH53kKhPStrq8bIGBRarmtulqKpJqDcJsATU+NtaJSs9VfIzk1Vn3o8tGKnqHoYKnId/2lci+y/WSXVTm+r+DJSka/OcUVnyrtnDr3Iq9qadE0AindQpOxDpMg66CzpQUTdpASzp1GfSoDW0xcW4ZcsWdc9Fq6RAqHl4dn+pvHikXLkSx+QmS1tzo3q2ZA/JlwvVLZKW6JXlE3PlowtGWrkNIvoZuwBrbxdx9OhR9btx9erVIe9P3bQKN6IBiRFdEuZgg1gBAxIH8eSZoRsFjAJGgQgpYEBihIQ0hzEKRFsBnGlsXj/+8Y/L97//fcunowYUrgtSDp2emgVEIz2Rbqds0p0aA60/CPQBmuIyBSCyySao0wU4zM3NVRBxIOCXDTBAo7CwsMcUS4Dd+uOVsulEpRTXtionGum4pBxnJXkVNPvg3ALVjKN7rD9WIc8fKpMEN2m1CSol+Xh5o1Q0tkm7PyjJCR5VC9EX6FBOqNQEt2Qne1WqLJ8jnbZDNfjoUK5C0nB1D1lAHEALwEiNxM+vGqecVL/bWyIldT4FvHTg/gN2fujmgog2j9DzS9r6+fZ0IbWZa+yp0zJjIc2b1O7FY5kzCj6KGtdNIzMkK9kb9jIOBRK7Hqi+pV3+e8NpOVxar8BieryIr7lRvMlpUtsaVPOCo/Bfl43pE2JSD/FQSZ2Cv1zH7BEZkv2Gs9Lq4M+ePSsnT57stXGF1WP193OAROodRrOxFPeqbtLCPUwA+Ukf1k1NcAKT1hztJkfddWId/GLHBbUmcK22+Vqlva1dklNTZWh6okwZliafWDRK0pPCX5P9nRP9PQ1YcUf35ZAe6Lmsfp96vKSxAxJDhQGJVtU0n7ueFDAg8XqabXOtRgGjgFGgZwUMSDQrwygwSBTAFUN663vf+1558sknLY8apxA/ixYtCllQ3vLBovxB6puRnki3UzbmTg1df9BK2jDXALTDKaVdh7W1tervcDHhZtKuQ5qmRCr9nONv3rxZCgoKemz6cKK8UX6186JKQx6ekSjZKV4F9fyBoJTW+xRYnD48Xf7j1jEq5bVrvPh6hfzlUJkke90yJC1BdS+mqQjOOAAUUBAHISnIOOL4b3x61A4EKu4vrledjflbBRLfSFNmzEBETH10b75/+WjloPr+5nOCCzItwS1D0xKUS45jX6r3qWYnuB1pzpIRIUDSFSSea0+XH2+9IBWNnc1OAKBcA4AQ6NYhHfL6pc56gp9bOValBA80rIDEFw6XyW9fLVbNNcbkJEtdY7NU1DZIalqaAtAVDW0yfkiq/MfK8RGFrKGuzUoH3IHq0tf39+zZI5Qd4KVJLAJoqesp4vwjcI1TlzDWqc36enGZbjlZKfsu1MrZ0gppbmmWG8aMlNkjM2X5pFy1Zu0ItLILsIa6Xurx4jBdtWpVSEkMSLRjtZhzOl0BAxKdPkNmfEYBo4BRIPoKGJAYfY3NGYwCEVGADQ218XBP/PKXv7R8TJog4BZasGCBApFODjbjwADcPDjpnBpW0ob5DMAQeIjzEEcOgSu0q+swmi5Rmj6EAon/s7tYNp6oVPUQgXNdA6B3uqJZQcEPzBkuC8dmXfXvpML+bm+p6io8cUiqarhSVN3yRsdit2oEQmOQ9iB1/HAeivj8HRLviVOdjGua29V/839xEide2j2LqBqLBP9FbcEfvXeq7L1YL38+UKbSmUd3Sy1mnOeqWhQcoQ7hrZNzI7JkNEhsTMqXAzUe2Xa6Wiqb2tW1kK5NqjYwEzBKCjbgc9G4LPnM8t7df4wX+Em3ay41Ly1eOT+713q0AhK/+rdjsu1UlaolSdMXAJI/EJAEr0fBW46f4HXJh28eIR+z0HV5oMIBEg8fOyU3zlsg2WkpqqlHrGP37t2qW/nixYtjemrmVTdpASxqhzE1bXEpUqZhIO7i/lwMNTS37wWUVchdt6+0nKLen3NZ+U5TU5PqIs9Lomg2qLIyFv0ZymjgKl2xYkXIrxmQGI6i5rPXiwIGJF4vM22u0yhgFDAKhFbAgESzOowCg0QBNjQU+l+4cKH85je/sTzqoqIiOX36tMyfP9+2JghWB8tmExhAfTFq+zk1QqUN47rRrkM2qHoTmp6efsV1iGMpUq7DvvTBkQjIYPPeNUjT/cbfTyln4IzhaQqGdQ9gH6CQZiekDncNoN4TW87L/uI6GZaeqD5XXEMNNo86FmDLD1xp8SuoCCjjnNRL9Lhd4sKh2R58AxzGKTinXYt8f0havHzwpgL5yPxC+e7Gs6o24picpB6bwNBkgtTspeNz5NO3RKaDNjDqmfXb5LXGDCltdqnro1kM162lAnkCFAF5wNQHV45VzsieAtD02sV6WXv0slxubFN1FAG4QNXhmYmyYmKOjM55s0FJXyAR1+hHntonxy41KKcnXaPRF4enx+VSc6A0jYuTuaOy5MkPzozqmjtT0SR/2X1CjhRVSu7QfEmK9yoQvHBcjnJqDjRwn+J2BTizxkLdP7t27VK1ImMNErteH0Bxx44dymnMixFeKAARgYm4rOm23lOTloFq1NP3rTjuonHeno6pdaFsxahRo2J12l7PQxkNxtVbcx4DEh0xVWYQDlPAgESHTYgZjlHAKGAUsEEBAxJtEN2c0ijQHwXY0JBKSyOSZ555xvIhiouLVe2ym2++WVJTUy1/z44PAuJ27typamhxrU4NnTYMGAAQaHgICCUAQQADnbJMbUs7ApCYn5+vak52DdxKj6w9JYdKGmRmQc9gk4Ypl+p8smpyrtyz4K1Q90BxnfzlULmcvtwkNS3t0tjqF7fLpYAWqcrArrpWXHKdjVPAXHRtTk90S6MvoFKS/f5gZzMWV2cnZP59ZHai3DoxV9VnxPVHx+Rd52oUpKNuYvcAMp2saJLF47Lls7d2NmYZaAASv/2n7XKqJVk88YkqfZj6jwBAUrJxTtKYxutyKZCIY/PhNRMkvQcXHinezx8sk62nq+VyQ5v6Hp2WSRfnetMS3TIhL1XePTv/CkzsCyTScOXTvz8opXU+wcyJtl66ZgcD0hHnUi5P4C3jnJCXIt99z/SrQOVA9en6/b0XauQvB8vkREmVVNW3SG5WurQFRUHSEdnJ8o6Zw2TOKOsdq7sem6YhW09VycHiOlUHknVU+EY3aeo4dgeKPDt4TlLGwa7QwGzKlCnKDUzqLE1aKioqVDkD6qByT/Ls4AVDNF8qHDhwQD2bbr31VrvkuHJeyla88sor6veXU14SWampqUEiz/BYu0ptnzQzAKNACAUMSDRLwyhgFDAKGAUMSDRrwCgwSBRgE0rdLQDb3/72N8ujJtXu+PHjMmfOHLVxdXKQ/stmkyYFTkl/664XNdjYnKMpEIB5IYC0Ghyic6xcR73NJ81WcLECNboGY/7epnOy81yNSq3tqW6aSr8VkTunD5U7Z/TcQftQSb1sOVmlGqiQCt3qD0heaoIkeV3KwYerkXORxkwke13i9bjE1x6QtkCHpLiDcsfEFEnNzFW1EQvSE2Xu6EzlPtSA5cdbz8vLp6qVS5Eahd2D5iuci7TmTyyMDHyub2qVL/xul1xqT5D0lCQpr/dJcjxuS1ENSRh7mz+gwCadmUlRBmzNGJ4uY3OT1d8RZfU+eWb/Jdl8slJBRFK7gYjoARPleqjriDrzRmfKPfML1XX3BRJ/vatIfr37ojo+cBPg2hEMSiAYVLCDDtJYPBM9bhmVkyQfnjdC3jkr8jVH0eXHL59VnbRT4trF094kI0cUisS5lGbUlQQA/+stY1UtzXACh+uvdl6QcxXN6jg4WYHSODkLMpNk2cRcuXNG/lUgDpDIesO1bVeEAmakO5eVlamaipQ8IKiJqpu0hNuV3cr1vfbaa+pcvaXuWjlOJD7DOHCMTp8+XQFWJ4SVVHgDEp0wU2YMTlPAgESnzYgZj1HAKGAUiL0CBiTGXnNzRqNAvxRgg4ybg5S59evXWz4Gm9fXX39dbrzxRlVj0cnBZnv79u0KIsa642koXdAdOKBrHeqmCnwedxFjBSAmJiY6TlqaG9ABmnXTPTafrFKQCxBHGmrX9GbcX7j8Jg9NlX9bNkoKM0PX1iR1+XhZo/xhX6mqVwhsA5YBFoGDcFYat3D8eHecuNSfLsEVme7yycdvypF3LJoeUrtXztbIb14tEToL467rOk7OTbOYgoxE+ej8QtUlORJxua5ZvvLHPVIVSBBvfIKCgIDMzgTszsBRWd/a3lkjMSiqWQ2dmmnCMmlIqrxt2hBZd6xCQcTzVS0qLZpj4BQEHJKSjZtyWDqALU4ByA/PK1RgtzeQyHf+a91J2XWuWsE6wKZqFK1YLf+v8/iMNDPZK4UZibJsUp788+LREa+T9/cjZfLXg2UKZma424Su69Q21c4tulmTjnznzGFy+9SeYXRP8wUw/N7GM7KvqFbpRQMbXK64XYHTF2ta1Jr9yPyRMmvEm3POSwhALPVg7Qo0AGhOmzYtZJ1XGi/hUgQqahczz2agIm7FSDmYraTuxkqn6upqVf925syZqtyCE8IKeDYg0QkzZcbgNAUMSHTajJjxGAWMAkaB2CtgQGLsNTdnNAr0SwGA1uzZs9UmHaeZ1SC17siRIzJr1iyVbuvk0E0uqKGF+9KuYBw6XZk/qbtG4BrSrsNDhw4JzRR6gnR2jbv7ebdu3arG29MYgXs/235BDpc2SG2LX3JTvAo0AaaANSOzk1S6MCm3VtIvAZLPHigT4NHpiia5WNOqmpBkJnlUCi9/0q0EwAVorGpuk0BzvfzjrN5BIk1Efrztghwqrld18vLSEiTR41Igj3qDgLtZhenyySWjxAtRi0A0tvjkod/ulBJfvILFlY3tbwGJFQ0+aWoLqLORmU2tyJwUr9KSJiyAQeDhweJ6BVRb/UHJTn7TUQnso7My4+cnPckj75k9TG7IT5Vj5c1yprJZAViuddyQVNVBGzAIgPzO+lNypLReNW2hHuWboRGiklqlWlMzEYfkmNxk5YCcMDRVpuSnyYQhqZKS4Fb1H0k1B+4OTU/osV5mKEmf2HxGpR5zrLbmhreAxOY2v1oLyybkyr/dYj3t/FBJnfxi+wUprm1RY+2+/kh5rmpql1sm5sp9S0df+XdqE+IEjiZIVDU5a1oU1MxNTXiL05LaqDjdrDjv9EsKgCIvfHA7c63Af6AibuKBpNOSugu0XLZsWQTuioEdguco4+H3ELDUCcF6QV/qB4cKAxKdMFNmDE5TwIBEp82IGY9RwChgFIi9AgYkxl5zc0ajQL8VYMODI047b6wciNpchw8fVk4QoJKTQ3dDJn2bOomxCjb06Ep3ZTa8OBA7AZFLuTg1POyafgikA8ziPHJq9DVGgGGnk7BZgRkcfkkel+Skxit339unD+2xLmGo6wX6Hb3UKDvPVctLx6tUyvH43CTJSU1QbkQdONj4XHZck9w3L08WzO50TPL3gKeimhZVixDwNnVYqkol/vXuYjn7xjhxMwK+AGTjcpNVMxhShCMVgOPH/rRNTjYnS73fLc3tAUmJ9yhXHNHuD8qFmhb1v4FxADuapeAuxE13qqJZpTHzf6wt4CLQEdDYNepVXck4BVlJ/V05KVeKalqlpM6nHJj8e5Ov8zM0GVkyPkdumzJU/rC3WAG82uY2qW1p73Q5dnQ2XHFRIzGuswELXBW4yrjRk78HFuenJaiUZ6/bLRlJHuUO5XOMYdaITDX3VuDx9zaelu2nq2Ta8HRpbKiT+rp6KRwx4krNS9yTRy/Vy5LxufLArdZfDDy7v1SeP1CqNO8pJZrrpEYncPXhOyZdSc3HzYybszcw1N81wjxsOlEpR0vrleaMgZIAY3KSZfmkPFW7kdDOuxkzZigYaDWYP549QMXy8vIrTVp0PUWeNVbmpOv5cABSLmLp0qVWhxG1z/F7CIckzngAqROCLtK8KKB+cKjgdxK6mxqJTpgxMwanKGBAolNmwozDKGAUMArYp4ABifZpb85sFAhbAZwlbDTZkFndVLI5pXsnDhkcdE6OUN2Q+zNm3GDU7jt1uUlBHJpRjM5Jkhvy05QDDFjEpl87D0mrJthY4ggCHmZlZYV0BLEJBTKiq1PDyhgBGKQkoxWaAcVw+OWkDKxBzJNbL8j2M9XSIR0yMivpitMNWHi+ukWBq1HuWvnHm4aqZjC46144Ui6X6n1S3URtxU5Ih7tvwdgsmTsyQ05cbpIjpQ1qPlPj3TKjIF0mDk1RIK234Lqo53iwpF5qmzu7/+IYnDMyQ4ZlvDUlnbXx3PqtsrchXU7Xx0l9C12oO92VpDHjvsRlSJp2itetwOuUYakKbhK41nB6wk6HpiVIQ1tApSFzLV1Ts2niwn9T/29WQbrSHm2on0gdRWogAhM5Hu7OrGSPzCjIUDUZd5yulrL6VnU+1RmbhOZgUFxulzT7O9Q4kYXxpSV5pcnXLpROpH4i18/zA8BIzcGxeSkKjhKjc5Nl3uhsWTYhR7ko+QyO0p7i6Z1FsvF4hUrrdrc3S2VNveQMzVeAUrkdGztB58rJefLh+dbrV/7+1WL566EyBV6zknteh7gWJw5NlS+umXjlM4BEr9cr8+bNi+gtiTP0N3suKhdoWV2rAojMG3OTluCR8UNS5ANzC2VkdrJ6ngzUeQe8wknOs56XG7pJCynBwEmrnd+t1ACMqFC9HAw4un//flWrl+erE4LSD9SpZEyhgrnghRIg0Ql1b52gmxmDUcCARLMGjAJGAaOAUcCARLMGjAKDSIHVq1fLsWPHVKqyVZBIqh0bONJb6TDs5NDdkCnGP2nSpH4PFUCz9miFnK9uVvXtWtuDgpksI8El6R6/TE5tk9Rgg9qgoyN1JwGHbHBxHVrRFmhBUxWcR3YFAKmoukV1FWbM+enxClzp8ds5xkt1rfKT7UXKYVjf4leQDKjY0BpQKboTh6TIDHeJTCgcInkjxslv95bKsbJGBcVyUzqBW11ru0pnpjbiqhtyZd7orLClBvb8fm+pnKpoUi4/Xa8xOzle8tMT5PapeTK3W1dhQCJuTn/aMNlX7ZX9xXVSVudTYA0gDaDzBTpU8xhSrUdkJqnUZ5x9pFuTblxMs5qODgXh8lK96roBmkBsVVexQ9R46Pw8MidROSt97UGVVs5aPVPVqhydpIHTGbqRDtjBoHIUAsPPVDYpOMmxAoEOaQ8ElKOzQzqPTcD/EjxuBTwBhgluUsKDUt3cplLM+S5OThrF4Kisa/ELHaGBgENSEyRFpUYDXVNk7uist3R+Bub9etdF9Z24QLvUNfskMSn5Sh1Mmu/gGvzoglEyvcB6o6f1r1+WP+4rUXqOyk5+y5zjfAV80w0akKhT2q04zMJeQCLCeNYeLVdglDRu5oDAlcj9x3huHp0l/7JktFRXV8nevXtVGYpIPG95waHrKVJ/kaCxk4aKSUmh65c6oYu11ptr4IXW3LlzHeOMp6s9z35ckgYk9ufOMN+5XhUwIPF6nXlz3UYBo4BR4E0FDEg0q8EoMIgUePvb364K1p86dcoS7OLS2HziYMT15ZQi971JzuaOdD7G258Apjx74JKqqccGPxvDWXur1DU2S1WzX1oDcTIq3SX/MCVHxhXkqfRk0iHDDeprsaEnZdyOOFvZLHsv1EpFY5s0+PxqPWQleZTDbuHYLOUotHuMOOb+euiygngAQYIUXZq43Dl9iBzdt1OlOZ7256i0UTxxo7Pf7NjM53G0UXcR2PUvi0dKUgh3XE9zAMh7alex7C2qU41RaIaSnuCR9mCHgnjVzX6ZPDRFPnxzoXIo6tAgkRT7Wm+u/GZPsRy/3CxNbX5xv1HnsS0YVBpPzEtVjjwgISAUqMu6AzQC6nD/eXD/eV3qu7gp+XvgNiAKmLl0XJbEBXyyv6hOkqVNzjUEpabNpVK7U5I6wTBOwrpWv2QmeiQOmCkdQq3A1ASvcsZRj9DvD0icy6Wch6SS8z2AYYLXLakJbmn3dyiIyLlVmrObo8QpyAuU40+gKTATnRkb5wU2jshOkjVTh8pNI99s2MS99ti6k/LS8QqpamyFrElSYnwn2AwGr0DK77xrWlj1K7mu7244rRyAE1UtxzfvTzQ7U9GkwChNXN4x883GHcBfwBqwKlJBh/H/u+WcvHqhRibnp71l/bHGGCdOzo/OHymZcS1RS+Gl3iEuRX743wSuaVyKQMvuTVqc0HxGzwNjpq4sblHG7ITYuHGjgprUbQwVxpHohJkyY3CaAgYkOm1GzHiMAkYBo0DsFTAgMfaamzMaBfqtwHve8x7ZsGGDFBUVWQaJDQ0NKtUOhx9OP6cH6WakYE+ZMqVfQz1aXC3P7L0oF6qaZGg8zqtOe1ZCQqKkpCRLdZtHvF6PrJhBTJ5PAAAgAElEQVSUq9I3+xts0nEv9rYJ7e+x+/oeEHHLqSqVto1jDIcfUIfGGclet0wamiprpuTJ6wdeVal7dsFOfR2k6JbWtSqoVZiZqFx8BHOdmpkjmyuS5FBJg0wfnqbSfLsH10la77tnD1NA0WpQ+/GXOy8q8DRlWNpb6j3immxuC8qtk3Ll/XPerGcHSNy4ZaucaM+RA5WiUoxxx5HmC5wDkgHLPO44mTc6Uxp9QTlyqV45+pgHLgFXIO7QzES3FNf5JNDRIZ44ahUGpc3Pd2k6EydTs12yIKtFjtSIHKuJk+zUeDlf35kenerpTDf2erzi8XqlzheU/PREBVzREqdi4huOw6bmZmlobBRPYqqUNXaOA+gWDP7/7L15cFvZefb5cgMBkCAJihSphaT2fZdavalX9eq0HSd23KlpeyqOPd/M2JmauCc15c73h9tVU7aTqbJdNUmcrxw7mdjJfIntjmO77d73bqkX7ftKSZTEfSe4gSCmfi902BAFkBc7KJ2TYmS1Lu499zkHYN0fnvd9wuJzl2i5NJATRyKuT8qugYUAUMDmwiq3nhPICDClTBeXHefA+Qh4RcMv3tU0VQ6Ou5PglzfPdMnY+LiEJkJS6nbr+fihTyP9Fp/a2SDbogCkk/X7z0OtWjbd3MXauxRysgaAc1yeGxb65H+5d6lUR5Xgs594T6YTJBKs8t/ebpaLPSOyfkFsV+WVvkj4yh9tWyRrqyZl//79sn379oy1kogOacHph2uRfcnnJlCRPwkRyWTPSCdrGH3M5cuX1UlPEA4uwHwY/C4FwM7kKrcgMR9Wys4h3xSwIDHfVsTOxypgFbAKZF8BCxKzr7m9olUgaQU+//nPy3PPPacJn07Kb7lQIBDQFNFVq1bJ4sWLk752tl44W0DI9HnQV7Gvr2+q1+GelhE50lMgZa5CWVDlVbDg9XqkqCjiaooEQAwq4PiTOxY71nH6dffu3asOoJnK4jKhGYDouYOtsr9lQMtpo8MoAAxARpJ6cSW6uk7lDHY6uXfAj3j98laXR1p6R7RkN9ZoHxxTl9/vb6qXB1Y5h7+/O9Yhvz7Srq7AWL0Q0VIB5iKf/B+7l025zcaCE/J///xtOTzgls6RCHCrdBcLLkRAG1CLxOWJcFh75ImEtaTZ9B8kHAZwh2Ox0e9WV+XlvjGF2oA9hY0FYakuDUu9l33qlvKyMukYES2HPtdN2ExYyl2FEhwfl/FgUF2UY6FCqfO5xOsplZLiYnX80a+RRObC4Ih0dXdLyFMtR9qGZWQ8JB5XkZ5HgWEwpG5IYByQEwBNCTP3AyAFtzPncnfEuQhY3N7oV+cio6UnAstwJf7exkjq7p7zPUI/QxyMZQWj0tYbkKrqeeo+5N4pBSfd+t6VNfJf7lniZEtMHcO8nz/aJnvO9SjE7AqMa+k3zk7O/YdbF2oaNA5XM0izxyU8U8+7hCbBfV8DiS09owpSYw2ANGXnnwUkVoay2guQzz/6MgIUTUgLDmtc3fRXdLvdGQmfSVRHvvw6fvy43H333drjMR/Giy++qF+uzRSYZUFiPqyUnUO+KWBBYr6tiJ2PVcAqYBXIvgIWJGZfc3tFq0DSCnz5y1+WH//4xxoSguPEyaAEDuhFCjKlmvk+cNHgWJkpxGRsbGwKHKIFD3sMIMLRQY8c7grLktpydWLFGvtb+jVQBJBo+qslqgtwlgd2nEfZHLjsfnu0Q0NJ1taX33BpUoMJ+qAnXeP4Jakq92i/tnwcQOMCr1/e7vJoL0VcZrEAOUEsdP8DJN67otrxrfzHoTbVitJjehPGGmhFD8Y/f2CpJhgzKFX93m8OyKWRYvGW0kvRHbEAAqJDk9I1FNR06+7hoAI7/pv+cwEwrkB76HlKChUK4lwskEkZHI2UMuNW5L/Qa5H9WeEtifRRLCvRe+8eHpfeYUqVQ5pKrYNE36ExKQyHxF8yIYNBkVpvsWxr8kt/yCUtfWMyMjoq4yM4EivkymAEugGZcRcCzwGIwNhID8WwXp/r8t/L3SUKGrkP08ORFGLSmM3gHEeuDshdy6rlf3sgksBMevRvj7ZHgnnGhgT3M58xZg25DuXaWxoq5OuPrtIS60TH2Y4h+fF7lwRnIC5NoCehN7UVbi1Vf3x9nbonGbRF8Jb7pGbJWhmbCOn9NfhJp77R5ep0Hqzv//PGedl3sU/WL6yYSu42r2eNj7cOymK/W75we6P4CwJy8ODBnPQCxElrQlqAi8yNgJCmpqapkBan953u4y5cuCAnT56UXbt26ed0rgfaABLZrzO53w1IJITL6Zd3ub43e32rQKYVsCAx0wrb81sFrAJWgfxXwILE/F8jO0OrwJQCX/nKV+QHP/iBdHZ2arqwkzE6OiqU4S5btkyWLEnMFeTk/Ok+JlZfP1w3AwMDU/BwaGhILwtMpcchfa74QZNXT3XJ66e6xFtarKWl04cJaiBg4ws7FyX9cEivSh7S0+l+cqLlwcv98uKJTu23h8sOWBMYC2npLJAF99mp9iHtb7dkslX/zLZr0sl9cAwgscrvl/cHKmVvc6+mO1d4rgd+3F8E9nnlj7cvVDcgg3Lu2QDRSyc65VeH2xXwUVI9fQDROHeT3yNbF1douAmjpW9UDjW3S0FRsVSWeaXiGmA0r6cnIYBwJBjS/pS450LXUpJ1DYpE3EWTmhDdHwQuRsqaJwsKNPEX8EZJMa8lWGaR360OR4JVcDgebRvUNeU4glKAigBKUoxryorlfMeQLC2fkMcXjMvl4QJpC5VL/7hI32BAGhctkKEg5dijgpMTEDYyTjnzpPZOxHXIwGlIB0XcmmiKW5Fj6T3IviJUpK7i4/cP4IWenJsbKuUPNi/U/fb2mS5573yP1PncMjk6eANI5DUHWvoVagMScUgmMoCX//2jy9rvFMgJOKRfIu9h0pPRELj3xzsWKwT+4S9fl/ZgqbgqaxWeshaU0W9cVKkO5EivyUltCXCibVB15RjSn3HDmhCV6XN8/kibvHi8Q/t8rphfPlUiz/1Rsk+4zm1LquR/vXepnG+5Kr/be0xqG5eJr9ynIBPgnwxETUSr6cfyZQvhMwwAIwOAR+kzvXJnCmlJ5brxXtvc3CynTp2Se++9V13SuR4AQkqb+Z24Zs2auNOxIDHXK2Wvn48KWJCYj6ti52QVsApYBbKrgAWJ2dXbXs0qkJICTz/9tHzve9+TlpYWx32m6J+Fy48HJmBivg/TexCXCG5DnDX8mIdhHkINOKyqqlKYFz3oZYYTrblrOGZfPEp/XcUF8tDqGrl7uXN323Td6DvJSGc/Nidrc+jKgLx4vFMBInCJ/n0BYFaYlN4CdZRRrkoqMiCRxOBsuyad3AfHADoIXgiUL5LfHuuUi93DmgwM2AL6AIwu9Y7ofQK1llV7FL4xKtwlsqzWq85SE8ACGGLdh4MRQOQuLtQ0aBJ+19V/nLZr5sf12gbHNdQEyAUogrMBFNv72CeFUlpSLK6SIgW3XlehlLki6dPdgaDCLWqC53mL1TE4GpwQXzFJ4BQKF0h/sEAGxumFWCSUOzMAmgDQcDgSJEOfRdaKa1d5SmRBZalc6BnVOePAIxka52K5q0hTlHsDQVlaUyaf2lQvW+uKhd5zV1vbpGs4JBNhkYb6Wtm8epm8cj4g75zrlgtdI9I6MCrDYxNavkzASlFhoYK2SaHEulBKiwu0DBkgSqkwTkT6bNLn0IyuwTFtCYA7c3ltmb6WsmXeT9xffenEDSCReyIo585l1fK/P7gsYWh/vHVAfnmwVSgdXrvAp/sgetD7kj6Rj66rU2flL946JN0TJVI/r1rXk/2AM5HU6Z1L/bJlcaWer7k7kuA9NhFxZtb6XLK4yiN/sHXhda0CzLUGRoLyk/db5FjrgHQPBRViUxoOQOQ9t7KuXD6zdaGWmb906JKcvdIp7gq/lLpc+n5k7+KcBEJmc5hUYvrjEnZC+fP0kBZKoEtKYrt10znXc+fOaUjY/fffr+XWuR78Xnzttdf0dyJtP+INCxJzvVL2+vmogAWJ+bgqdk5WAauAVSC7CliQmF297dWsAikp8Mwzz8h3vvMd4aGMhvpORnQCLeXN+Tpw91AaeejQIcGBaMqVAYXAJgMPZ3PSANhwoQHc6N22oMKtibW4l9oHxzXsYv0Cn/zhlnrtMZfs+Oijj3SeO3fuTPYUSb0OcPirw23y7vlehVD9wxGwFgm3iARnAIQIENla2q4gLJ9BIjB43foN2svw4OUBoYwZ6AaowUVX7XWp+w033sDIxJRrDBCG23LF/DKFwoevDMjxtiHpHhqXsdCkwrpqb7F0DAYV8NDDsL7CpaCMEBAcgDj2gFP8t+U13qnyZ8JDAJKaelxQoGXK/OkqKlRw5SsFOgYV4BbLpCz0TqojsD9YqKnQZYSbFBXJlf5RDWAppbS2QDRIpt5XqqCT0mPWi7n4PMUK+JgLwHPZ/HI51Tak5etDoxMKjbWk10uZdancsaxa/mDzAnUrMniP038OWGQG7rOSyvlyacwtx9uG5a0zXQou6R0aDIm+HzQAprBAS2D5OwMoe9fy6qlyYf4bzsv3zvXocfPKSmV5rVf3Gfqd7QgouG7wiXgnR6ZKm7k3nLG4gj+zbaH2SWSwN0+2DcqhywOapI2mq+vLZfPiSnVrRo9fHW6V1091Sk1ZqcwzZd5RBwAKT7cPqeMPSPrO0QuydJ5bVjZ93AsWCEjZ/Kq6Mu0der4rkiCO69LruuZuHBjV/bJpUYV8/vaG61KizeWAhr871q7BPb3D49pnEvcoLskH19TqHnv5RKccudQl4bGALFs0X4pKXJqsTe9MQOiT2xdJw7Uy7KTe/Am+iFRiHNumtQHr19/fPwUVg8Gg7muS001Iy/QvZhK8ZNzDgYj83nrwwQdvSJdO1zUSOQ9OfXpq8jtxpt+LFiQmoqo99lZRwILEW2Wl7X1aBawCVoH4CliQaHeHVWAOKfDNb35Tnn32WTl27Jg0NDQ4mjmwiwcmglZmcl44OlmaDwKA4DokFIA/cYkweLjlwRZ4CER02g/STA/AgGuvuWdYgREgBGBCqSgA4eE1NQoAUhn79u1TgHP77bencpqkXvvDdy/KSye6FKwt8peqS44BXLvcN6pAaueSKnmwqkdLKrNdfu30pqL7YQKYAIkAYNxigBqcbjj3+keDCrqWzfNq2AYDt2Jz94i6F4FfgKsL/N1TrMnVwC3AWX1lqTrTQG4k/vK/gWBAZBx1jK2LK6fKbjnPW2e6paVnWPAnAviYB+5ErhkKTUp4EidbWHwlk+IqKRafxyXzfB5pHZxQeA2UwvXa2j+m12M+JcUR6AdMZJ1ITiZ4BVcje5P/Kyoq0PJuHHT0dUQDkrg5J9cn7ANnG27B6f3aTJjF1m3b5EBzp+w50y4dgYjDsnFemQBs97eNyen2gM4DBukvc2lJM7CNOfBDqEtJYaGsW+jTcmF0PN0xpGXPaP3Q2lrxlHwM/N5v7tV/J7W5snhCliyo03sCrOHE27SoUr54V6P2KwSK/n8fXVb4xxpzbtaCXpALK93y5I5F6rY042f7rsgbp7vUAUnJ9fQBGPvwYp8CYDTvbm+VRX6vfnZED1KVSZ4mbVvCBapjtNuS8wA9/WUl8qlNC9RBGW8ABi/1RMJwmDcOWtbzv719QUu/a92TMj7YK4sWL9JWC5z7cu+oOj7vX1kjn9uxyOnbI+XjXnnlFampqYmZLM/vBT53TUgLfzchLejH5246ewJS1kx58+7du7PigJxNPJyZtFbgd+JMTn0LEmdT0v77raiABYm34qrbe7YKWAWsAtcrYEGi3RFWgTmkAG5EXIn79++f0UURfUs8yFLiRjolJW65HMyFFGlTrow7hv/GAyugA3CIqwpXTKpOPx70Kas83RFQWEIJYlO1V8tIY0GJRHVhDQCfd9xxR6IvTfn4f/3wivzqSLv2e8OJBUTBtQYnAfYAg9YvKJdlhd2ytLIw6+XXTm8QkFhRUSGbNm2aegn7QXsQTrIvRH55qF37GG5YWH5DT0Sg3wcX+vVY3Jnr6n3XrS3g71RHQJZWu2XT4krpCQQVLrIXcAkebR2UgdGQ7gkz6Hl3onVQWvuGZSKMI5GE40jgCX+MhWBRBVJbViyf3DhfBsbCcqI9IAsqItCIUulIX8KQdAbG9b/hysPJeKV/LLLfpUDnOxKcjARiFIhCQ8DdzqYqDUShjJjXUMINyKQ3IGCO3oW/t6Huup57AMnT5y/KsZMnZahqhZzqGtdy4J6hEQmOB6VEglJZEpZwQaF0BYulazgsruKiKZhGejNQDOj34cVedUsCWnFi4nrEgTc8FlLn3XQXL/MH9vX0D0nx5LjU183Xe8NJuqbeJ5/aXK9OQ+b4j3suyUcXe9U1CtAvJwl7YlLL81lDwnb+53uWTrkPf3OkTV472alQtab8xn6nOELPdAbU1cheKB3uFH9FufYAjB7sg9dOder7Y9PiipjnwmF6oWdEdi2vli/e1eR0C+txR64MaPBMF/fliQC6xQ2Lp5x33BsOTO7vf9q1RKoJp8nCoAdgXV3dde+vWJflCxESn/ns5bOZQfkxOgIV05GyTNAKgSsPP/xwwl8MZUIq+uzy+UN/xHi9g9nbAFa+yHLakzgTc7XntArkmwIWJObbitj5WAWsAlaB7CtgQWL2NbdXtAokrcD3v/99+drXvqbhKRs2bHB8HkAivbDWrl3r+DXpOhBHR29vrz6g8oBNCADD5XJNlStTfocbhpGrkuFE7/fAgQNCedydd96Z6EtTOh5g8k97L8tHl/qktswlvSMTClFwnuH6ogSYMti+kQlpKu6TbbWpQ9mUJjzDiwnWAVJEg8TowykjBZhSHkw5bazx1pkede2tnF8mq2L0oAPu9I6MKyB6YkPd1Ckohf73/a0KzRqrPdf+e1iOXO6Xiz0BmQgGZShYoL0nca9RnTwZjoA1wN+Opir5vz65WoM7nj/WIec6hxXmAv2AlYOjpAYXKkDTP8Oix0QciCKsGIAJEuwtLVJgCdxcUetVkEiJN/9OH0gAHxoAOSlt3tHkl09uqleH5Mm2ITnTMSQXrnbKoQvtMlJSobBzRW2ZAjNAc/fgqFzoGpSKwqBCwb5x+j0WSUmJS3yeUlno9yhkZ//guOM6iyo9kb6RY0G52jsqUhCW25piu9SAllfaOqWqICAP37VdXZwAT4JOzGCOP3r3opYG4wiMDsoB2NBrkX0LePzEhnp9GSXQ/3GwVRObY7kIKVnGjQsYZs4KEivLZUH9jSDx5RMd6gK9b2WN3uf0wdrtv9SnZeN/dn9ivWTfPdctv9h/VfdJWcGYdHd1q2O8xPVx6wRK1esr3fIndzaqizEbg1RiQODGjRsdX47PZ1yKQEUCrhi8R01IS7L9DSm9xzX76KOPptXp6PjGph3IvfF7lF68JDfHGpHU9ZD+brIgMVml7etuRgUsSLwZV9Xek1XAKmAVSEwBCxIT08sebRXIqQIkNpPcTKlyIkm8b775ppa4rV+/Pivzp2zMuA77+vrU1cGorKycgof0cItVOofTj95duSgZTkQcejniarn77rsTeVnKxwKP/vn9y+rS29pQKcGJSS2bBERR4gvMAGR1DI7LkuJ+2VZbkLK7M+VJxzlBrITu6ENxk/7mSLuWBzfNM7Dv+pOR0k35+u1L/DHL1XFtotXtS0np/rh3HkDrv++7qmWny/zFGkLBz7m+kHSPFmhoSt9EJGyluqxUY44BC7j36Hn36Lr58vmdkTJV3IPvnutVmEUZPWtAGT39DgGAlN9+cKFXBsdCChQjsSuRAQCmXNvvKdYQFIJPgJW47IbHJxXGsc6sLe69Q1f6pbbcpSXAwDkgKgnSEhqTC13DMi4lUl/lVhdkY3WklyGDvoCn2welCIdleFzqSsYlODGhYSMVvjKpqKiUsrIyBYlnO4fVoUiZOC5OnL3BiZCGhQBrp6cvX+0blfbOLlntGZKvfu7RmKv93IGrQvox9wFQmz7Y1yQp71zil//zkZVTCcv/vu+qHLrcL4HxSF9D3I0mtZlPlY0LcRi6NPW7s+2KNNVU6Jcm0YPSZkqXea9sWFQhfu+NjkDtt9gxpAFMuAYTGaztz/df0fJ7f1FQP/saGhuuK+HFtcia/eldjbKoKvZeTuSasx3LXgUkAjST/dzn881AxZGREb0kX/oAFXE6JhLScvToUbly5YqCxHwY/F7au3evfiFH249Yw4LEfFgpO4d8VMCCxHxcFTsnq4BVwCqQXQUsSMyu3vZqVoGUFPjHf/xH+dM//VN54YUX5K677nJ8LtJxKR1OxJni+OQiCgp5MDPw0CSD8qDJg6cJSnHy4Jkrp18i98uxhw8fVsfOrl27En1pSsfzcPtv+1rlg4u96myaHlDByUkjLikulKVFvbKiIpwxKEuPQUJM6GNISfXCKrf22XM6ZgOJ9LX75eF2Ods5JBsX+m4Az2jx26OdClLvWFJ1nQPOzAG4A6C6Y6lfnrotAv4A1R2dXfKPe1vkYOuozHNNSnmJSGmpS9pGi6V9JCzB0REJFxXLsloSjMuEgGbgHqCQ0J57VvjlD7d87HzD0dbSO6r9BnHbAT6BZrjg/uqls/LyyS5N+QX4aqu+axNELRx1lC0DEIGF9Lhc7PdoCXClt0TThhWgTYTk/fM9MjQW0vPQYxCHI9BSQkHpGhiW4lK3wk8ch4C3aGhFCjIOTMqk1y0ol5LwhAwM9CsQj5RwFsvZoRKZLCqWslKXNFV7xFtaLMeuDkhL74iGntBbdOOiiqnQG9bg6NVB8UwMyVrvoHz+9x+Jufz/vPeSvHisQ++LcJtYA0cgpcfPPLpqqnS7fyQolDizp01fRfQCsNJXEfcioTG/2H9F3jpyXp2Qyxs+7pHI64HGJC2jLW0O1kzrMWkckThHn9hYL/etigTDOB28D3783kXVobF8UgZ6e9XlVlxSrPDyct+I9lWktyVhLswxlivS6fWcHMd6vvTSSzoPXHepDPTh8x2XYltbm75/aD9hQlr4kmq2kJYjR44olHzkkdj7I5X5JfNaevJ+8MEH6oae3lPTnM+UNuNIxEFvh1XAKhBRwIJEuxOsAlYBq4BVwIJEuwesAnNIgX/913+Vp556Sn71q1/J/fff73jmswEbxyeKOpCyXgMOKV02KcuUwRlwSP+7RBv258rpl6gGPBjzcH3PPfck+tKUjz/Q0i8vnehUiLd6fpkGeJgByDrXNSIbFpTLOleXlISDae/jCJx5/0Kf9rYDjgHRAF04wzYvrpClDks3KS3EBbd58+a4mpDA/cHFPk3enh6Qg5tQ3XKTYWmo8kSVKH98OtxyhGzc1eST9VUhLa9n3YAEF4YK5fiQW9pGCmV+pVdqyt3SFRjXcmH6Cy6qLJEtjbUK+Rjc58lrScRPbJivQG22QWn1j967pOs1NDahzkbKn3FKjhC6MhGWgsJIMnRZSZEUFAIsi7SEGX1x721rqNLwFpyPzV2Rnp+VCuMiQSXAzau9ARkaCYrf55Zan1u6A0GZX+6SVXXlU/uD15ISTc9B+jPiLgQ4Ap2A4qdb++RMTwQMb19QIgvnVWkPy8v943KuY1DnU+MrlbX1PoXYlG1f6h3R69cXBWSdu18eezQ2KCI45fmj7Qqc50eVPBv9gHxHrg7IjsYqeeaxVVOJ1Pw7/4b7EscgvRoJniGAhR6Mpt8pfRr/7bV9MiheqamOODhxGXK/y2q8sqWhUsvQD1/p1x6VQG/WAR0ozeYecDf+j3c2xHQszrbOOBJJtm7rGZCyyYCsXNogfSOTcr47oEEvJEQDl9fU+aTW55KdS6r1HjI1+DymR2JTU1NaW1qYkBagYkdHh+4dviDCBQqQ4wurWJ/5fK53dnbKQw89lKlbTui8fA7QRmPLli03OFjNiSxITEhSe/AtpIAFibfQYttbtQpYBawCcRSwINFuDavAHFLgueeek8985jPy7//+7/LYY485nvmePXu0ef7WrVsdv2b6gQY2GHiIi4lBI/po12GqvaRy5fRLVBhK9XC13HvvvYm+NOXjcdlR8nu8LZJ+S3gDfekonR0em9D+eHcu80txT3Pa+zgCw1452aUhNqTwkvxLuSwBKbjv6PFHeagTmAhI9Hq9MVNljUiUC5PAzfUYJPTi5+sZDkqhFChcBBjhmMOBR9kvICMcnpTW3oA0dw5JfWlQtvvHxF8qCj1wUPFDMu0HlwYjZbFDY9pXEogGHO3qH1SgtG1praYuDwdDCtIo68Ud+UdbF0y58mZaUODf37x5QZq7htU5Sd9DIBfGzcGxiakEZ1yI88pwEhYr/Cpz0VexQOEo4A3AebF7RHsc4uiLJEMXKkhkXOwYkNaBMXG7SmT5/HJNeuY6wCoCUoAizKWhyq3/jouupWdE3PRKLCoUwkbQcXBkXKpck1JXMqZ9ItHS7S2TjnGXdI9MSuvgmNT7ShVQUi7tc5fofmsq6pHJwS4N04g1KO3FlYgzb/0C33WgkOMv9dBjUuQTG+rkD7den7rMv9MHFIemCaXBVRk9+Hz6wc9fksFivxSW+WU8RKBMocJUgnYoD2f9KLFmDh1DY+rO5H0DHAVEP7GpPmm4x/vi5/uuyEdnW+Vi54C4yiq0rH18MixVnhIFr6vqyqQ3EJTh4KS6XHevrpWG6sz0SyRAhdTmpUuXZixki2vgUMRpaEJaPB7PVEgL7SvMwGnOF04PPvhgyp9/6TgBEJQ2Gtu3b5fa2tqYp7QgMR1K23PcjApYkHgzrqq9J6uAVcAqkJgCFiQmppc92iqQUwWef/55eeKJJ+QnP/mJ/P7v/77jubz//vsKUBLpq8jJSSU24BBoxoMjAxeZcR3S93C2sjbHExURAB0PnLlw+iUyz2PHjqm77b777kvkZWk7Fujz1tluudA9EumTdw1Q1fhcsnlRhWxdXCG4gDxD7ZIAACAASURBVCgzT6QMfrYJ7mnuVfBGWS1OLwCYGZ1D4wo2tyyukCc21s1a5uwUcFMauud8n7QPjsnAaFAvV+kuUcB257Iqdd+9c7ZHmruHZWhkVAomgjI4MiYF4Ump9YRlc51bdq2ar/AwlksW/ShLpa+k7m9Xoby9/7iE3T4JlXhlLBiW0pICqSlzSYPfI59YP19LZZ0M4N23XzwrV/vHpMpTrK5EXHD0LsTRB1wEaDHK3UXq2CNJmt6F9ZWl4istVkDLHAGc/G/AIP0L3cVF4i+LzGNgaEiOt45IYXGxNM7zSCgkmp4MSASI9gTGhV6Bdyytlv9yzxLZd6lPjrcOKpwLS1gBJufvGByVJfN4TYnuHZLVBwcH9bo940VyZbRY5pV7ZFNDlUJk9CCEpa35pDrU4oFEHJg/eKtZcNNyvwBgUpuB4jj2cNKuu5ZqHF2OjRuRpGfK04GjkUCbYr2v25f6p9yDpifgwsUN4qtfovsT6LuYcvsoxy7wmz6TJHPzHqLEmKCezYsrU05Tpnfjr/ccl/dOXZU+1zzpHAoq3Mb5iQPSvFfaBkZVa/pB/t7G6/s5OtlTTo7hs/u1116TZcuWyapVq5y8JKVjcKgDFPkxIS2813Ap4lbk85L//sADD6R0nXS9GAB68OBBTbTnd1msYUFiutS257nZFLAg8WZbUXs/VgGrgFUgcQUsSExcM/sKq0DOFHj11Ve1NOyHP/yhPPnkk47nQS8oYN+OHTtmfA0PTkADk7DM/2bwWtxbBh7iOsnUyDWgc3pfpJACThIpMXd67kSOAxBd6h2ViclJKXcVy9Iar6bfMtJdJg4oIUX58JVBDRKJTt41cybUglLgh9fUzJpOS9gBDlYnTllAKa5DoCGDdGogVmgiqED3YHO7hnJ0j4RlIlwgZZ5SaaqtkJ0r6mRLk7Oed8bZOD4RksMH9kl1zXwJldcqlKJ/3oqaMk2PjnXfsdYMl1xb/4g88+vTmti8star/Q0HKbmdCGtvP64JTKNpIuXNntIiGQ9Oalo0f6dknD9xLxJ8Qg9KUp5xSQLI6DkIywX6nWkfksISei0WqgOR1OYl8zzqgGOfALQ+vWWBLK7yyKmOIWnpHlY4Rz9NYBqADzhN2XR04jL3wWdBb1+fHOsYk/nusDywzCtrmxbK2mUN2j/OSekqQS7/8n6LnOuK9DuknLiksFDmlbu03+EfbF2gCdVmABF/faRNjl8d0D6D6F5UUKCa4cQEJnI/3KfpCZjuUt5E3osce+bMGdl79Jx0lS+TjkBQy6Wnl/qyNqSGsx6kVDP/dA/Sl19//XVZsWKF/mRzsFdMSAuAkWH64/LFCz0Hcz0ozcb9TqgXv9tiDQsSc71K9vr5qoAFifm6MnZeVgGrgFUgewpYkJg9re2VrAIpK/DOO++oU+9v//Zv5Qtf+ILj89ELigftnTt33vAaGufjNjTOQ/7OoBQaBxfwkL5XlDBnY5w4cULa29tzDuhmu1fmiaslXxw2sebLgzIP9elKlqbf36+PtMuVvlENjog1cJeNT07K7tU16oycaQASgVCJOGV5uA8EAgoP+THuJ/Yne7WorEo85ZVS7ilV2OikRydls3ua+zTZF+cfqcydrZelaX6VPLpthaxf6JttO0z9O+8z82P+49d/dVoOXh7UPo8AsLAUyMh4SJOIAaOU4ZLWvKymTBr8kVLtI1cGZWh8Ql2HVd5IuTMgFwcdCc+9IxF3ML0UKS8eGgpIS3dA5lX5JBgWLasFfnK9Ko9L3Zv3r6qRmvIS2XepXxOmKbMFzBUUhqW2vFTDZLh/4OLa+htT1TVcZ2BEVleGZY27X8vm0ZfQDcAV7Q5m64HHvR1o6ZODLf1aDg/0Zi/taPJP9aI0ur13rltePdmpc6V82pQzs170xqRH5G1NVfLHty3WHq2Z6AnoeOGvHXjq1Cl5+2iz9PmWyaQUKOyONc53BbTkmXCXJoc9RROZCynLb775pqxcuVKWL1+eyEvTdizvVdzlQDsSm/l7oiEtaZvMtBNdvnxZ3e933nmn4KqPNQxIBII6CQrL1Fztea0C+aaABYn5tiJ2PlYBq4BVIPsKWJCYfc3tFa0CSSsAEKQU67vf/a58+ctfdnweekFR6nbHHXfowxwgxrgOATH8N4AAwNC4Duld5wTCOJ6EwwNPnjypD5750ksr3rQBBjwcAxJzoZMTOdPdbxLIBEikxxyBG7EG0If9BEicLYzEKUgEzFFiCzgksMG4nAzsBnizd5Mpsadk93fHOrS0uaVvVHylRQrUmi+3SqnbI5uWzJd7VlTLtoYIbAiMTaijDpgK3KPHXoO/VJZUe6Tk48wbPZZ9wc9LJ7vlnz+4ooCuuLBQAR8DPUn1LSwUdW8SqgL4o//jwZY+ae4e0VJnAlcIBsFVSF9CehReQWcRdSiWFIRlaGRMJkMTsri2Sso8Lu2PSFlttdelZbVbG6q0LPjlEx2RwJjyUnUd8nqgJo4//p3zowlzxO2IFqwnbshLvcOyar5PPrGxTsEenyG8BwD/rBFjyZIlsmjRIiF0KZUBLPznPZc0nRzQSOl19GCuhy8PyMq6Mnly+2Kp95VoT0Cuv2bNmlQundJr+fzac/yCDFSu0J6l8QJVKNXGhfnJTfXXJWundPGoF+NQfeutt7Q/In0Scz1oYwBsBtrxHjYhLQsWLNCeivFCWjI170uXLgmucr5kibdXLUjMlPr2vHNdAQsS5/oK2vlbBawCVoHUFbAgMXUN7RmsAllTgKTgTZs2ybe//W356le/6vi6NLrHLURTeR7+eaBjUFZqwCHlXflQcnb69GnBLZLPgA7tzDwpbU4GYDlevBQOTHeyNICJkJf9LQOyvMY7lZhrphgJ9BiSpTUeeWxdrdRXuGec/Uy9O+nHaWA3f5r+nDz0Aw7Zy/TqTBXi0sMQkHixZ0QTsHH8AejOnz8n4VKfDIbdsmGhT/6HHQu1t+G753uEJGggIKW3pUUFWpq7uLJU7l7m196JzIk9gUuSP/tGgvL/7rkk75zr0TJpSnQpR8YRiCsRoESoCg7OwsICae0fkxPtkR5+gDxAGkCKNGmAH/31xoNBKQyHpGAyJIHgpFAdXekukjtW1ktjtVeW1pbJRCgS6ML1gILtg6Oy72K/lkUDGaeDOeAW4JJB8Ez30JgGloyHJhVMNvi9sr2pSu5ZcX1POVzMtE/gM4Y9wAAYARTpj4frNNHR1j8qP/2gRZ2HGxbGdrZe7h3R035q8wLZttiX8XARJ/eAU/nU+YsyOG+dplCvX1BxQygPa362Y0i2Nfi1nNtpqbyT65tjWAsc7EBV4GquByCRvUG/VvYL8JkvjHDDM2iXQT9FoGJ0SEum5n3hwgUB+uLw53Mk1rAgMVPq2/POdQUsSJzrK2jnbxWwClgFUlfAgsTUNbRnsApkTQH6b9E4/9lnn5Wnn356xuviSDEghvIyM3jABx4CY9IBYtJ989xjS0uLhphkq5w6mXtI1zx5WCXkg7JheuaRyEtARDrgQiaSpQ9dGZD3zvdqQMayeV4NtGAQpoGjjwCRzYsrFCTOBvkAicBrklMZlGOyZ3Es9fX1TZVCArlN0nKqqeDT1/rnB1qFABlcfpFEaG1XqCCxoqJSAgVecZUUyT3LqoQwGWBeSVGBzPe5xF1cKIHxkK4ffQaBRo+tny+lJTf2gAN6vXC8Q853DUtr/6j2RewfnVC9Vs0v01JiICaDdGGuQzAL1yIheVm1W/oHBuVE64AGonSNihQXiCysKJGqcq9UlXtkW5Nf1wQoSj9J5kXaNK5DAlcI+QhNity1fF7MIBxKlwfGJmRrQ4WUFBXJ+c6A9jEktIXSaIDemjhOVJPKS/sEU8rKFxbsgbq6OoWKfO44he4Ew/zLBy1ypXdU1i6I7W5ER1yhuPp2NPiEHrLZCheJ95mByw23W/mKHfLhxT7pHByXpmqPVFxLzgYqk5YN2L1zWbVsa6xK5uNn1tfQ0uDdd9+VtWvXCn0jcz2YC5/nuOKjhwlpYc+Ynrz8jjJOxXS/3821z58/r18G8XsmXs9fCxJzvWvs9fNVAQsS83Vl7LysAlYBq0D2FLAgMXta2ytZBVJWAMDW2NgozzzzjP5ED3qEAV9Mr0OgDIPeTjy84+jCDZLvvZ7OnTsnFy9elHvvvTcvHJLxFu3s2bMKDFKZJ84y+tWRRgxgmAyTGFwk88pcsn5BxIWWyiC4hv3AHNM1KDl980yPnOkIaO86HHO46EaCE9rzjbCX+1fO03uYbQASGbgLKVvGRWX2rAGH1dXVGQPKOCx/9F6L9uvb1vBxKMYUSPRVSLG3Uq4OjMoykpAnRfsUEmBiypYjwSYipzsDUucrlYfW1MZdN8qiT7QNabo056E0tyswLrc1Voq39GP4CJw8enVAznUOSaWrQBZ6QlJREHERS0GhjBe55cJQoSytLZe7V9TIsnllsmI+ITtF8srJTjlAD8SBUan3udRhCGxrGxyTsx0B6q3lExvqxFd6Y+o0yckcd8/KeXLfyhoZC9LHMaRQG8A906B9AuXnpmcoEIY1pfSZUCJKWYFCuM6AirO5ztDqn/Zc0rXZtBiwOa1uXERTpxdUlMofblskS/0uTSmmHyB9AXM1eM/xOf3A7ofl9dNdcq4zoOAYVyf7xOuKuEFxmd67skbTuzMxaFnx3nvvyfr166WhoSETl0jonG+//bauf6w+veZEgESAIkEtpv8m8Jk9Qx/OdDrm+fzmh/0aD1ayZ9nHtkdiQkttD74FFLAg8RZYZHuLVgGrgFVgFgUsSLRbxCowhxTAqcUD1de+9jX55je/qQ4OHhiBRZSImT5llH8a1yH/G5cMD/W4L/J94BSh7GzXrl1JlURm6/4M8KQ0Lhk4Sy+6N890y5lrri962cFKCKCghHZFjVeDJFKBiZlKwAYmUhKMu45QDwAogISgkI0LfVLpuRFSmXUBeOOQZT8CDEwpLD05TclyRcWNSbeZWFcDEg+09Mv2hkj5LBCROV240Cwet0dcPr90DAUVknJ8JPSjRAqmASD6F+IqvXt5tYaaOBnvnutR2ARUpFQcyKehJYNDcvhKvzT3h8RbLLKpplDq/D7xlZdLuLhUeycSsrJrebXctuTjxFmu/9zBqwor19X7NMgkzB2FRfsfst9wVW5vrJSN19KRFYhKBGbhAuQe19SVa7l2cDKsYJv+jbMlC08HidH3Tykraw1UBDYyTOkzzrN4758XjrXLm6e7hP3G+yDa4UrqM4Dutia/fOGOBpmcCGpKca5BIi5g7vPRRx/VeZ/pGFLoDqRl/rheV84v130EgM/U4EslepBu2LBBFi9enKnLOD4v/Rpx/tHjd7YRHdJCoBVfguFm5HcfUDERZ2u8a+FG5HfN7t274+4/AxIpzU8nxJzt/u2/WwXyXQELEvN9hez8rAJWAatA5hWwIDHzGtsrWAXSpgCwcMWKFbJ161Z9CKL31Z//+Z/rQw7OLdPvcHpPsrmQMGxEam5uFn5ogp+psrZ0LEiqwJOyxw8u9KlTCYdbIU3zrg1COQjz2LQoUiKcbJkzABk3GH0cMzEAJbgqAYk41oCJsQZBP9H9Dg3wBg6wd9nPgMRcjF8cuCrvne/TNGPSkM1ovXpVxoPj0j5SIJVlHqmp8slwqEi2NVbGLNmmBJhSYMpVH10339GtDIwG5T8PtsnBS90yFBiR0vCo9jwcDokMhYqluMQlPq9bPKUuLa8GsOBqW1hZKqvqfLJ7TY06Qs344EKvvHyiU7EgpbPTR3NXQD642Cd+T4k8vp59VUTwsd4P+/Bgy4CWMdOzcXRiUkKTYe2NWFvukqU1ZXL7Un/cvbhv3z79YmO2vYbrFNCG8wxoalJ8cSkCkqNhIXD2uQMRMIpDkSAaHHy8P9h7uPoeW1+n5dY42N544w39fOQnV4O+pEDTRx555Lop4O7k3ug5mY0BrMfxS09d4FuuB2vDl1qmjYHT+fDFA1+goSmfZbwH+P1G703uCyA9WwuFWNeiPyJfWD388MNxHc/mcwrQbUGi0xWzx90KCliQeCussr1Hq4BVwCowswIWJNodYhXIcwVwZLzwwgvy/PPPy0svvaQORAZJnE888YT8xV/8hT5MzdR7bC4kDJtloKwZt9+dd94Zt3dVPixZKsCT/ni/PdouR1oHZV19eUw4c7YzoIm796+aJ0vnJQfZcgWQedinRyeuQ36MCw1waJyy/Hnw4EFdSicupXSuuXEa8Se9CF840SXNPSPqAi0rLZ4qW77cNSAXOgel3jUmvuKwXB0tllULKmVBbfUNLibCV3oD43LXsmq5bxZHIgnLF1s7Fa52dPXIse6Q9IyJjBe4xFXqEX+FVxb6y7RM3FNcpD0P6ZcIa2ZP4M4jAGY6YMa99+qpLplXVqI9EacP9t2rJzv1/pbVeGVRZan2duTcbf1j2g+Ri9T53Jro7CoukKHRCXUxLqpyq4tx17SgFXMNpyDRHI/20anP7Bm+OAAoAohM6XPX0Ji8cqJTrvSPaDiNQuvSIqmrcMtdy6unejbSyuHNN9/UsmZcibkaJKUTJAKgyuVA2w8//FA2b96s/QZzPSg7p9cpXxokO3C28vsQCG36/vIFhAlpiReaEut6ppclztF4INKCxGRXyr7uZlfAgsSbfYXt/VkFrAJWgdkVsCBxdo3sEbeQArhJvvGNbwhlWIFAQBv3/8mf/ImWEufCkfCLX/xCPvvZz+oK8MBEGdZvf/tbefLJJ+Xv//7vHa9MuoJBHF8whQPpO0jvKpry58ql5mT6uFlwJdJ30u2eOZ14+vlwWr1wvFMTeHFVxRqUbo5NhOW+FdWycVHs1NrZ5onrBieP6Vs32/Gp/DsP3QBDAw9Nj07gkOl3CEiIBt4fffSROoyyARKZn/mJvk9Kfl851SNHW0lEHtPAE35IO8b9Rsnx3UsrpburS1450S6DI+NS5xHx+crFX1Ul5eU+mRSRU+1D6uSjRyIAcPrAfXfpart8eLZN4eTIRFgBRm1lmaxYWC0L58+TvjFRFyCgjPJXEqAZuAUphacStsJdErev3nvnexQU4lKcnsrMeTg3Tlivq1BhJGXp/Dd3SaGWV+MupfR2xfzya9co0DmOTYQUuK6u98nj6+fHLHNmLXEbzuZIjLXHcKwCiKJLn6uqqqZSn3GEER5DKTPzrS5zKQiNBqkGJBJGxed2rsahQ4fUQffQQw/lagp6Xd6HrMmWLVvUvZfr8corr+jnAPNJx2C9+WwDKpreqnyhZqDibEnh0SXo8eZjQWI6Vsqe42ZUwILEm3FV7T1ZBawCVoHEFLAgMTG97NE3sQI0pufhj1Kqz33uc/pAgguQPnOf/vSn5bnnnkuqhCoVyXhI+uu//mv5xCc+oYEZPBzxsPT444/Lj370I8enTkcwiOOLpXjg5cuXNU2TpvyzBTKkeKmUXm6AZzLOyf6RoPzuWIf2ulu3IDZIbO0f0752962YJ+sXxk6tne0GMu1EpXcZ5fYGHvJ3BiWMBh6yhvEcP4AOHtZnCmCY7R5ngwCx4GF0UAouybAUCGXBlNDigKNPICW99RVu7SdIanJgfEJeONYh+5u7ZHAoIO7JEXEVTkqooEjGirxSU1UhWxqr5ZF1tVJcGClf5csIyjEBS+3d/XKir0C6xotkosgt1RXl4vFQQhzWRGTgI/0VuW6yg3L4Xx1u01AVHIvTgzwAcYSn3LnML2vrfXK1b1T7IAIWT7YOypnOYVlZ61WwqDXP/H96KBYUKMRDl/tW1cqOphuThllL7jfVPqwmcCO69Dk69TneXsIByxdAq1evVrd2rgYuW9yAfOmTy8GewyW6bds27S2Y6/Hyyy9rejel1ukcfBERHdJiksL5/MGJGS+kxYlz1ILEdK6UPdfNpIAFiTfTatp7sQpYBawCySlgQWJyutlX3WQKAA9JtwS84PgD1DFwygAXSZz86U9/Kk899VRO75wHGxJuCfj4yU9+4nguqfbzc3yhNByIK4l1wKUGkMrXQTIrTs/bb79dEimp434AhC+d6JQDLQPSWO2W8qjEXvPvQK0l1V7ZvbpG6ipKk5IBIAuYxZGYTB+xWBelF50Bh5QX8iCvIRJ+/xQ8dOrQBHTw3ksXSIwuWTYhLuYepsPDWK0AxicmNYmaPylxpheh0a1zcEwOXO6X9871CI5SyoHDoaC4JsekonBcatwitzf6ZHHdPL0nNAJuMdDjSqhCLo+WSFGxS5bUeKX4Wm9DrnWhe1jKS0sUWsaCdE4Xn3v+zdF2OdTSL4NjIS1HrnQXy3goLMy/KxCUtfXl8okN82VR1cc9FHEc/sfBVjneOiSbF1doH8aIfpGejGjA+UgXv2fFPE0bnr6fKKPFJZauhHDWMjr1mfmgo0l9nv6eA2LyOb1mzRrtHZurceDAASHoJBsu4JnukfJq5kJPQn5n5Hq8+OKL6jAl/CVTgz3CFxtAaByuvA/5ogCAyb6hj7B53zsBvhYkZmql7HnnugIWJM71FbTztwpYBawCqStgQWLqGtoz3AQKUHZFTyse/ujlFD3ou0W5HinCPKjmcvBg09DQIBs3bpSf/exnjqeSShmu44uk6UDK1ejtt2PHDiG9N19Hqs5JSkX3XujVUBXCVgxMJESipXdUb3vTwgp5cPW8pCGgAYns35l6aM6kMQ/nlA7icALsmDJCyk1Nv0Me0JMp/Qck4mIExiY7ZoOH3Hf0TzLXudQzIkeuDqiDr39kXIbHJ6U7ENRgkvnlJbLSNym14R4ZHQ5MnR49cENpYq7LI6+c7JJT7QF1oE53CrLmgOP1C3wa1JKKK5FQEiB1c9ewdAyNSWAspNejb2J9pVvuXlYt6xZcD+gpF37uQKscvNKvAT/FUWnCBiri1BwcDcmuFdUaKGPArPkz3SAxep34QsekPpsesZQ+oy1lu2jNvnznnXdyDhIT7RWZzH508hpAGrCML2R4n+Zy8BkCSGxsbJR169ZlZSompAWoyGeXCWnBpQhU5EsgnIwzAV8DEqkEAEjaYRWwCkQUsCDR7gSrgFXAKmAVsCDR7gGrgIj81//6X+Vb3/qWfPvb35avf/3r12nCAwnlxDixcL3kMkmYhyH6f1G695//+Z+O126u9B3khngAphE+JXnAgnwdqTongTd7m3vlTGdAKGNmYFIjLXee1yVN1R7Ztbx6qk9eMjok2xuTB2jchsZ5SLkgw+PxqLuJskEgb7Jw0txLsiAxXr/Daw84Oi8e/IFcqc4R5+E7Z3vkdMeQpgbXlLlkcjIk/f0D0tLZJ1d7AjLfPSlr/WFZWFOlGuHMw5XGoLQ7XF4rx/qKZGxSdF1jjfNdAfF7XLJ7Ta06Cc0YHg9p/0JSvSs8xdele8fbE7gcz3QEhMCegdEJKSkq0HOuqSvXEJVY452z3bKnuVfLnCnpjh44aAHf9IB8cNU8abx2D9EuT0qb2Se4pTM5gD8m9RnAyPoCE3HE0oZi7dq10tTUlMkpzHjudJV4p3oDADTKd3H7AvpzOXi/EhTGurA+2R6mByeamPel+XKBHrfxevFakJjtlbLXmysKWJA4V1bKztMqYBWwCmROAQsSM6etPfMcUuCP/uiP5Oc//7n+fOYzn7lh5jgAac4O4MrFg5CZECARRwcPzTg8nI5U3XNOr5OO4+gph9Y05c/1A/BM98NDKWEmqTgngYkAnws9wxp0QSKtp6RQFvs9Cn187uKUJE2kNyYP2/R2Ax5SHghAZwDRTb/DREu4Z5v8/v37hSRWJ47EePDQScnybPOY6d9PtA3KRxf7ZGw8KOUFYxoog/sNp15hYYGMFZUpLLx37ULZ3PgxsAEmskf4udg7Ksd6CsXlLZM1i2sivT8jLQinBuXNBKk8tKZGy477RoLqKuwcGpPR4OS1oJVi3RtL5nkdAcVE7rttYFReVdfkkMz3uRQ44kwcGQ/Jlf5Rqpy1V+fj6+t0LnwW8cO6AGdoRwCcufvuu6fciolcP9FjY5U+cw72Kp+RuQpqyqQzMxGNgK2Eh/He4vdFLgeuY1z/fAFGD8tcDtoN4G49d+6c7l0GX1jhUgRIR4e0WJCYy5Wy185nBSxIzOfVsXOzClgFrALZUcCCxOzobK+S5wo88sgjQjN4fmKlbfJwTBgLP4Rr5Grw4A5go6z09ddfdzwNA73yve8gN0QZGg/AmzdvznlJ3kwCmxJsepAB21IZOL4GRia0dyK9+UqLI2EdqQ4eli9evKh962KVHvNQDThEcwAZAycfABcgQ0nkbOmnqcwRkAjAJKF7+pitZNm4DZlvqq7DWPfAew0H8ouHLspHzT3iKxgTV5FIcXGRVFRUSmVlhfjKfTI+GVbgt6WhUvsHTh+c5+zldvn1/otypmNIGrxhcblKxF/tF3+VX0pcJbrux64Oyeq6Mnl4ba0EQ2E52NIvl3tHZWh8QkudJ0JhCYUnZUGFW4NZSPLGpZjOgetw36U+7RNJIBCn5xo4MRv9HrlvZY06ZE0PSKA/+8eE7FBqDCiKhrvML139OePdK3uoublZf8wAntGTz5Q+p1Onmc71wQcfZMWZOdv98OURX8jw+yrVz6fZrjXbv7M+tAxZvny5rFy5crbDs/Lv/C5n3+KwxgUfHdICVKQtgdm3trQ5K0tiLzKHFLAgcQ4tlp2qVcAqYBXIkAIWJGZIWHvauaWAU5C4Z8+emNAjm3eLwwTAwYOQ0wf0dEKvTN8rrrhDhw5puicwK1/HXCjBNiCRclPgM1ALYGhKlk0YCA/KpmQZd062+oERBsEDvAGJs8HDdPQ7nGk/oQ/uOpO0jKvwRG+BtIyWyOr6CqmprhKvt0ydiGbQ3/B0e0BB4n0rY/ei47xvnO6WfRd7JDQ2LCXjg3rfDFyeI8U+LYne3uSXO5b65d1z3dpP0esqknpf6dT1KHO+2DOsjsWtDZVTJcbpfI+0D4wp8DSp4SQ40aIZNAAAIABJREFU44Bc4i+VQH+PasN7lLXi8wfYDHThvco+Mi4u5mRgb3Q/xXTONfpc7Gs+n4FVACK+PMHtasI2gIoAcqefmcnO8/3339fr0lM3l4N2FjjoKd3Nda9Z2oK88cYbChFZn3wY7777rn4BAWjl/cmeZs8QUmNCWtjXBPewx7P1mZgP2tg5WAVmU8CCxNkUsv9uFbAKWAVufgUsSLz519jeoQMF5kppM7eCuwyIRS8upw/FPBzRP2zr1q05L3ObbTkoqyUkgHRPHuTydZgS7HzW1KR1k2QLIONhGcjBoLzWlCyTju10L6VzPQCJQAacstEAylwj2nWYjn6HseYONEAXXJn8GH3QhP13ddwtJ7uC4vMUy7wy1w2nIMG5f2RCwd5MicuUKL97rkfOdw4L8NFTOCl9A/3S3jskxQVhWVReKA+srRd/zXw52jkunYPjsqK27IbrDY5OaHryhoU+hY6ZWjfK7gPDI9LXE3GsmoRugAr7xsDDWE5XU/ZskrOnB7OYv6dzL7G/9+7dq58bOCPZT8ybEl8TtgGsNanPmSp9Zg7sKVzsuRw4kQmtAmhqKX0OB19YvPXWW7Jq1Srt8ZsPg+A0wPf0tgqsHZ/tQEW+cOHzHQidCddzPuhg52AVSEYBCxKTUc2+xipgFbAK3FwKWJB4c62nvZskFZgrYSvcHu5J+pFR/usUIsyVcmHuDyBAyev69eulrq4uyRXN/MuMpvnYyxG3Gw/BuJJw1THYK5R7Gnjodl8fqJF5xT6+gul3SBgE/QaBP8COTPc7NDOg1BJ9prvr0AdnJj9AJwYOvb3NPXKxZ0TBniuq7JxQk3NdAVlc5VGot6ByZk07B8fk0JUBMQnInN9XWiglEyNSFeqTyZF+uRwQuTLukfoavyxZUCNFhdenxQLnTrYPyfLaMnVAukvSmyaL2xld+DEJybhZ0QR4iKvPqTvLgEQDFs3nVbRT0ezNVPcfoBM3IP1sAT/Rg/eDSX0mrIXBWgMc+YxJJnE83nxxRXK/OAFzOSjz5vcEbuR09zZN9L7YU4A7vtDA4ZcP480339Q+mnyJEW/w2Qls5LPSgsR8WDU7h3xRwILEfFkJOw+rgFXAKpA7BSxIzJ329sp5pACN4B9++GF54IEHtJdT9OCB4/7771dnBw9DuR5PPPGEuhFPnz7tGCSacmEesgEC+TwoUSTNl1CbBQsW5O1UAVGAsHwowQZcAORMybKBJTz8Au3oW5duYJLIwsQrWQZ08sPAAQgAYs3TCXbMPIECpmQZ6MQw7jpT1g0wmz7Qdt+lfk1Abh0YFb+nRDyuIk1S7hkOSr3PLStqvbK9qcpRz0LO1zGIizHiDPWXlWgSNHAN4PLWkWbZc7ZTXBJSyAjwAt55y7xScC2hhUAUyo3vXTlPy59TGcyH/WLgIXNgAE8Ah2hDuXuiIAVHY+9wUCYmJxV2VrqLpwJazHzTWfpsQCLvR1yH8QZw1KQ+m9Jn+iiy99Da6Zcz8c5vWk7kspcuc8ONzO8IHOyZcl863XfsL0qJCcFpbGx0+rKMHkePYUq+6XEbb+BOZN8DExPd/xmdvD25VSDHCliQmOMFsJe3ClgFrAJ5oIAFiXmwCHYKuVeABwYecnjw+u1vfyuPP/64TgrnEuErAMSf/vSn8tRTT+V8sp/97Gfl1Vdf1RANpw+9PGRTRprvLj/E5aGT5FPcKzMBgVwvRK7hrEnLNWEppuceTjrjOgTKAhRwR2Xbgei032H3wLAcPndZLrV2SGgiKJWlRbK2qU6WNDak1NvNADKco0AyQCvD9IMEkDl11wHDjl0d1BAS4BhOxJKiQvF7S2RhpVvTjPl7OgbpzR9e6JWOngFxTwxOuQJL3aXaq81bXikt/eNa2rxrxTxH8HL6vKJ7QaIN5eUMnGvAQ36SLXcnOOZc57C09EaSyCcmwwoSKQtfXuMVcnJbplLKw1LhjiRR81NUWDjlSnX62WbujZYIBJ0Q0uTkC4h4pc8ART53koVvADMAdawAoXTsD6fnoD/qmTNn9EuwbL/3p8/R9K80ZedO7yGTx/E7lPcTjvJ4w4LETK6APfdcVsCCxLm8enbuVgGrgFUgPQpYkJgeHe1ZbgIFcJLs3r1bHVxPPvmkPow+//zz2lvw05/+tDz33HOOwV0m5QBm/vKXv9RSPacP23PF5YduAB+AAP20KD3M15GLXo44qACYwEP+5EGXgbMGeAgcA4CYfYHb7+zZsxooYEp1M6mnKVl20u+QOZ5oG5Lm7mHpDoxLYHRCRkeGZWJkQArHAtLkC8vieT7dA06Tdw1cNc5DA8jQxLjrSLB1+r6ZrlVgbELaBsZkPBQBifUVpVJeWpxWSYGU75zrFhKUgZSe4rCw1/gZHR2XjlGROr9P7lm7SHasXOT4XtCGcxht+JLE7B0DD1MtgQVQHrw8oO7NK32jUlJUoD+ExKAX/+4tKZLgZFiGxkL69zJXUSQVutotWxZX6nHJlD7zfuALCMAQ+yWRAYSnJx5ORQOcgcxAxUSdvO+8844GG03vvZfIfNJxLBARmIjLvrS0NB2nTPocpn9lrLLzpE+a4gtffvllXVscrPGGBYkpimxfftMqYEHiTbu09sasAlYBq4BjBSxIdCyVPfBWUIBS1W984xvaGJ4SPxrDf/GLX5Svfe1rGSm3TEbTL33pS/JP//RPCgWclltRzkc5dL67/NCDxvwEFpDw2dDQkIxEWXlNtlye6GFKlgHCwBfWHdBhnIe47GINAxJxRyXrsJpNzHjwMLrfIfOdHpZCee7Rq4NyqXdY/B6X+NzFMjkZlu7hcRkdGxd/4ajUhnulZHJcHV6m/BRoGg0CSeiNDkvh7wyAoenrlyogm02DdP87rsQTbYMKWUuLChVWEtDS1jso4dEh8YYGZVn5pJR73eqe4ycWKDbaGHhowDMlvAYeptOtdqVvRN5v7tV+kkvmeaTsGmRlzwKNgaOuogLZudQvteURuDUwOiGt/aMyv9ylzs4VNV653DcqXUPjEgqLlpE3+L1SV0F6dXzXJ+8RPuOSAYlm/ZinKX3mi5pkSp/53cFazNR7L937Jdb5cNfjRubLsVgl+9mYg7lGom7RbMztxRdfVFCMSzLeMCAREJvslw/ZuBd7DatAthWwIDHbitvrWQWsAlaB/FPAgsT8WxM7I6vAjAp85StfkR/84AcKl+IBpOknmCsuP+ZNLzsCC5YvXy5NTU15uxtMKAwl8Yk6oGa6KQMzDDw0PetYawMOAUFOAi9aWlq0vBF3VLpg2mwly9FJy/HAz9hESF4/1a2wbGmNV8pc17v6cLOFJidl8+IKafQE1SmGHgxKbnEScf8ARCAFc+K6wFXjPMy1CyvVjdvSOyLNXQHpCQRlZCKkJcxVnhKpLXfJyhq39HZ1XOego0wToEg/Q3QBHhptDHg22jj93Ej0Hvac71FHYnVZiZZ9m0G/xOOtg3LkyoACwQ0LK6S+4uNgGvbDmY6ANFZ7xF1SKL2BoPQMj8tEiLLoQqn1lWqgzfbGKnFf2yvTwQ4l7PRWJWU3HSFN7Ck0NHtP3ZRer8KneOCW+6WnLu+1HTt2JCpfWo8/efKkXLhwQVtzZKLnaCKTNZA3XWuTyLVjHctaAhLp18jntwWJqSpqX3+rKWBB4q224vZ+rQJWAavAjQpYkGh3hVVgjimAO/L73/++XL582XEPOePyW7FiRd40u48nO2WG9BnDDZovCZ+x5mpcnukIhcH5AvQx8BAnFAMgYUqWk+lZxx7BmbRz505NRU52zAYPAVXRP7NdB8fdnvO9EhifkKZq7w2HK3hqG5S19eXywKoa7bGHPiTR4gQ1acAGHgJ20CnXwGS2+0703+nN2Dk4LiPBCEikzyDOTTNMH0j6pQK9okvKAa3GkQlkzLQ2rNnLJzrlaOuA9m9kvmYMjEwoSOwYHNO1JP2a1OnogUO1Y3BUSouLpPIaMKUsOjAWkraBUS1/Xl1XJncsrb6u9NkARQMSt23bpjA5nYMSeZP6bEqf0dSUPkdD/TfeeENh90whHumcW7xznThxQvvoPvLII46d65maF3tz//79kom1SWbOfN5S2szvF1z68YZ1JCajrn3NraCABYm3wirbe7QKWAWsAjMrYEGi3SFWgTmmwNe//nX5q7/6Ky1bA544GTwI0wMy3+Ec90LvNvqM8ZDHfPN1pBoKAzA14BA4Zlx1OMqM8zDVvoa4qU6dOpUUSEyk36HTEnuzljgR9zb3irs40h8v1jjTMSRVrrCs8QVldKBbWw0wcBoCatgnwFwGkNT0Usx1GWe29it6mKRlowNAix/T/5DybiCr0x6TqcwdkPjSiQ451jooGxf6risFxWEIGO4fmZCiwgIFifxEj32X+uRy34gsrvTI5obK6/6Nsu5TbUOyrMYru5b7dc+Y0nnzJyCRQCkAXqaS6aNLn+mpSOk4etNPF6jIexeQiO5As1yO48ePayL6o48+mvOy3Pb2dl0bXJpOf2dlUju+qCFshd8v9OKNNyxIzOQq2HPPZQUsSJzLq2fnbhWwClgF0qOABYnp0dGexSqQNQWeffZZ+eY3vyk8KDoNI5krcA4RecgjJZuyZsqb83WYcvHVq1crRJhtACGAPwYeGviDUwx3Ew/YlOamE4QZkEi/NuDbbGMmeBjtOJze73C2807/dyDhnuZekbDIgsqPS1wnw5MyNDgk9II8eqVfaktDssEflpqqcoVD/ET3SASQc49AHf43czS9FFMJVUn0frJxvHEfGnhowCo9Dk2/Q0AWa8O/oQk/vPezpcs7Z7u1tLm+0iUV7o9Lm4fGJuRE66Cc6xqWBRVuWTm/XBZVRa97WF483iGDoxNyz4pqqfV9/G9G2/aBMe0TeftSv4JK9Ih2pra1tWkwFiCR91Kme9oBmaJLn5knpc98QUDrgVyXNh89elRd64899lg2tueM18DNeejQIf1Cg8+4XA/W6PXXXxcc+vxYkJjrFbHXn2sKWJA411bMztcqYBWwCqRfAQsS06+pPaNVIKMKfPvb35a//Mu/VIeHU9A2V+AcwvGATp8xglYIXMnXAax5//33ZwyFMSnCBh6aFGHgj3EdAn8SdfQ51QSQRK80oAYAbvqYrWTZSb9Dp3OJPq5vOChvn+1WsLSixi3DgSEZ6O+XgYFBdWYOT4iMFbpl+5J58ujmxln7OwKU0BioiDONgUsRwItbLJ1wNpn7TfY13BduVe4JaGX2DyXvBh7OVPKOlkYX02OS15qAlnT3SqRk/YMLfdI6MCrLa7ziKo6Eo4TDIvsv9cux1gFZUu2VO5b5tYTZjJ7AmLx9rkcKpEAeWz//urJocwyQkdLn25f45bYlfv3PvAdxu6ENDmEGsMpAZONWTFZ/p69jXUzqswG88UqfnZ4z1eOOHDmi5diUNud68L5kPvRqBbLmetCHl98xuBHjud557/G7iC965nq/1Vzrba9/8ylgQeLNt6b2jqwCVgGrQKIKWJCYqGL2eKtAjhX43ve+J08//bQGkqxfv97RbOYKnONmgB+UB+K2nKnszNGNZ/CgeH0ngbaEXQBu6OtnUoQBeQYeAnMy7Zji1gEJ9ErDpQVcMfrykGwgYrREBrxQrmkciJmQEPDyyuGLcvBSj/QNBsTvEnGXFEhZWblIaZkEJl2yfL5PtjVWaQBHIiMa6hiXIuEb7Ke54FJkXUxYCgDR9MtMNYU6us8fIIW1xuEJbAV6pWM/Ut784cU+OdcZkLaBManwFImrqFAC4yHpHoqEp4RFZMk8rwbH0EaxfyQovYFxGRwPydjEpNyxxC/FRTemM5PiHBibkE31bqkripR1m36F0a5MA8ynlz5nAyryvnrllVcUPOEE5b0PiMIlm+39hwMQjR5++OFE3j4ZORZnJA7JO++8c+pzKCMXcnhSYC+ud/ojxuvDa0GiQzHtYbekAhYk3pLLbm/aKmAVsApcp4AFiXZDWAXmmAJ/93d/J1/96lfVUUEKppPBQxGlXEADSnHzecyVuUanS+MOM65D0py5B5OUCzwE1OTC1UK5JyXw7BOca9HloGYPRLsOUy1ZjrevTFm3cdZR1j0eErk4XCwjxeUSLPRISalbCgoLpNxVpMm+K2rLZd2C8qQBF9cEyAExWBv+DsAF6OSbSxHgxBwBP/wJ+GctcG+ZpGVgWTqGcTnioMPNB7hkb+JS5PMh1b6clB8TrHK1f1Rwnk5MkrxcJNXeEiktLpShsZB0B8ZlYHRCrYrl7mINkZkITSp8BCJGl7tzTGBkWA5f7BbP5LAs946Jv1R0ngBi9IkudzflztHBMwYi8p40wDQd4DTWehDiwbz4kmd66TP7z6Q+p2s94+2JgwcP6v7fvXt3OrZNSuegVyOfQ3fffbejFgspXczBi3GvEuhFYjPJzbGGBYkOhLSH3LIKWJB4yy69vXGrgFXAKjClgAWJdjNYBeaYAj/+8Y/lS1/6krz44ovq8HA6AIk4Y0gZzveR73M1pbSU61E2a1xj/G/jOqQXWHSaa7Y1B6QAEilt5oE5ujeZASrML5PwkF6Hpqcf4JVh3GO44cp8FdLSNyZX+kZleHxCHWrVXpc0+D3Xw6QUxYvnUjQBGZmCSjNNG8eaAas4V1kv1gXoDBxjH6W79Hj6fNi37BFKT01pMPsEqMgcUtm/JE2TOI1LsbSkUOb7XFJcWCjD4yG50jeiwSu8j3zuElnsd2v/w7fP9sjZjiHtr1hWNCHDQwPS0TMgHUNBoUp6+bxS2b1ugdTX1Wnp+mzrZsB5dC/FWE7FFLfXdS9/6aWXFFRv3Lhx6r+b/QfUxsnMYH3Zf6nqHG/utL6gLP7BBx9M5+0lda4LFy7o59A999wza5uCpC6Q4Iv4XMLRv2HDhrh9ho1rG0dppt+HCU7fHm4VyLkCFiTmfAnsBKwCVgGrQM4VsCAx50tgJ2AVSEyBf/mXf5HPf/7z8utf/1ruu+8+xy/GwcjDq9NyaMcnzsCBzBXQBADLl4FLzPSrw+ljknGBh4AXtI12RmV73rH6HfLADOxkpAsQzXRfaAQUAx5Gl+XihmQ9gSaxABAP7TjXAInApkwN41I0vRSNS9G4xDLdSxGYauAhe4kBqGDvoA0Qkb/nYuASxaVIObwpyTVpxE6CelKdM2tx7GK7vHvqqlzqGJD+0ZCE6HUJaKypkFWLauTe1fVSVpqcPtOhoulLGg3SZwOTTu6RL3jYT0Cq6YM54Fhm/wFwp+ucztL7ffv2aar5Aw884GTaGT2mublZ0+PvvfdeDaTJ9eC9R3/bTZs26Wd3rGFBYq5XyV4/nxWwIDGfV8fOzSpgFbAKZEcBCxKzo7O9ilUgbQr84he/kM9+9rPys5/9TB599FHH56UnFKWSsR5wHZ8kSwe+9dZbCr5yPVdgoSlZNq4xYAMP/Mzv/Pnz2mMrXsP+TMvlJCyFfmBAC34AfTgCAR38pKPcGlcbcIwftGJOpizXJC2nWi6bCR1JbjUBGQA+wBIwj9Jnk36cjuvSxw9tKCM2rj8cTgasso8yFbaTzPyj04gN7ASQs18o2U0nbGWvcA20QSPebwTtjBSVy6S7Qsp9FVJZ5pFFfo80+j1T4S3J3Jd5jZPS52SBIucGJFIuO9uXIOjMfQMV+WKCkc7S548++kjDaBL5sikVXWd67blz5+TMmTNy//336+dPrgd6f/jhh7JlyxZ16VuQmOsVsdefawpYkDjXVszO1ypgFbAKpF8BCxLTr6k9o1Ugowr85je/kU9+8pPy05/+VD71qU85vtY777yjjjlcGPk+mCuwLro8MBtzNr38DDzE0cOgxBO3mOl3CEzBTQTwbGpqcpyenY57AL4YgGigiDnvTP0OmS9uM8orgVsca8AZgDkReBLtrDM9IY1Gpiw3ncApHbrFOwcaAonRBZgV7VLEkZdoWSOvZ98YV6ZJ8QWmGniYTlCZSW0owzWwFcgH8AQmplISHi9MBk1Mz8NswaZ0lz5zb5Q285mQSAsJ3k9GZ1P6bIJweD8lA5o/+OADTfnGBZjrAUQEJlJmnej7KRNz532OY3Pbtm36GWhBYiZUtue8mRWwIPFmXl17b1YBq4BVwJkCFiQ608keZRXIGwVIBSWJ8x/+4R/kc5/7nON5vffee1pWhgsj3weN8CmB3bx5c8anysM/JcDAQx4wefhm4NbjYR54COSY/jBvkrBxH61YsSKj8zTwMDpAwgk8jPeADPwDnOGIchJCwjHARwPHpjvr0CnXPSHTsQDTXYrAVQPOZoKtrAuaGn3MHmIPAyrilXSnY87ZOIeBf7jnTHANnyUARWDrbM5W3ivRYTJAbeNaRV/2z2znyPR9xoOKiQS0cJ+EreBSJhE40RFd+gz053wAeVNinkjrBEp3cQvv2rUr0Wmk/XjKmilvfuihh3JWuh99U7izCaPZsWOHfr7H+5xk39seiWnfDvaEN4ECFiTeBItob8EqYBWwCqSogAWJKQpoX24VyLYClCjjMiG9mV6JTsfevXvVDYILI98HjfBxcGUKegIyKG8DbvAnf2fQC44HSw0CKSub0aXHQ+Ybb7yhpbCrVq1Kq6ROSpYBHLgAk3ErmcniMsMJBVQ05b2U+nFPaAEcMz39DBxjXQwcS2dPt7QKmOLJjEsRcAYc5O8GnNFTjfdRvH6QaGL0yYd+cClKccPLga1ALrTBPQcQNMEhuHbNfjRJ1MDq6JJ3jjHwMB9dq6m4FLlnvuhZunSprF69OiXpY5U+A6ZNP8/ZwCufoXyOkJSc63HixAm5ePGifgGWSoBPuu6Dz7zDhw/Lzp07rwuhij6/6ZHIHs3HfZouLex5rALJKGBBYjKq2ddYBawCVoGbSwELEm+u9bR3cwsoQG8nHoC++93vype//GXHd0ypGw/5uDDyfWQCegLKgIaAMVOOix44zUzS8mwP59MfNEmX5sE+VWjAebMFD2OtvQkhaWlpUegzfeCEAo45Aaz5vrcSnd902Mrr2Se4vaL7QRp9slWWm+h9pPv4aPccsBAtAKzsFSAYLl+TRG3CZNg/uQqTSeb+E4WK7IlXX31Ve6am88uF6aXP0fA2XukzDnSOu/POO5O59bS+5vjx43Lp0iXt6ZtIC4W0TiLqZHxxcvToUbnjjjvUbR7vM5H9a0FiplbBnncuK2BB4lxePTt3q4BVwCqQHgUsSEyPjvYsVoGsKYCTgpLf73znO/KVr3zF8XVpvs+DERAy3wfQE+fK9u3bk54qEIASXNPvkNJcBg+GuKKAGkDEVMDGa6+9pqmfyZQxMpdk+x0mLUqMFwLKjOvQBMpwGA/8aMg6cI+4FHFE3WoDfXAl8oM+0X0p2UsNDQ36kw+933KxNuhjHIqmH6R5n+FuBarNdW3MmhuwaGCY6Ulq/g5I5DNh+fLlsnLlyrQvB9cnnMakPs9U+kx7CN67wLJcD6Adc04kHCyTcwZqAjfvuusuBd+xhnUkZnIF7LnnugIWJM71FbTztwpYBawCqStgQWLqGtozWAWyqsDp06fVAffss8/K008/7fjaNJen9O722293/JpcHYjrknHbbbclNAUerHnQNvAQyMGgxNS4DtNZjosjEViSSLBCOvsdJiRO1MGUpJp+frgzGQBVACsOJ/4EQgAYce8A0BiAV4BisgEQyc4326/DAWbgYbQ+JoUa+GASd015L5rgTqVXZD64rjKpGWXuRh+T7Mz+QR+0MUnhfN7w3+nxB4yOB20yOdd0nzvapcj/Nj0UWXM+b958803tmZrpvqloa/ageX9Glz7zZQwANx8+7/nyi7lS2pwP48KFC3Ly5EntHxnvyxELEvNhpewc8lUBCxLzdWXsvKwCVgGrQPYUsCAxe1rbK1kF0qIAbgpSQZ955hn9cToOHDigQSL5UOo225yBnkBBJ+5JHt6j+x2aQBJK1gw8zFSvOnokApDWrVsX95aiE5anh6UAH6KTllPpdziTpiZJ2DgPjXPMBMpwD0DCeNfneIAivcUAGAAK41KkZ+JcHyat28Cx6DAZ0+8wlj7RDjETXIMeTvvYzSXdgKvcIxpRtszAkYk+9Dycrg/vX/YbTjQDuui7iTbA95uh71w0VORziBCPs2fPKkTElcjIBlSOTtdmncxnCnsR112mPlec7t9Dhw7pXiBsJR/G+fPnhS/k6DUc73eD+dy2pc35sGJ2DvmmgAWJ+bYidj5WAauAVSD7CliQmH3N7RWtAikpwIM8D+64EXElOh08zFHemw/N92eb8/79+9XdE6ssj4d3HpyN69BADRx0uMEMPMwGqHjrrbfUvbd+/frrbimX/Q7NRJgDbjHjPCQkg0GIjOnnl0gKLK81ARBARaM7euNS5M9sQJPZ9o7Tfzdw1cBD9hQj2TCZ6SW+aIFDD23mqksRgIw+AEQDV4HP0XDVyZob0AWIZh8CtvgMA0bPlIbtdC1zdRz3YvQxzkw+dzZu3Dh1X9GOxUzPMxpsA3AZzAedAbi5coTyJRb6PPjgg5mWwNH5gb383H///RKvp6n50gf9Uml/4WhC9iCrwBxTwILEObZgdrpWAauAVSADCliQmAFR7SmtAplUAICD2+7P/uzP5Fvf+pbjSx05ckRDRu655x7Hr8nVgdPdkzzUcd8GHuK6YQA1DDicyVGXqfsgQZvrbtiwYdawFJOybNxCmZiTScrF/YNWJo2a/WLKcgGJ6RgDAwPqUqQ/HuvDAznQDGiRSGhNOubi9BzMk/eAgYcGrlLeaOAY/9sJHIt3zVghJHPFpcjc+bLB6GP6irK2gD80SqU1AOdnXwIU2aP83WhD+fNcCKqJBw+NM5P3mukvyh4xruPpfzrds8keR69G3odAMAM5jSPUJI8ne+5EX4fDHBANuMuHgRsRVyJgM17/TgsS82Gl7BzyVQELEvN1Zey8rAJWAatA9hSwIDF7WtsrWQXSogAPsjxwk9hMcrPTcezYMX2Iv++++5yBtONoAAAgAElEQVS+JGfH4Z7kwZPkUwMPDRTjYdjAw1ShT6o3CEjE5ROrR2J0yXIm4SH7ITosxfRtwwUH3ECrTII9AiYo6STxGQcb98p1gYr54DbDRWnSutGJ+TIAYgYeZqr0nWsBWgGuRhuALu4wnKypAMtU9655vQklMmXLxpmJJgYe8p5L91zZt2gDVDTaoAnasGdzXY4brS9zRR9+TM9MAFQ0PIw133ipz8alaEBjutYy+jyARN5/W7duVQc3DkV+aG9h3LJozX7MtNb0vGUO+fK7h/6I9EmkZyNO9ljDgsRM7Ep7zptFAQsSb5aVtPdhFbAKWAWSV8CCxOS1s6+0CuREAcAIYOipp56Sv/mbv3E8hxMnTuiDcL64QmJNnIdcwGFzc/MU8OGhlwdiAw9z6Vqa3u+QB2RgAT0reSDH/WOch5l6ODf9/IBi/JgSYxN2wTwAMtkuxzNOPKCZ6ReI+xGgiNssG6XmZk8B8NhHOOuAiLxn2EfAVfQBAGUSrk7f22jDOhltjIPT9FLM9p428zHwkPcdwzgzAYisXbrhYaz3vJmLSSJGG9ODE+dcuhy0jj8orx1oAmXiwcNEIPl0oGgAYnTZc7q1fuWVV/Qzc8uWLVO3zjzoVzlda96fvE8BxpkYBL8AY/PFDU9iM72GSZGOp7sFiZnYCfacN4sCFiTeLCtp78MqYBWwCiSvgAWJyWtnX2kVyIkCPODggnviiSfkhz/8oeM5nDp1Sh8gH3jggawAAicTM6WUphTXlFKahzt6DwJ/sg3Fouc+U79DnHg8kNIfD1AGGOKBPN0BJAa2GOehcY0BoAwYo6QyU/DSyVpGH4MexgFFGTrzImADbXACZmLEc2YCU4wzM5swM949xnIpmj6TmXQpmv5508u6gUfGeZgraGe0wnXMewqXogHk7GveV8wxnnssXfspnfAw3pziuRTTXfr88ssvq2abNm2KORWjNe9TU/rM7xXgbbpLn/fu3aswP1/68x49elQ/nwCJ8YYFiel6V9nz3IwKWJB4M66qvSergFXAKpCYAhYkJqaXPdoqkHMFeMABPJA4+ZOf/MTxfOgLhSMKR2IugZMJATEly6ZPHfANKMa9MU+cZLkqhZstLAX9zA8LAJyhtNeUPXIfDQ0NKYVs8OCNe8g4D4FzjHT283O8eZI8EGjCOrKe3AcDWAFQBCymCoaAlAaMGe2NMxN4CJhL9RpJ3vqsL4vlxAMMp9OlyD5mDxmNosu6DTxMN/Se9cYdHsCXCsAeyp+ZN+vKnkGfdJZax4OHRp9EnIcOb00PY/3Nn/xv8+WJaYMQ/fdEzmuOffHFFxUIEvwy26C0HHgbXfrM+yddZebvvfeeToEE6XwYhw8fVtc0pc3xhgGJuGPz9TMkH7S0c7g1FbAg8dZcd3vXVgGrgFUgWgELEu1+sArMMQV4wAHEULL2b//2b45nT0ol7jkAZLYdfqbUFHgI2ACSMXCnmZLlaDdULsqw0dX8TBfVab9D+joCFE0ACX3mAIpOS3vjleTiyjJJy/kKfmbbiEA/41IEirIHTZoscNTJMGXdBoyZJGHTrw6NchG642TuMx1jXIroY1y5ppdiomnYBkADSoC3prcougDHOG+2S6lT0Yf3JOsN6AJKM9gvQC6n76vp1wcemp6HxvnIHkIffkxgSirzTuS10S5F0+M0VkhLIud84YUX9LNneqL8TOcwpc/RJfimzNwA3ETmYI599913Fcbdcccdybw87a85ePCg7qXdu3fHPbcFiWmX3Z7wJlLAgsSbaDHtrVgFrAJWgSQVsCAxSeHsy6wCuVKAh72lS5fK8uXL5Ze//KXjaZBSSYP5Xbt2xU2qdHwyBwdSfmtch8YtxsMkpcrAEdxi8RIzaYYPOCBVM1PDPCjGgofmIT7ZfoeAIeYPVASgcd9ADx7sp0Mz/t24DikxNCABjYxDM55OmdImk+dFb+4XWAFUZgC5gOOAwOlu2eiybuCPSewGqJqwlFSShDN5r4meO55L0QDXeAAQeMh7DX34M7onpNHoZthDrD3vK36AgewV45ybzTmYb/Aw3t5IR+kz58CR2NjYKOvWrUt0G+rxJkQJuG0+v3ETG4CbyH4ilIqepDt37kxqLul+0f79+7V0njYf8YYFielW3Z7vZlLAgsSbaTXtvVgFrAJWgeQUsCAxOd3sq6wCOVOAh8Q1a9YoZPrd737neB5ARGAi5WWZcCQZCGLgoenjxwOnAWI4fZyUiZky7HT3c5ytZDnaeZiO8m80QQ+gGX8y0AA9cIrx34yrjv59pt8hsNWJTo4XP08PpKQSbQBD6MFeMaDClJwCHU35OyWtRqNcJ3ZnWlIDctDHuBSjeykaeIhbj33E3mbPAuiNezUfekJmQidTMg/kYn/wd8Cy6e9nPt9M6TuA1TgPAVrRacvpDjlJ1/2a0mcDtDhv9BccM5U+szfokUgIVKxE+UTnyPsUrQ3ANcnsTkuf33zzTQ3N2bFjR6KXzsjxH330kSaFz9Q6w4LEjEhvT3qTKGBB4k2ykPY2rAJWAatACgpYkJiCePalVoFcKMAD5ubNm9Xh8dprrzmeAmXNlDdTXkbJbToG8AcXHQ/zlIqZHmxAHlOynEw/szNnzqibjwe9VIHabPAwut9hOuBhLF2ZAzDj4sWLU+CQ40zfN3q/ZbucMh3rn65zAD4oBwd2G8ehObcp6wb+zNWy7lR04v0+MDCgwBWNjGPVgA72LO81SnL5M9ttC1K5t3S8ljJ5dAF0AYcY5vPNfJnBZ6UpW56L7tVEXYp8LpPajHN99erV6ZBZzxENcPk8Yw+i7WwtCl5//XXtjbp9+/a0zSWVEzlJkbYgMRWF7WtvdgUsSLzZV9jen1XAKmAVmF0BCxJn18geYRXIOwVuu+02dWm98847jhOYAXMAuttvv13dIckOrmtch0BEHrhwqFBaaEqWUwU+586dU+iWbD/HdPQ7TFYf8zrgGHDVlC0byApYxTGFywxohnZADsqe5yLkSEWn6J6QxlWHHjgTAUSAC7Si7Bn3UyLllKnMK59ey/vN9IQ0pe/R88OBiD689zIFwvNJj1hz4X0E2MIxZ2Aix6EHDtZly5bd0FIg3+8p3vxmgopm/Xlf8SUT971q1aqM3Gqs0mc+v2L1rmQu/H7YunVrRuaS6EmdpEib9gCA0lv1fZWorvb4W0cBCxJvnbW2d2oVsAr8/+ydB/Ac5X2/38SJG+4xjhNnjAQCUSQjeq+mSwLRRDW9CgHGicETEoPHJcY2WEgIYQOmG0xHILoQIMlU0xGii9hO7CSMgbFTiCf5z/P6/1GW4+53u7e7d7t7n535jSS0t/vu8767Yp/7FhPoRMAi0WvDBGpIYIsttohy4ZFHHkktEonYef755wMSEpmVduPFFekleahUXCKfkBi8qJOKW2QkVC/1HDvJw7z1DtNyYj/kl8QhEjEpWZVuqrRLpYITKcpc8mfmBaFYREfjLOPu576IMRhxzdRITNaEhBFCjJRcNSAhEg85pHRK+DQ9erNdJ+HW1Hd1Nf7Vr34VayImI8Pyivx+rodezyV5iEAkYpONe0trSPUUldLMmkFyIe3zRjn3OuYiP9cp9RnpxXOIdOIxY8bEn7I3rUVELvd3snYl9/P8+fPjvxNE0ldho4s0z5NNNtmk43C4p7gOvrywSKzCrHkMVSJgkVil2fBYTMAETGAwBCwSB8PdZzWBXAS22267QNTek08+mVokkv5HN2TSy4gcGWlDgFFgH3mYrFGHoFDKMsco6wVL9Rw322yzKEjabd1Slouud9iJF+mTEmPJpjLJZindatXx8o0w4wcJwP6kCxJpVlQaeq4Fl/PDMEIcwkmMuEYYIX4Q0p3kDsKEz6iTLH8mohY2vXbtzXk5pXxcjOCU7CSsZimdulGTxopMhI8kf1OjFEeShwjCdhG9klw8/5DTrDNEPVKRdNuq1kjMssiSUYowUpkAJCJRifoyJcsxe9lXNWH50op1rNRnnm+IxKqkNhPJz/OH6PxOm0ViLyvAnxkWAhaJwzLTvk4TMAET6EzAItGrwwRqSGDixImBzpNEGKZ9ESZy59lnn43pZUiJ1o2XbKLokIf8yosUGy/bkmJIrbTny4OVtGZEKREjyeiqbvKwH/UOeVlG2EiMqRGGmsogfojQ7EWycn0clzR0CTfYE4WHHOoH+zzzps8qilUpuWKkRhdIhU5ibKTzI1mRFEgzde1FJiIVWad124i05L6EkySg6vmxjrJGXqqWoqIU1bwGaVbXKEUEK4z4ESMiD1XzMK0MVLdw1g/PNzZqucIGsVjntHnuBea8NTpz3Lhxy+Uqz6ORGrQUfe8oohjeEuOdUp+LPne3491///3xfiA63yKxGy3/vQm8m4BFoleFCZiACZiARaLXgAnUkMAee+wRU9deffXV1HKJaLCnn346ppchpdh4SVfKMi97SjNFhCnycBAv2KrnSGMYpIHSllunKhl1qN+XMZ2cX01lkD7qIkxknLoIpxUaaceHNIED0UWcnxdfhCKRit0iHNOeo8j9lKoteaimKchnRdUVxUhNH+CjbtgcG6FY5bRwCVbJQ9XzY27VSbgIRopSROIo7Zd7HmnGeu1Fche5Vrodqyh52Ok8Sntu14WYZ18dhL3S3xGIEnVJwaryFUqBVlRi66/d5iLv33P+O+64I5Zt4IuAdqnP/eZ97733xvGMFCHpiMS8M+/PN5mARWKTZ9fXZgImYALpCFgkpuPkvUygUgT233//MHfu3NhcIO1LGMLlqaeeCqusskpANPBniQxkocQhkWKDriEmkUj0ZLIxTD/rHcKIyCXEGKz4MxtRNap3mKdpTdoFRWQP8wwTBAgSiCg8pGKWWpdpz5dlPwlWyUNEARvjkjyEUdo1muXc2hcmCDN+OD+1OpUW3o/56TZmdV2GEQJRgpWxSR4SGVcWI0QibBDSyBHudXXZrVLafNnysN08MTfU6VQqrpr7iI/qmXab4379Petb0Zl8scHGfBKdiUDv1Kwpa9fnIq+HNXfXXXeFUaNGxcYvPFPhzXUwLiJwEdww5z7ox5am+YtFYj9mwueoKwGLxLrOnMdtAiZgAsURsEgsjqWPZAJ9I3DooYeGyy+/PAqubtFFvBDpZZlftSEylLKM+ClLZKSB0pqyzEsmHaYZFy+ZjBNBhODsdr1pztdpHzUCIXqTF15edOGipjJEc3Wq2ZjnvGk+2y4Kj9RXhCJCqkwuyfGpG7VSuyVYGYvk4SDSaJW6inCVZEGKw6ffUXiq6yjBSvQYG6IE6QOnfkkTzR3zRvRaMtWU6DuiOPvNR2PiiwwJVqUts3bEqIjozDT3Fvsg6cRHqfhViOJkXGKk5zcRyUrtZo2nfXZ3atCiaO4yUp/5IoRmK6NHjw5jx45dPh3iTZkCRc2qIQ5StMyoa8Qm9+BIzV8kEnnep+Wbdq15PxOoOwGLxLrPoMdvAiZgAvkJWCTmZ+gjmEDfCRx77LHhvPPOi7Kr3QsXQkwpy0gVJIs2XkApwD8I2ZMENVK9Q/6OF0w1SOBlDiGEVCw61VoyA3moFEGkZbIRSJEdqYtYLERvwQcphMiDCUKInzJEJzJA3ahZV+pGjYhSdGYZ5+2VFXMKHyI5xYe1U2atQDUoUtqyojORYRJjVYkARNopSlF8+hWlqLqQcJKwkzyE06C/1FAEKXxUa5JnLFHArJ9+CGDdb5xfnc0ZgyJYe6kv2nov9StKkfuACEAi4VddddW2t7TWI/cr+/OlCGsB3mXUhiXVmvU+fvz4jo8Yi8Ren77+3DAQsEgchln2NZqACZjAyAQsEr1CTKCGBE488cQwc+bMKEp4seWlkBd0yUNFeCDAeBFDivEi+sQTT4TVV189vkQNYlOtw6TY1Dja1TtUFNU//uM/RunACybRKp/97Gd7TutVLT+JMaV3k8ZIZFavjUAGwVN8iMLjZRyGyAaka9ZGHa3jR0Yrog4ZDTciQrN0ox4Ek+Q5xScZ9VRk8xrWMaIHKcZ6QgCxDTo6My13+DB2+EiiI4cROEVGuVZdHnbiJT5IRTU/UsMQRFeRXzAgdFlDyENFQ3N8ycNeGzilWQutUlHRzcm6s71G5RGNS01CJCIycaSN+4l/wzqlmhdRqkA1G3lGrrXWWhaJaRaI9zGBFgIWiV4SJmACJmACFoleAyZQQwKnnHJK+N73vhejEon22HvvvZfXNUSIqd4hQkMvhYi4hx9+ONapInKtX9tI8jDZZXmkZim8/CGzEIq8bLMRlYNQRPx1e8mV8FE6rqLFkLBqljLoSKg88yE5ilBU7TGujZdlIqnS1rwk0lHyUGIJAS1GyIy0x8pzPWV8Vh2N1byG+4T7IGuUa7vUbtYf61Gp3VWKzkzLsjVKkXlXlGIvAqeu8rATL65HUZw8P7gPFDXXqTZhN/asJZ5n3LOK9OW43G98YcKXQP0qWcBY06Q+d3vWtl4zzxS6JJPWTHpz2g3G3KvJhkHcY+qy3avE5d+CO++8M6y00kphjTXWsEhMOyHezwQSBCwSvRxMwARMwAQsEr0GTKBGBIiKue2228I3v/nN8PLLLwfVXjvjjDPCzjvvHAVip+YWvNA9+OCDMTIEwVTWNlLKchHNUmhWgVBU2mqnbsZEh/Fyzos6v/LSLgGpyMOqpJoWORdEEvLyTZQZv1fzEea89XrVRVjyUKmmiDBJsaSMLnKcgzoW6wJBAR/kEGsSIYRU7BTFqeZEarzDWuJziFU+y3oqOuV+UHzaRSkicODTLUqR9aPUbq0l1pzq+ZXZVKZfvJJRc+oYzjMXwYW077YOJKKJPOTZxPGQhawhOPEMr4KsLyr1mXWwaNGiGAlPw5Vetnapz4hWmGftst2pZmPruJza3MtM+TPDQsAicVhm2tdpAiZgAp0JWCR6dZhASgKkBd94442xA+Urr7wS0894+dtyyy3Dl7/85bDuuuumPFL23X74wx+Gn/zkJzGyA6mBHKL22uGHHx4OOuigGF3RbUPAPfDAAzG9LM3+3Y6X/Ptu8jAZeVhUhA0cEEJIRSSpInkQi0TTKR2X8xHZgwThJb3bi36W667yvu2aj3D9vHwTbYbEQIypizDCR/Kwn00uBsVQDVGI4oQDf0YIIcwQQmxixL0u4cNakvApsyHEoLgkz4sEQkpL2reLUpQ8RCCqTEDT5GGnueCLHNjww32EXObfhNbafqwd1pDkoSQV96NEdBXkYbvrVJSixCL7JL8Q6tagBQm4ePHisOaaa8YI8jxbp9Rn1T9N88UQX64sWLBgxJqNXCtzxL+zdYwuzsPYnzWBNAQsEtNQ8j4mYAIm0GwCFonNnl9fXYEENt544/DQQw+F9dZbL2y00UaxNiFykTQpXjiuvvrqsPvuuxd4xv871J577hkWLlwYJk+eHHbdddfw7LPPhlNPPTWOZ6T0rORgeIHihY70siwpZp0uKGu9wzLAKKLutddeizJIUYdKNUUKVSXCp4zrT3tM0nqJYFXtNX1ukF2E0469H/txbyCDkIr8PrmpLqREdK8plf24jrLOwX3F/UUUp2oFkhrO/SdewyIPO8k2vrhQbT+ejQgoIjlVVoEvPtQBnmg6hGPd1lIvUYp8qcMXWOPGjSu0pAapz9yzMFfH7zSpzwjf++67b8SajRaJZT1JfNymELBIbMpM+jpMwARMoHcCFom9s/Mnh4zArFmzYvrwmDFj3nHlV1xxRTjwwANj1BsvNmVEvCGASLtU1Mrs2bPD9OnTY4TihAkTUs0EKV3ISKIRuxW970UeEvnHizJjHKneYarBjrCTIslU71ARdUQiwogXdkWQITeIgiHCrG4v7Xk5IX9IvVQ6LlzY4MTvWQ/MGWxIe6ZG5DBu7ZrKsH4ViQUX1hCRY1WNGuvHvCnykChg3XOclzWEZCVtdVjXkPizZohiXbZs2fLmNfwdkZysn5VXXrkxEW7tpKLWgyIW+RXByhden/vc50pr8sUXJYqc5bmWrF/ZmvpM1Cz/Do5Us9EisR9PFJ+jzgQsEus8ex67CZiACRRDwCKxGI4+ypAToIHJiy++GB599NEYsVj2dsEFF4QjjzwyplkTHZlmQywRiYE0ok5imq1bynKy03JRKcvtxqW6Yuq0rO64iAskBtE9yfpr/L0izJAeI9UJTMOhLvtw3a3puIqCEidENy/KdBsmAk/Na5CwrI1udfDqwmKkcbImVBdSEXZqKoPwQT6o1iSCgugnrSGiXHtpPlI3buoET8pyMm2Za1dqtxqQiCFrSLUUh0W66osN0pZZU2rkxBqiCQvpz9xjyHvWGOKeVFyeV03YujVoQSQ+8sgjYe21115eMqCs61Y5B+5ZmDM2vjhR0yC+WEqTas3nOBb3fBlfDJZ1/T6uCfSLgEViv0j7PCZgAiZQXQIWidWdG4+sRgTWWmutsGTJkpjqzAtT2dvll18evvCFL4Rbbrkl1mhMs/FyRG0oXmKJxui0VUUe8kKuiDpFGCplWc1SeEkcaVOEEHUUeaFl47NEmJEGl7UDaRrO/d5HogKJobqQWdJxkWqkrPLyjYjkxVndjElfbcpGHU01AiGCiY1rRZwixjo1leF+UFqv1hCSCEaspTIFer/Zq1SAOKnmoeQhnNoJMPZjDRGtyBqSdG2SMEvOhbqkS7IqvZs1RNoyaypZW08NbLjHJF2RjAgu9m9KtHRrlCJ/5ppfeOGFGDnP+unXM5c5UVMlNf7hvuW5T5mHkVKtLRL7/eTx+epGwCKxbjPm8ZqACZhA8QQsEotn6iMOGQHStqifyEsztfr6EYlzzTXXhKlTp4brrrsubL/99qmJIxJ5cW2tq6h6h8mC+jpoMuqwzJRlzqdIMaJJJG0kxZA21DvstcEFkShE4PFyyfUiRIjAI0KoH3OWepJS7Ii4UeQhNcjYFFGHxOCFOes1SXYgXWHFXHMsGHXqZpxiqAPdBYGABET4SCYgRyUPkTlZxAbHkDAjwgwRyX2PVKyrdE3KQzghXNm6ycN2E6taisgj3b+sHRjVPTUcTghoyUMEPhtrSPIwzRrg3lWDFr4sQUSrA3HW9TjQm6vDySVZec7CCrHMPbbhhhvG1PfkvyFZ7r1er5XxJLs+K5odoUhkfrsvlCwSe6Xtzw0LAYvEYZlpX6cJmIAJdCZgkejVYQI5CPCyTGoxac10VUbu9WO7+eabY9MV6jPSgCXtdu+990aJQgfNkZql9LPeIS95kmKSPQgaRR32IsVG4sHLO6JDjTUQcIgOhFkaEZCWdZH76WVYdSGTUgxOzGmniLqs45AwgQ/pmvy5LtI1yQlWiqgjchWRBaciOlIjzGCDVFR0I/OAUKRWaj8ESdZ5Te7fSR4yz5KseVNvlfaMNFOUItIeRnmPnefas3xWnJhrpJhqQ7KGWE/8dIuK7nS+ZAdiNUFC3hKlyE+dUmqTnGAlyZqM0ExGXbZ2fe7X/QJzohH50cb8qeuz5tIiMctd4n2HkYBF4jDOuq/ZBEzABN5JwCLRK2KoCNAQgKjBtNtpp50WTj/99La786K80047hUWLFoWTTz45nHHGGWkPm3s/OkXvuOOO4Uc/+lHYa6+9Uh2PlyjGysvd6quv/o7PJF/siGQrM12TcZDeJymml07qV6mOXz8ic5SySgQeUX2KwCPtuR/n7zZpyaYysBInZAOc+FGET7dj9fr3rdK1inUCk5FicJLsESel45YlK1g7CEUECmsqKSaqJINGkoeSYmXUftR9hrynLicb9xdCsapRioh6yUNFaHKviRPPqiI37m0i+GDE+mWtIqYRikRhl7V2814DbODEj6Q9nIiw5Kf1i5l2DVqSjVn0+7zjGunzfGn1s5/9LIwfPz7Ws4R5MvUZqag6sa6RWOZM+Nh1JmCRWOfZ89hNwARMoBgCFonFcPRRakLgpJNOWt5cIs2Q99hjj8BP68ZL08SJE2Pzki996UvhzDPPTHO4wvahW/NWW20V5syZEw444ICOx22td/jwww/HCDOi73gpJhoPaVi2PFQnZTVLUQdhhIIi6sqQGGmBI4OSEXhEHMGIl+EypWrr+JgvZIskqxo3MB7Jw0FwUvQUjCSDiLyD0SBEhySravmpRp2a77C2+82JqDvVZOP5gBRhHAizQaWGK0JT6biSrEQElikPO913SutVPU5EjZqPDLrjM2ODU1KKsYZ4BvRrPTFfRLkTxclYuO+otahmIb1GP6Z9DqbZD+kpyapoXMSq5GHa+66TVFQ0PGMpQ6DC9fHHHw/rr79+fHbpiwjWpGp88u8h6xLZWKUvA9LMj/cxgX4QsEjsB2WfwwRMwASqTcAisdrz49FVkACpuEjEhQsX9j0SUTgQgqRUz5gxIxx22GHvoDRSvUOalxCRqU7GRF8QgVdGSi9yR+IQ+cS4eDEkVVmRh8mGBFWYasZMdBk/SDw1HkEGlTVWSVbkIfMjyUrtLsnDMuanV95E76jWJCm+yA34lJ2OyfpBsqjbsiQrMlqcio4U64WRZBBriLEqNRxGyImyG2tUTR62Y6juujBKRinyPEJIZa3v2cs88Rk14EEu8VxnYw0hDhnHIFOwEdMIOwSXxsazk/uM9d4vRjDhXpNkVbMYnknilCcyut9RisjCJ598MtZshGdyS0bPwnfdddftuSZvr2vSnzOBOhCwSKzDLHmMJmACJlAuAYvEcvn66A0jQOQa6cwPPvhgOPXUU8M3vvGNgVwhL0J0wSSd+thjjx2x3mFrsxT+jOBTJ2NFTimlN88FtWsCgjgh8kPNUsoWKXnGr8/yQslLfLLxCGIBRkQH5t3UkZqXc0lWInGSkrXqkTAITyKnkEHMu5pGEKVYBCMYMw/Uj1OEpholEOGnmodVkqyt6wIxLUZEciEnWEdIxaIYcc5O8lDpuIintJFiedd21s8j85BlcOK+4PkgRmVEKbaLqFMNTcnDMiLhsnJJ7k/kH3yQYHGD72sAACAASURBVNx3/Yjk5DzcdzwHeUaxxohglzwsI8q2H1KRtfb000/HBmlcQ7uNcfAlCc/gXpt75Zlvf9YEqk7AIrHqM+TxmYAJmED5BCwSy2fsMzSEANFQO+ywQ3j00UfD1772tfDVr351YFe2dOnS2HmZcRx33HHvGEeWeoe8oBKhiNDi5YkXq5VWWilKvzQv00oLk+hRnSyi9xR1SGRdP9ODi5wUdSBFKCq6DEbIMtXRSns+BIY4sZY4tjpS83JOqnAdJGvr9XIdiAaiFBHUbEQJKn0+69zzAo88ZE0qQpO1yDqCE2uzrOjQtHOZdT8YcS1IV34Vozx1ApP3XrIRSJm1/LJed5b9FaWI6GH+2ZCtilLMc2/o3kOKqcu5IupYU0U04Mlyrb3u264rNmMnShEJmld6cXzWJ5z4lTmBO/ccx+eLjqz3cy/Xytpmk1jk960NWvTfsh6f59Szzz4bNt10044yX81W4JmXadbxeX8TqAMBi8Q6zJLHaAImYALlErBILJevj94gAttss02g6/Eqq6wSDjzwwLZXdsghhwQaupS9PfbYY2G99dYLK6+8cvjud78b6yXygtdrvUNetHnBQnQQiUKEDtF3vKC2vsCrjp86LSvFlDRAdVquy4t5lnkSI9V3Q2YhyxAdnaIHEatKxVU9MV5MJVmRh/14Mc9ynXn2JWWeNSRGcIEPwmykyEHWHOJC8lBp8PARq6pHaKblJkbJCDzuMxh1ixpMNpaBlRrw1FUedmJGlCJ8WEc8X3qJ5GyXjssaUkRdFRoqpV0z7fYTIzgR+cpzhGvjfssSLajnOfKQZzr3Isciihx5yK/9TKNuvdZklCK/Vw3F1iYtaVnyxdlzzz0XNt98846p66otbJGYlqr3GzYCFonDNuO+XhMwARN4NwGLRK8KE0hJIE3H5wULFoStt9465RF73+35558PU6ZMCa+++mp8iRw3blyYPn16mDp1aq5oLaWrEoGnOoqq7UZtPNXxI3KFjRdWiZ4q1KfrnWj6T3LtpBgiXmHCiy217xCviCDqmUkeKkITiaY6flle8tOPqlp7wgjRBSMEqrrQIl6JLOTPpCkjLlrTuxEXsOLXJkcDqR4b4pUIVTYivrjfEPISzMMiD9utYDX5gZGiFJGmMEJytX7JgTzk3tOa4pjIQ9YT+zfx3lP6P9IVGc964VmMUOS51C56V82K1DSFe1H1a+EErzwRoGU9jUZKfdb90i2Snn8z+fdzyy23jJw6rTv+O8+fKnIoi6+PawJpCVgkpiXl/UzABEyguQQsEps7t76yBhPQCxUv13RuPvfcc+PLMy+ORx11VDj88MOjlOj2UtUJEccn0oWXLnV6ZV+Op3qHyI6mRIn1slTUVIMIF6Wr8jLLiz0bUlHyME8zgl7GVqXPqCO2utCq7hgRVa3p3YOOfhoUN4Q0skw18BAYsGA9cY8r8pBIX9WGHBZxrznhOYQsa41SRHyp7mGylh/3HqzqXFoh63rkSyXWEIy4v/S8Riry7wFfbEgeak3BR/KwLs9zpT7rWat/m1QPWNGK7fi9/PLL4cUXX4xf+HWKktZxLRKzrkDvPywELBKHZaZ9nSZgAibQmYBFoleHCTSAAC/ZV1xxRfj+978flixZEiUW6dfUTyT9OY1Q5OUs2SxFqbiktfFClXzxJPoubR3FBuB91yUoCkjp3WoCoh2JAqLWJCmrTY6qSzO3rBs4IThUn04v/qQujxkzJpTRVCPN2Kq0j8Q08l41NBkfEVFIsdGjR3eMoKrSdZQ9Fu49pPSyZctiRLA2pCuc+DKlX7X8yr7WXo+viEOEIuJQ4k3HQ0gjDxGtVW5WlOb6szZoQSIiE7fddtuOX4RZJKYh732GmYBF4jDPvq/dBEzABP5AwCLRK8EEGkSAF6Dbb789nHXWWWH+/PkxomnSpEnhhBNOiF0qW4WimokoFVfRh0rFRRaSDshxEEKkPPNySgo0EVGqozjIGlr9mj7V8Uumd6sJCJyUDkgkJym9RATBBZlISm+3+nf9uo5+nId1pBRTyUPVhoQTqc9E4BFBxob4gdGwyWndf4gxeCUjD6nhR4SZml5Qt5SUXtZTXSLHilxrrBmlwosJ9xdc4Mb9qVqKROA1sU5rWp6K0EQiUmqBLRktTRQijLgXm/Ts7iQVVVcRDi+88EKMtN9uu+06pi1bJKZdad5vWAlYJA7rzPu6TcAETOD/CFgkejWYQAMJ8EL1xBNPxAjFq666Ktaj23DDDcPxxx8fIzGQjTfffHOMWlQNKKLCJMRonNIpirFTHUVEUN2jW1qXAjXXFHWI9OIFk5dSNQEh/bSd1IE/KamIV9V24zOIV35NEyFat2WpxjJIMckLde9GWKg2YvK6+AzSFfmKKGL9IMtGamBTNy6t403KQ1ghC9kQh0rHRY5p494lmhPxCi/WDpFkcGpizb8kL3URhhP3oe4/nlMwUCq8IoSTXbF5nqnj8zBEBbdrLsP9ROQhPzzTieDkiyCl0PPsJ4ITOY14bcrWKhS5LqU9Ux+R5/IOO+zQsdGVRWJTVoKvoywCFollkfVxTcAETKA+BCwS6zNXHqkJZCbACxUvjt/5znfChRdeGKPkEF+8dCLEEI28UPFinpQXaU7EsXm5p0bgG2+8EV/UeGFFltX5pZRoHkVoqgkGL9xqAoIIzFKAH/nDiysv74gRIhORrrzAZzlOmjnp5z5KhVc0ndJMFc2K6EnbGRc5rQY28FIHWjhxjLpvI8lD1Tzsdv8p9RlZxvrkz8ghNUOq81pKzq+koLoIc8+oizCseFaNFEXH/ataiupmzHMJTk2LUuS+YS3ASvUh03SmVnQnnBQV3FTxKqnIuuBZxf3DuiAiMdn5uXUN8mdYNilis+7PUY+/OgQsEqszFx6JCZiACQyKgEXioMj7vCbQBwI/+MEPwk9+8pNw//33R4nFixEv4rw0knK63377hWOOOSZGpOSJkuNYCEUJDqLPqBGIfMtz3D4giqdQNB3jV21IsSJKrIiaa0SW8eJOBB4vtYgfIqaQZd0kUr84dDsPL+VEG0oeIqbZSHNXNF2exjKSZTBCUvNnRCKMkEjqzNptnFX4e9WpE6tk5CHXkqc+HceSLGMtKaUXTnWsN4k8RGiJFYKM5wbSHgnIMyurKG0XpSjxyjHrGqWoKE3koVK8VUeT68raXIZ7mIhgfiReWZv8m9AuirgK91baMUi08iWFhClR0kjlUaNGxcMkG7Toz4pItEhMS9r7DRsBi8Rhm3FfrwmYgAm8m4BFoleFCTSYwOTJk8PDDz8cdt1117DbbruFz3/+8/GF/MYbb4x1FB988MH4Qr333nvHtOfx48fnEn/UxkMCVb2OIpIHYai0ZUQim6LpkGJlpY0qkpMoRUU8IkqI5Kzii3uyjiaiR3X8kDKSh0RZFi2MOQ/RQ/wgYVmnCAB+qppCX6Y8bPeY4nzIpGRKL+IVRsigKkdTIWtY/5KHzDFrCGkveViU7FOUIrKM3yOkOQciP23U7CD/mZBoRR7yZYeiNHlucB3q8J1njFpLMJLE5wsOGBE9XdV7rvWaYcU9oYhW/sy/edwPEq18Jpn+rBqKilDk7/i9RWKeFeXPNpmARWKTZ9fXZgImYALpCFgkpuPkvUyglgR4oUJOtRMKvCwtXrw4CsWbbrop1h/bZpttolDcfvvtc0V/EQmCTESW8eIuCUTEFBEhg9i4PlKweRHnRTkpxFRzbaTakGWMmeg+GPHSy/g4P0KRF95BSiBFBirFW9F0RLspFbdfzWPUpRdBrcYtCEzWUhXEa1IeIsUoG8CGiBarfkgYJD5CkftO4hUBhFTs11x1u0fESkJMrJCHYlVmIxnJMhjxbFR6uGRZUeKyG4c0f59kxbqSaM0TpZnmvOzDvChKUXU5OS+cipCWaceRdj+xIvKQZxaslA7PPTDSmFvrKfK8WbhwYbj11lvDjBkzhrKxUVru3m94CVgkDu/c+8pNwARMQAQsEr0WTGDICfAi9dJLL8WXpksuuSSm+a655pph+vTpYZ999skVicJLmeooIoFUR5G0536kYBK5Q0qb5CEvmGxqbIFArIJk4cVdac9Iu0FE37WLEBOrtHX8yr6ViCJFKEq8DqreZFK0DlIetuPNPLLe4YQ4Z0PUIRRZ7/1OD1dEK3OWZIUE1roaxJcLfJGALOO+U5SimtgMKkpRpQNgxY8EPqz4coHx9VN2au5gpHsO0UvaMz+DfnZSlxV5yNj0xZAiWvmyIS0rrvOpp56KjcmuvfbauC74IueBBx4IG2ywQdmPNR/fBGpHwCKxdlPmAZuACZhA4QQsEgtH6gOaQH0JEKVDXcXZs2fHFzReXI888shwxBFH5K53iNQg+g6ZILlB9F3RdRSJhuQ6kCn8ikxEYPIyzsslMqUfEWK9rAJJIDhJvDJmOJUhNyRa1RUXdmxixbmryEoRU6o3yUs/YgNZRlRnGZvkoVJxBxV5mOXaEC1EKapLL8KOqDJ+ypxXlQ6AVTIdnjWMEKvSumKsdFZHlimlF0GmJjZpZVSWeWndly9vJA9Vd5TGMJKHZc5V2nHzbGCMSDZFBhN1y1rqZxo9wpBxsKbV4IkvpdSdOi0r5p3n7NVXXx1/lixZElGst956Yf/99w9Tp06Nz5R+i/e08+H9TGCQBCwSB0nf5zYBEzCBahCwSKzGPHgUJlApArysXXnllbGr89NPPx2bgRxwwAExSnHMmDG56uGRgskLHC/u6mKMKCMFrdd0XqSO6h0iBXhJ5AWQdDzJw34IgSInkZd1iVeuB7EAp7xNR9SsAcGTFK1E8sCKnzLTS4tkpFRVhCLzLkFN2nMRKZh1lIft+DLniBekIun0iHX4IMu4R4qobwkrxI4iD7nP2Vi3ai5T9aZCRAAiyuCUjFJElhVdMxU+3IPwYk7YEJgSYjQwqurGPPP8Zk0R5U0NQsaNeCujMzbnECvVlWUtiVXaLw9Yo0SoUyOYJmSU9mBbeeWVw7777hv/jVtjjTUKuR+qOncelwkUQcAisQiKPoYJmIAJ1JuARWK958+jN4FSCRAhd/fdd4czzzwz3HnnnfEFa+LEibGO4qabbporWiNvHUVexJGHvGAqhZMXWiIO+UGU9ComS4Wa8eDIDTUdQZgi+dR0JG1KKKwlWtXpFdGq2nTwqptobcVIVBecEEFcL5FJcEICZRGjqqXZGnk46FTcjMum7e6KFISTUlURMnBCAmXhpBMk5aGi6VRLE4FYZSHWiamEE5ySUYqqpdgLJ87F/SshpmcW61RCrB/lHopYRzqGIqi55yTykXpF1JxMdqfWHPCMYk3xpVOWCG2k8G233Rbl4R133BHnAYG+1157hQMPPDD3v2VFMvWxTKAOBCwS6zBLHqMJmIAJlEvAIrFcvj66CTSCAC/WRCYSofjjH/84voiRAoZQnDJlSi4J1a6OIi+KRN+1vlgjLdQARFE8vNQrkg7Z09RUNDghf4hSVFQZAgJORAG1bkTxSLQmozQRrLyM8yvitWkbElHRd6wX1eUkShH50G7rVB+yCfKw0/yyPhR9hwCEE+tCnEaKUkTaSoip47mi6TjGoGvnFbmmFaVIBB5fXogTsixNsx/dh9y7RMPxLOWZpS7CWYRYkddV9LFgowYtiubkuZyWE+NRBLCapnAv8zznODzrkH9pn++IyEWLFkV5SAQiEd5I80mTJsXIw5122mlgjb+KZu/jmUC/CVgk9pu4z2cCJmAC1SNgkVi9OfGITKCyBHjR4yXvnHPOibUUeTFGZB177LHhkEMOaSu0slwMUTqvvfZalIVsvKgTLYe45L8p4okXQsnDpryIp+WkDqUIRUXqkHYpoYg0RPKQAsi+RGWqKzUv4k2I0kzDSlKCtGdxQrgiypA4CCEYKfJQjXiaLA/bcRMnou+4x9TJWDUCJZu591TzUBKfaEMJsbTppWnmror7KEoRoShOXD+irDWaE4nFmkMeqjs0HCXEiAQuIp28qpx4BiEVxYnntRq0tNYw7NRghmcVXyjx7Er7hQfHevbZZ2PTlGuuuSZGKCMet9lmm1j3cI899sgUyVhFvh6TCVSBgEViFWbBYzABEzCBwRKwSBwsf5/dBGpLgGiviy++OMycOTO8+OKLUSIiE6dNmxZTJXt9USY6DGGxbNmy5cX0gUQaLy+WRKYgLXo9fm2Btxk4UUBw4qUdbtokLRAXWaJ4msQmeS1ESCk9HGHI2uFHzJL1IdOmizeRFdF3iLJkJ2PuNcSYIg+RQkl5OIz3IZwU9aooRYQXz0Cei0hEmCGx+O88s4qo2Vm3NccXQHBiPWn9wAGpyLpqjWqFH8941lfa+xB5yL2NOCT68JlnnomY1llnnbDffvvFH2TvMK7Tuq0Xj7c+BCwS6zNXHqkJmIAJlEXAIrEssj6uCQwJAV6Yb7rpppj2TCoZEovIjxNOOCFMmDAh1QucugcTwcJLuKLDeLEkDfCtt96KUYnUyCKiDFGZ9kWzidOgRg3wUgdVIg15WSYdkF95WSdKsemRYt3mt1Pasj6HaF1ppZVivUjLhhCbjCB4kDOKAIaVanPCKm2EWLe5qfvfs7aIeOVHzWW4JlK78zaQqjub5PiRfTyn4MTa4s/aiFDkWYVsTZsSr6hs/t1BHi5cuDAek7Wppinjxo3z/dykReRrqRQBi8RKTYcHYwImYAIDIWCROBDsPqkJNI8AL3IPPfRQOOuss8L1118fI3K22GKLWEeRelStKbVqAII4THYPJrVUacuShSrqT9ozUpFIH148eXEcFlGmunTIQ6WWwgdWRPCQ3sxGujlpzzBlQ5AhNYgEGhZRxnqBA9JCYpprT6YtI8wQG2o6QpoqkhqpMWyijAg71hUs1ASEtaV1hQQi6hXBj8yHETK/jo1U8j551bBG3alhx8b9h2zl3lSUomoEDrOkVpo3kYmq1cq/Bfzw5ZDYETXIehup9AKsaZaCPKR5Cn+GLU1TSF3m35u0NRTzrgN/3gSGmYBF4jDPvq/dBEzABP5AwCLRK8EETKBQArxov/LKKzHl+aKLLoov1quttlqYPn162GqrrcLcuXPDrbfeGgUjIoIXPyQXL938OlL3YEW2JOsoNjWijGtVcxmEWDK1VPKQiM1OcpBoMkQZaYW8zJOSiijjhb2JoiyNPGzXbRc5BiMi8BBAiAzSK2HVZEmtuqOsLaQrmxoXIekRY8m1pZIDcJJsROLAaRjSdtWdGoGo6EPqs8IqmYqrmpOsKUXfce9x32XtIF7og7mPB9O9CCsENc8f7iueW9xbaooFUzVo4T5kH5jyb8aWW24Z/23gsw888ECUhzfccEOsa0oU48SJE6M83GWXXeKfvZmACfSPgEVi/1j7TCZgAiZQVQIWiVWdGY/LBBpAAEFxxhlnxMYsRDUhJnjRJoVtxowZYbvttos1/HppAIIoI/KOF1FeNjkmEYq82PdyvCrgVrQTL99ICAkLrk1RmnSyzhJZSOQnjJCKMIMNEWUIoLSphFVg024MSXkIM6V1J2setpOH7Y4Fe6I44UTkFBvCA07UuWtCpBOyRmtLHYQR9xLTabueI4AQikSZwZzoRYmyJkkd7j9kGD9cMxtymWcMPwjCkTbVCFSaOPdtU6MU9exiTfDs4tq53mTTlE7PZe5jIoeRr9Q65EsonuWkJz/xxBPxv3MsvohCHu65556pOmZX9bnlcZlA3QlYJNZ9Bj1+EzABE8hPwCIxP0MfwQRMoA2Bb3/72zGKhBdBNiKceKnkhZMX86lTp8aoxLFjx2YSY62nUkQZUpFUN9VyQwCllUiDnEBFWap7MCm3EhZEOiEeioiMayfKiCQj7blOqZdIB0QfQqxVHsIL6Zd33on+RP4gYCXKSOVFltWtNqdKCHDPKbVUzXjgxdz3Kkk5NseFFVFkyB74w6pOayp5//MMURMQ1R9FGEoe9nIvqqafOmOzhhWliNSv25pK8uJekWxVTU2e9YrUTHsvwggJSQOv+fPnxwZerFfWFELxlFNOifUP6/ol0SD/jfG5TaBoAhaJRRP18UzABEygfgQsEus3Zx6xCdSCwI477hhTnHfffffYfGXDDTeM416wYEGso0h6Mxv70ZhFqWy9XpxSL0l7RmogR0ijq2LDEcZKeqjkoWqFkaqs6LAy688RXUXknbo9E5mo+oBVfFGXPFTNw2TkoWTrSCnxva4pIl2RG7CCGVKD88GKFMwskaG9jqGXz6kuHbyIsoSfUksZf9GdvBWNhihTzUlEGUIRUZZWJvVyrUV8RpGajD2Z5i15OFIJgaznb+1kXEf5KtnKvUHNWjaeITxv00RqipnWDU1Trr766nDffffFtcr9xRdNY8aMCffee29MaYYbUYr8+zF69Ois2L2/CZhAgQQsEguE6UOZgAmYQE0JWCTWdOI8bBOoOgFeMDul4fICuWTJkpjefPnll8dOsWuvvXaMUCRtLY94UPQPQpF0ObYq1FFsV8OPsRG9o7TlbqmSRc+5ojkRZcwBkWpE3fEi3++xtF7boORhO8ZaU3AiCpI/s7bhVJVUeuQh0lCyFX7IdCIEGWOvJQSyrjnWFIJa6byMAXmJVKySfJVsRR7CjTll/TNWeJHmXaYo1ppSLUXmi7RwydeqRSki79WQR2nxjBFWCEQiNdPyQgreeeedy5umkELOc5BnP6nLfKmUrONKZOIVV1wRG6zccsstjkrMelN6fxMomIBFYsFAfTgTMAETqCEBi8QaTpqHbAJNIcDLNOLj3HPPDXPmzIkv9LxIH3300eGwww5b3om41+tVHUVe1nlR52WXCEVefHtN58wyFmSF0nCRmoqka9eZOstxi95XNcoQZTQzYENuIsrKFirJa+kkD5FgSlsuI/IwC0+Eq5qzIETUxXgQ8lW8kGGsL9abmheJ16AiTNV0hDXF2Pgz9x/3N/ffIBr+tOMFn6Rs7cdzoXW9IV+J7kO+kiqsKEWkPms/raDLso7T7CtejI055M9Ki1fTlLRj47MPPfRQuOqqq2KEIc9FvjCiWQrycNKkSQP/8iINE+9jAiYQeCb9kTmYgAmYgAkMNwGLxOGef1+9CVSGANLv0ksvDWeffXZYunRpjPg66KCDwrRp02JKW57/b+VFnZd0pIbqKCJ+kBp5oh/bwUMW8pKstFLkDmOnZlxRNfzKnDTSwqk3qRRVydeyIu86ydYqycN2vBEjRGixptTFuB81J5MdcZNyGl7MEVJsEJJupDXJPSf5yu/VGZv7j/u8zE1Ck/XMPSmZz1yJ16Bka+t1q14qzyrGqihFhCIp4v1oZKMxqGkKz06JTXjBLS0vjvX888/HyENSl5ctWxYvmYjD/fbbL+y99961raVZ5pr1sU2g6gQsEqs+Qx6fCZiACZRPwCKxfMY+gwmYQAYCiKV58+bFOorUzOKldbfddot1FNdff/1cQrGsOoq8bCutFImotFLkDpF9yJ1BR9JlmIK4K9F2CA1+kD+MH/HDT16hIXmoNFzJ1qrLw04Mka8IReQLc099S0Q1UVtFzDvHJFJUNTUld5DTkmFFnCfrGsm6P9fBfcKaUmds0p1hxX2SVlB1O69q76kJiGqQihfnqjovRSkiYFWfE4mHVOTXPF+stOPHOeDFGlbDJ6KR1TQlLS9FmdN9GYH4+OOPx9OttdZaMfIQgThq1KjCx99tTfjvTcAEiiNgkVgcSx/JBEzABOpKwCKxrjPncZtAwwnwQvroo4+G73//+4GXUiKJNtlkkygUJ06cmEs6KEqJyDvVUcwaTYac4LPIHdUMQ4RwHEQFv1YtMqyXJSP5iiiji60ajpAijgRKuzVNHra7btUHhBV139TwB1GWNfJOa7S1IY8iW1ljRUfTpp3LIvYjAhlJxg/clCKOqO610ZBkGEIM/mysUcmwqtUdTMNREYJwUpQwIp8IRaRiHqmPMJRsRYazEYGspilpj80YYT937twoD2mQwv3OGOm0fMABB4R11lnH8jDNhHsfE6gBAYvEGkySh2gCJmACJROwSCwZsA9vAiaQjwAvqQi/mTNnhgsvvDDKrFVWWSVMnz49vqDSLTTPRk0yjq8OxrxIk0qNfGitl0ZkHums/BAhpgYNRBwidvrV0CLP9eb5LOxhhdzi2ulmi1AkZbtdbbl28pD9FHmIbE0b6ZRn3P3+LGyIuEMoEoHHRjMJWLFWOtXhkzRSGq4i6YgMgzE/dZaH7eZBopooRaWIsz4QiqyPbjULEZKsR5ghsyTD1HF50E2Dilx7CFeuE1a6VhjBKm0n7nYdqhGGyaYpacfMse6+++4oD4kiZy54Juyxxx7x2bz11ls34suUtDy8nwkMCwGLxGGZaV+nCZiACXQmYJHo1WECJlAbAoisCy64IMyaNSvQlZnorCOOOCI2Z0Gy5En3Q9oQ9YMo4/cIGyLJeFFHGiIPJTqQXwghzskYusmO2gBOOVAimZT2jEwQK4QGUZlK8+ZXNQBJpi03IVIzJaooV2DF2iKqlqg4Islgxe+VhosM40dppYqkQ1CnjQxLO6aq7kdUHJyQ+qwbsWqNvEPoSx7yTGBDGEoe8mVAkzetGdaVohQ7sYKDUspJW+ae5M88w1hbRB8iudM+O/kskeI0Tbn++utjVDbH2mmnnaI8nDx5cs8RpU2eM1+bCTSJgEVik2bT12ICJmACvRGwSOyNmz9lAiYwQAKIvuuuuy6mPT/yyCNROEydOjWmPa+xxhqpX4rbXQIvyshERKUiwtiPl2VFhfHiPWzysB0rZA9CB1aKkEJIIDqSkYdVbADS7+ULK6QPUYpKIyWaFrmIGGMjmktrrEmRdFlZw0SRd7BiTSGiSXnmz+oszn0PLwQi7NLKsKzjqfL+naIUSStG2EtQw5R7Uh2q00R76rq5n1966aXlTVNefvnl+FebbbZZrHtI05Qy6jZWmbvHZgLDTMAicZhn39duAiZgAn8ggC7kYgAAIABJREFUYJHolWACJlBbAki/hQsXxsYsN998cxRY22+/fTj++OPDNttsk0n2IcKIOuTFW1IMeUiEnaLEeFkm7ZlU02GUFsmFghhT5CFRScxFciOiDlYjpfLWduH1OPB2DS04FBGdpD3zU1TDkR6HWKmPIcmQ+kQpSrZKuI4ePTqurWG/D5Oy76233oqdkbkfeRZq44sPojqJQEwbDczneR7yhQ2py0QhsvFFDQ1T+KHEhPlX6pbxYEygLwQsEvuC2ScxARMwgUoTsEis9PR4cCZgAmkI8NK7dOnScPbZZ4dLL700NloYN25cFIpEy7RrsqAGAWpmQa1ENiLBiHLipVtRTq11FGmcgfRpV0cxzXjruk87eUiUE4IVZvyK/CHqTqm8pOWSIo7IaGI9xG5zydpRzUOtMVJv4YWQplGPRBmSR2nPvTYc6Taeqv+90nBhJkGtJkb8SjSiGtnAkBRxpPUwCy14qGmKvgThvuMZJwGbpu4k+5OKz5cyyMP58+fHFHOec/vss0848MADw7rrrpvpC5qqrzePzwRMIDsBi8TszPwJEzABE2gaAYvEps2or8cEhpgAL8LIhzlz5sQfJCE1wKiheNhhh8VaYPfff3946KGHwuabb768sysppohDxASSp5OUINWZumSIMtVRRCgiM5oqyRAJ6k6t+mqt8rBdlBOfoyYbEWUINHUwhlfTa9i1awCCGFT34NbrR57BGFaqw4mURcAigJouybhvEarIMKLglIYLA5jxqyI1tS/3oSLv4Akr9k0bcVf3xyTCnucb95jWDF+CqOOymlARpahaityTRL/CCKZjx46NGDjWggULojy85ZZbYkQ2X5ZMmTIl1j3cdtttG/t8q/s68PhNYBAELBIHQd3nNAETMIFqEbBIrNZ8eDQm0JbA008/HWbMmBF+9rOfxZdC6oTxwkjU3Re/+MWw3XbbmVwLAaJ0Lr/88lhH8bnnnov11XjRppsuL9I0CiA9EnmYtfMz4gfpodqASDJqkiHJsh6rihOHyEk2TOF6k/KQlNK0KbgSP0gydTCmQQ2smlRXjfWmenTIGzZFtyK4RhLUyTXAvY2oRhDBnWMgyVhfTZLV7TpUI0xZG/BijXW7XkoOEM2piE7WJM9FxD4irGmbpD7PHu4lGMJIHZdHqhOpupOw+t73vhduu+22GF3I2vrpT38aBS7PxR122CHKw9122y0+M5susZu2Rnw9JtAPAhaJ/aDsc5iACZhAtQlYJFZ7fjw6E4gELr744nDyySeHjTfeOAoYXpIRinPnzg1Ii9NOOy2cfvrppvX/CfDSfN9994Vrr7023HDDDVHwsPHCTYQXtb1OPPHEsNFGG+V6UW4nyRAgzFHd6ih2kofqTp2MCut1oRGph1BUV14kGazUGKLX4w7qc4gsBAxiR92DSSlVw5Q8DUCIEkMmIhXhpohOxE9dJZnKCSgNV7VHiRRWtCYRc1k3pUPzTOSLAjaOiVAk0jit9M563n7sr2cMa4G1hkzkergvkaZZusZzrFdeeSX88Ic/DIsWLYrlIJgDZCQ1Zb/+9a+HDTbYINczsR9MfA4TMIHBErBIHCx/n90ETMAEqkDAIrEKs+AxmEAXAtS5alfnDyFDVAnRKfyel2ZvIb5w85LNi/MWW2wR9txzz5imByciFEnhQ9QgEqmjOHny5NwpkaQDIskUSYbsodkIUqmqHZ6Rh6SHwiuZtlykPGy3Hjkv6xVeRPIhRhTRWfXagNyLkodKKVX3YOa66Hp9rGHkGEJREZ1IMoQi93tV11Zy3hGhkoeqE8n9IXlYZIdqzoVQZH1xjyPJWFtIxaqvLTFjzolM5VkCN8ooqHM1zLLIUY7FuiECm+ceZR3YVltttfhcJIKaL6QefvjheI6ddtop/nlYUsT976UJmEB2AhaJ2Zn5EyZgAibQNAIWiU2bUV/P0BHYY489YtTdgw8+GMWYtz8QuPHGG8Mmm2wSRV5y48Ua0TBr1qxwwQUXxOYNpDhPmzYtHHTQQbnr97XWUUQyIX2qUkdR8pAoTQQV0VxqZqGGKf2K4JLkQChSI4+NyEeiFIm0qkpaJXOqjt4aJ5FzCB3EDmKvH2NFuiIUJckYA+uKBi1EQlZpI9KNNYYIU6q36kTCrOwSAETuMWfc6xK+aRqODJKhhCsCkd+zIab5UoR7M220JvcVa2XevHnhqquuCnfffXesO8l6nTp1amyaQuRhUkI/8cQT4fzzz4+RtZSE8GYCJmACnQhYJHptmIAJmIAJWCR6DZhAjQkQTTZhwoTlnV+RL97SEyDq58ILLwwzZ84Mr776ahRCNGU59thj48t7HjmEyECiIMmIVuSlHeGDJOt3ZFSV5GGn2WmN6EQ0wYp56JfYTI6NaLakPFQ9OjXlIXV9UNGAWltIRdYw65RxIaz7JTXbzaOEK+seQc+GSEcc8kMUYp57Kv2d/c49YYRQRNDBjjFxL1ZBwMJM0ZpKj2fti1mWZ4VKOhB5SFQh182xqHdI3UNq6aaVkb2y9udMwASaT8Aisflz7Cs0ARMwgW4ELBK7EfLfm0CFCCxZsiRcffXVMbqEqCReFom2Offcc8NRRx1VoZHWayhII6I6SXsmspN0yL333jumPY8fPz6X/FCNMxqzqH4bqcOkPZcpfbgmNUxJRh4qbZnorEEIum4rg3HTEAJJRlQbKZZE3fFTZApsu3FIuCJ2YMbccX7Jwyz16LpdZxF/r4YlsCL6jz+rg3G/BGw7Ztw/RND1M1ozDU81HIEX4hqpyf3A2upnBKyiJRGbRLgybwg+NU3JIlyJKH7yySdj5OF1110XZSn3NdIQeUhJh7SNftIw9D4mYAImYJHoNWACJmACJmCR6DVgAjUiQPMQBJc2XjiRiKSqectPgBf6xYsXh7POOivcdNNNMe2XJgQIxe233z53BFpr1B3NOIi6K6qOIhKOKFWlLXM9aszAOaoqD9vNHOy5FiI6lZqK0INXkQJWnXBhpjqRMJM8hNmgIg+zrGhqNyJgibzj9whQagMSpZglqi3NOWGGaEW4MkdKj1eqd9WEa+s1ScDCinln/DBCKJbVHZtziBmRrmIm4ZpFZDJ+vpgg8pAvlmiawka68v777x/22WefKCUHEf2ZZv14HxMwgXoTsEis9/x59CZgAiZQBAGLxCIo+hgmkILAqFGj4stf2m2kTsykw5GK+4Mf/CBG0ZGKi1D0VgwBXtRffPHFcPbZZ4dLLrkk0CBizTXXDNOnT48v6Xnr0TF/REUhMvg9qZYIMlItiebKsjVJHna6bmrswYtoK+YGgS4B20tUJSJM0ZoSYchCotPU2buX42aZt7L2lYCFl9KLkaEIRepP9iqXOC7HQx4iwojugxnHhFkRXb3LYjLScbn/iO7mXqSuINeE3EMq5m2cI2Gp1GXuVfjDiojRLMzUdIfar0QfPvDAA/GyxowZE/bdd98YfTh27Nie53cQ7H1OEzCBehKwSKznvHnUJmACJlAkAYvEImn6WCYwAoGTTjopRu+k3Wiiwk+3DYl43nnnxdRc0ti8FUdAL+8I29mzZ0eRhWQ48sgjwxFHHJFLzDBK1bpDMCMr03YvbicPiUBDhBEVVqfIwyyz1drIBumK8EGStetqnjw2IiwpD2EvEcacwq6u8rATQyJgJWC5XlLD1ZwljbBOijAi99Q9mOg5dQ9uSndflSBAKPKclrCGF9ea5Tq5l9VxGTnJRhStmqakYa855fO33XZblId33nln7ESNgCQynUj0jTfeuBYRs1nuc+9rAiZQbQIWidWeH4/OBEzABPpBwCKxH5R9DhMokQApuAjEE088McyYMaPEMw33oanXd+WVV8YI0KeffjqmQpJGSJQiUUG9RnpBtV0dRYQgdRQVFdWu+YfkodKW65CCW8QqQgoitkh7JloR9jAgShFe2tiPGnRKwSWKjn0Rrcgh5GEWQVTE2AdxDNYOYgupSDdg1gnXj4AlvT65sRYRkIqiY91LhPGZLN2DB3GtRZyTayZNnB/SxBHMSEB4UW+w3cZ+MIMzTU7Y2FdNU7LU90T6Lly4MMpDnu+scZ43kydPjpGHO+ywQ1dxXgQHH8METMAE2hGwSPS6MAETMAETsEj0GjCBmhMgpfm4444Lf/3Xfx2+973v1fxqqj985NRdd90V6ygSIYSYmjhxYqyjuOmmm+aODkLiEKGoNF7SqJFdRDmp+UeyYcqwyMNOK4P6iclmI4gxIuaIniOyTOmkiqKDXZaIsOqvyPQjlLCGl6KjEa8IMtLFkbP8sNbY+G8SYXnT+dOPsjp7KoqVKEU1SiKykChFhCp/T5q3mqYwciJjkY7qUp32apgbvqBAHlILF4nJvb3ttttGebj77rtH6ZvnC4u0Y/F+JmACJjASAYtErw8TMAETMAGLRK8BE6gBgUWLFsUUttboKeokbrnllrG+1/z58+NLp7f+ENCLPxGKP/7xj6O4Wm+99cIJJ5wQdtttt55llQQYckI17rgiRZER/dgtjbc/BKpzFuYCAbZs2bLl0WCMjigwJBlih6643v6PACmz8KI+IEJMG8wkwlZYYQUj+/8EiOTkOYvgU2QrfyW5r6YpH//4x1PLPj6L1KVhCo1TlixZEs/Gc2S//faLtQ9p/mJ56GVoAiZQJQIWiVWaDY/FBEzABAZDwCJxMNx9VhPIRGDChAlRlGy22WYxfZPt5ZdfjrWziLhCXtEYxFv/CSADkH7nnHNObH5DKi1zNG3atHDwwQe/K3W03QiRh0Q28cPnJSdIb6YempqzqI4iTVk4R5Z0yf6TKfeM7er3cUYixoieIx00mcYLLyLshn1jLfEsIQ1X3bCJ0ERW8XdsrDsEbBYp1mSurDVYcZ/DDpGY3Ih2VTObbhHCHIsvCEhZJvqQLvH8t9GjRy9vmkJjJ8vDJq8oX5sJ1JuARWK958+jNwETMIEiCFgkFkHRxzCBkglcdtllgW6djz322PKOqbzsb7jhhrHxx0477VTyCHz4NARIS7744ouj1H3ppZeiRDzkkEOiVCQdMikHJA8RE4iFpDwkugk5kZQSavxC2jOyUcKHOorIs2HYYIAgVOdg1e8jPVfNP5SCK2FDxBeClg0xhvDh3hkmUYP4ggHcJKqRh0pbVh3ON998M0bIsR/8qPHHuiVCcRhqSbbeQ9zPapqitZZsNMN/I0qRfahrSKQwvIgibE0FZ9/bb789Rh7ecccdsfYix6JpCqnLfEnUTUIOwz3uazQBE6g+AYvE6s+RR2gCJmACZROwSCybsI9vAiYwdASQCkQckfZMWjoShg7cdFl94oknwty5c8P6668fBTBCRzUPW+VhJ3A0c6DRiOooIoIQihynaTICocX1qn6fuuAiaRGu/HSLzOQzCDKlpSJ5EIpEdja1XiJrkC7VSEF+JX2ZdYhERSAiVTutFSQ3rJBkCDA+hxxDkjU93ZnrVdMURCJbt1qRiFruRXjxGerWEilOZ3ck/zXXXBNuuOGGgKhl7U2aNCnKw5133tllCobuXwdfsAnUn4BFYv3n0FdgAiZgAnkJWCTmJejPm0DDCSC+iIakwcgrr7wSmw4grKjN+OUvfzmsu+66DSfQ++UhwYhC+ru/+7sYTUoUnCK9DjvssNggJ608bDcKopoQZAgMxAWSghReBFndI8jUORiBSIqyhI7kIV1ss27INWoCwow0cUQagmykbrxZzzHI/ZNdqolA5Hq5Ru5X5CHdqulAnHZTsxF4KQqWYyiNtylRndw7SvdWXVLktCI2O3VqbuWoFOijjjoqPi85Lvz570QcEp3MFwrIxaawS7uWvJ8JmEBzCFgkNmcufSUmYAIm0CsBi8ReyflzJjAkBGjy8tBDD8UGABtttFFMd0Qu0rEYWUWjADqKensngXnz5sXOzvfee2+MBiMCjIguopeef/75sOqqq4bp06fHpgrdIuq6sUUYERFF2jPSDVlUxzqKyD2iwZKdg1lvkodFRcOpezFRnUTrsdVVkEleiZu6VHM9iDAkYhFSGbGLsEbEst4U1YmIrWMjm2TEJh2s4Uh0KmuNVG6le3e79/h7PksEJ5GHpC7TfZm1yj2OhOXLF3jts88+scwBJSm8DZaAvyAbLH+fvd4ELBLrPX8evQmYgAkUQcAisQiKPoYJNJjArFmzYgoe3YKT2xVXXBFTdREWyIU6yoQyp+28884Lf//3fx8lK3XQtt566ygqiOw6//zzY3MWxAyihzqXpEHmrd2H0ECMIcgUQYYYIe0ZMVLFDfGpaDClkhJtiARj7GmjwXq9NuQlskeCjHMTcYcgK0LA9TqukT6ndG/JQ9XvQ1arVmRZ96PSeJNRnZwTZqSbV3lT3UykOxGbXAsRg0r35lmWtjSAmv1QwgB5eP/990ehSEQw3ZZJXR4/fnz8b/Pnzw9z5syJJQ14HiAcvQ2WgL8gGyx/n73eBCwS6z1/Hr0JmIAJFEHAIrEIij6GCQwpgdVWWy28+OKL4dFHH40Ri97+j4Bqy3WSUaQlE81JHcXHH388RiwRnUiU4tixY3OnPlJXkAhFNc5QHcW8srKIOaZmoWoe0jyFjahMxCFSCnnY79RPIvmU9sz4VBcQQdZLGnURnFqPoYhN5lTp3sg7SdfWBh9ljEHHVFQnMlzNbFhj8GIe0wq5MsfIsZPSFW7cd6wtSgoQeZg1YpPPE42NPLzttttiDUkE7l577RX233//sMUWW3RMHydqkbXV+qVM2Qx8/HcT8BdkXhUm0DsBi8Te2fmTJmACJtAUAhaJTZlJX4cJDIDAWmutFZYsWRJTnddee+0BjKD+pyTtecGCBTEN+tZbb40XRBOWE044IUqJvEKmtY4iwo6oqX5H3CFcJA9pOsGG+FLaMkKs3/Kw3eppF9X5yU9+MjJDPvV7jGr+gQRDDrORNqv6fVWQnMgxNWdByBJ5Sxo/P/2Um8n5ZEzquIyAZWONIQ9Zc3RYTrtxjz7wwAPhqquuik1TqKPI5ydOnBjlIb8O6jrTXoP3S0/AX5ClZ+U9h5OAReJwzruv2gRMwASSBCwSvR5MwAR6IkDdRNLDqMVH5FuWJg49nbDhH0JgIWVnzJgRLr/88hjpNGHChHD88cfHBg15U1XVaIS0Z6LZiLhj7oggy1ujsdPUIDGJVkOCvfHGG3E3BIzkYZY6dIOYflKt1R0bmYTAQygio8pc73RNVrq3uCGqks0/+i000/BnjTFuohSRxYyRiD/WGFF7ZY+5HTelycMuS41N7selS5dGeUgqMs84xk+TKeQhEYj9uKY03L1PsQT8BVmxPH205hGwSGzenPqKTMAETCArAYvErMS8vwmYQIzIofEKac2k+E2dOtVUCiKAwEDGzJ49O1BnkZqHRHYdc8wx4dBDD40dX/NsirhDjDCPyBHSnYuqo4jMQR5yDarTiASVPKxjx1quSRF3CF4i7iRhi4pEo16fpCvcmCdxQ4JVXbq2rklEInUUWQeSsAhFJGyRtSeRlzRLIfqQpibiJumaJdKVz3IcxCFlB4i0ZqPWIfKQ0gOI5LKFaJ7725/NR8BfkOXj508PBwGLxOGYZ1+lCZiACYxEwCLR68MEhoDAqFGjYkRN2u20004Lp59+etvdSRMk9XbRokXh5JNPDmeccUbaw3q/jARgfemll4azzz47dnr+8Ic/HA4++ODY+bUIoUF9QiLuVEcRycdxs9ZRJJ01KQ/VAVdNLJoSuYUQQ1rBjEhBRdzBrBdBmuwcjDDm+Ei2JLe8qe0Zl1zhu7dKWCI5SatHKmaJEEwODE7IVtYt6w6OHBduiErWW1puqqFI0xTkobqsI+/VNIWyDZaHhS+Nyh3QX5BVbko8oIoSsEis6MR4WCZgAibQRwIWiX2E7VOZwKAInHTSSVGApN1IpeWndUNsUQ/svvvuC1/60pfCmWeemfaQ3i8HAUTJLbfcEuso0h0WaTJlypRYR5EmN3klB1F2RI+RkkpkXJo6iuzHmkLmKBJMEozoQ+oJppU5OdAM7KOtEhbJi1AkEm6k60aCwYtIPUkw9icFmM9Sj7GJ3BB2rBfWmSJVWSMIRa692xrm8zAnYhB2CEo+Q6dlNU3Jkm7O5++6664oD+fNmxeboBD1ueeee8bow6222qrQyMmBLdQGn9hfkDV4cn1plSZgkVjp6fHgTMAETKAvBCwS+4LZJzGB+hOg0QMSceHChY5EHNB0IlPokE2nZ9IvkXmbbrppFIq77LJL7rp9qqNI9Ko6F5PCiyAjhVdppIgcRdApEgx5iNRpogQbabqpA4mA5Qc5RTqyGo2ooQfzRrSTIuiI4JQEQx5m7Rw8oOVX2Gn5QgKhSJds1hRrC2astdZaoO06VRP9qU7VWWqHInEffvjhWPfw+uuvj0KXz++8885RHk6aNKkyHboLg93gA/kLsgZPri+t0gQsEis9PR6cCZiACfSFgEViXzD7JCZQbwLUOyOd+cEHHwynnnpq+MY3vlHvC6r56BFTpNeS8vyjH/0oNrYYM2ZMOO6448IBBxzQc8qosCh6jHMgwNiQPYgyZEwygg55mCUSrOboOw4fLghWmBE5xwYb6inCEOHIRtqtJBh/N8wbIpwIQ6QiwpB1hZCGDw2B+DuxJA2ayEP+LktzINbyCy+8EGu5En346quvRuR0RKfm4d577x3nqVtE5DDPU5Ov3V+QNXl2fW1lEbBILIusj2sCJmAC9SFgkVifufJITWAgBJAgO+ywQ4yE+9rXvha++tWvDmQcPml7AkjE888/P8yaNStKLNJFjzjiiHD00UdHKdOLIEGKEXGo9Fv+rI0uuCuvvHIUOr0cu+nzSKdnIjphR7Qdm6I2V1lllUwSrOmsdH1qAPTyyy8HxI42UuWpp8jPhz70odTrTQ2Lrr322igQH3vssXjINdZYI4p2BOLo0aNTH29Y5mHYrtNfkA3bjPt6iyJgkVgUSR/HBEzABOpLwCKxvnPnkZtAXwhss802sQEBEuTAAw9se85DDjkkUK/K2+AIEC2IOCHtGelLWi3dtEl7RqB0k37JBhbUsiNajM9Qsw8hSQ1AIsSy1FEcHI3+npk0cNKW+UEksiG+iHRDJiIVSWdmTqgJ2C6Ft78jrsbZVC+SdcWa489IVyIOqdvJGlSHbFKfR4pERB4S1Th37twoDxcsWBDZIyH32WefKBDXWWedoUu9r8ZMV28U/oKsenPiEdWHgEVifebKIzUBEzCBsghYJJZF1sc1gYYQSFPQnpf2rbfeuiFXXO/LQMbQkIXGLDRoQbBsv/324fjjjw9I4WQNQ/blhVqRh6rdR1Sjave1pt8id6htR/Sj6igieRBkpD8Py0aqMtyQh0Q2sSG64MYPIlEbQov9YIZoZA7Yh9qTCNph2liP8FLTFK25ZLMZZKJSxUl7Fl/24fN0UdY65vPz58+P8pCmKcjEj3zkI2H33XePdQ9Z88OeQj5M6yvttfoLsrSkvJ8JvJuARaJXhQmYgAmYgEWi14AJmEClCdDZljqApCc+/vjjgfRHZAK1zhwF2XnqYLR06dJYR/HSSy+N0m/8+PFh2rRpsTstzSaee+65WO+SyEPkIZGHn/rUp97V8KLdWVRHkTTeN954Ix6Dz6+00kpR5DRxQ1qxHpGC6jxMsw7JQ657pMhPNV1BKKqLOjUTEYppOhfXmSkCVVGbrEW2tPUiqZOIUITbYYcdFtfv5MmTY9TizTffHFkiC3fccccoD3fdddfYNKVbFG6deXrs+Qj4C7J8/Pzp4SZgkTjc8++rNwETMAEIWCR6HZiACVSaAGnVRI8gBahrhsBBXFkkpps21YujSc6VV14Z5Qv/DZ6f+9znYn3FVVddNZU87HRGIsaQPETocewmyTF1qkaCUTeS66N2n5qCcK29CCtkGnLsl7/8ZUzhJZpTac9NiaBjrUkeqvYhkZpqmpIlghXuTz75ZPjOd74TFi9eHOeCDYl7+OGHxxT+psvYdHd8dfbyl0DVmQuPxASKJGCRWCRNH8sETMAE6knAIrGe8+ZRm8DQEEBOEVk3YcKEGIlECvV9991nkZhiBRCp9e1vfzt2q6W2IRu1LpE5y5YtiwLrC1/4Quz2XETzCcQRQlFyjKgwou2oU1enzs6q3YcEgyEykVRaojURV9Q+TKaIp5iKjruoczHc6FQMJ0Qb3OhUXLetXdQmwhBuXFcy5bvbtSEPkVFEz5K6/Mgjj8SPrL766mH99dePTW0WLlwY/xtfNtAIyiUWulHt39/7S6D+sfaZTKCfBCwS+0nb5zIBEzCBahKwSKzmvHhUJmACHQhYJKZfGqSEEjlH5CENJ/bee+8Y9YYou+2222IdxXvuuSdKMVJFieraaKONeoqwS46qjnUUlXaMPEReqXYfzWZUL7JMGcr5X3/99Shi+ZUNYYlQ5Ndeoh7Tr5R8e6rLN3UPiRTkz0RVKmrzYx/7WOrxwwGhSn1P5CH1D1lPHIs1TMOn9dZbb7nIfeGFF8KcOXPCRRddFM4555yODaHyXaE/3QsBfwnUCzV/xgSqT8Aisfpz5BGagAmYQNkELBLLJuzjm4AJFErAIjEbTiLqSPlstyFtqDtJp2ekDfIMkYhQnDRpUkzhzbMpogw5pjqKSDnqKFahyQjjQ7YiD5EeNFBhU7MZIhAHkWZMwxDSnmlqQzQkkZ0IYCI7885JnvlMfjYpXmGH7ENIJ5umZIna5PM0bWIdUveQmopEL06ZMiV2XP785z8/4lzAjLmiZqW3ahLws7ua8+JRmUBWAhaJWYl5fxMwARNoHgGLxObNqa/IBBpNwC+jxU8vUojU51mzZoULLrggdnIm1ZmUZ1Kfs6SjdhoddRRJRSXaT3UUEYpE/PU72q5d4w/S5pGcRL69733vKx5yD0dE7CITkYrqkI1MRCoiFwexUetQdQ9JZZd4JW0Z8ZpFdBK5+MQTT4SrrroqXHvttVHm8nm6jCMPd9ttt5je3e9EJEjEAAAgAElEQVT1MQiuw3BOP7uHYZZ9jcNAwCJxGGbZ12gCJmACIxOwSPQKMQETqBUBv4yWO11E6NEle+bMmbEOJWmpNLM45phjYo27vFKntclIv+oocl4JMEQiG4JUHZc/8IEPlAs2x9HVIRuhqG7RRP6R9txrs5csw2nHjg7VYpdFvKrjOpGH1O4kNZmNSFg6LpO+jJDMu86yXJ/37Q8BP7v7w9lnMYGyCVgklk3YxzcBEzCB6hOwSKz+HHmEJlB7AqNGjYrRaGm30047LZx++ultd/fLaFqK+fYjGu6GG26Iac8PPvhgTBulxiJpz+PGjcstekhlpSkLac9EtnH8v/qrv4rRdlnE1EhXSaoyUW4IRCIi2RCGEmBFRFrmo5z900QEIhSpR0hEH9cAMyRvkTUcmX/YcR7S0sVOHZezNIJBHlI7kfWEQGQ9sdEtfL/99osCcbXVVsu9prLT9Cf6ScDP7n7S9rlMoDwCFonlsfWRTcAETKAuBCwS6zJTHqcJ1JjASSedFLvfpt322GOPwE+7zS+jaSkWsx8SaPHixbExy0033RTl1bbbbhuOP/74sN122+XuXszxWBuIZmQfkWh56ii26xqMmFTjDyLpmhDt9vbbb0cRi1REmCJiP/OZz0SpSJfkXjbqMTIXiFfEH3PPcdVxOQs7Pksk46233hpTl+++++5Yg5NIyqlTp8amKBtuuGHu9dPLdfoz6Qn4S6D0rLynCQwLAYvEYZlpX6cJmIAJdCZgkejVYQImUCsCFomDmS7E0IsvvhjOPvvscMkllwSaW6y55ppRKCKGepVXyash8o0IRSLh2Gh6QvputzqKnQQYKbJIsH6k/w5mVkIUu9SdhJtELNcNN+o+dpOmzCvp0mo4A0siGxF+RB8yB1mbptx3330xbXnu3LmxmQ3Ri7vuumuse0j9QzdEGdRqyX5efwmUnZk/YQJNJ2CR2PQZ9vWZgAmYQHcCFondGXkPEzCBChGwSBzsZCCeXn/99fCDH/wgzJ49O6a+Eu131FFHhSOOOCL82Z/9WVd51e0KiGRDjBFxh9hCRCHGkum7CDTGgQBDpPFnCTDkIePIIsC6jakOf49IJEIRJswTnbHhBo8kC/6OFGnmjn2JbkQ4wox9EZFZ0qRh/9RTTy1vmsJx+TydlpGHu+++e0zB7iY168DYY+ydgJ/dvbPzJ02gSgQsEqs0Gx6LCZiACQyGgEXiYLj7rCZgAj0S8Mtoj+BK+Bi1Da+88spYR/Hpp5+OnYQRR3R7HjNmTG5x1FpHkY6+RCeykXrL3yOn+G8IMKLosgiwEpBU4pCkOtOFmx8kIRGA1J9EFBJ9iOj793//9zhWohYRtMjgLJGCyEhkr5qmPPfcc/F466+/fqx5uO+++8Y5sTysxJKoxCD87K7ENHgQJpCbgEViboQ+gAmYgAnUnoBFYu2n0BdgAs0ncMghhyy/yNtvvz2mvu65554xyontK1/5Slh99dWbD6KiV0hE2l133RXrKN55551RHk2cODE2Ztlkk01yRQYirEh5poM0Eow/s1H3kJqARNxRx8/buwkwL8jEZcuWxTqK2khDhx2iD/mbdlMa9I033hijD3/605/Gj6688sqxaQoSmfvQ8jAt0eHazyJxuObbV9tcAhaJzZ1bX5kJmIAJpCVgkZiWlPczARMYGIFuYmLBggWBl1RvgyWAaCLFdcaMGeHHP/5xjIYjQo06irvttlsm4Ufqrer2kerMRvQcP0TTEZHIRg2/lVZaqZCU6sHSK+7spIOT7k3koeQrspWfZCQiEpY05m4p4PBH4CMPEcXMK1Gge+21V2yaklcWF3flPlLVCPhLoKrNiMdjAvkJWCTmZ+gjmIAJmEDdCVgk1n0GPX4TMAETqBgBhCIS65xzzom1FJFZSKtp06aFgw8+OND9t92G5EIe8kMzFzaiTomc4+cDH/jA8o+lqaNYMSylDofoQ6UtJ2tGqls1whUhTzo6dRSpP0kXZSI76fRMPUWljTNQZOTChQtj6jIRiDRNgf/kyZNj5OGOO+4YP+vNBEYi4C+BvD5MoHkELBKbN6e+IhMwARPISsAiMSsx728CJtBYAtT5O+2008L9998fRRYpm0TU0LmU+nzeshP47W9/Gy666KIwc+bM8NJLL0WJeOihh4Zjjz021u2jzt5ll10WNttss1jzkA1hJXmo9PVOZ0aGIcWQY0gyou4QYxy76aILYUuDFclXWKhmJHUPEYOdakYiCpG9cHvmmWfCySefHHbeeefYGOWJJ54I1157bUyLJlpxm222Wd40JU0n6OyrxJ8wARMwAROoCwGLxLrMlMdpAiZgAuURsEgsj62PbAImUCMC1HvbbrvtYiTW1KlTw1/+5V+GefPmhWeffTZMmTIlXH/99a79lmM+4UpkG41ZFi9eHAUVovbll1+OdQ9POeWU5Q06iI7rFsnUOhQi8ojEe+2112L0HMdHRpL23E1G5risgXwUya2Oy0r7/tjHPra8aUqWmpFwu/XWW8O3v/3tKBBVg5K5Ofroo6NA5F7IOh8DAdPQk/oLjoZOrC/LBGpKwCKxphPnYZuACZhAgQQsEguE6UOZgAnUkwCSa6211grPP/98lCpEZrFRCw65SIrn5ZdfHqWKt94IEJk4d+7c2OWZentEH9IlmO7ORM8dddRRkXversuK0kMoIhbZ6FaMUFR6b29XMNhP0SyFyEMEIvUj2TqlfXcbqRrY3HTTTbHu4aJFi6JAHDduXFhhhRWiPGe+kInTp08Phx9+eMd09G7n8t/nI+AvOPLx86dNwASKJ2CRWDxTH9EETMAE6kbAIrFuM+bxmoAJFE7g7rvvDttvv31M4bznnnvecfz77rsvNnLZfPPNo1D01huBNdZYIyxdujTKL9Jn99133yiqzj333HDxxRdHOTZ27NgorugAnKyH2NsZQ2wsQur0P/3TP8VIUyQZQpFIxbzCstcxZfkcsjXZNIXPkq6NeOUaiNzMspH6fccdd8S6h8hc5CRylaYpSHLWOJGczMUll1wSZs2aFV544YUo2FdbbbUsp/K+BRDwFxwFQPQhTMAECidgkVg4Uh/QBEzABGpHwCKxdlPmAZuACRRN4NRTTw3f+ta3wj/8wz+Er3zlK+84PC/z1IVDwpBS2vS6e0Wz1fGI6Hz/+98fJk6c+C5JSJOQH/7wh7E5C/UOV1xxxXDkkUfGH36fN61WdRSRisgzIiGpoUgtRX5fpY1UYzpSE334r//6r4E/U59TTVM+/vGPZ+LB+iWqDXl4ww03hDfeeCPOw6RJk8L+++8fo0D5c7uNc//sZz8LG2ywQZUQDc1Y/AXH0Ey1L9QEakXAIrFW0+XBmoAJmEApBCwSS8Hqg5qACdSJwN577x2bS/Cz5557vmvo48ePjw0plixZEois81YOASQfwos6itTrQ3ARnUiUItGKeYUiYuzXv/51rKNI1B3Rd0T30VF6kHUUlWpM2jIRiIhPxkazFDVN4c9pN4733HPPxTRy1jQCFXZE1iIPWePUVMzLM+14vF9vBPwFR2/c/CkTMIFyCVgklsvXRzcBEzCBOhCwSKzDLHmMJmACpRLYYYcdwl133RV/qInYutFRmKgufjbZZJNSx+KDhxiFR4r5WWedFW677baIZKeddgonnHBC2GKLLaJky7NJ3CEUifpjG0QdReoQqmkKEa9spBqTtvypT30qdqBOu3FNpHBfc801UcY+9dRT8aNrr712lLH8EIFpeZiW6OD38xccg58Dj8AETODdBCwSvSpMwARMwAQsEr0GTMAEhp5AWpH4wAMPhI033njoefULAHKMxh8zZswIV1xxRUwvX2eddWKE4h577FFIWrLqKJJSjcAkMlF1FPMKy3acuAY1TUEkslHrkMhD0pc7pRm3O5Yay9DEBnlIPU/+GxGW++yzT6x7+LnPfc7ysF8LtuDzpH0u+QuOgsH7cCZgAiMSsEj0AjEBEzABE7BI9BowARMYegKO/Kn2EkCOkZI8e/bscN5558UagkTXHXPMMeHQQw+NNSzzbqQT/+IXvwg///nPl9dR5BzUUsxbR5FjM34E4m9+85s4VJrJEHnIT9a0alLAiZ5FHtJlHDlJ7UTkKvKQqE3qKnqrN4G0ItFfcNR7nj16E6gbAYvEus2Yx2sCJmACxROwSCyeqY9oAiZQMwKuRVafCaPhzaWXXhrOPvvs2E2YaL6DDz44TJs2LUbi5U3d7VRHkShFuj6n3WhykmyaggwlVZmoQ6IPkZ9Zxsq4HnzwwXDVVVfFpik0qKHxzy677BLrHrZrYpN2rN6vmgT8BUc158WjMoFhJ2CROOwrwNdvAiZgAiFYJHoVmIAJDD0Bd0et3xJA1N1yyy2xjuL9998f3vOe94QpU6bEOorrrbdeJknX7uoRf0QP0qhEdRRpfoJQ7NQ5WZ9R05Tf//73sZ4j9Q6JPKQOY5Z0aY63dOnSGHlI7cNly5bF6yLikMhDmqZQUzGLkKzfTA/viP0Fx/DOva/cBKpMwCKxyrPjsZmACZhAfwhYJPaHs89iAiZQYQJIqTXXXDO88MILMVV05513jqN9++23Y/OVhQsXhssvvzzKG2/VIoBse+SRR2KnZzoUI+823XTTcOKJJ8Z5RDDm3YiCRCjSzKS1jiISjw7QpC3zQ9ox/w3BR+ThiiuumCnNmOvhOIjDq6++Ojz++ONx+OPGjYuRh/wUEXmZl4k/Xz4Bf8FRPmOfwQRMIDsBi8TszPwJEzABE2gaAYvEps2or8cETKAnAjQs+PznPx9FEY0qkEDz5s2LzT6IdLv++usd+dUT2f58CAGH7CPl+cILLwxvvfVWWHXVVcNxxx0XBfAHP/jB3ANBLNOUhfPweyQlEYbUQGT7yEc+srxpCmnHaTfGTuOVm266KcrDBQsWxHX4mc98Juy7775x/BMmTPD6Swu0Ifv5C46GTKQvwwQaRsAisWET6ssxARMwgR4IWCT2AM0fMQETaCaBp556Kpx22mkxVZYotJVXXjk28zjppJMyRZU1k059ruqNN94IF1xwQZg1a1aUfqQUH3HEEeHoo4+Oaca9pgIjD2maQurym2++uRwIx+O4q6yySqY6ihyPqDM1TaGDNLUTaZpC5OHWW2/tdVefZVfKSP0FRylYfVATMIEcBCwSc8DzR03ABEygIQQsEhsykb4MEzABEzCBdxJA1JHuTNrzo48+GpuTEG16/PHHhzXWWCOVUCQqjBqJyMPXX389ED1IF2dqHtI4hb9HVtJYha1bHUUiDUnFpmkKUa58juPttNNOUR5Onjy5kOhJr4XmEPAXHM2ZS1+JCTSBgEViE2bR12ACJmAC+QhYJObj50+bgAmYgAlUnADyjihTGrPQoAUZuMMOO0ShSNRfawMU9qcrMrUK/+Vf/iXKQtKYiTok5Z1mK62faa2j+OKLL0Yqhx12WBSY/JnIQ1KXX3nllfh3m2++eZSHdOclarLXSMmK4/fwTMAETMAEGkTAIrFBk+lLMQETMIEeCVgk9gjOHzMBEzCBognQ0GXx4sWxwQZRSP/xH/8RU61PP/30ok81lMdTF2TqKF566aWR7/jx46NQpAPyQw89FC677LL432i+g9hD8KlpSprGLURB/uIXv4ip1BwP6YiAfP755yNzIiGRh/vtt19Mnbc8HNxS9P02OPY+swmYQH0JWCTWd+48chMwARMoioBFYlEkfRwTMAETyElg1KhR4bXXXovyia6/L7/8skViTqbtPo5QJF15zpw5YebMmTH6kNqEqnt40EEHhb/927+NqcukHafdOC6RiTfffHOMPqQxC+nQ1FX8kz/5k9i05xvf+EYYO3Zs2kN6vxIJ+H4rEa4PbQIm0FgCFomNnVpfmAmYgAmkJmCRmBqVdzQBEzCBcgncddddYcyYMWH06NHh4osvjo1eHJFYPHPEHqLviiuuCA8//HA8wQorrBAQSzRq2XXXXcO0adPiPKSJGKRr8z333BOPSeo0MvHDH/5w2H333WPkIcdAWN56663x93RhJvLR22AJ+H4bLH+f3QRMoJ4ELBLrOW8etQmYgAkUScAisUiaPpYJmIAJFETAIrEgkG0Oc+CBB0aJ+JnPfCaKPsQe6cy33357rKOIFKQGIkLxhBNOCBtuuOG7hCJ1FB977LHYNOW6666LtRSJOtxxxx3j8fjsBz/4wXd87rnnngszZsyIDVm++c1vlneBPnJmAr7fMiPzB0zABIaUgEXikE68L9sETMAEEgQsEr0cTMAETKCCBCw2ypuUJ598MqYzb7nllrGJSnIjPZkalXR6JsKQaMONN9441lGcNGlSTD3nv/Pz0ksvxY9usskmse7h1KlTw4orrpgqirG8q/OReyHg+60Xav6MCZjAMBKwSBzGWfc1m4AJmMA7CVgkekWYgAmYQAUJWGwMdlIQijRNmTVrVrjgggvCb37zm9h9+b/+67/iwKhzSDQjApF09DQp0IO9Ip99JAK+37w+TMAETCAdAYvEdJy8lwmYgAk0mYBFYpNn19dmAiZQWwIWG9WZurfeeiumPNMohZTlU045JWywwQYx/dlbMwj4fmvGPPoqTMAEyidgkVg+Y5/BBEzABKpOwCKx6jPk8ZmACQwlAYuN6k3722+/Hf70T//U0YfVm5rcI/L9lhuhD2ACJjAkBCwSh2SifZkmYAImMAIBi0QvDxMwAROoIAGLjQpOiofUWAK+3xo7tb4wEzCBgglYJBYM1IczARMwgRoSsEis4aR5yCZgAs0nYLHR/Dn2FVaHgO+36syFR2ICJlBtAhaJ1Z4fj84ETMAE+kHAIrEflH0OEzABE8hIwGIjIzDvbgI5CPh+ywHPHzUBExgqAhaJQzXdvlgTMAETaEvAItELwwRMwAQqSMBio4KT4iE1loDvt8ZOrS/MBEygYAIWiQUD9eFMwARMoIYELBJrOGkesgmYQDMJXHDBBWHRokXx4l566aWwePHisPbaa4cJEybE/7b55puHI444opkX76sygT4T8P3WZ+A+nQmYQCMIWCQ2Yhp9ESZgAiaQi4BFYi58/rAJmIAJFEfgkEMOCZdccknHAx588MGByClvJmAC+Qn4fsvP0EcwARMYPgIWicM3575iEzABE2glYJHoNWECJmACJmACJmACJmACJmACJtCVgEViV0TewQRMwAQaT8AisfFT7As0ARMwgfQEXn/99XDDDTeEefPmhaeffjr88pe/DO9973vD+PHjw6GHHhp//viP/zj9Ab2nCZiACZiACZhAYwhYJDZmKn0hJmACJtAzAYvEntH5gyZgAibQPALnnXdeOPbYY8Nf/MVfhG222SZ89rOfDb/+9a/D9ddfH958882w5557hmuuuSb80R/9UfMu3leUm4BFdG6EPoAJmIAJVJqARWKlp8eDMwETMIG+ELBI7Atmn8QETMAE6kHgnnvuCb/73e/CxIkT3xF5+Ktf/SpsuOGG4ec//3m49tpro1D0ZgKtBCyivSZMwARMoNkELBKbPb++OhMwARNIQ8AiMQ0l72MCJmACJhC+9a1vhVNPPTVMnz49zJo1y0RM4F0ELKK9KEzABEyg2QQsEps9v746EzABE0hDwCIxDSXvYwImYAImEL773e+Gk08+OXzxi18M3//+903EBDIRsIjOhMs7m4AJmEAlCVgkVnJaPCgTMAET6CsBi8S+4vbJTMAETKCeBH7/+9+HddZZJzzzzDPh9ttvDzvuuGM9L8SjHhgBi+iBofeJTcAETKAwAhaJhaH0gUzABEygtgQsEms7dR64CZiACfSPwN/8zd+EM888M+yyyy6xo7M3E8hCwCI6Cy3vawImYALVJWCRWN258chMwARMoF8ELBL7RdrnMQETMIGaEpg5c2Y48cQTw+qrrx4WL14cPvGJT9T0SjzsQRGwiB4UeZ/XBEzABIolYJFYLE8fzQRMwATqSMAisY6z5jGbgAmYQJ8IzJ49OzZXWXPNNcP8+fPDpz/96T6d2adpCgGL6KbMpK/DBEzABEKwSPQqMAETMAETsEj0GjABEzABE2hLYMaMGeGkk04K48aNixLxU5/6lEmZQCYCFtGZcHlnEzABE6g8AYvEyk+RB2gCJmACpROwSCwdsU9gAiZgAvUjcMYZZ4SvfOUrYcKECeGuu+4Kn/zkJ+t3ER7xQAlYRA8Uv09uAiZgAqUQsEgsBasPagImYAK1ImCRWKvp8mBNwARMoHwCX//618NXv/rVsN5664U777zTNRHLR964M1hEN25KfUEmYAImEAlYJHohmIAJmIAJWCR6DZiACZiACSwncMkll4RDDjkkvOc97wnHH398+OhHP/ouOkQpTpkyxdRMoC0Bi2gvDBMwARNoLgGLxObOra/MBEzABNISsEhMS8r7mYAJmMAQEDj99NPD1772tRGv9OCDDw4XX3zxENDwJWYlYBGdlZj3NwETMIF6EbBIrNd8ebQmYAImUAYBi8QyqPqYJmACJmACJjCEBCyih3DSfckmYAJDRcAicaim2xdrAiZgAm0JWCR6YZiACZiACZiACZiACZiACZiACXQlYJHYFZF3MAETMIHGE7BIbPwU+wJNwARMwARMwARMwARMwARMID8Bi8T8DH0EEzABE6g7AYvEus+gx28CJmACDSZw8sknh0cffTS88MIL4fXXXw8f+tCHwqhRo8L+++8fjjrqqLDCCis0+Or/cGlm0Pgp9gWagAmYQG0IWCTWZqo8UBMwARMojYBFYmlofWATMAETMIG8BN73vveFddddN6y11lphxRVXDG+99Va49957w5IlS8K4cePCAw88EOVikzczaPLs+tpMwARMoF4ELBLrNV8erQmYgAmUQcAisQyqPqYJmIAJmEAhBP7zP/8zvP/973/XsQ466KBw2WWXhTPPPDN86UtfKuRcVT2IGVR1ZjwuEzABExg+AhaJwzfnvmITMAETaCVgkeg1YQImYAImUDsCc+fODbvttls45phjwpw5c2o3/iIGbAZFUPQxTMAETMAEshCwSMxCy/uagAmYQDMJWCQ2c159VSZgAibQaALURzz//PPDueeeG4499thGX2unizODoZx2X7QJmIAJDJSAReJA8fvkJmACJlAJAhaJlZgGD8IETMAETGAkAt/61rfC22+/HX7zm9+ERYsWhcceeyxst912Yd68eeG9733vUMAzg6GYZl+kCZiACVSagEVipafHgzMBEzCBvhCwSOwLZp/EBEzABEwgDwEaqvzud79bfghqJM6ePbvxjVaSzMwgzwryZ03ABEzABIogYJFYBEUfwwRMwATqTcAisd7z59GbgAmYwNAQ+N///d/wq1/9KsyfPz+ccsop4SMf+Ui44447wmc/+1kzGCIGQzPZvlATMAETqCABi8QKToqHZAImYAJ9JmCR2GfgPp0JmIAJmEB+Ag899FDYeOONY8OVG2+8Mf8Ba3gEM6jhpHnIJmACJlBzAhaJNZ9AD98ETMAECiBgkVgARB/CBEzABEyg/wQ+8YlPhP/5n/8Jb7zxRv9PXpEzmkFFJsLDMAETMIEhIWCROCQT7cs0ARMwgREIWCR6eZiACZiACdSOwG9/+9vw0Y9+NHz84x8P//Zv/1a78RcxYDMogqKPYQImYAImkIWARWIWWt7XBEzABJpJwCKxmfPqqzIBEzCB2hNYunRpFIV//ud//o5r+e///u9w9NFHh4suuih84QtfCJdeemntr7XTBZhBY6fWF2YCJmACtSRgkVjLafOgTcAETKBQAhaJheL0wUzABEzABIoiMGPGjHDyySeHrbbaKqy88sqBNN5//ud/DnfffXf45S9/GcaOHRvuvffe8OlPf7qoU1buOGZQuSnxgEzABExgqAlYJA719PviTcAETCASsEj0QjABEzABE6gkgWeeeSbMmTMnLFq0KPziF78Ib775Zvjwhz8c1lxzzTBlypRw3HHHhQ9+8IOVHHtRgzKDokj6OCZgAiZgAkUQsEgsgqKPYQImYAL1JmCRWO/58+hNwARMwARMwARMwARMwARMoC8ELBL7gtknMQETMIFKE7BIrPT0eHAmYAImYAImYAImYAImYAImUA0CFonVmAePwgRMwAQGScAicZD0fW4TMAETMAETMAETMAETMAETqAkBi8SaTJSHaQImYAIlErBILBGuD20CJmACJmACJmACJmACJmACTSFgkdiUmfR1mIAJmEDvBCwSe2fnT5qACZiACZiACZiACZiACZjA0BCwSByaqfaFmoAJmEBHAhaJXhwmYAImYAImYAImYAImYAImYAJdCVgkdkXkHUzABEyg8QQsEhs/xb5AEzABEzABEzABEzABEzABE8hPwCIxP0MfwQRMwATqTsAise4z6PGbgAmYgAmYgAmYgAmYgAmYQB8IWCT2AbJPYQImYAIVJ2CRWPEJ8vBMwARMwARMwARMwARMwARMoAoELBKrMAsegwmYgAkMloBF4mD5++wmYAImYAImYAImYAImYAImUAsCFom1mCYP0gRMwARKJWCRWCpeH9wETMAETMAETMAETMAETMAEmkHAIrEZ8+irMAETMIE8BCwS89DzZ03ABEzABEzABEzABEzABExgSAhYJA7JRPsyTcAETGAEAhaJXh4mYAImYAImYAImYAImYAImYAJdCVgkdkXkHUzABEyg8QQsEhs/xb5AEzABEzABEzABEzABEzABE8hPwCIxP0MfwQRMwATqTsAise4z6PGbgAmYgAmYgAmYgAmYgAmYQB8IWCT2AbJPYQImYAIVJ2CRWPEJ8vBMwARMwARMwARMwARMwARMoAoELBKrMAsegwmYgAkMloBF4mD5++wmYAImYAImYAImYAImYAImUAsCFom1mCYP0gRMwARKJWCRWCpeH9wETMAETMAETMAETMAETMAEmkHAIrEZ8+irMAETMIE8BCwS89DzZ03ABEzABHSqm6gAACAASURBVEzABEzABEzABExgSAhYJA7JRPsyTcAETGAEAhaJXh4mYAImYAImYAImYAImYAImYAJdCVgkdkXkHUzABEyg8QQsEhs/xb5AEzABEzABEzABEzABEzABE8hPwCIxP0MfwQRMwATqTsAise4z6PGbgAmYgAmYgAmYgAmYgAmYQB8IWCT2AbJPYQImYAIVJ2CRWPEJ8vBMwARMwARMwARMwARMwARMoAoELBKrMAsegwmYgAkMloBF4mD5++wmYAImYAImYAImYAImYAImUAsCFom1mCYP0gRMwARKJWCRWCpeH9wETMAETMAETMAETMAETMAEmkHAIrEZ8+irMAETMIE8BCwS89DzZ03ABEzABEzABEzABEzABExgSAhYJA7JRPsyTcAETGAEAhaJXh4mYAImYAImYAImYAImYAImYAJdCVgkdkXkHUzABEyg8QQsEhs/xb5AEzABEzABEzABEzABEzABE8hPwCIxP0MfwQRMwATqTsAise4z6PGbgAmYgAmYgAmYgAmYgAmYQB8IWCT2AbJPYQImYAIVJ2CRWPEJ8vBMwARMwARMwARMwARMwARMoAoELBKrMAsegwmYgAkMloBF4mD5++wmYAImYAImYAImYAImYAImUAsCFom1mCYP0gRMwARKJWCRWCpeH9wETMAETMAETMAETMAETMAEmkHAIrEZ8+irMAETMIE8BCwS89DzZ03ABEzABEzABEzABEzABExgSAhYJA7JRPsyTcAETGAEAhaJXh4mYAImYAImYAImYAImYAImYAJdCVgkdkXkHUzABEyg8QQsEhs/xb5AEzABEzABEzABEzABEzABE8hPwCIxP0MfwQRMwATqTsAise4z6PGbgAmYgAmYgAmYgAmYgAmYQB8IWCT2AbJPYQImYAIVJ2CRWPEJ8vBMwARMwARMwARMwARMwARMoAoELBKrMAsegwmYgAkMloBF4mD5++wmYAImYAImYAImYAImYAImUAsCFom1mCYP0gRMwARKJWCRWCpeH9wETMAETMAETMAETMAETMAEmkHAIrEZ8+irMAETMIE8BCwS89DzZ03ABEzABEzABEzABEzABExgSAhYJP6/duwY2VEoiqFgzf43PTv4BJTRO9C5zRUtIn2kaK9JgACBPwQMiT4PAgQIECBAgAABAgQIELgUMCReEvkBAQIEXi9gSHx9xV6QAAECBAgQIECAAAEC9wUMifcNPYEAAQJ1AUNivUH5CRAgQIAAAQIECBAg8ICAIfEBZCcIECBwuIAh8fCCxCNAgAABAgQIECBAgMAJAobEE1qQgQABAlsBQ+LW33UCBAgQIECAAAECBAgkBAyJiZqEJECAwE8FDIk/5fVwAgQIECBAgAABAgQIvEPAkPiOHr0FAQIE7ggYEu/o+S8BAgQIECBAgAABAgQ+ImBI/EjRXpMAAQJ/CBgSfR4ECBAgQIAAAQIECBAgcClgSLwk8gMCBAi8XsCQ+PqKvSABAgQIECBAgAABAgTuCxgS7xt6AgECBOoChsR6g/ITIECAAAECBAgQIEDgAQFD4gPIThAgQOBwAUPi4QWJR4AAAQIECBAgQIAAgRMEDIkntCADAQIEtgKGxK2/6wQIECBAgAABAgQIEEgIGBITNQlJgACBnwoYEn/K6+EECBAgQIAAAQIECBB4h4Ah8R09egsCBAjcETAk3tHzXwIECBAgQIAAAQIECHxEwJD4kaK9JgECBP4QMCT6PAgQIECAAAECBAgQIEDgUsCQeEnkBwQIEHi9gCHx9RV7QQIECBAgQIAAAQIECNwXMCTeN/QEAgQI1AUMifUG5SdAgAABAgQIECBAgMADAobEB5CdIECAwOEChsTDCxKPAAECBAgQIECAAAECJwgYEk9oQQYCBAhsBQyJW3/XCRAgQIAAAQIECBAgkBAwJCZqEpIAAQI/FTAk/pTXwwkQIECAAAECBAgQIPAOAUPiO3r0FgQIELgjYEi8o+e/BAgQIECAAAECBAgQ+IiAIfEjRXtNAgQI/CFgSPR5ECBAgAABAgQIECBAgMClgCHxksgPCBAg8HoBQ+LrK/aCBAgQIECAAAECBAgQuC9gSLxv6AkECBCoCxgS6w3KT4AAAQIECBAgQIAAgQcEDIkPIDtBgACBwwUMiYcXJB4BAgQIECBAgAABAgROEDAkntCCDAQIENgKGBK3/q4TIECAAAECBAgQIEAgIWBITNQkJAECBH4qYEj8Ka+HEyBAgAABAgQIECBA4B0ChsR39OgtCBAgcEfAkHhHz38JECBAgAABAgQIECDwEQFD4keK9poECBD4Q8CQ6PMgQIAAAQIECBAgQIAAgUsBQ+IlkR8QIEDg9QKGxNdX7AUJECBAgAABAgQIECBwX8CQeN/QEwgQIFAXMCTWG5SfAAECBAgQIECAAAECDwgYEh9AdoIAAQKHCxgSDy9IPAIECBAgQIAAAQIECJwgYEg8oQUZCBAgsBUwJG79XSdAgAABAgQIECBAgEBCwJCYqElIAgQI/FTAkPhTXg8nQIAAAQIECBAgQIDAOwQMie/o0VsQIEDgjoAh8Y6e/xIgQIAAAQIECBAgQOAjAobEjxTtNQkQIPCHgCHR50GAAAECBAgQIECAAAEClwKGxEsiPyBAgMDrBQyJr6/YCxIgQIAAAQIECBAgQOC+gCHxvqEnECBAoC5gSKw3KD8BAgQIECBAgAABAgQeEDAkPoDsBAECBA4XMCQeXpB4BAgQIECAAAECBAgQOEHAkHhCCzIQIEBgK2BI3Pq7ToAAAQIECBAgQIAAgYSAITFRk5AECBD4qYAh8ae8Hk6AAAECBAgQIECAAIF3CBgS39GjtyBAgMAdAUPiHT3/JUCAAAECBAgQIECAwEcEDIkfKdprEiBA4A8BQ6LPgwABAgQIECBAgAABAgQuBQyJl0R+QIAAgdcLGBJfX7EXJECAAAECBAgQIECAwH0BQ+J9Q08gQIBAXcCQWG9QfgIECBAgQIAAAQIECDwgYEh8ANkJAgQIHC5gSDy8IPEIECBAgAABAgQIECBwgoAh8YQWZCBAgMBWwJC49XedAAECBAgQIECAAAECCQFDYqImIQkQIPBTAUPiT3k9nAABAgQIECBAgAABAu8QMCS+o0dvQYAAgTsChsQ7ev5LgAABAgQIECBAgACBjwgYEj9StNckQIDAHwKGRJ8HAQIECBAgQIAAAQIECFwKGBIvifyAAAECrxcwJL6+Yi9IgAABAgQIECBAgACB+wKGxPuGnkCAAIG6gCGx3qD8BAgQIECAAAECBAgQeEDAkPgAshMECBA4XMCQeHhB4hEgQIAAAQIECBAgQOAEAUPiCS3IQIAAga3Av+151wkQIECAAAECBAgQIECAAAECBAgQKAgYEgstyUiAAAECBAgQIECAAAECBAgQIEBgLGBIHBfgPAECBAgQIECAAAECBAgQIECAAIGCgCGx0JKMBAgQIECAAAECBAgQIECAAAECBMYChsRxAc4TIECAAAECBAgQIECAAAECBAgQKAgYEgstyUiAAAECBAgQIECAAAECBAgQIEBgLGBIHBfgPAECBAgQIECAAAECBAgQIECAAIGCgCGx0JKMBAgQIECAAAECBAgQIECAAAECBMYChsRxAc4TIECAAAECBAgQIECAAAECBAgQKAgYEgstyUiAAAECBAgQIECAAAECBAgQIEBgLGBIHBfgPAECBAgQIECAAAECBAgQIECAAIGCgCGx0JKMBAgQIECAAAECBAgQIECAAAECBMYChsRxAc4TIECAAAECBAgQIECAAAECBAgQKAgYEgstyUiAAAECBAgQIECAAAECBAgQIEBgLGBIHBfgPAECBAgQIECAAAECBAgQIECAAIGCgCGx0JKMBAgQIECAAAECBAgQIECAAAECBMYChsRxAc4TIECAAAECBAgQIECAAAECBAgQKAgYEgstyUiAAAECBAgQIECAAAECBAgQIEBgLGBIHBfgPAECBAgQIECAAAECBAgQIECAAIGCgCGx0JKMBAgQIECAAAECBAgQIECAAAECBMYChsRxAc4TIECAAAECBAgQIECAAAECBAgQKAgYEgstyUiAAAECBAgQIECAAAECBAgQIEBgLGBIHBfgPAECBAgQIECAAAECBAgQIECAAIGCgCGx0JKMBAgQIECAAAECBAgQIECAAAECBMYChsRxAc4TIECAAAECBAgQIECAAAECBAgQKAgYEgstyUiAAAECBAgQIECAAAECBAgQIEBgLGBIHBfgPAECBAgQIECAAAECBAgQIECAAIGCgCGx0JKMBAgQIECAAAECBAgQIECAAAECBMYChsRxAc4TIECAAAECBAgQIECAAAECBAgQKAgYEgstyUiAAAECBAgQIECAAAECBAgQIEBgLGBIHBfgPAECBAgQIECAAAECBAgQIECAAIGCgCGx0JKMBAgQIECAAAECBAgQIECAAAECBMYChsRxAc4TIECAAAECBAgQIECAAAECBAgQKAgYEgstyUiAAAECBAgQIECAAAECBAgQIEBgLGBIHBfgPAECBAgQIECAAAECBAgQIECAAIGCgCGx0JKMBAgQIECAAAECBAgQIECAAAECBMYChsRxAc4TIECAAAECBAgQIECAAAECBAgQKAgYEgstyUiAAAECBAgQIECAAAECBAgQIEBgLGBIHBfgPAECBAgQIECAAAECBAgQIECAAIGCgCGx0JKMBAgQIECAAAECBAgQIECAAAECBMYChsRxAc4TIECAAAECBAgQIECAAAECBAgQKAgYEgstyUiAAAECBAgQIECAAAECBAgQIEBgLGBIHBfgPAECBAgQIECAAAECBAgQIECAAIGCgCGx0JKMBAgQIECAAAECBAgQIECAAAECBMYChsRxAc4TIECAAAECBAgQIECAAAECBAgQKAgYEgstyUiAAAECBAgQIECAAAECBAgQIEBgLGBIHBfgPAECBAgQIECAAAECBAgQIECAAIGCgCGx0JKMBAgQIECAAAECBAgQIECAAAECBMYChsRxAc4TIECAAAECBAgQIECAAAECBAgQKAgYEgstyUiAAAECBAgQIECAAAECBAgQIEBgLGBIHBfgPAECBAgQIECAAAECBAgQIECAAIGCgCGx0JKMBAgQIECAAAECBAgQIECAAAECBMYChsRxAc4TIECAAAECBAgQIECAAAECBAgQKAgYEgstyUiAAAECBAgQIECAAAECBAgQIEBgLGBIHBfgPAECBAgQIECAAAECBAgQIECAAIGCgCGx0JKMBAgQIECAAAECBAgQIECAAAECBMYChsRxAc4TIECAAAECBAgQIECAAAECBAgQKAgYEgstyUiAAAECBAgQIECAAAECBAgQIEBgLGBIHBfgPAECBAgQIECAAAECBAgQIECAAIGCgCGx0JKMBAgQIECAAAECBAgQIECAAAECBMYChsRxAc4TIECAAAECBAgQIECAAAECBAgQKAgYEgstyUiAAAECBAgQIECAAAECBAgQIEBgLGBIHBfgPAECBAgQIECAAAECBAgQIECAAIGCgCGx0JKMBAgQIECAAAECBAgQIECAAAECBMYChsRxAc4TIECAAAECBAgQIECAAAECBAgQKAgYEgstyUiAAAECBAgQIECAAAECBAgQIEBgLGBIHBfgPAECBAgQIECAAAECBAgQIECAAIGCgCGx0JKMBAgQIECAAAECBAgQIECAAAECBMYChsRxAc4TIECAAAECBAgQIECAAAECBAgQKAgYEgstyUiAAAECBAgQIECAAAECBAgQIEBgLGBIHBfgPAECBAgQIECAAAECBAgQIECAAIGCgCGx0JKMBAgQIECAAAECBAgQIECAAAECBMYChsRxAc4TIECAAAECBAgQIECAAAECBAgQKAgYEgstyUiAAAECBAgQIECAAAECBAgQIEBgLGBIHBfgPAECBAgQIECAAAECBAgQIECAAIGCgCGx0JKMBAgQIECAAAECBAgQIECAAAECBMYChsRxAc4TIECAAAECBAgQIECAAAECBAgQKAgYEgstyUiAAAECBAgQIECAAAECBAgQIEBgLGBIHBfgPAECBAgQIECAAAECBAgQIECAAIGCgCGx0JKMBAgQIECAAAECBAgQIECAAAECBMYChsRxAc4TIECAAAECBAgQIECAAAECBAgQKAgYEgstyUiAAAECBAgQIECAAAECBAgQIEBgLGBIHBfgPAECBAgQIECAAAECBAgQIECAAIGCgCGx0JKMBAgQIECAAAECBAgQIECAAAECBMYChsRxAc4TIECAAAECBAgQIECAAAECBAgQKAgYEgstyUiAAAECBAgQIECAAAECBAgQIEBgLGBIHBfgPAECBAgQIECAAAECBAgQIECAAIGCgCGx0JKMBAgQIECAAAECBAgQIECAAAECBMYChsRxAc4TIECAAAECBAgQIECAAAECBAgQKAgYEgstyUiAAAECBAgQIECAAAECBAgQIEBgLGBIHBfgPAECBAgQIECAAAECBAgQIECAAIGCgCGx0JKMBAgQIECAAAECBAgQIECAAAECBMYChsRxAc4TIECAAAECBAgQIECAAAECBAgQKAgYEgstyUiAAAECBAgQIECAAAECBAgQIEBgLGBIHBfgPAECBAgQIECAAAECBAgQIECAAIGCgCGx0JKMBAgQIECAAAECBAgQIECAAAECBMYChsRxAc4TIECAAAECBAgQIECAAAECBAgQKAgYEgstyUiAAAECBAgQIECAAAECBAgQIEBgLGBIHBfgPAECBAgQIECAAAECBAgQIECAAIGCgCGx0JKMBAgQIECAAAECBAgQIECAAAECBMYChsRxAc4TIECAAAECBAgQIECAAAECBAgQKAgYEgstyUiAAAECBAgQIECAAAECBAgQIEBgLGBIHBfgPAECBAgQIECAAAECBAgQIECAAIGCgCGx0JKMBAgQIECAAAECBAgQIECAAAECBMYChsRxAc4TIECAAAECBAgQIECAAAECBAgQKAgYEgstyUiAAAECBAgQIECAAAECBAgQIEBgLGBIHBfgPAECBAgQIECAAAECBAgQIECAAIGCgCGx0JKMBAgQIECAAAECBAgQIECAAAECBMYChsRxAc4TIECAAAECBAgQIECAAAECBAgQKAgYEgstyUiAAAECBAgQIECAAAECBAgQIEBgLGBIHBfgPAECBAgQIECAAAECBAgQIECAAIGCgCGx0JKMBAgQIECAAAECBAgQIECAAAECBMYChsRxAc4TIECAAAECBAgQIECAAAECBAgQKAgYEgstyUiAAAECBAgQIECAAAECBAgQIEBgLGBIHBfgPAECBAgQIECAAAECBAgQIECAAIGCgCGx0JKMBAgQIECAAAECBAgQIECAAAECBMYChsRxAc4TIECAAAECBAgQIECAAAECBAgQKAgYEgstyUiAAAECBAgQIECAAAECBAgQIEBgLGBIHBfgPAECBAgQIECAAAECBAgQIECAAIGCgCGx0JKMBAgQIECAAAECBAgQIECAAAECBMYChsRxAc4TIECAAAECBAgQIECAAAECBAgQKAgYEgstyUiAAAECBAgQIECAAAECBAgQIEBgLGBIHBfgPAECBAgQIECAAAECBAgQIECAAIGCgCGx0JKMBAgQIECAAAECBAgQIECAAAECBMYChsRxAc4TIECAAAECBAgQIECAAAECBAgQKAgYEgstyUiAAAECBAgQIECAAAECBAgQIEBgLGBIHBfgPAECBAgQIECAAAECBAgQIECAAIGCgCGx0JKMBAgQIECAAAECBAgQIECAAAECBMYChsRxAc4TIECAAAECBAgQIECAAAECBAgQKAgYEgstyUiAAAECBAgQIECAAAECBAgQIEBgLGBIHBfgPAECBAgQIECAAAECBAgQIECAAIGCgCGx0JKMBAgQIECAAAECBAgQIECAAAECBMYChsRxAc4TIECAAAECBAgQIECAAAECBAgQKAgYEgstyUiAAAECBAgQIECAAAECBAgQIEBgLGBIHBfgPAECBAgQIECAAAECBAgQIECAAIGCgCGx0JKMBAgQIECAAAECBAgQIECAAAECBMYChsRxAc4TIECAAAECBAgQIECAAAECBAgQKAgYEgstyUiAAAECBAgQIECAAAECBAgQIEBgLGBIHBfgPAECBAgQIECAAAECBAgQIECAAIGCgCGx0JKMBAgQIECAAAECBAgQIECAAAECBMYChsRxAc4TIECAAAECBAgQIECAAAECBAgQKAgYEgstyUiAAAECBAgQIECAAAECBAgQIEBgLGBIHBfgPAECBAgQIECAAAECBAgQIECAAIGCgCGx0JKMBAgQIECAAAECBAgQIECAAAECBMYChsRxAc4TIECAAAECBAgQIECAAAECBAgQKAgYEgstyUiAAAECBAgQIECAAAECBAgQIEBgLGBIHBfgPAECBAgQIECAAAECBAgQIECAAIGCgCGx0JKMBAgQIECAAAECBAgQIECAAAECBMYChsRxAc4TIECAAAECBAgQIECAAAECBAgQKAgYEgstyUiAAAECBAgQIECAAAECBAgQIEBgLGBIHBfgPAECBAgQIECAAAECBAgQIECAAIGCgCGx0JKMBAgQIECAAAECBAgQIECAAAECBMYChsRxAc4TIECAAAECBAgQIECAAAECBAgQKAgYEgstyUiAAAECBAgQIECAAAECBAgQIEBgLGBIHBfgPAECBAgQIECAAAECBAgQIECAAIGCgCGx0JKMBAgQIECAAAECBAgQIECAAAECBMYChsRxAc4TIECAAAECBAgQIECAAAECBAgQKAgYEgstyUiAAAECBAgQIECAAAECBAgQIEBgLGBIHBfgPAECBAgQIECAAAECBAgQIECAAIGCgCGx0JKMBAgQIECAAAECBAgQIECAAAECBMYChsRxAc4TIECAAAECBAgQIECAAAECBAgQKAgYEgstyUiAAAECBAgQIECAAAECBAgQIEBgLGBIHBfgPAECBAgQIECAAAECBAgQIECAAIGCgCGx0JKMBAgQIECAAAECBAgQIECAAAECBMYChsRxAc4TIECAAAECBAgQIECAAAECBAgQKAgYEgstyUiAAAECBAgQIECAAAECBAgQIEBgLGBIHBfgPAECBAgQIECAAAECBAgQIECAAIGCgCGx0JKMBAgQIECAAAECBAgQIECAAAECBMYChsRxAc4TIECAAAECBAgQIECAAAECBAgQKAgYEgstyUiAAAECBAgQIECAAAECBAgQIEBgLGBIHBfgPAECBAgQIECAAAECBAgQIECAAIGCgCGx0JKMBAgQIECAAAECBAgQIECAAAECBMYChsRxAc4TIECAAAECBAgQIECAAAECBAgQKAgYEgstyUiAAAECBAgQIECAAAECBAgQIEBgLGBIHBfgPAECBAgQIECAAAECBAgQIECAAIGCgCGx0JKMBAgQIECAAAECBAgQIECAAAECBMYChsRxAc4TIECAAAECBAgQIECAAAECBAgQKAgYEgstyUiAAAECBAgQIECAAAECBAgQIEBgLGBIHBfgPAECBAgQIECAAAECBAgQIECAAIGCgCGx0JKMBAgQIECAAAECBAgQIECAAAECBMYChsRxAc4TIECAAAECBAgQIECAAAECBAgQKAgYEgstyUiAAAECBAgQIECAAAECBAgQIEBgLGBIHBfgPAECBAgQIECAAAECBAgQIECAAIGCgCGx0JKMBAgQIECAAAECBAgQIECAAAECBMYChsRxAc4TIECAAAECBAgQIECAAAECBAgQKAgYEgstyUiAAAECBAgQIECAAAECBAgQIEBgLGBIHBfgPAECBAgQIECAAAECBAgQIECAAIGCgCGx0JKMBAgQIECAAAECBAgQIECAAAECBMYChsRxAc4TIECAAAECBAgQIECAAAECBAgQKAgYEgstyUiAAAECBAgQIECAAAECBAgQIEBgLGBIHBfgPAECBAgQIECAAAECBAgQIECAAIGCgCGx0JKMBAgQIECAAAECBAgQIECAAAECBMYChsRxAc4TIECAAAECBAgQIECAAAECBAgQKAgYEgstyUiAAAECBAgQIECAAAECBAgQIEBgLGBIHBfgPAECBAgQIECAAAECBAgQIECAAIGCgCGx0JKMBAgQIECAAAECBAgQIECAAAECBMYChsRxAc4TIECAAAECBAgQIECAAAECBAgQKAgYEgstyUiAAAECBAgQIECAAAECBAgQIEBgLGBIHBfgPAECBAgQIECAAAECBAgQIECAAIGCgCGx0JKMBAgQIECAAAECBAgQIECAAAECBMYChsRxAc4TIECAAAECBAgQIECAAAECBAgQKAgYEgstyUiAAAECBAgQIECAAAECBAgQIEBgLGBIHBfgPAECBAgQIECAAAECBAgQIECAAIGCgCGx0JKMBAgQIECAAAECBAgQIECAAAECBMYChsRxAc4TIECAAAECBAgQIECAAAECBAgQKAgYEgstyUiAAAECBAgQIECAAAECBAgQIEBgLGBIHBfgPAECBAgQIECAAAECBAgQIECAAIGCgCGx0JKMBAgQIECAAAECBAgQIECAAAECBMYChsRxAc4TIECAAAECBAgQIECAAAECBAgQKAgYEgstyUiAAAECBAgQIECAAAECBAgQIEBgLGBIHBfgPAECBAgQIECAAAECBAgQIECAAIGCgCGx0JKMBAgQIECAAAECBAgQIECAAAECBMYChsRxAc4TIECAAAECBAgQIECAAAECBAgQKAgYEgstyUiAAAECBAgQIECAAAECBAgQIEBgLGBIHBfgPAECBAgQIECAAAECBAgQIECAAIGCgCGx0JKMBAgQIECAAAECBAgQIECAAAECBMYChsRxAc4TIECANk8WuAAAB61JREFUAAECBAgQIECAAAECBAgQKAgYEgstyUiAAAECBAgQIECAAAECBAgQIEBgLGBIHBfgPAECBAgQIECAAAECBAgQIECAAIGCgCGx0JKMBAgQIECAAAECBAgQIECAAAECBMYChsRxAc4TIECAAAECBAgQIECAAAECBAgQKAgYEgstyUiAAAECBAgQIECAAAECBAgQIEBgLGBIHBfgPAECBAgQIECAAAECBAgQIECAAIGCgCGx0JKMBAgQIECAAAECBAgQIECAAAECBMYChsRxAc4TIECAAAECBAgQIECAAAECBAgQKAgYEgstyUiAAAECBAgQIECAAAECBAgQIEBgLGBIHBfgPAECBAgQIECAAAECBAgQIECAAIGCgCGx0JKMBAgQIECAAAECBAgQIECAAAECBMYChsRxAc4TIECAAAECBAgQIECAAAECBAgQKAgYEgstyUiAAAECBAgQIECAAAECBAgQIEBgLGBIHBfgPAECBAgQIECAAAECBAgQIECAAIGCgCGx0JKMBAgQIECAAAECBAgQIECAAAECBMYChsRxAc4TIECAAAECBAgQIECAAAECBAgQKAgYEgstyUiAAAECBAgQIECAAAECBAgQIEBgLGBIHBfgPAECBAgQIECAAAECBAgQIECAAIGCgCGx0JKMBAgQIECAAAECBAgQIECAAAECBMYChsRxAc4TIECAAAECBAgQIECAAAECBAgQKAgYEgstyUiAAAECBAgQIECAAAECBAgQIEBgLGBIHBfgPAECBAgQIECAAAECBAgQIECAAIGCgCGx0JKMBAgQIECAAAECBAgQIECAAAECBMYChsRxAc4TIECAAAECBAgQIECAAAECBAgQKAgYEgstyUiAAAECBAgQIECAAAECBAgQIEBgLGBIHBfgPAECBAgQIECAAAECBAgQIECAAIGCgCGx0JKMBAgQIECAAAECBAgQIECAAAECBMYChsRxAc4TIECAAAECBAgQIECAAAECBAgQKAgYEgstyUiAAAECBAgQIECAAAECBAgQIEBgLGBIHBfgPAECBAgQIECAAAECBAgQIECAAIGCgCGx0JKMBAgQIECAAAECBAgQIECAAAECBMYChsRxAc4TIECAAAECBAgQIECAAAECBAgQKAgYEgstyUiAAAECBAgQIECAAAECBAgQIEBgLGBIHBfgPAECBAgQIECAAAECBAgQIECAAIGCgCGx0JKMBAgQIECAAAECBAgQIECAAAECBMYChsRxAc4TIECAAAECBAgQIECAAAECBAgQKAgYEgstyUiAAAECBAgQIECAAAECBAgQIEBgLGBIHBfgPAECBAgQIECAAAECBAgQIECAAIGCgCGx0JKMBAgQIECAAAECBAgQIECAAAECBMYChsRxAc4TIECAAAECBAgQIECAAAECBAgQKAgYEgstyUiAAAECBAgQIECAAAECBAgQIEBgLGBIHBfgPAECBAgQIECAAAECBAgQIECAAIGCgCGx0JKMBAgQIECAAAECBAgQIECAAAECBMYChsRxAc4TIECAAAECBAgQIECAAAECBAgQKAgYEgstyUiAAAECBAgQIECAAAECBAgQIEBgLGBIHBfgPAECBAgQIECAAAECBAgQIECAAIGCgCGx0JKMBAgQIECAAAECBAgQIECAAAECBMYChsRxAc4TIECAAAECBAgQIECAAAECBAgQKAgYEgstyUiAAAECBAgQIECAAAECBAgQIEBgLGBIHBfgPAECBAgQIECAAAECBAgQIECAAIGCgCGx0JKMBAgQIECAAAECBAgQIECAAAECBMYChsRxAc4TIECAAAECBAgQIECAAAECBAgQKAgYEgstyUiAAAECBAgQIECAAAECBAgQIEBgLGBIHBfgPAECBAgQIECAAAECBAgQIECAAIGCgCGx0JKMBAgQIECAAAECBAgQIECAAAECBMYChsRxAc4TIECAAAECBAgQIECAAAECBAgQKAgYEgstyUiAAAECBAgQIECAAAECBAgQIEBgLGBIHBfgPAECBAgQIECAAAECBAgQIECAAIGCgCGx0JKMBAgQIECAAAECBAgQIECAAAECBMYChsRxAc4TIECAAAECBAgQIECAAAECBAgQKAgYEgstyUiAAAECBAgQIECAAAECBAgQIEBgLGBIHBfgPAECBAgQIECAAAECBAgQIECAAIGCgCGx0JKMBAgQIECAAAECBAgQIECAAAECBMYChsRxAc4TIECAAAECBAgQIECAAAECBAgQKAgYEgstyUiAAAECBAgQIECAAAECBAgQIEBgLGBIHBfgPAECBAgQIECAAAECBAgQIECAAIGCgCGx0JKMBAgQIECAAAECBAgQIECAAAECBMYChsRxAc4TIECAAAECBAgQIECAAAECBAgQKAgYEgstyUiAAAECBAgQIECAAAECBAgQIEBgLGBIHBfgPAECBAgQIECAAAECBAgQIECAAIGCgCGx0JKMBAgQIECAAAECBAgQIECAAAECBMYChsRxAc4TIECAAAECBAgQIECAAAECBAgQKAgYEgstyUiAAAECBAgQIECAAAECBAgQIEBgLGBIHBfgPAECBAgQIECAAAECBAgQIECAAIGCwH/Wl/0M3EiC4gAAAABJRU5ErkJggg==\" width=\"910.8772234624636\">"
      ],
      "text/plain": [
       "<IPython.core.display.HTML object>"
      ]
     },
     "metadata": {},
     "output_type": "display_data"
    }
   ],
   "source": [
    "%matplotlib notebook\n",
    "n = 100\n",
    "x1 = np.random.randn(n)\n",
    "x2 = np.random.randn(n)\n",
    "\n",
    "y = 1 + x1 + x2 + np.random.randn(n)*0.3\n",
    "\n",
    "fig = plt.figure()\n",
    "ax = fig.add_subplot(projection='3d')\n",
    "ax.scatter(x1, x2, y)\n",
    "plt.show()"
   ]
  },
  {
   "cell_type": "code",
   "execution_count": 3,
   "id": "dd4e4f85",
   "metadata": {},
   "outputs": [],
   "source": [
    "%matplotlib inline"
   ]
  },
  {
   "cell_type": "markdown",
   "id": "8a605806",
   "metadata": {},
   "source": [
    "Here we plot 3 2D projections of the 3d data"
   ]
  },
  {
   "cell_type": "code",
   "execution_count": 4,
   "id": "6b013569",
   "metadata": {},
   "outputs": [
    {
     "data": {
      "image/png": "[encoded data removed]",
      "text/plain": [
       "<Figure size 864x216 with 3 Axes>"
      ]
     },
     "metadata": {
      "needs_background": "light"
     },
     "output_type": "display_data"
    }
   ],
   "source": [
    "fig, axs = plt.subplots(1, 3, figsize=(12, 3), tight_layout=True)\n",
    "i = 1\n",
    "for ax, x in zip(axs, [x1, x2]):\n",
    "    ax.scatter(x=x, y=y)\n",
    "    ax.set_xlabel(f'X{i}')\n",
    "    ax.set_ylabel('Y')\n",
    "    i += 1\n",
    "\n",
    "ax1 = axs[2]\n",
    "ax1.scatter(x=x1, y=x2)\n",
    "ax1.set_xlabel('X1')\n",
    "ax1.set_ylabel('X2')\n",
    "plt.show()"
   ]
  },
  {
   "cell_type": "code",
   "execution_count": 5,
   "id": "44b42d07",
   "metadata": {},
   "outputs": [],
   "source": [
    "# Get the residuals after regressing y to x\n",
    "def get_residuals(x, y):\n",
    "    fit = linregress(x, y)\n",
    "    m = fit.slope\n",
    "    b = fit.intercept\n",
    "    y_hat = m*x + b\n",
    "\n",
    "    residuals = y - y_hat\n",
    "    \n",
    "    return residuals"
   ]
  },
  {
   "cell_type": "markdown",
   "id": "964251ae",
   "metadata": {},
   "source": [
    "Here we compute the coefficients by removing the effect of each varfiable from the response and the other explanatory variable. Ex: To compute $\\beta_1$ we remove the effect of X2 from X1 and Y, i.e., regress to X2 and take the residuals, and then regress the residuals of Y to the residuals of X1."
   ]
  },
  {
   "cell_type": "code",
   "execution_count": 6,
   "id": "82adbfd7",
   "metadata": {},
   "outputs": [
    {
     "data": {
      "image/png": "[encoded data removed]",
      "text/plain": [
       "<Figure size 720x288 with 2 Axes>"
      ]
     },
     "metadata": {
      "needs_background": "light"
     },
     "output_type": "display_data"
    }
   ],
   "source": [
    "fig, axs = plt.subplots(1, 2, figsize=(10, 4))\n",
    "\n",
    "# Removing X2 effect from Y and X1 to get Beta1\n",
    "y_res = get_residuals(x2, y)\n",
    "x1_res = get_residuals(x2, x1)\n",
    "fit = linregress(x1_res, y_res)\n",
    "ax0 = axs[0]\n",
    "ax0.scatter(x=x1_res, y=y_res)\n",
    "ax0.set_title(f'Beta 1: {fit.slope:.3f}')\n",
    "ax0.set_xlabel('X1 | X2')\n",
    "ax0.set_ylabel('Y | X2')\n",
    "\n",
    "# Removing X1 effect from Y and X2 to get Beta2\n",
    "y_res = get_residuals(x1, y)\n",
    "x2_res = get_residuals(x1, x2)\n",
    "fit = linregress(x2_res, y_res)\n",
    "ax1 = axs[1]\n",
    "ax1.scatter(x=x2_res, y=y_res)\n",
    "ax1.set_title(f'Beta 2: {fit.slope:.3f}')\n",
    "ax1.set_xlabel('X2 | X1')\n",
    "ax1.set_ylabel('Y | X1')\n",
    "plt.show()"
   ]
  },
  {
   "cell_type": "markdown",
   "id": "ee3a4d91",
   "metadata": {},
   "source": [
    "Comparing the manally computed coefficents to `scikit-learn` LinearRegression"
   ]
  },
  {
   "cell_type": "code",
   "execution_count": 7,
   "id": "50430020",
   "metadata": {},
   "outputs": [
    {
     "name": "stdout",
     "output_type": "stream",
     "text": [
      "Coefficients: [1.0301663  0.92143884]\n",
      "Intercept: 1.0303114076022282\n"
     ]
    }
   ],
   "source": [
    "# Fitting maltivariable linear regression model\n",
    "\n",
    "X = np.array([x1, x2]).T\n",
    "mlr_fit = LinearRegression()\n",
    "mlr_fit.fit(X, y)\n",
    "\n",
    "print(f'Coefficients: {mlr_fit.coef_}')\n",
    "print(f'Intercept: {mlr_fit.intercept_}')"
   ]
  },
  {
   "cell_type": "markdown",
   "id": "70ddaa2d",
   "metadata": {},
   "source": [
    "## Simpson's Paradox and Confounding Variables\n",
    "See [this](https://www.youtube.com/watch?v=SFPM9IuP2m8&list=PLpl-gQkQivXjqHAJd2t-J_One_fYE55tC&index=2) video on adjustment and chapter \"Adjustment\"."
   ]
  },
  {
   "cell_type": "code",
   "execution_count": 8,
   "id": "9dd366bb",
   "metadata": {},
   "outputs": [],
   "source": [
    "x1 = np.linspace(1, 100, 100)\n",
    "x2 = 0.1 * x1 + np.random.randn(100)\n",
    "y = x1 - x2 + np.random.randn(100)*3\n",
    "\n",
    "X = np.array([x1, x2]).T"
   ]
  },
  {
   "cell_type": "markdown",
   "id": "522d86c1",
   "metadata": {},
   "source": [
    "We first fit a linear model using X2 only. Notice that the coefficient is positive whereas in reality it should be -1."
   ]
  },
  {
   "cell_type": "code",
   "execution_count": 9,
   "id": "57e073d2",
   "metadata": {},
   "outputs": [
    {
     "data": {
      "text/plain": [
       "array([7.8355136])"
      ]
     },
     "execution_count": 9,
     "metadata": {},
     "output_type": "execute_result"
    }
   ],
   "source": [
    "# Fitting a linear model using X2 only\n",
    "lr=  LinearRegression().fit(x2.reshape(-1, 1), y)\n",
    "lr.coef_"
   ]
  },
  {
   "cell_type": "markdown",
   "id": "e5c59ef4",
   "metadata": {},
   "source": [
    "When we fit a model using both variables we get approximately the true coefficients."
   ]
  },
  {
   "cell_type": "code",
   "execution_count": 10,
   "id": "acdcd0c8",
   "metadata": {},
   "outputs": [
    {
     "data": {
      "text/plain": [
       "array([ 0.9717179 , -0.84568431])"
      ]
     },
     "execution_count": 10,
     "metadata": {},
     "output_type": "execute_result"
    }
   ],
   "source": [
    "# Fitting a linear model using both variables\n",
    "lr = LinearRegression().fit(X, y)\n",
    "lr.coef_"
   ]
  },
  {
   "cell_type": "code",
   "execution_count": 11,
   "id": "5eb23162",
   "metadata": {},
   "outputs": [
    {
     "data": {
      "text/plain": [
       "array([ 0.39609632,  0.9717179 , -0.84568431])"
      ]
     },
     "execution_count": 11,
     "metadata": {},
     "output_type": "execute_result"
    }
   ],
   "source": [
    "X_sm = sm.add_constant(X)\n",
    "mod = sm.OLS(y, X_sm)\n",
    "mod = mod.fit()\n",
    "mod.params"
   ]
  },
  {
   "cell_type": "code",
   "execution_count": 12,
   "id": "c98cfb01",
   "metadata": {},
   "outputs": [
    {
     "data": {
      "image/png": "[encoded data removed]",
      "text/plain": [
       "<Figure size 432x288 with 2 Axes>"
      ]
     },
     "metadata": {
      "needs_background": "light"
     },
     "output_type": "display_data"
    }
   ],
   "source": [
    "plt.scatter(x=x2, y=y, c=x1)\n",
    "plt.colorbar(label='X2')\n",
    "plt.xlabel('X1')\n",
    "plt.ylabel('Y')\n",
    "plt.show()"
   ]
  },
  {
   "cell_type": "markdown",
   "id": "99a65cf2",
   "metadata": {},
   "source": [
    "After removing X1 from X2 and Y, we get the real negative relationship between X2 and Y"
   ]
  },
  {
   "cell_type": "code",
   "execution_count": 13,
   "id": "32bd857b",
   "metadata": {},
   "outputs": [
    {
     "data": {
      "image/png": "[encoded data removed]",
      "text/plain": [
       "<Figure size 432x288 with 2 Axes>"
      ]
     },
     "metadata": {
      "needs_background": "light"
     },
     "output_type": "display_data"
    }
   ],
   "source": [
    "y_res = get_residuals(x1, y)\n",
    "x2_res = get_residuals(x1, x2)\n",
    "plt.scatter(x=x2_res, y=y_res, c=x2)\n",
    "fit = linregress(x2_res, y_res)\n",
    "x_fit = np.linspace(x2_res.min(), x2_res.max(), 10)\n",
    "y_fit = fit.slope * x_fit + fit.intercept\n",
    "plt.plot(x_fit, y_fit, color='black')\n",
    "plt.colorbar()\n",
    "plt.show()"
   ]
  },
  {
   "cell_type": "markdown",
   "id": "4a0ecc2b",
   "metadata": {},
   "source": [
    "This demonstrates the importance of choosing the right variables. Using only X2, we would have concluded that X2 positively correlates (or maybe causes) Y, when in reality they are negatively correlated. X1 is a confounding variable, i.e., it influences both the target variable and the independent variable. [See Wikipedia](https://en.wikipedia.org/wiki/Confounding)"
   ]
  },
  {
   "cell_type": "markdown",
   "id": "d5581b5b",
   "metadata": {},
   "source": [
    "### Regressing Dummy Variables\n",
    "Dummy variables are binary variables, i.e., take the values 0 or 1 only.\n",
    "\n",
    "We use the Insect Sprays dataset which counts the number of killed insects using different types of sprays."
   ]
  },
  {
   "cell_type": "code",
   "execution_count": 16,
   "id": "2a2ce75d",
   "metadata": {},
   "outputs": [
    {
     "data": {
      "text/html": [
       "<div>\n",
       "<style scoped>\n",
       "    .dataframe tbody tr th:only-of-type {\n",
       "        vertical-align: middle;\n",
       "    }\n",
       "\n",
       "    .dataframe tbody tr th {\n",
       "        vertical-align: top;\n",
       "    }\n",
       "\n",
       "    .dataframe thead th {\n",
       "        text-align: right;\n",
       "    }\n",
       "</style>\n",
       "<table border=\"1\" class=\"dataframe\">\n",
       "  <thead>\n",
       "    <tr style=\"text-align: right;\">\n",
       "      <th></th>\n",
       "      <th>count</th>\n",
       "      <th>spray</th>\n",
       "    </tr>\n",
       "  </thead>\n",
       "  <tbody>\n",
       "    <tr>\n",
       "      <th>1</th>\n",
       "      <td>10</td>\n",
       "      <td>A</td>\n",
       "    </tr>\n",
       "    <tr>\n",
       "      <th>2</th>\n",
       "      <td>7</td>\n",
       "      <td>A</td>\n",
       "    </tr>\n",
       "  </tbody>\n",
       "</table>\n",
       "</div>"
      ],
      "text/plain": [
       "   count spray\n",
       "1     10     A\n",
       "2      7     A"
      ]
     },
     "execution_count": 16,
     "metadata": {},
     "output_type": "execute_result"
    }
   ],
   "source": [
    "# Loading the insect spray dataset\n",
    "df = pd.read_csv('data/InsectSprays.csv', index_col=[0])\n",
    "df.head(2)"
   ]
  },
  {
   "cell_type": "code",
   "execution_count": 17,
   "id": "e578bcef",
   "metadata": {},
   "outputs": [],
   "source": [
    "# Creating dummy variable columns for each spray\n",
    "df = pd.concat([df, pd.get_dummies(df['spray'])], axis=1)"
   ]
  },
  {
   "cell_type": "code",
   "execution_count": 18,
   "id": "89bb738b",
   "metadata": {},
   "outputs": [
    {
     "data": {
      "image/png": "[encoded data removed]",
      "text/plain": [
       "<Figure size 432x288 with 1 Axes>"
      ]
     },
     "metadata": {
      "needs_background": "light"
     },
     "output_type": "display_data"
    }
   ],
   "source": [
    "df[['count', 'spray']].boxplot(column='count', by='spray')\n",
    "plt.title(None)\n",
    "plt.show()"
   ]
  },
  {
   "cell_type": "markdown",
   "id": "4e68b48e",
   "metadata": {},
   "source": [
    "First we fit a model to predict the number of killed insects without an intercept. In this case, each coefficient is the mean of the corresponding spray, and the t-test tests the null hypothesis that the number of killed insects is 0."
   ]
  },
  {
   "cell_type": "code",
   "execution_count": 19,
   "id": "c3198beb",
   "metadata": {},
   "outputs": [
    {
     "data": {
      "text/html": [
       "<table class=\"simpletable\">\n",
       "<caption>OLS Regression Results</caption>\n",
       "<tr>\n",
       "  <th>Dep. Variable:</th>          <td>count</td>      <th>  R-squared:         </th> <td>   0.724</td>\n",
       "</tr>\n",
       "<tr>\n",
       "  <th>Model:</th>                   <td>OLS</td>       <th>  Adj. R-squared:    </th> <td>   0.704</td>\n",
       "</tr>\n",
       "<tr>\n",
       "  <th>Method:</th>             <td>Least Squares</td>  <th>  F-statistic:       </th> <td>   34.70</td>\n",
       "</tr>\n",
       "<tr>\n",
       "  <th>Date:</th>             <td>Fri, 01 Jul 2022</td> <th>  Prob (F-statistic):</th> <td>3.18e-17</td>\n",
       "</tr>\n",
       "<tr>\n",
       "  <th>Time:</th>                 <td>21:54:17</td>     <th>  Log-Likelihood:    </th> <td> -197.42</td>\n",
       "</tr>\n",
       "<tr>\n",
       "  <th>No. Observations:</th>      <td>    72</td>      <th>  AIC:               </th> <td>   406.8</td>\n",
       "</tr>\n",
       "<tr>\n",
       "  <th>Df Residuals:</th>          <td>    66</td>      <th>  BIC:               </th> <td>   420.5</td>\n",
       "</tr>\n",
       "<tr>\n",
       "  <th>Df Model:</th>              <td>     5</td>      <th>                     </th>     <td> </td>   \n",
       "</tr>\n",
       "<tr>\n",
       "  <th>Covariance Type:</th>      <td>nonrobust</td>    <th>                     </th>     <td> </td>   \n",
       "</tr>\n",
       "</table>\n",
       "<table class=\"simpletable\">\n",
       "<tr>\n",
       "  <td></td>     <th>coef</th>     <th>std err</th>      <th>t</th>      <th>P>|t|</th>  <th>[0.025</th>    <th>0.975]</th>  \n",
       "</tr>\n",
       "<tr>\n",
       "  <th>A</th> <td>   14.5000</td> <td>    1.132</td> <td>   12.807</td> <td> 0.000</td> <td>   12.240</td> <td>   16.760</td>\n",
       "</tr>\n",
       "<tr>\n",
       "  <th>B</th> <td>   15.3333</td> <td>    1.132</td> <td>   13.543</td> <td> 0.000</td> <td>   13.073</td> <td>   17.594</td>\n",
       "</tr>\n",
       "<tr>\n",
       "  <th>C</th> <td>    2.0833</td> <td>    1.132</td> <td>    1.840</td> <td> 0.070</td> <td>   -0.177</td> <td>    4.344</td>\n",
       "</tr>\n",
       "<tr>\n",
       "  <th>D</th> <td>    4.9167</td> <td>    1.132</td> <td>    4.343</td> <td> 0.000</td> <td>    2.656</td> <td>    7.177</td>\n",
       "</tr>\n",
       "<tr>\n",
       "  <th>E</th> <td>    3.5000</td> <td>    1.132</td> <td>    3.091</td> <td> 0.003</td> <td>    1.240</td> <td>    5.760</td>\n",
       "</tr>\n",
       "<tr>\n",
       "  <th>F</th> <td>   16.6667</td> <td>    1.132</td> <td>   14.721</td> <td> 0.000</td> <td>   14.406</td> <td>   18.927</td>\n",
       "</tr>\n",
       "</table>\n",
       "<table class=\"simpletable\">\n",
       "<tr>\n",
       "  <th>Omnibus:</th>       <td> 3.201</td> <th>  Durbin-Watson:     </th> <td>   1.753</td>\n",
       "</tr>\n",
       "<tr>\n",
       "  <th>Prob(Omnibus):</th> <td> 0.202</td> <th>  Jarque-Bera (JB):  </th> <td>   2.421</td>\n",
       "</tr>\n",
       "<tr>\n",
       "  <th>Skew:</th>          <td> 0.411</td> <th>  Prob(JB):          </th> <td>   0.298</td>\n",
       "</tr>\n",
       "<tr>\n",
       "  <th>Kurtosis:</th>      <td> 3.360</td> <th>  Cond. No.          </th> <td>    1.00</td>\n",
       "</tr>\n",
       "</table><br/><br/>Notes:<br/>[1] Standard Errors assume that the covariance matrix of the errors is correctly specified."
      ],
      "text/plain": [
       "<class 'statsmodels.iolib.summary.Summary'>\n",
       "\"\"\"\n",
       "                            OLS Regression Results                            \n",
       "==============================================================================\n",
       "Dep. Variable:                  count   R-squared:                       0.724\n",
       "Model:                            OLS   Adj. R-squared:                  0.704\n",
       "Method:                 Least Squares   F-statistic:                     34.70\n",
       "Date:                Fri, 01 Jul 2022   Prob (F-statistic):           3.18e-17\n",
       "Time:                        21:54:17   Log-Likelihood:                -197.42\n",
       "No. Observations:                  72   AIC:                             406.8\n",
       "Df Residuals:                      66   BIC:                             420.5\n",
       "Df Model:                           5                                         \n",
       "Covariance Type:            nonrobust                                         \n",
       "==============================================================================\n",
       "                 coef    std err          t      P>|t|      [0.025      0.975]\n",
       "------------------------------------------------------------------------------\n",
       "A             14.5000      1.132     12.807      0.000      12.240      16.760\n",
       "B             15.3333      1.132     13.543      0.000      13.073      17.594\n",
       "C              2.0833      1.132      1.840      0.070      -0.177       4.344\n",
       "D              4.9167      1.132      4.343      0.000       2.656       7.177\n",
       "E              3.5000      1.132      3.091      0.003       1.240       5.760\n",
       "F             16.6667      1.132     14.721      0.000      14.406      18.927\n",
       "==============================================================================\n",
       "Omnibus:                        3.201   Durbin-Watson:                   1.753\n",
       "Prob(Omnibus):                  0.202   Jarque-Bera (JB):                2.421\n",
       "Skew:                           0.411   Prob(JB):                        0.298\n",
       "Kurtosis:                       3.360   Cond. No.                         1.00\n",
       "==============================================================================\n",
       "\n",
       "Notes:\n",
       "[1] Standard Errors assume that the covariance matrix of the errors is correctly specified.\n",
       "\"\"\""
      ]
     },
     "execution_count": 19,
     "metadata": {},
     "output_type": "execute_result"
    }
   ],
   "source": [
    "# Fitting a linear model to the data\n",
    "X = df[['A', 'B', 'C', 'D', 'E', 'F']]\n",
    "y = df['count']\n",
    "\n",
    "fit = sm.OLS(y, X)\n",
    "fit = fit.fit()\n",
    "fit.summary()"
   ]
  },
  {
   "cell_type": "code",
   "execution_count": 20,
   "id": "a293cafb",
   "metadata": {},
   "outputs": [
    {
     "data": {
      "text/html": [
       "<div>\n",
       "<style scoped>\n",
       "    .dataframe tbody tr th:only-of-type {\n",
       "        vertical-align: middle;\n",
       "    }\n",
       "\n",
       "    .dataframe tbody tr th {\n",
       "        vertical-align: top;\n",
       "    }\n",
       "\n",
       "    .dataframe thead th {\n",
       "        text-align: right;\n",
       "    }\n",
       "</style>\n",
       "<table border=\"1\" class=\"dataframe\">\n",
       "  <thead>\n",
       "    <tr style=\"text-align: right;\">\n",
       "      <th></th>\n",
       "      <th>count</th>\n",
       "    </tr>\n",
       "    <tr>\n",
       "      <th>spray</th>\n",
       "      <th></th>\n",
       "    </tr>\n",
       "  </thead>\n",
       "  <tbody>\n",
       "    <tr>\n",
       "      <th>A</th>\n",
       "      <td>14.500000</td>\n",
       "    </tr>\n",
       "    <tr>\n",
       "      <th>B</th>\n",
       "      <td>15.333333</td>\n",
       "    </tr>\n",
       "    <tr>\n",
       "      <th>C</th>\n",
       "      <td>2.083333</td>\n",
       "    </tr>\n",
       "    <tr>\n",
       "      <th>D</th>\n",
       "      <td>4.916667</td>\n",
       "    </tr>\n",
       "    <tr>\n",
       "      <th>E</th>\n",
       "      <td>3.500000</td>\n",
       "    </tr>\n",
       "    <tr>\n",
       "      <th>F</th>\n",
       "      <td>16.666667</td>\n",
       "    </tr>\n",
       "  </tbody>\n",
       "</table>\n",
       "</div>"
      ],
      "text/plain": [
       "           count\n",
       "spray           \n",
       "A      14.500000\n",
       "B      15.333333\n",
       "C       2.083333\n",
       "D       4.916667\n",
       "E       3.500000\n",
       "F      16.666667"
      ]
     },
     "execution_count": 20,
     "metadata": {},
     "output_type": "execute_result"
    }
   ],
   "source": [
    "# Mean count of each spray\n",
    "df.groupby('spray').mean()[['count']]"
   ]
  },
  {
   "cell_type": "markdown",
   "id": "27139327",
   "metadata": {},
   "source": [
    "Next, we fit the model using an intercept and we omit one of the dummy variables to avoid multicollinearity. The omitted spray would be represented by the intercept and all other values are changes from this spray. Thus, this spray is now the reference spray. Furthermore, all conducted t-tests test the null hypothesis that the mean count of kills for each sprays equals that of the reference spray. The t-test of the reference spray, i.e., the intercept tests the null hypothesis that its kill counts is 0."
   ]
  },
  {
   "cell_type": "code",
   "execution_count": 21,
   "id": "e9f2ff3d",
   "metadata": {},
   "outputs": [
    {
     "data": {
      "text/html": [
       "<table class=\"simpletable\">\n",
       "<caption>OLS Regression Results</caption>\n",
       "<tr>\n",
       "  <th>Dep. Variable:</th>            <td>y</td>        <th>  R-squared:         </th> <td>   0.724</td>\n",
       "</tr>\n",
       "<tr>\n",
       "  <th>Model:</th>                   <td>OLS</td>       <th>  Adj. R-squared:    </th> <td>   0.704</td>\n",
       "</tr>\n",
       "<tr>\n",
       "  <th>Method:</th>             <td>Least Squares</td>  <th>  F-statistic:       </th> <td>   34.70</td>\n",
       "</tr>\n",
       "<tr>\n",
       "  <th>Date:</th>             <td>Fri, 01 Jul 2022</td> <th>  Prob (F-statistic):</th> <td>3.18e-17</td>\n",
       "</tr>\n",
       "<tr>\n",
       "  <th>Time:</th>                 <td>21:54:43</td>     <th>  Log-Likelihood:    </th> <td> -197.42</td>\n",
       "</tr>\n",
       "<tr>\n",
       "  <th>No. Observations:</th>      <td>    72</td>      <th>  AIC:               </th> <td>   406.8</td>\n",
       "</tr>\n",
       "<tr>\n",
       "  <th>Df Residuals:</th>          <td>    66</td>      <th>  BIC:               </th> <td>   420.5</td>\n",
       "</tr>\n",
       "<tr>\n",
       "  <th>Df Model:</th>              <td>     5</td>      <th>                     </th>     <td> </td>   \n",
       "</tr>\n",
       "<tr>\n",
       "  <th>Covariance Type:</th>      <td>nonrobust</td>    <th>                     </th>     <td> </td>   \n",
       "</tr>\n",
       "</table>\n",
       "<table class=\"simpletable\">\n",
       "<tr>\n",
       "    <td></td>       <th>coef</th>     <th>std err</th>      <th>t</th>      <th>P>|t|</th>  <th>[0.025</th>    <th>0.975]</th>  \n",
       "</tr>\n",
       "<tr>\n",
       "  <th>const</th> <td>   15.3333</td> <td>    1.132</td> <td>   13.543</td> <td> 0.000</td> <td>   13.073</td> <td>   17.594</td>\n",
       "</tr>\n",
       "<tr>\n",
       "  <th>A</th>     <td>   -0.8333</td> <td>    1.601</td> <td>   -0.520</td> <td> 0.604</td> <td>   -4.030</td> <td>    2.363</td>\n",
       "</tr>\n",
       "<tr>\n",
       "  <th>C</th>     <td>  -13.2500</td> <td>    1.601</td> <td>   -8.276</td> <td> 0.000</td> <td>  -16.447</td> <td>  -10.053</td>\n",
       "</tr>\n",
       "<tr>\n",
       "  <th>D</th>     <td>  -10.4167</td> <td>    1.601</td> <td>   -6.506</td> <td> 0.000</td> <td>  -13.613</td> <td>   -7.220</td>\n",
       "</tr>\n",
       "<tr>\n",
       "  <th>E</th>     <td>  -11.8333</td> <td>    1.601</td> <td>   -7.391</td> <td> 0.000</td> <td>  -15.030</td> <td>   -8.637</td>\n",
       "</tr>\n",
       "<tr>\n",
       "  <th>F</th>     <td>    1.3333</td> <td>    1.601</td> <td>    0.833</td> <td> 0.408</td> <td>   -1.863</td> <td>    4.530</td>\n",
       "</tr>\n",
       "</table>\n",
       "<table class=\"simpletable\">\n",
       "<tr>\n",
       "  <th>Omnibus:</th>       <td> 3.201</td> <th>  Durbin-Watson:     </th> <td>   1.753</td>\n",
       "</tr>\n",
       "<tr>\n",
       "  <th>Prob(Omnibus):</th> <td> 0.202</td> <th>  Jarque-Bera (JB):  </th> <td>   2.421</td>\n",
       "</tr>\n",
       "<tr>\n",
       "  <th>Skew:</th>          <td> 0.411</td> <th>  Prob(JB):          </th> <td>   0.298</td>\n",
       "</tr>\n",
       "<tr>\n",
       "  <th>Kurtosis:</th>      <td> 3.360</td> <th>  Cond. No.          </th> <td>    6.85</td>\n",
       "</tr>\n",
       "</table><br/><br/>Notes:<br/>[1] Standard Errors assume that the covariance matrix of the errors is correctly specified."
      ],
      "text/plain": [
       "<class 'statsmodels.iolib.summary.Summary'>\n",
       "\"\"\"\n",
       "                            OLS Regression Results                            \n",
       "==============================================================================\n",
       "Dep. Variable:                      y   R-squared:                       0.724\n",
       "Model:                            OLS   Adj. R-squared:                  0.704\n",
       "Method:                 Least Squares   F-statistic:                     34.70\n",
       "Date:                Fri, 01 Jul 2022   Prob (F-statistic):           3.18e-17\n",
       "Time:                        21:54:43   Log-Likelihood:                -197.42\n",
       "No. Observations:                  72   AIC:                             406.8\n",
       "Df Residuals:                      66   BIC:                             420.5\n",
       "Df Model:                           5                                         \n",
       "Covariance Type:            nonrobust                                         \n",
       "==============================================================================\n",
       "                 coef    std err          t      P>|t|      [0.025      0.975]\n",
       "------------------------------------------------------------------------------\n",
       "const         15.3333      1.132     13.543      0.000      13.073      17.594\n",
       "A             -0.8333      1.601     -0.520      0.604      -4.030       2.363\n",
       "C            -13.2500      1.601     -8.276      0.000     -16.447     -10.053\n",
       "D            -10.4167      1.601     -6.506      0.000     -13.613      -7.220\n",
       "E            -11.8333      1.601     -7.391      0.000     -15.030      -8.637\n",
       "F              1.3333      1.601      0.833      0.408      -1.863       4.530\n",
       "==============================================================================\n",
       "Omnibus:                        3.201   Durbin-Watson:                   1.753\n",
       "Prob(Omnibus):                  0.202   Jarque-Bera (JB):                2.421\n",
       "Skew:                           0.411   Prob(JB):                        0.298\n",
       "Kurtosis:                       3.360   Cond. No.                         6.85\n",
       "==============================================================================\n",
       "\n",
       "Notes:\n",
       "[1] Standard Errors assume that the covariance matrix of the errors is correctly specified.\n",
       "\"\"\""
      ]
     },
     "execution_count": 21,
     "metadata": {},
     "output_type": "execute_result"
    }
   ],
   "source": [
    "ref_spray = 'B'\n",
    "\n",
    "X = df[['A', 'B', 'C', 'D', 'E', 'F']].drop(columns=[ref_spray])\n",
    "X = sm.add_constant(X)\n",
    "y = df['count'].to_numpy()\n",
    "\n",
    "fit = sm.OLS(y, X)\n",
    "fit = fit.fit()\n",
    "fit.summary()"
   ]
  },
  {
   "cell_type": "markdown",
   "id": "76c7bf81",
   "metadata": {},
   "source": [
    "### Including interaction variables\n",
    "In this section, we will use the `swiss` dataset. Read about this dataset [here](https://stat.ethz.ch/R-manual/R-devel/library/datasets/html/swiss.html)"
   ]
  },
  {
   "cell_type": "code",
   "execution_count": 22,
   "id": "cf3cc529",
   "metadata": {},
   "outputs": [],
   "source": [
    "df = pd.read_csv('data/swiss.csv')"
   ]
  },
  {
   "cell_type": "code",
   "execution_count": 23,
   "id": "77252514",
   "metadata": {},
   "outputs": [
    {
     "data": {
      "text/html": [
       "<div>\n",
       "<style scoped>\n",
       "    .dataframe tbody tr th:only-of-type {\n",
       "        vertical-align: middle;\n",
       "    }\n",
       "\n",
       "    .dataframe tbody tr th {\n",
       "        vertical-align: top;\n",
       "    }\n",
       "\n",
       "    .dataframe thead th {\n",
       "        text-align: right;\n",
       "    }\n",
       "</style>\n",
       "<table border=\"1\" class=\"dataframe\">\n",
       "  <thead>\n",
       "    <tr style=\"text-align: right;\">\n",
       "      <th></th>\n",
       "      <th>Location</th>\n",
       "      <th>Fertility</th>\n",
       "      <th>Agriculture</th>\n",
       "      <th>Examination</th>\n",
       "      <th>Education</th>\n",
       "      <th>Catholic</th>\n",
       "      <th>Infant.Mortality</th>\n",
       "    </tr>\n",
       "  </thead>\n",
       "  <tbody>\n",
       "    <tr>\n",
       "      <th>0</th>\n",
       "      <td>Courtelary</td>\n",
       "      <td>80.2</td>\n",
       "      <td>17.0</td>\n",
       "      <td>15</td>\n",
       "      <td>12</td>\n",
       "      <td>9.96</td>\n",
       "      <td>22.2</td>\n",
       "    </tr>\n",
       "    <tr>\n",
       "      <th>1</th>\n",
       "      <td>Delemont</td>\n",
       "      <td>83.1</td>\n",
       "      <td>45.1</td>\n",
       "      <td>6</td>\n",
       "      <td>9</td>\n",
       "      <td>84.84</td>\n",
       "      <td>22.2</td>\n",
       "    </tr>\n",
       "    <tr>\n",
       "      <th>2</th>\n",
       "      <td>Franches-Mnt</td>\n",
       "      <td>92.5</td>\n",
       "      <td>39.7</td>\n",
       "      <td>5</td>\n",
       "      <td>5</td>\n",
       "      <td>93.40</td>\n",
       "      <td>20.2</td>\n",
       "    </tr>\n",
       "    <tr>\n",
       "      <th>3</th>\n",
       "      <td>Moutier</td>\n",
       "      <td>85.8</td>\n",
       "      <td>36.5</td>\n",
       "      <td>12</td>\n",
       "      <td>7</td>\n",
       "      <td>33.77</td>\n",
       "      <td>20.3</td>\n",
       "    </tr>\n",
       "    <tr>\n",
       "      <th>4</th>\n",
       "      <td>Neuveville</td>\n",
       "      <td>76.9</td>\n",
       "      <td>43.5</td>\n",
       "      <td>17</td>\n",
       "      <td>15</td>\n",
       "      <td>5.16</td>\n",
       "      <td>20.6</td>\n",
       "    </tr>\n",
       "  </tbody>\n",
       "</table>\n",
       "</div>"
      ],
      "text/plain": [
       "       Location  Fertility  Agriculture  Examination  Education  Catholic  \\\n",
       "0    Courtelary       80.2         17.0           15         12      9.96   \n",
       "1      Delemont       83.1         45.1            6          9     84.84   \n",
       "2  Franches-Mnt       92.5         39.7            5          5     93.40   \n",
       "3       Moutier       85.8         36.5           12          7     33.77   \n",
       "4    Neuveville       76.9         43.5           17         15      5.16   \n",
       "\n",
       "   Infant.Mortality  \n",
       "0              22.2  \n",
       "1              22.2  \n",
       "2              20.2  \n",
       "3              20.3  \n",
       "4              20.6  "
      ]
     },
     "execution_count": 23,
     "metadata": {},
     "output_type": "execute_result"
    }
   ],
   "source": [
    "df.head()"
   ]
  },
  {
   "cell_type": "markdown",
   "id": "3b96dca6",
   "metadata": {},
   "source": [
    "First, we fit a model to predict Fertility using Agriculture (% of men that work in agriculture)"
   ]
  },
  {
   "cell_type": "code",
   "execution_count": 24,
   "id": "204c3a92",
   "metadata": {},
   "outputs": [
    {
     "data": {
      "text/html": [
       "<table class=\"simpletable\">\n",
       "<caption>OLS Regression Results</caption>\n",
       "<tr>\n",
       "  <th>Dep. Variable:</th>        <td>Fertility</td>    <th>  R-squared:         </th> <td>   0.125</td>\n",
       "</tr>\n",
       "<tr>\n",
       "  <th>Model:</th>                   <td>OLS</td>       <th>  Adj. R-squared:    </th> <td>   0.105</td>\n",
       "</tr>\n",
       "<tr>\n",
       "  <th>Method:</th>             <td>Least Squares</td>  <th>  F-statistic:       </th> <td>   6.409</td>\n",
       "</tr>\n",
       "<tr>\n",
       "  <th>Date:</th>             <td>Fri, 01 Jul 2022</td> <th>  Prob (F-statistic):</th>  <td>0.0149</td> \n",
       "</tr>\n",
       "<tr>\n",
       "  <th>Time:</th>                 <td>21:55:02</td>     <th>  Log-Likelihood:    </th> <td> -181.73</td>\n",
       "</tr>\n",
       "<tr>\n",
       "  <th>No. Observations:</th>      <td>    47</td>      <th>  AIC:               </th> <td>   367.5</td>\n",
       "</tr>\n",
       "<tr>\n",
       "  <th>Df Residuals:</th>          <td>    45</td>      <th>  BIC:               </th> <td>   371.2</td>\n",
       "</tr>\n",
       "<tr>\n",
       "  <th>Df Model:</th>              <td>     1</td>      <th>                     </th>     <td> </td>   \n",
       "</tr>\n",
       "<tr>\n",
       "  <th>Covariance Type:</th>      <td>nonrobust</td>    <th>                     </th>     <td> </td>   \n",
       "</tr>\n",
       "</table>\n",
       "<table class=\"simpletable\">\n",
       "<tr>\n",
       "       <td></td>          <th>coef</th>     <th>std err</th>      <th>t</th>      <th>P>|t|</th>  <th>[0.025</th>    <th>0.975]</th>  \n",
       "</tr>\n",
       "<tr>\n",
       "  <th>const</th>       <td>   60.3044</td> <td>    4.251</td> <td>   14.185</td> <td> 0.000</td> <td>   51.742</td> <td>   68.867</td>\n",
       "</tr>\n",
       "<tr>\n",
       "  <th>Agriculture</th> <td>    0.1942</td> <td>    0.077</td> <td>    2.532</td> <td> 0.015</td> <td>    0.040</td> <td>    0.349</td>\n",
       "</tr>\n",
       "</table>\n",
       "<table class=\"simpletable\">\n",
       "<tr>\n",
       "  <th>Omnibus:</th>       <td> 0.295</td> <th>  Durbin-Watson:     </th> <td>   0.646</td>\n",
       "</tr>\n",
       "<tr>\n",
       "  <th>Prob(Omnibus):</th> <td> 0.863</td> <th>  Jarque-Bera (JB):  </th> <td>   0.481</td>\n",
       "</tr>\n",
       "<tr>\n",
       "  <th>Skew:</th>          <td>-0.095</td> <th>  Prob(JB):          </th> <td>   0.786</td>\n",
       "</tr>\n",
       "<tr>\n",
       "  <th>Kurtosis:</th>      <td> 2.542</td> <th>  Cond. No.          </th> <td>    137.</td>\n",
       "</tr>\n",
       "</table><br/><br/>Notes:<br/>[1] Standard Errors assume that the covariance matrix of the errors is correctly specified."
      ],
      "text/plain": [
       "<class 'statsmodels.iolib.summary.Summary'>\n",
       "\"\"\"\n",
       "                            OLS Regression Results                            \n",
       "==============================================================================\n",
       "Dep. Variable:              Fertility   R-squared:                       0.125\n",
       "Model:                            OLS   Adj. R-squared:                  0.105\n",
       "Method:                 Least Squares   F-statistic:                     6.409\n",
       "Date:                Fri, 01 Jul 2022   Prob (F-statistic):             0.0149\n",
       "Time:                        21:55:02   Log-Likelihood:                -181.73\n",
       "No. Observations:                  47   AIC:                             367.5\n",
       "Df Residuals:                      45   BIC:                             371.2\n",
       "Df Model:                           1                                         \n",
       "Covariance Type:            nonrobust                                         \n",
       "===============================================================================\n",
       "                  coef    std err          t      P>|t|      [0.025      0.975]\n",
       "-------------------------------------------------------------------------------\n",
       "const          60.3044      4.251     14.185      0.000      51.742      68.867\n",
       "Agriculture     0.1942      0.077      2.532      0.015       0.040       0.349\n",
       "==============================================================================\n",
       "Omnibus:                        0.295   Durbin-Watson:                   0.646\n",
       "Prob(Omnibus):                  0.863   Jarque-Bera (JB):                0.481\n",
       "Skew:                          -0.095   Prob(JB):                        0.786\n",
       "Kurtosis:                       2.542   Cond. No.                         137.\n",
       "==============================================================================\n",
       "\n",
       "Notes:\n",
       "[1] Standard Errors assume that the covariance matrix of the errors is correctly specified.\n",
       "\"\"\""
      ]
     },
     "execution_count": 24,
     "metadata": {},
     "output_type": "execute_result"
    }
   ],
   "source": [
    "X = df[['Agriculture']]\n",
    "X = sm.add_constant(X)\n",
    "y = df['Fertility']\n",
    "\n",
    "model = sm.OLS(y, X).fit()\n",
    "model.summary()"
   ]
  },
  {
   "cell_type": "code",
   "execution_count": 27,
   "id": "2883f402",
   "metadata": {},
   "outputs": [],
   "source": [
    "def plot_fit(ax, x, y, params, color=None):\n",
    "    \n",
    "    x_coord = np.linspace(x.min(), x.max(), 3)\n",
    "    y_hat = params[0] + x_coord*params[1]\n",
    "    \n",
    "    if color is None:\n",
    "        color = 'black'\n",
    "    ax.plot(x_coord, y_hat, color=color)"
   ]
  },
  {
   "cell_type": "code",
   "execution_count": 28,
   "id": "8f51381c",
   "metadata": {
    "scrolled": true
   },
   "outputs": [
    {
     "data": {
      "image/png": "[encoded data removed]",
      "text/plain": [
       "<Figure size 432x288 with 1 Axes>"
      ]
     },
     "metadata": {
      "needs_background": "light"
     },
     "output_type": "display_data"
    }
   ],
   "source": [
    "fig, ax = plt.subplots()\n",
    "params = model.params.to_list()\n",
    "plot_fit(ax, X['Agriculture'], y, params)\n",
    "ax.scatter(x=X['Agriculture'], y=y)\n",
    "ax.set_xlabel('Agriculture %')\n",
    "ax.set_ylabel('Fertility %')\n",
    "\n",
    "plt.show()"
   ]
  },
  {
   "cell_type": "markdown",
   "id": "32863f53",
   "metadata": {},
   "source": [
    "The model suggests that the for every 1% increase in agriculture, Fertility increases by 0.19%, starting from a reference of Fertility=60.3 (the intercept) "
   ]
  },
  {
   "cell_type": "markdown",
   "id": "2c945f9c",
   "metadata": {},
   "source": [
    "Next, we include the variable Catholic, which is the percentage of Catholics in the province. Lets take a look at the distribution of this variable."
   ]
  },
  {
   "cell_type": "code",
   "execution_count": 29,
   "id": "09c0d3c5",
   "metadata": {},
   "outputs": [
    {
     "data": {
      "image/png": "[encoded data removed]",
      "text/plain": [
       "<Figure size 432x288 with 1 Axes>"
      ]
     },
     "metadata": {
      "needs_background": "light"
     },
     "output_type": "display_data"
    }
   ],
   "source": [
    "plt.hist(df['Catholic'])\n",
    "plt.show()"
   ]
  },
  {
   "cell_type": "markdown",
   "id": "79522976",
   "metadata": {},
   "source": [
    "Notice that most provinces are either totally Catholic or totally Protestant. Therefore, a dummy variable `catholic` will be created to refer to the province as Catholic or not."
   ]
  },
  {
   "cell_type": "code",
   "execution_count": 30,
   "id": "ed374a6e",
   "metadata": {},
   "outputs": [],
   "source": [
    "df['catholic'] = (df['Catholic'] > 50) * 1"
   ]
  },
  {
   "cell_type": "markdown",
   "id": "7c83d98e",
   "metadata": {},
   "source": [
    "Now we fit a model using Agriculture and the new binary catholic variable."
   ]
  },
  {
   "cell_type": "code",
   "execution_count": 31,
   "id": "8ebc0f6a",
   "metadata": {
    "scrolled": false
   },
   "outputs": [
    {
     "data": {
      "text/html": [
       "<table class=\"simpletable\">\n",
       "<caption>OLS Regression Results</caption>\n",
       "<tr>\n",
       "  <th>Dep. Variable:</th>        <td>Fertility</td>    <th>  R-squared:         </th> <td>   0.205</td>\n",
       "</tr>\n",
       "<tr>\n",
       "  <th>Model:</th>                   <td>OLS</td>       <th>  Adj. R-squared:    </th> <td>   0.168</td>\n",
       "</tr>\n",
       "<tr>\n",
       "  <th>Method:</th>             <td>Least Squares</td>  <th>  F-statistic:       </th> <td>   5.660</td>\n",
       "</tr>\n",
       "<tr>\n",
       "  <th>Date:</th>             <td>Fri, 01 Jul 2022</td> <th>  Prob (F-statistic):</th>  <td>0.00649</td>\n",
       "</tr>\n",
       "<tr>\n",
       "  <th>Time:</th>                 <td>21:55:39</td>     <th>  Log-Likelihood:    </th> <td> -179.48</td>\n",
       "</tr>\n",
       "<tr>\n",
       "  <th>No. Observations:</th>      <td>    47</td>      <th>  AIC:               </th> <td>   365.0</td>\n",
       "</tr>\n",
       "<tr>\n",
       "  <th>Df Residuals:</th>          <td>    44</td>      <th>  BIC:               </th> <td>   370.5</td>\n",
       "</tr>\n",
       "<tr>\n",
       "  <th>Df Model:</th>              <td>     2</td>      <th>                     </th>     <td> </td>   \n",
       "</tr>\n",
       "<tr>\n",
       "  <th>Covariance Type:</th>      <td>nonrobust</td>    <th>                     </th>     <td> </td>   \n",
       "</tr>\n",
       "</table>\n",
       "<table class=\"simpletable\">\n",
       "<tr>\n",
       "       <td></td>          <th>coef</th>     <th>std err</th>      <th>t</th>      <th>P>|t|</th>  <th>[0.025</th>    <th>0.975]</th>  \n",
       "</tr>\n",
       "<tr>\n",
       "  <th>const</th>       <td>   60.8322</td> <td>    4.106</td> <td>   14.816</td> <td> 0.000</td> <td>   52.557</td> <td>   69.107</td>\n",
       "</tr>\n",
       "<tr>\n",
       "  <th>Agriculture</th> <td>    0.1242</td> <td>    0.081</td> <td>    1.531</td> <td> 0.133</td> <td>   -0.039</td> <td>    0.288</td>\n",
       "</tr>\n",
       "<tr>\n",
       "  <th>catholic</th>    <td>    7.8843</td> <td>    3.748</td> <td>    2.103</td> <td> 0.041</td> <td>    0.330</td> <td>   15.439</td>\n",
       "</tr>\n",
       "</table>\n",
       "<table class=\"simpletable\">\n",
       "<tr>\n",
       "  <th>Omnibus:</th>       <td> 6.176</td> <th>  Durbin-Watson:     </th> <td>   0.703</td>\n",
       "</tr>\n",
       "<tr>\n",
       "  <th>Prob(Omnibus):</th> <td> 0.046</td> <th>  Jarque-Bera (JB):  </th> <td>   4.983</td>\n",
       "</tr>\n",
       "<tr>\n",
       "  <th>Skew:</th>          <td>-0.696</td> <th>  Prob(JB):          </th> <td>  0.0828</td>\n",
       "</tr>\n",
       "<tr>\n",
       "  <th>Kurtosis:</th>      <td> 3.778</td> <th>  Cond. No.          </th> <td>    138.</td>\n",
       "</tr>\n",
       "</table><br/><br/>Notes:<br/>[1] Standard Errors assume that the covariance matrix of the errors is correctly specified."
      ],
      "text/plain": [
       "<class 'statsmodels.iolib.summary.Summary'>\n",
       "\"\"\"\n",
       "                            OLS Regression Results                            \n",
       "==============================================================================\n",
       "Dep. Variable:              Fertility   R-squared:                       0.205\n",
       "Model:                            OLS   Adj. R-squared:                  0.168\n",
       "Method:                 Least Squares   F-statistic:                     5.660\n",
       "Date:                Fri, 01 Jul 2022   Prob (F-statistic):            0.00649\n",
       "Time:                        21:55:39   Log-Likelihood:                -179.48\n",
       "No. Observations:                  47   AIC:                             365.0\n",
       "Df Residuals:                      44   BIC:                             370.5\n",
       "Df Model:                           2                                         \n",
       "Covariance Type:            nonrobust                                         \n",
       "===============================================================================\n",
       "                  coef    std err          t      P>|t|      [0.025      0.975]\n",
       "-------------------------------------------------------------------------------\n",
       "const          60.8322      4.106     14.816      0.000      52.557      69.107\n",
       "Agriculture     0.1242      0.081      1.531      0.133      -0.039       0.288\n",
       "catholic        7.8843      3.748      2.103      0.041       0.330      15.439\n",
       "==============================================================================\n",
       "Omnibus:                        6.176   Durbin-Watson:                   0.703\n",
       "Prob(Omnibus):                  0.046   Jarque-Bera (JB):                4.983\n",
       "Skew:                          -0.696   Prob(JB):                       0.0828\n",
       "Kurtosis:                       3.778   Cond. No.                         138.\n",
       "==============================================================================\n",
       "\n",
       "Notes:\n",
       "[1] Standard Errors assume that the covariance matrix of the errors is correctly specified.\n",
       "\"\"\""
      ]
     },
     "execution_count": 31,
     "metadata": {},
     "output_type": "execute_result"
    }
   ],
   "source": [
    "X = df[['Agriculture', 'catholic']]\n",
    "X = sm.add_constant(X)\n",
    "y = df['Fertility']\n",
    "\n",
    "model = sm.OLS(y, X).fit()\n",
    "model.summary()"
   ]
  },
  {
   "cell_type": "markdown",
   "id": "32a5291d",
   "metadata": {},
   "source": [
    "In this case, the coefficient of `catholic` modifies the intercept. When `catholic` = 0, this coefficient does not appear. When `catholic` = 1, the intercept would be the sum of the original intercept and the value of `catholic` coefficient"
   ]
  },
  {
   "cell_type": "code",
   "execution_count": 32,
   "id": "f08d5d37",
   "metadata": {
    "scrolled": true
   },
   "outputs": [
    {
     "data": {
      "image/png": "[encoded data removed]",
      "text/plain": [
       "<Figure size 432x288 with 1 Axes>"
      ]
     },
     "metadata": {
      "needs_background": "light"
     },
     "output_type": "display_data"
    }
   ],
   "source": [
    "fig, ax = plt.subplots()\n",
    "params = model.params.to_list()\n",
    "\n",
    "\n",
    "# Plotting catholic provinces\n",
    "cond = X['catholic'] == 1\n",
    "ax.scatter(x=X.loc[cond, 'Agriculture'], y=y[cond], c='skyblue', label='Catholic')\n",
    "\n",
    "# When a province is catholic, the intercept is the sum of the original intercept\n",
    "# and \"catholic\" coefficient (Remember catholic is either 0 or 1)\n",
    "cath_params = [params[0] + params[2], params[1]]\n",
    "plot_fit(ax, X['Agriculture'], y, cath_params, color='skyblue')\n",
    "\n",
    "# Plotting Protestant provinces\n",
    "ax.scatter(x=X.loc[~cond, 'Agriculture'], y=y[~cond], c='orange', label='Protestant')\n",
    "prot_params = params[:2]\n",
    "plot_fit(ax, X['Agriculture'], y, prot_params, color='orange')\n",
    "\n",
    "ax.set_xlabel('Agriculture %')\n",
    "ax.set_ylabel('Fertility %')\n",
    "\n",
    "ax.legend()\n",
    "plt.show()"
   ]
  },
  {
   "cell_type": "markdown",
   "id": "42a541ea",
   "metadata": {},
   "source": [
    "Now we add an interaction variable to modify the slope of the fitted line based on the value of `catholic`."
   ]
  },
  {
   "cell_type": "code",
   "execution_count": 33,
   "id": "49eca0fd",
   "metadata": {},
   "outputs": [
    {
     "data": {
      "text/html": [
       "<table class=\"simpletable\">\n",
       "<caption>OLS Regression Results</caption>\n",
       "<tr>\n",
       "  <th>Dep. Variable:</th>        <td>Fertility</td>    <th>  R-squared:         </th> <td>   0.209</td>\n",
       "</tr>\n",
       "<tr>\n",
       "  <th>Model:</th>                   <td>OLS</td>       <th>  Adj. R-squared:    </th> <td>   0.154</td>\n",
       "</tr>\n",
       "<tr>\n",
       "  <th>Method:</th>             <td>Least Squares</td>  <th>  F-statistic:       </th> <td>   3.795</td>\n",
       "</tr>\n",
       "<tr>\n",
       "  <th>Date:</th>             <td>Fri, 01 Jul 2022</td> <th>  Prob (F-statistic):</th>  <td>0.0168</td> \n",
       "</tr>\n",
       "<tr>\n",
       "  <th>Time:</th>                 <td>21:56:26</td>     <th>  Log-Likelihood:    </th> <td> -179.34</td>\n",
       "</tr>\n",
       "<tr>\n",
       "  <th>No. Observations:</th>      <td>    47</td>      <th>  AIC:               </th> <td>   366.7</td>\n",
       "</tr>\n",
       "<tr>\n",
       "  <th>Df Residuals:</th>          <td>    43</td>      <th>  BIC:               </th> <td>   374.1</td>\n",
       "</tr>\n",
       "<tr>\n",
       "  <th>Df Model:</th>              <td>     3</td>      <th>                     </th>     <td> </td>   \n",
       "</tr>\n",
       "<tr>\n",
       "  <th>Covariance Type:</th>      <td>nonrobust</td>    <th>                     </th>     <td> </td>   \n",
       "</tr>\n",
       "</table>\n",
       "<table class=\"simpletable\">\n",
       "<tr>\n",
       "       <td></td>          <th>coef</th>     <th>std err</th>      <th>t</th>      <th>P>|t|</th>  <th>[0.025</th>    <th>0.975]</th>  \n",
       "</tr>\n",
       "<tr>\n",
       "  <th>const</th>       <td>   62.0499</td> <td>    4.789</td> <td>   12.956</td> <td> 0.000</td> <td>   52.392</td> <td>   71.708</td>\n",
       "</tr>\n",
       "<tr>\n",
       "  <th>Agriculture</th> <td>    0.0961</td> <td>    0.099</td> <td>    0.973</td> <td> 0.336</td> <td>   -0.103</td> <td>    0.295</td>\n",
       "</tr>\n",
       "<tr>\n",
       "  <th>catholic</th>    <td>    2.8577</td> <td>   10.626</td> <td>    0.269</td> <td> 0.789</td> <td>  -18.573</td> <td>   24.288</td>\n",
       "</tr>\n",
       "<tr>\n",
       "  <th>interaction</th> <td>    0.0891</td> <td>    0.176</td> <td>    0.506</td> <td> 0.615</td> <td>   -0.266</td> <td>    0.444</td>\n",
       "</tr>\n",
       "</table>\n",
       "<table class=\"simpletable\">\n",
       "<tr>\n",
       "  <th>Omnibus:</th>       <td> 4.986</td> <th>  Durbin-Watson:     </th> <td>   0.700</td>\n",
       "</tr>\n",
       "<tr>\n",
       "  <th>Prob(Omnibus):</th> <td> 0.083</td> <th>  Jarque-Bera (JB):  </th> <td>   3.815</td>\n",
       "</tr>\n",
       "<tr>\n",
       "  <th>Skew:</th>          <td>-0.637</td> <th>  Prob(JB):          </th> <td>   0.148</td>\n",
       "</tr>\n",
       "<tr>\n",
       "  <th>Kurtosis:</th>      <td> 3.569</td> <th>  Cond. No.          </th> <td>    417.</td>\n",
       "</tr>\n",
       "</table><br/><br/>Notes:<br/>[1] Standard Errors assume that the covariance matrix of the errors is correctly specified."
      ],
      "text/plain": [
       "<class 'statsmodels.iolib.summary.Summary'>\n",
       "\"\"\"\n",
       "                            OLS Regression Results                            \n",
       "==============================================================================\n",
       "Dep. Variable:              Fertility   R-squared:                       0.209\n",
       "Model:                            OLS   Adj. R-squared:                  0.154\n",
       "Method:                 Least Squares   F-statistic:                     3.795\n",
       "Date:                Fri, 01 Jul 2022   Prob (F-statistic):             0.0168\n",
       "Time:                        21:56:26   Log-Likelihood:                -179.34\n",
       "No. Observations:                  47   AIC:                             366.7\n",
       "Df Residuals:                      43   BIC:                             374.1\n",
       "Df Model:                           3                                         \n",
       "Covariance Type:            nonrobust                                         \n",
       "===============================================================================\n",
       "                  coef    std err          t      P>|t|      [0.025      0.975]\n",
       "-------------------------------------------------------------------------------\n",
       "const          62.0499      4.789     12.956      0.000      52.392      71.708\n",
       "Agriculture     0.0961      0.099      0.973      0.336      -0.103       0.295\n",
       "catholic        2.8577     10.626      0.269      0.789     -18.573      24.288\n",
       "interaction     0.0891      0.176      0.506      0.615      -0.266       0.444\n",
       "==============================================================================\n",
       "Omnibus:                        4.986   Durbin-Watson:                   0.700\n",
       "Prob(Omnibus):                  0.083   Jarque-Bera (JB):                3.815\n",
       "Skew:                          -0.637   Prob(JB):                        0.148\n",
       "Kurtosis:                       3.569   Cond. No.                         417.\n",
       "==============================================================================\n",
       "\n",
       "Notes:\n",
       "[1] Standard Errors assume that the covariance matrix of the errors is correctly specified.\n",
       "\"\"\""
      ]
     },
     "execution_count": 33,
     "metadata": {},
     "output_type": "execute_result"
    }
   ],
   "source": [
    "X = df[['Agriculture', 'catholic']].copy()\n",
    "X.loc[:, 'interaction'] = X['Agriculture'] * X['catholic']\n",
    "X = sm.add_constant(X)\n",
    "y = df['Fertility']\n",
    "\n",
    "model = sm.OLS(y, X).fit()\n",
    "model.summary()"
   ]
  },
  {
   "cell_type": "markdown",
   "id": "a3f54d94",
   "metadata": {},
   "source": [
    "In this model, not only the intercept is dependent on the `catholic` variable, even the slope depends on it. When `catholic`=1, the slope is equal to the sum of the original slope and the `interaction` coefficent."
   ]
  },
  {
   "cell_type": "code",
   "execution_count": 34,
   "id": "d5495c1d",
   "metadata": {},
   "outputs": [
    {
     "data": {
      "text/plain": [
       "const          62.049930\n",
       "Agriculture     0.096116\n",
       "catholic        2.857704\n",
       "interaction     0.089135\n",
       "dtype: float64"
      ]
     },
     "execution_count": 34,
     "metadata": {},
     "output_type": "execute_result"
    }
   ],
   "source": [
    "model.params"
   ]
  },
  {
   "cell_type": "code",
   "execution_count": 35,
   "id": "ae0e4566",
   "metadata": {
    "scrolled": true
   },
   "outputs": [
    {
     "data": {
      "image/png": "[encoded data removed]",
      "text/plain": [
       "<Figure size 432x288 with 1 Axes>"
      ]
     },
     "metadata": {
      "needs_background": "light"
     },
     "output_type": "display_data"
    }
   ],
   "source": [
    "fig, ax = plt.subplots()\n",
    "params = model.params\n",
    "\n",
    "\n",
    "# Plotting catholic provinces\n",
    "cond = X['catholic'] == 1\n",
    "ax.scatter(x=X.loc[cond, 'Agriculture'], y=y[cond], c='skyblue', label='Catholic')\n",
    "\n",
    "# When a province is catholic, the intercept is the sum of the original intercept\n",
    "# and \"catholic\" coefficient (Remember catholic is either 0 or 1)\n",
    "# and the intercept is the sum of the original slope and the interaction slope\n",
    "cath_params = [params['const'] + params['catholic'], # Intercept\n",
    "               params['Agriculture'] + params['interaction']] # Slope\n",
    "\n",
    "plot_fit(ax, X['Agriculture'], y, cath_params, color='skyblue')\n",
    "\n",
    "# Plotting Protestant provinces\n",
    "ax.scatter(x=X.loc[~cond, 'Agriculture'], y=y[~cond], c='orange', label='Protestant')\n",
    "prot_params = [params['const'], params['Agriculture']]\n",
    "\n",
    "plot_fit(ax, X['Agriculture'], y, prot_params, color='orange')\n",
    "\n",
    "ax.set_xlabel('Agriculture %')\n",
    "ax.set_ylabel('Fertility %')\n",
    "\n",
    "ax.legend()\n",
    "plt.show()"
   ]
  },
  {
   "cell_type": "markdown",
   "id": "05ddb65b",
   "metadata": {},
   "source": [
    "### Adjustment\n",
    "See [this](https://www.youtube.com/watch?v=SFPM9IuP2m8&list=PLpl-gQkQivXjqHAJd2t-J_One_fYE55tC&index=26) video on examples of adjusting for a variable **and read the corresponding chapter in the book**"
   ]
  },
  {
   "cell_type": "markdown",
   "id": "f2d21fb6",
   "metadata": {},
   "source": [
    "### Residuals, Variation, Daignostics\n",
    "**IMPORTANT SECTION** (Most of the definitions here are directly taken from the book \"Regression Models for Data Science\" by Brian Caffo.\n",
    "\n",
    "In this section, the different statistics used for regression diagnostics are discussed. Important terms:\n",
    "* **Leverage** can be thought of as the distance between the point and the bulk of the other points measured using the independent variables (X). Points with high leverage have the potential to dramatically impact the regression fit, although it may not do so if it falls near the fitted hyperplane. The measure used to explore leverage is **hat diagonals**, which ranges between zero and one for a high leverage value.\n",
    "\n",
    "* **Influence** is a measure of how much impact a point has on the regression fit. The most direct way to measure influence is fit the model with the point included and excluded. Influence is measured by several statistics:\n",
    "    * `dffits`: Change in the predicted response when the ith point is deleted in fitting the model.\n",
    "    * `dfbetas`: Change in individual coefficients when the ith point is deleted in fitting the model.\n",
    "    * `cooks_distance`: Overall change in the coefficients when the ith point is deleted.\n",
    "    \n",
    "To get these measures using statsmodels reun the method `get_influence` on the `RegressionResult` object to get an `OLSInfluence` object. Then using the relevant methods/attributes described [here](https://devdocs.io/statsmodels/generated/statsmodels.stats.outliers_influence.olsinfluence#statsmodels.stats.outliers_influence.OLSInfluence)."
   ]
  },
  {
   "cell_type": "code",
   "execution_count": 36,
   "id": "b71cb032",
   "metadata": {},
   "outputs": [],
   "source": [
    "df = pd.read_csv('data/Seatbelts.csv', index_col=[0])"
   ]
  },
  {
   "cell_type": "code",
   "execution_count": 37,
   "id": "ec6c0f23",
   "metadata": {},
   "outputs": [
    {
     "data": {
      "text/html": [
       "<table class=\"simpletable\">\n",
       "<caption>OLS Regression Results</caption>\n",
       "<tr>\n",
       "  <th>Dep. Variable:</th>      <td>DriversKilled</td>  <th>  R-squared:         </th> <td>   0.201</td>\n",
       "</tr>\n",
       "<tr>\n",
       "  <th>Model:</th>                   <td>OLS</td>       <th>  Adj. R-squared:    </th> <td>   0.188</td>\n",
       "</tr>\n",
       "<tr>\n",
       "  <th>Method:</th>             <td>Least Squares</td>  <th>  F-statistic:       </th> <td>   15.76</td>\n",
       "</tr>\n",
       "<tr>\n",
       "  <th>Date:</th>             <td>Fri, 01 Jul 2022</td> <th>  Prob (F-statistic):</th> <td>3.48e-09</td>\n",
       "</tr>\n",
       "<tr>\n",
       "  <th>Time:</th>                 <td>22:05:53</td>     <th>  Log-Likelihood:    </th> <td> -871.31</td>\n",
       "</tr>\n",
       "<tr>\n",
       "  <th>No. Observations:</th>      <td>   192</td>      <th>  AIC:               </th> <td>   1751.</td>\n",
       "</tr>\n",
       "<tr>\n",
       "  <th>Df Residuals:</th>          <td>   188</td>      <th>  BIC:               </th> <td>   1764.</td>\n",
       "</tr>\n",
       "<tr>\n",
       "  <th>Df Model:</th>              <td>     3</td>      <th>                     </th>     <td> </td>   \n",
       "</tr>\n",
       "<tr>\n",
       "  <th>Covariance Type:</th>      <td>nonrobust</td>    <th>                     </th>     <td> </td>   \n",
       "</tr>\n",
       "</table>\n",
       "<table class=\"simpletable\">\n",
       "<tr>\n",
       "       <td></td>          <th>coef</th>     <th>std err</th>      <th>t</th>      <th>P>|t|</th>  <th>[0.025</th>    <th>0.975]</th>  \n",
       "</tr>\n",
       "<tr>\n",
       "  <th>const</th>       <td>  124.2263</td> <td>    1.801</td> <td>   68.967</td> <td> 0.000</td> <td>  120.673</td> <td>  127.780</td>\n",
       "</tr>\n",
       "<tr>\n",
       "  <th>kms</th>         <td>   -1.2233</td> <td>    0.666</td> <td>   -1.838</td> <td> 0.068</td> <td>   -2.536</td> <td>    0.090</td>\n",
       "</tr>\n",
       "<tr>\n",
       "  <th>PetrolPrice</th> <td>   -6.9199</td> <td>    1.851</td> <td>   -3.738</td> <td> 0.000</td> <td>  -10.572</td> <td>   -3.268</td>\n",
       "</tr>\n",
       "<tr>\n",
       "  <th>law</th>         <td>  -11.8892</td> <td>    6.026</td> <td>   -1.973</td> <td> 0.050</td> <td>  -23.776</td> <td>   -0.002</td>\n",
       "</tr>\n",
       "</table>\n",
       "<table class=\"simpletable\">\n",
       "<tr>\n",
       "  <th>Omnibus:</th>       <td> 7.468</td> <th>  Durbin-Watson:     </th> <td>   0.918</td>\n",
       "</tr>\n",
       "<tr>\n",
       "  <th>Prob(Omnibus):</th> <td> 0.024</td> <th>  Jarque-Bera (JB):  </th> <td>   7.656</td>\n",
       "</tr>\n",
       "<tr>\n",
       "  <th>Skew:</th>          <td> 0.463</td> <th>  Prob(JB):          </th> <td>  0.0217</td>\n",
       "</tr>\n",
       "<tr>\n",
       "  <th>Kurtosis:</th>      <td> 2.684</td> <th>  Cond. No.          </th> <td>    10.9</td>\n",
       "</tr>\n",
       "</table><br/><br/>Notes:<br/>[1] Standard Errors assume that the covariance matrix of the errors is correctly specified."
      ],
      "text/plain": [
       "<class 'statsmodels.iolib.summary.Summary'>\n",
       "\"\"\"\n",
       "                            OLS Regression Results                            \n",
       "==============================================================================\n",
       "Dep. Variable:          DriversKilled   R-squared:                       0.201\n",
       "Model:                            OLS   Adj. R-squared:                  0.188\n",
       "Method:                 Least Squares   F-statistic:                     15.76\n",
       "Date:                Fri, 01 Jul 2022   Prob (F-statistic):           3.48e-09\n",
       "Time:                        22:05:53   Log-Likelihood:                -871.31\n",
       "No. Observations:                 192   AIC:                             1751.\n",
       "Df Residuals:                     188   BIC:                             1764.\n",
       "Df Model:                           3                                         \n",
       "Covariance Type:            nonrobust                                         \n",
       "===============================================================================\n",
       "                  coef    std err          t      P>|t|      [0.025      0.975]\n",
       "-------------------------------------------------------------------------------\n",
       "const         124.2263      1.801     68.967      0.000     120.673     127.780\n",
       "kms            -1.2233      0.666     -1.838      0.068      -2.536       0.090\n",
       "PetrolPrice    -6.9199      1.851     -3.738      0.000     -10.572      -3.268\n",
       "law           -11.8892      6.026     -1.973      0.050     -23.776      -0.002\n",
       "==============================================================================\n",
       "Omnibus:                        7.468   Durbin-Watson:                   0.918\n",
       "Prob(Omnibus):                  0.024   Jarque-Bera (JB):                7.656\n",
       "Skew:                           0.463   Prob(JB):                       0.0217\n",
       "Kurtosis:                       2.684   Cond. No.                         10.9\n",
       "==============================================================================\n",
       "\n",
       "Notes:\n",
       "[1] Standard Errors assume that the covariance matrix of the errors is correctly specified.\n",
       "\"\"\""
      ]
     },
     "execution_count": 37,
     "metadata": {},
     "output_type": "execute_result"
    }
   ],
   "source": [
    "X = df[['kms', 'PetrolPrice', 'law']].copy()\n",
    "# Normalizing Petrol Price\n",
    "X['PetrolPrice'] = (X['PetrolPrice'] - X['PetrolPrice'].mean()) / X['PetrolPrice'].std()\n",
    "\n",
    "# Centering kms and dividing by 1000\n",
    "X['kms'] = (X['kms'] - X['kms'].mean()) / 1000.\n",
    "\n",
    "X = sm.add_constant(X)\n",
    "y = df['DriversKilled']\n",
    "\n",
    "model = sm.OLS(y, X).fit()\n",
    "model.summary()"
   ]
  },
  {
   "cell_type": "markdown",
   "id": "6b55c613",
   "metadata": {},
   "source": [
    "Plotting residuals against the fitted values to observe patterns"
   ]
  },
  {
   "cell_type": "code",
   "execution_count": 38,
   "id": "c5c35d82",
   "metadata": {},
   "outputs": [],
   "source": [
    "from statsmodels.nonparametric.smoothers_lowess import lowess\n",
    "import seaborn as sns"
   ]
  },
  {
   "cell_type": "code",
   "execution_count": 39,
   "id": "89237692",
   "metadata": {},
   "outputs": [
    {
     "data": {
      "image/png": "[encoded data removed]",
      "text/plain": [
       "<Figure size 1008x288 with 2 Axes>"
      ]
     },
     "metadata": {
      "needs_background": "light"
     },
     "output_type": "display_data"
    }
   ],
   "source": [
    "residuals = model.resid\n",
    "y_hat = model.fittedvalues\n",
    "\n",
    "fig, axs = plt.subplots(1, 2, figsize=(14, 4))\n",
    "\n",
    "ax0 = axs[0]\n",
    "ax0.scatter(x=y_hat, y=residuals, color='gray', alpha=0.7)\n",
    "\n",
    "fitted_lowess = lowess(residuals, y_hat)\n",
    "ax0.plot(fitted_lowess[:, 0], fitted_lowess[:, 1], color='red')\n",
    "ax0.axhline(y=0, linestyle='--', color='black', lw=0.5)\n",
    "ax0.set_title('Using Statsmodel lowess')\n",
    "\n",
    "ax1 = axs[1]\n",
    "ax1.set_title('Using Seaborn residplot')\n",
    "sns.residplot(x=model.fittedvalues, y=residuals, lowess=True, \n",
    "                     scatter_kws={'alpha': 0.5}, ax=ax1,\n",
    "                     line_kws={'color': 'red', 'lw': 1, 'alpha': 0.8})\n",
    "\n",
    "for ax in axs:\n",
    "    ax.set_xlabel('Fitted Values')\n",
    "    ax.set_ylabel('Residuals')\n",
    "\n",
    "plt.show()"
   ]
  },
  {
   "cell_type": "markdown",
   "id": "c6db7db2",
   "metadata": {},
   "source": [
    "Checking the normality of the residuals"
   ]
  },
  {
   "cell_type": "code",
   "execution_count": 40,
   "id": "2ea49aa5",
   "metadata": {},
   "outputs": [
    {
     "data": {
      "image/png": "[encoded data removed]",
      "text/plain": [
       "<Figure size 432x288 with 1 Axes>"
      ]
     },
     "metadata": {
      "needs_background": "light"
     },
     "output_type": "display_data"
    }
   ],
   "source": [
    "norm_residuals = (residuals - residuals.mean()) / residuals.std(ddof=4)\n",
    "plot = sm.qqplot(norm_residuals, line='45')"
   ]
  },
  {
   "cell_type": "markdown",
   "id": "25cfb5e7",
   "metadata": {},
   "source": [
    "Exploring the leverage of points using hat diagonals"
   ]
  },
  {
   "cell_type": "code",
   "execution_count": 41,
   "id": "270ab692",
   "metadata": {},
   "outputs": [
    {
     "name": "stdout",
     "output_type": "stream",
     "text": [
      "count    192.000000\n",
      "mean       0.021460\n",
      "std        0.013828\n",
      "min        0.006024\n",
      "25%        0.011671\n",
      "50%        0.017392\n",
      "75%        0.026427\n",
      "max        0.071672\n",
      "dtype: float64\n"
     ]
    },
    {
     "data": {
      "image/png": "[encoded data removed]",
      "text/plain": [
       "<Figure size 432x288 with 1 Axes>"
      ]
     },
     "metadata": {
      "needs_background": "light"
     },
     "output_type": "display_data"
    }
   ],
   "source": [
    "hat_diag = model.get_influence().hat_diag_factor\n",
    "\n",
    "print(pd.Series(hat_diag).describe())\n",
    "\n",
    "plt.axhline(y=0, linestyle='--', color='black', lw=0.5)\n",
    "plt.scatter(x=hat_diag, y=residuals, color='gray', alpha=0.7)\n",
    "plt.xlabel('Hat Diagonals (Leverage)')\n",
    "plt.ylabel('Residuals')\n",
    "plt.show()"
   ]
  },
  {
   "cell_type": "markdown",
   "id": "f1eddd1d",
   "metadata": {},
   "source": [
    "Exploring the change in fitted values when leaving the observation out (See `dffits`)"
   ]
  },
  {
   "cell_type": "code",
   "execution_count": 42,
   "id": "650f3829",
   "metadata": {},
   "outputs": [
    {
     "name": "stdout",
     "output_type": "stream",
     "text": [
      "count    192.000000\n",
      "mean       0.001298\n",
      "std        0.144666\n",
      "min       -0.360694\n",
      "25%       -0.100020\n",
      "50%       -0.027350\n",
      "75%        0.094652\n",
      "max        0.510407\n",
      "dtype: float64\n"
     ]
    },
    {
     "data": {
      "image/png": "[encoded data removed]",
      "text/plain": [
       "<Figure size 432x288 with 1 Axes>"
      ]
     },
     "metadata": {
      "needs_background": "light"
     },
     "output_type": "display_data"
    }
   ],
   "source": [
    "dffits = model.get_influence().dffits[0]\n",
    "print(pd.Series(dffits).describe())\n",
    "\n",
    "plt.axhline(y=0, linestyle='--', color='black', lw=0.5)\n",
    "plt.scatter(x=np.arange(len(dffits)), y=dffits, color='gray', alpha=0.7)\n",
    "plt.xlabel('Index')\n",
    "plt.ylabel('dffit')\n",
    "plt.show()"
   ]
  },
  {
   "cell_type": "markdown",
   "id": "16989762",
   "metadata": {},
   "source": [
    "Exploring changes in coefficients when excluding a point"
   ]
  },
  {
   "cell_type": "code",
   "execution_count": 45,
   "id": "63707df2",
   "metadata": {},
   "outputs": [
    {
     "data": {
      "image/png": "[encoded data removed]",
      "text/plain": [
       "<Figure size 432x288 with 1 Axes>"
      ]
     },
     "metadata": {
      "needs_background": "light"
     },
     "output_type": "display_data"
    }
   ],
   "source": [
    "# Choose variable\n",
    "var = 'PetrolPrice'\n",
    "\n",
    "df_betas = model.get_influence().dfbetas\n",
    "df_betas = pd.DataFrame(df_betas, columns=['const', 'kms', 'PetrolPrice', 'law'])\n",
    "\n",
    "df_betas = df_betas[var]\n",
    "plt.scatter(x=np.arange(df_betas.shape[0]), y=df_betas, color='gray', alpha=0.7)\n",
    "plt.axhline(y=0, linestyle='--', color='black', lw=0.5)\n",
    "plt.xlabel('Index')\n",
    "plt.ylabel('dfbeta')\n",
    "plt.title(f'dfbetas for {var}')\n",
    "plt.show()"
   ]
  },
  {
   "cell_type": "markdown",
   "id": "3c948ee3",
   "metadata": {},
   "source": [
    "Exploring cooks distance, which takes into account changes in all coefficients for each point"
   ]
  },
  {
   "cell_type": "code",
   "execution_count": 46,
   "id": "ecfdf684",
   "metadata": {},
   "outputs": [
    {
     "data": {
      "image/png": "[encoded data removed]",
      "text/plain": [
       "<Figure size 432x288 with 1 Axes>"
      ]
     },
     "metadata": {
      "needs_background": "light"
     },
     "output_type": "display_data"
    }
   ],
   "source": [
    "cooks_dist = model.get_influence().cooks_distance[0]\n",
    "\n",
    "plt.axhline(y=0, linestyle='--', color='black', lw=0.5)\n",
    "plt.scatter(x=np.arange(len(cooks_dist)), y=cooks_dist, color='gray', alpha=0.7)\n",
    "plt.xlabel('Index')\n",
    "plt.ylabel('Cooks Distance')\n",
    "plt.show()"
   ]
  },
  {
   "cell_type": "markdown",
   "id": "8487500f",
   "metadata": {},
   "source": [
    "Checking the high value"
   ]
  },
  {
   "cell_type": "code",
   "execution_count": 47,
   "id": "4463a770",
   "metadata": {},
   "outputs": [
    {
     "name": "stdout",
     "output_type": "stream",
     "text": [
      "const          1.000000\n",
      "kms            3.570396\n",
      "PetrolPrice    1.018584\n",
      "law            1.000000\n",
      "Name: 191, dtype: float64\n"
     ]
    },
    {
     "data": {
      "text/html": [
       "<div>\n",
       "<style scoped>\n",
       "    .dataframe tbody tr th:only-of-type {\n",
       "        vertical-align: middle;\n",
       "    }\n",
       "\n",
       "    .dataframe tbody tr th {\n",
       "        vertical-align: top;\n",
       "    }\n",
       "\n",
       "    .dataframe thead th {\n",
       "        text-align: right;\n",
       "    }\n",
       "</style>\n",
       "<table border=\"1\" class=\"dataframe\">\n",
       "  <thead>\n",
       "    <tr style=\"text-align: right;\">\n",
       "      <th></th>\n",
       "      <th>const</th>\n",
       "      <th>kms</th>\n",
       "      <th>PetrolPrice</th>\n",
       "      <th>law</th>\n",
       "    </tr>\n",
       "  </thead>\n",
       "  <tbody>\n",
       "    <tr>\n",
       "      <th>count</th>\n",
       "      <td>192.0</td>\n",
       "      <td>1.920000e+02</td>\n",
       "      <td>1.920000e+02</td>\n",
       "      <td>192.000000</td>\n",
       "    </tr>\n",
       "    <tr>\n",
       "      <th>mean</th>\n",
       "      <td>1.0</td>\n",
       "      <td>2.544261e-16</td>\n",
       "      <td>5.421589e-15</td>\n",
       "      <td>0.119792</td>\n",
       "    </tr>\n",
       "    <tr>\n",
       "      <th>std</th>\n",
       "      <td>0.0</td>\n",
       "      <td>2.938049e+00</td>\n",
       "      <td>1.000000e+00</td>\n",
       "      <td>0.325567</td>\n",
       "    </tr>\n",
       "    <tr>\n",
       "      <th>min</th>\n",
       "      <td>1.0</td>\n",
       "      <td>-7.308604e+00</td>\n",
       "      <td>-1.843415e+00</td>\n",
       "      <td>0.000000</td>\n",
       "    </tr>\n",
       "    <tr>\n",
       "      <th>25%</th>\n",
       "      <td>1.0</td>\n",
       "      <td>-2.308604e+00</td>\n",
       "      <td>-9.072501e-01</td>\n",
       "      <td>0.000000</td>\n",
       "    </tr>\n",
       "    <tr>\n",
       "      <th>50%</th>\n",
       "      <td>1.0</td>\n",
       "      <td>-6.604167e-03</td>\n",
       "      <td>7.003078e-02</td>\n",
       "      <td>0.000000</td>\n",
       "    </tr>\n",
       "    <tr>\n",
       "      <th>75%</th>\n",
       "      <td>1.0</td>\n",
       "      <td>2.208896e+00</td>\n",
       "      <td>8.567388e-01</td>\n",
       "      <td>0.000000</td>\n",
       "    </tr>\n",
       "    <tr>\n",
       "      <th>max</th>\n",
       "      <td>1.0</td>\n",
       "      <td>6.632396e+00</td>\n",
       "      <td>2.414899e+00</td>\n",
       "      <td>1.000000</td>\n",
       "    </tr>\n",
       "  </tbody>\n",
       "</table>\n",
       "</div>"
      ],
      "text/plain": [
       "       const           kms   PetrolPrice         law\n",
       "count  192.0  1.920000e+02  1.920000e+02  192.000000\n",
       "mean     1.0  2.544261e-16  5.421589e-15    0.119792\n",
       "std      0.0  2.938049e+00  1.000000e+00    0.325567\n",
       "min      1.0 -7.308604e+00 -1.843415e+00    0.000000\n",
       "25%      1.0 -2.308604e+00 -9.072501e-01    0.000000\n",
       "50%      1.0 -6.604167e-03  7.003078e-02    0.000000\n",
       "75%      1.0  2.208896e+00  8.567388e-01    0.000000\n",
       "max      1.0  6.632396e+00  2.414899e+00    1.000000"
      ]
     },
     "execution_count": 47,
     "metadata": {},
     "output_type": "execute_result"
    }
   ],
   "source": [
    "max_val_index = np.argmax(cooks_dist)\n",
    "print(X.loc[max_val_index])\n",
    "X.describe()"
   ]
  },
  {
   "cell_type": "markdown",
   "id": "01631354",
   "metadata": {},
   "source": [
    "Plotting the point that had a high influence on the fitted values (high cook distance) on a plot between `kms` and `PetrolPrice`. The colors represent the `law` variable. There seems to be nothing unusual about this point based on the plot."
   ]
  },
  {
   "cell_type": "code",
   "execution_count": 48,
   "id": "4f95665b",
   "metadata": {},
   "outputs": [
    {
     "data": {
      "image/png": "[encoded data removed]",
      "text/plain": [
       "<Figure size 432x288 with 1 Axes>"
      ]
     },
     "metadata": {
      "needs_background": "light"
     },
     "output_type": "display_data"
    }
   ],
   "source": [
    "plt.scatter(x='kms', y='PetrolPrice', c='law', data=X, label=None)\n",
    "plt.scatter(x=X.loc[max_val_index, 'kms'], y=X.loc[max_val_index, 'PetrolPrice'],\n",
    "            marker='x', s=100, label='High Cooks Distance')\n",
    "\n",
    "plt.xlabel('kms')\n",
    "plt.ylabel('Petrol Price')\n",
    "plt.legend()\n",
    "plt.show()"
   ]
  },
  {
   "cell_type": "markdown",
   "id": "b2c9252b",
   "metadata": {},
   "source": [
    "### Model Selection\n",
    "* Omitting variables that should have been included results in bias if these variables are correlated with other variables in our model. However, if the omitted variables are not correlated with other predictors we wouldn't have additional bias. However, we will not be able to explain some of the residual variance that we would have been able to explain if we included the omitted variable.\n",
    "\n",
    "* Adding unnecessary variables results in an increase in the variance (real not estimated) of the coefficients of other variables. This increase in variance is much worse if the added variables correlate with the variables in the model. (See simulation in book). The variance inflation factor (VIF) measures the increase in the variance of the ith regressor compared to the ideal case when it is orthogonal to the other regressors (uncorrelated). "
   ]
  },
  {
   "cell_type": "code",
   "execution_count": 51,
   "id": "e7e77c60",
   "metadata": {},
   "outputs": [
    {
     "data": {
      "text/html": [
       "<div>\n",
       "<style scoped>\n",
       "    .dataframe tbody tr th:only-of-type {\n",
       "        vertical-align: middle;\n",
       "    }\n",
       "\n",
       "    .dataframe tbody tr th {\n",
       "        vertical-align: top;\n",
       "    }\n",
       "\n",
       "    .dataframe thead th {\n",
       "        text-align: right;\n",
       "    }\n",
       "</style>\n",
       "<table border=\"1\" class=\"dataframe\">\n",
       "  <thead>\n",
       "    <tr style=\"text-align: right;\">\n",
       "      <th></th>\n",
       "      <th>Location</th>\n",
       "      <th>Fertility</th>\n",
       "      <th>Agriculture</th>\n",
       "      <th>Examination</th>\n",
       "      <th>Education</th>\n",
       "      <th>Catholic</th>\n",
       "      <th>Infant.Mortality</th>\n",
       "    </tr>\n",
       "  </thead>\n",
       "  <tbody>\n",
       "    <tr>\n",
       "      <th>0</th>\n",
       "      <td>Courtelary</td>\n",
       "      <td>80.2</td>\n",
       "      <td>17.0</td>\n",
       "      <td>15</td>\n",
       "      <td>12</td>\n",
       "      <td>9.96</td>\n",
       "      <td>22.2</td>\n",
       "    </tr>\n",
       "    <tr>\n",
       "      <th>1</th>\n",
       "      <td>Delemont</td>\n",
       "      <td>83.1</td>\n",
       "      <td>45.1</td>\n",
       "      <td>6</td>\n",
       "      <td>9</td>\n",
       "      <td>84.84</td>\n",
       "      <td>22.2</td>\n",
       "    </tr>\n",
       "  </tbody>\n",
       "</table>\n",
       "</div>"
      ],
      "text/plain": [
       "     Location  Fertility  Agriculture  Examination  Education  Catholic  \\\n",
       "0  Courtelary       80.2         17.0           15         12      9.96   \n",
       "1    Delemont       83.1         45.1            6          9     84.84   \n",
       "\n",
       "   Infant.Mortality  \n",
       "0              22.2  \n",
       "1              22.2  "
      ]
     },
     "execution_count": 51,
     "metadata": {},
     "output_type": "execute_result"
    }
   ],
   "source": [
    "# Loading swiss fertility data\n",
    "df = pd.read_csv('data/swiss.csv')\n",
    "df.head(2)"
   ]
  },
  {
   "cell_type": "code",
   "execution_count": 52,
   "id": "36cd84bb",
   "metadata": {},
   "outputs": [],
   "source": [
    "def fit_model(data, target, predictors, intercept=True):\n",
    "    X = data[predictors].copy()\n",
    "    \n",
    "    if intercept:\n",
    "        X = sm.add_constant(X)\n",
    "        \n",
    "    y = data[target]\n",
    "    \n",
    "    model = sm.OLS(y, X).fit()\n",
    "    \n",
    "    return model"
   ]
  },
  {
   "cell_type": "code",
   "execution_count": 53,
   "id": "3b4f8d3d",
   "metadata": {},
   "outputs": [
    {
     "name": "stdout",
     "output_type": "stream",
     "text": [
      "VIF:\n",
      "   Agriculture: 2.284\n",
      "   Examination: 3.675\n",
      "   Education: 2.775\n",
      "   Catholic: 1.937\n",
      "   Infant.Mortality: 1.108\n",
      "\n",
      "Standard Error Inflation:\n",
      "   Agriculture: 1.511\n",
      "   Examination: 1.917\n",
      "   Education: 1.666\n",
      "   Catholic: 1.392\n",
      "   Infant.Mortality: 1.052\n"
     ]
    }
   ],
   "source": [
    "from statsmodels.stats.outliers_influence import variance_inflation_factor\n",
    "\n",
    "predictors = ['Agriculture', 'Examination', 'Education', 'Catholic', 'Infant.Mortality']\n",
    "\n",
    "X = df[predictors].copy()\n",
    "X = sm.add_constant(X)\n",
    "\n",
    "print('VIF:')\n",
    "for i, col in enumerate(predictors):\n",
    "    print(f'   {col}: {variance_inflation_factor(X.values, i+1):.3f}')\n",
    "    \n",
    "print('\\nStandard Error Inflation:')\n",
    "for i, col in enumerate(predictors):\n",
    "    print(f'   {col}: {np.sqrt(variance_inflation_factor(X.values, i+1)):.3f}')"
   ]
  },
  {
   "cell_type": "markdown",
   "id": "dc0ef70d",
   "metadata": {},
   "source": [
    "Simulating the increase in $R^2$ when increasing predictors, even if the predictors are meaningless."
   ]
  },
  {
   "cell_type": "code",
   "execution_count": 54,
   "id": "b8dcca4f",
   "metadata": {},
   "outputs": [
    {
     "data": {
      "image/png": "[encoded data removed]",
      "text/plain": [
       "<Figure size 432x288 with 1 Axes>"
      ]
     },
     "metadata": {
      "needs_background": "light"
     },
     "output_type": "display_data"
    }
   ],
   "source": [
    "n_iter = 80\n",
    "n = 100\n",
    "y = np.random.randn(n)\n",
    "X = np.zeros((n, n_iter))\n",
    "X = sm.add_constant(X)\n",
    "\n",
    "rsquared_arr = np.zeros((n_iter, 2))\n",
    "\n",
    "for i in range(n_iter):\n",
    "    model = sm.OLS(y, X[:, :i+1]).fit()\n",
    "    rsquared_arr[i, 0] = model.rsquared\n",
    "    rsquared_arr[i, 1] = model.rsquared_adj\n",
    "    \n",
    "    X[:, i+1] = np.random.randn(n)\n",
    "    \n",
    "plt.plot(np.arange(n_iter), rsquared_arr[:, 0], label='R2')\n",
    "plt.plot(np.arange(n_iter), rsquared_arr[:, 1], label='R2 Adjusted')\n",
    "plt.xlabel('Number of Independent Variables')\n",
    "plt.ylabel('R2')\n",
    "\n",
    "plt.legend()\n",
    "plt.show()"
   ]
  },
  {
   "cell_type": "markdown",
   "id": "64b0004f",
   "metadata": {},
   "source": [
    "**Choosing a model for drivers killed per month dataset**\n",
    "\n",
    "In this dataset, we are interested in knowing the effect of the compulsory seatbelt law (`law`) on the number of drivers killed per month. Therefore, our focus should be on this variable."
   ]
  },
  {
   "cell_type": "code",
   "execution_count": 56,
   "id": "8dada2a3",
   "metadata": {},
   "outputs": [
    {
     "data": {
      "text/html": [
       "<div>\n",
       "<style scoped>\n",
       "    .dataframe tbody tr th:only-of-type {\n",
       "        vertical-align: middle;\n",
       "    }\n",
       "\n",
       "    .dataframe tbody tr th {\n",
       "        vertical-align: top;\n",
       "    }\n",
       "\n",
       "    .dataframe thead th {\n",
       "        text-align: right;\n",
       "    }\n",
       "</style>\n",
       "<table border=\"1\" class=\"dataframe\">\n",
       "  <thead>\n",
       "    <tr style=\"text-align: right;\">\n",
       "      <th></th>\n",
       "      <th>DriversKilled</th>\n",
       "      <th>drivers</th>\n",
       "      <th>front</th>\n",
       "      <th>rear</th>\n",
       "      <th>kms</th>\n",
       "      <th>PetrolPrice</th>\n",
       "      <th>VanKilled</th>\n",
       "      <th>law</th>\n",
       "    </tr>\n",
       "  </thead>\n",
       "  <tbody>\n",
       "    <tr>\n",
       "      <th>0</th>\n",
       "      <td>107</td>\n",
       "      <td>1687</td>\n",
       "      <td>867</td>\n",
       "      <td>269</td>\n",
       "      <td>9059</td>\n",
       "      <td>0.102972</td>\n",
       "      <td>12</td>\n",
       "      <td>0</td>\n",
       "    </tr>\n",
       "    <tr>\n",
       "      <th>1</th>\n",
       "      <td>97</td>\n",
       "      <td>1508</td>\n",
       "      <td>825</td>\n",
       "      <td>265</td>\n",
       "      <td>7685</td>\n",
       "      <td>0.102363</td>\n",
       "      <td>6</td>\n",
       "      <td>0</td>\n",
       "    </tr>\n",
       "  </tbody>\n",
       "</table>\n",
       "</div>"
      ],
      "text/plain": [
       "   DriversKilled  drivers  front  rear   kms  PetrolPrice  VanKilled  law\n",
       "0            107     1687    867   269  9059     0.102972         12    0\n",
       "1             97     1508    825   265  7685     0.102363          6    0"
      ]
     },
     "execution_count": 56,
     "metadata": {},
     "output_type": "execute_result"
    }
   ],
   "source": [
    "df = pd.read_csv('data/seatbelts.csv', index_col=[0]).reset_index(drop=True)\n",
    "df.head(2)"
   ]
  },
  {
   "cell_type": "code",
   "execution_count": 57,
   "id": "c35d017f",
   "metadata": {},
   "outputs": [],
   "source": [
    "y = df['DriversKilled']\n",
    "X = df[['law', 'kms', 'PetrolPrice']].copy()\n",
    "\n",
    "# Normalizing PetrolPrice\n",
    "X['PetrolPrice'] = (X['PetrolPrice'] - X['PetrolPrice'].mean()) / (X['PetrolPrice'].std())\n",
    "\n",
    "# Centering kms and dividing by 1000\n",
    "X['kms'] = (X['kms'] - X['kms'].mean()) / 1000\n",
    "\n",
    "# Adding constant\n",
    "X = sm.add_constant(X)"
   ]
  },
  {
   "cell_type": "code",
   "execution_count": 58,
   "id": "902b0203",
   "metadata": {},
   "outputs": [
    {
     "name": "stdout",
     "output_type": "stream",
     "text": [
      "VIF:\n",
      "   law: 1.406\n",
      "   kms: 1.397\n",
      "   PetrolPrice: 1.252\n"
     ]
    }
   ],
   "source": [
    "from statsmodels.stats.outliers_influence import variance_inflation_factor\n",
    "predictors = list(X.columns[1:])\n",
    "\n",
    "print('VIF:')\n",
    "for i, col in enumerate(predictors):\n",
    "    print(f'   {col}: {variance_inflation_factor(X.values, i+1):.3f}')"
   ]
  },
  {
   "cell_type": "markdown",
   "id": "e9e6f6c5",
   "metadata": {},
   "source": [
    "There is no significant multicollinearity"
   ]
  },
  {
   "cell_type": "code",
   "execution_count": 59,
   "id": "a3978ef0",
   "metadata": {},
   "outputs": [
    {
     "name": "stdout",
     "output_type": "stream",
     "text": [
      "Model 1:\n",
      "   Predictors: ['law']\n",
      "   Coefficients:\n",
      "==============================================================================\n",
      "                 coef    std err          t      P>|t|      [0.025      0.975]\n",
      "------------------------------------------------------------------------------\n",
      "const        125.8698      1.849     68.082      0.000     122.223     129.517\n",
      "law          -25.6090      5.342     -4.794      0.000     -36.146     -15.072\n",
      "==============================================================================\n",
      "\n",
      "\n",
      "Model 2:\n",
      "   Predictors: ['law', 'kms']\n",
      "   Coefficients:\n",
      "==============================================================================\n",
      "                 coef    std err          t      P>|t|      [0.025      0.975]\n",
      "------------------------------------------------------------------------------\n",
      "const        124.9049      1.853     67.424      0.000     121.251     128.559\n",
      "law          -17.5537      6.029     -2.912      0.004     -29.446      -5.661\n",
      "kms           -1.8196      0.668     -2.724      0.007      -3.137      -0.502\n",
      "==============================================================================\n",
      "\n",
      "\n",
      "Model 3:\n",
      "   Predictors: ['law', 'kms', 'PetrolPrice']\n",
      "   Coefficients:\n",
      "===============================================================================\n",
      "                  coef    std err          t      P>|t|      [0.025      0.975]\n",
      "-------------------------------------------------------------------------------\n",
      "const         124.2263      1.801     68.967      0.000     120.673     127.780\n",
      "law           -11.8892      6.026     -1.973      0.050     -23.776      -0.002\n",
      "kms            -1.2233      0.666     -1.838      0.068      -2.536       0.090\n",
      "PetrolPrice    -6.9199      1.851     -3.738      0.000     -10.572      -3.268\n",
      "===============================================================================\n",
      "\n",
      "\n"
     ]
    }
   ],
   "source": [
    "# Fitting nested models\n",
    "for i in range(3):\n",
    "    model = sm.OLS(y, X.iloc[:, :i+2]).fit()\n",
    "    print(f'Model {i+1}:')\n",
    "    print(f'   Predictors: {predictors[:i+1]}')\n",
    "    print(f'   Coefficients:\\n{model.summary().tables[1]}')\n",
    "    print('\\n')"
   ]
  },
  {
   "cell_type": "code",
   "execution_count": 60,
   "id": "5c9fbe9d",
   "metadata": {},
   "outputs": [
    {
     "data": {
      "text/html": [
       "<table class=\"simpletable\">\n",
       "<tr>\n",
       "       <td></td>          <th>coef</th>     <th>std err</th>      <th>t</th>      <th>P>|t|</th>  <th>[0.025</th>    <th>0.975]</th>  \n",
       "</tr>\n",
       "<tr>\n",
       "  <th>const</th>       <td>  124.7578</td> <td>    1.789</td> <td>   69.736</td> <td> 0.000</td> <td>  121.229</td> <td>  128.287</td>\n",
       "</tr>\n",
       "<tr>\n",
       "  <th>PetrolPrice</th> <td>   -7.7354</td> <td>    1.809</td> <td>   -4.277</td> <td> 0.000</td> <td>  -11.303</td> <td>   -4.168</td>\n",
       "</tr>\n",
       "<tr>\n",
       "  <th>law</th>         <td>  -16.3262</td> <td>    5.556</td> <td>   -2.939</td> <td> 0.004</td> <td>  -27.285</td> <td>   -5.367</td>\n",
       "</tr>\n",
       "</table>"
      ],
      "text/plain": [
       "<class 'statsmodels.iolib.table.SimpleTable'>"
      ]
     },
     "execution_count": 60,
     "metadata": {},
     "output_type": "execute_result"
    }
   ],
   "source": [
    "X_test = X[['const', 'PetrolPrice', 'law']]\n",
    "model = sm.OLS(y, X_test).fit()\n",
    "model.summary().tables[1]"
   ]
  },
  {
   "cell_type": "markdown",
   "id": "3b7574ee",
   "metadata": {},
   "source": [
    "Using the `law` variable on its own, we see that enacting the law resulted in 25 less deaths per month. However, some of these variation was explained by the other two variables when included (notice the change in `law` coefficient).\n",
    "\n",
    "When including both `PetrolPrice` and `kms`, `kms` becomes insignificant (p-value=0.068). Therefore, it seems like the model should include `law` and one of `PetrolPrice` or `kms` (Not sure how to choose which). In both cases, enacting the seatbelt law reduced (presumably) deaths by about 17 people per month.\n",
    "\n",
    "See Brian Caffo's solution [here](https://www.youtube.com/watch?v=ffu80TAq2zY&list=PLpl-gQkQivXji7JK1OP1qS7zalwUBPrX0&index=46)."
   ]
  },
  {
   "cell_type": "code",
   "execution_count": null,
   "id": "e423ab52",
   "metadata": {},
   "outputs": [],
   "source": []
  }
 ],
 "metadata": {
  "kernelspec": {
   "display_name": "Python 3",
   "language": "python",
   "name": "python3"
  },
  "language_info": {
   "codemirror_mode": {
    "name": "ipython",
    "version": 3
   },
   "file_extension": ".py",
   "mimetype": "text/x-python",
   "name": "python",
   "nbconvert_exporter": "python",
   "pygments_lexer": "ipython3",
   "version": "3.8.8"
  }
 },
 "nbformat": 4,
 "nbformat_minor": 5
}
